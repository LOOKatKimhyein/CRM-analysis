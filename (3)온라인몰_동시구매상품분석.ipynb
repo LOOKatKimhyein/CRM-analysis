{
  "cells": [
    {
      "cell_type": "markdown",
      "metadata": {
        "id": "view-in-github",
        "colab_type": "text"
      },
      "source": [
        "<a href=\"https://colab.research.google.com/github/LOOKatKimhyein/CRM-analysis/blob/main/(3)%EC%98%A8%EB%9D%BC%EC%9D%B8%EB%AA%B0_%EB%8F%99%EC%8B%9C%EA%B5%AC%EB%A7%A4%EC%83%81%ED%92%88%EB%B6%84%EC%84%9D.ipynb\" target=\"_parent\"><img src=\"https://colab.research.google.com/assets/colab-badge.svg\" alt=\"Open In Colab\"/></a>"
      ]
    },
    {
      "cell_type": "markdown",
      "metadata": {
        "id": "ArYB5YSq0_Q6"
      },
      "source": [
        "#### 공부할 때, 참고하면 좋은!\n",
        "https://github.com/mnegypt/jupyter-notebooks/blob/master/IMarketBasket.ipynb"
      ]
    },
    {
      "cell_type": "markdown",
      "metadata": {
        "id": "K6wXsVuv0_Q-"
      },
      "source": [
        "# 1) 환경설정"
      ]
    },
    {
      "cell_type": "code",
      "execution_count": null,
      "metadata": {
        "scrolled": true,
        "id": "62W9H8y20_RA"
      },
      "outputs": [],
      "source": [
        "# 연관성분석(추천)  패키지 다운로드 및 설치 \n",
        "# !pip install mlxtend --upgrade"
      ]
    },
    {
      "cell_type": "code",
      "execution_count": null,
      "metadata": {
        "id": "qXEY-hEi0_RC"
      },
      "outputs": [],
      "source": [
        "## 1. 분석에 사용할 패키지 로딩\n",
        "import numpy as np\n",
        "import pandas as pd\n",
        "\n",
        "import matplotlib.pyplot as plt \n",
        "import seaborn as sns\n",
        "\n",
        "import datetime as dt # 날짜를 다루기 위한 패키지\n",
        "\n",
        "from mlxtend.preprocessing import TransactionEncoder # 구매 데이터를 연관성 분석을 위한 메트릭스 형태로 변환\n",
        "from mlxtend.frequent_patterns import apriori, association_rules, fpgrowth \n",
        "# fpgrowth 는 mlxtend version: 0.20.0 이상에서 지원\n",
        "# apriori : 보편적이고 간단\n",
        "# fpgrowth : 연관성 분석알고리즘 중 최신 알고리즘"
      ]
    },
    {
      "cell_type": "code",
      "execution_count": null,
      "metadata": {
        "id": "F3dgmq3j0_RD"
      },
      "outputs": [],
      "source": [
        "data = pd.read_csv('./data.csv', encoding = 'unicode_escape')\n",
        "# unicode_escape : 유니코드 디코드 에러 자체를 무시하는 방법"
      ]
    },
    {
      "cell_type": "code",
      "execution_count": null,
      "metadata": {
        "scrolled": true,
        "id": "KHIKI6ZK0_RD",
        "outputId": "b00e4830-0cb8-43e1-db10-1c9939c8d04c"
      },
      "outputs": [
        {
          "data": {
            "text/html": [
              "<div>\n",
              "<style scoped>\n",
              "    .dataframe tbody tr th:only-of-type {\n",
              "        vertical-align: middle;\n",
              "    }\n",
              "\n",
              "    .dataframe tbody tr th {\n",
              "        vertical-align: top;\n",
              "    }\n",
              "\n",
              "    .dataframe thead th {\n",
              "        text-align: right;\n",
              "    }\n",
              "</style>\n",
              "<table border=\"1\" class=\"dataframe\">\n",
              "  <thead>\n",
              "    <tr style=\"text-align: right;\">\n",
              "      <th></th>\n",
              "      <th>InvoiceNo</th>\n",
              "      <th>StockCode</th>\n",
              "      <th>Description</th>\n",
              "      <th>Quantity</th>\n",
              "      <th>InvoiceDate</th>\n",
              "      <th>UnitPrice</th>\n",
              "      <th>CustomerID</th>\n",
              "      <th>Country</th>\n",
              "    </tr>\n",
              "  </thead>\n",
              "  <tbody>\n",
              "    <tr>\n",
              "      <th>0</th>\n",
              "      <td>536365</td>\n",
              "      <td>85123A</td>\n",
              "      <td>WHITE HANGING HEART T-LIGHT HOLDER</td>\n",
              "      <td>6</td>\n",
              "      <td>12/1/2010 8:26</td>\n",
              "      <td>2.55</td>\n",
              "      <td>17850.0</td>\n",
              "      <td>United Kingdom</td>\n",
              "    </tr>\n",
              "    <tr>\n",
              "      <th>1</th>\n",
              "      <td>536365</td>\n",
              "      <td>71053</td>\n",
              "      <td>WHITE METAL LANTERN</td>\n",
              "      <td>6</td>\n",
              "      <td>12/1/2010 8:26</td>\n",
              "      <td>3.39</td>\n",
              "      <td>17850.0</td>\n",
              "      <td>United Kingdom</td>\n",
              "    </tr>\n",
              "    <tr>\n",
              "      <th>2</th>\n",
              "      <td>536365</td>\n",
              "      <td>84406B</td>\n",
              "      <td>CREAM CUPID HEARTS COAT HANGER</td>\n",
              "      <td>8</td>\n",
              "      <td>12/1/2010 8:26</td>\n",
              "      <td>2.75</td>\n",
              "      <td>17850.0</td>\n",
              "      <td>United Kingdom</td>\n",
              "    </tr>\n",
              "    <tr>\n",
              "      <th>3</th>\n",
              "      <td>536365</td>\n",
              "      <td>84029G</td>\n",
              "      <td>KNITTED UNION FLAG HOT WATER BOTTLE</td>\n",
              "      <td>6</td>\n",
              "      <td>12/1/2010 8:26</td>\n",
              "      <td>3.39</td>\n",
              "      <td>17850.0</td>\n",
              "      <td>United Kingdom</td>\n",
              "    </tr>\n",
              "    <tr>\n",
              "      <th>4</th>\n",
              "      <td>536365</td>\n",
              "      <td>84029E</td>\n",
              "      <td>RED WOOLLY HOTTIE WHITE HEART.</td>\n",
              "      <td>6</td>\n",
              "      <td>12/1/2010 8:26</td>\n",
              "      <td>3.39</td>\n",
              "      <td>17850.0</td>\n",
              "      <td>United Kingdom</td>\n",
              "    </tr>\n",
              "  </tbody>\n",
              "</table>\n",
              "</div>"
            ],
            "text/plain": [
              "  InvoiceNo StockCode                          Description  Quantity  \\\n",
              "0    536365    85123A   WHITE HANGING HEART T-LIGHT HOLDER         6   \n",
              "1    536365     71053                  WHITE METAL LANTERN         6   \n",
              "2    536365    84406B       CREAM CUPID HEARTS COAT HANGER         8   \n",
              "3    536365    84029G  KNITTED UNION FLAG HOT WATER BOTTLE         6   \n",
              "4    536365    84029E       RED WOOLLY HOTTIE WHITE HEART.         6   \n",
              "\n",
              "      InvoiceDate  UnitPrice  CustomerID         Country  \n",
              "0  12/1/2010 8:26       2.55     17850.0  United Kingdom  \n",
              "1  12/1/2010 8:26       3.39     17850.0  United Kingdom  \n",
              "2  12/1/2010 8:26       2.75     17850.0  United Kingdom  \n",
              "3  12/1/2010 8:26       3.39     17850.0  United Kingdom  \n",
              "4  12/1/2010 8:26       3.39     17850.0  United Kingdom  "
            ]
          },
          "execution_count": 4,
          "metadata": {},
          "output_type": "execute_result"
        }
      ],
      "source": [
        "data.head()"
      ]
    },
    {
      "cell_type": "code",
      "execution_count": null,
      "metadata": {
        "scrolled": true,
        "id": "KYMkKMY00_RF",
        "outputId": "4d2f3d27-159e-43e0-8fb1-5052e53d2483"
      },
      "outputs": [
        {
          "name": "stdout",
          "output_type": "stream",
          "text": [
            "<class 'pandas.core.frame.DataFrame'>\n",
            "RangeIndex: 541909 entries, 0 to 541908\n",
            "Data columns (total 8 columns):\n",
            " #   Column       Non-Null Count   Dtype  \n",
            "---  ------       --------------   -----  \n",
            " 0   InvoiceNo    541909 non-null  object \n",
            " 1   StockCode    541909 non-null  object \n",
            " 2   Description  540455 non-null  object \n",
            " 3   Quantity     541909 non-null  int64  \n",
            " 4   InvoiceDate  541909 non-null  object \n",
            " 5   UnitPrice    541909 non-null  float64\n",
            " 6   CustomerID   406829 non-null  float64\n",
            " 7   Country      541909 non-null  object \n",
            "dtypes: float64(2), int64(1), object(5)\n",
            "memory usage: 33.1+ MB\n"
          ]
        }
      ],
      "source": [
        "data.info()"
      ]
    },
    {
      "cell_type": "code",
      "execution_count": null,
      "metadata": {
        "id": "DdvA5V2t0_RG",
        "outputId": "25fc9f23-ab8d-4443-baec-c387474a6bc9"
      },
      "outputs": [
        {
          "data": {
            "text/plain": [
              "0          12/1/2010 8:26\n",
              "1          12/1/2010 8:26\n",
              "2          12/1/2010 8:26\n",
              "3          12/1/2010 8:26\n",
              "4          12/1/2010 8:26\n",
              "               ...       \n",
              "541904    12/9/2011 12:50\n",
              "541905    12/9/2011 12:50\n",
              "541906    12/9/2011 12:50\n",
              "541907    12/9/2011 12:50\n",
              "541908    12/9/2011 12:50\n",
              "Name: InvoiceDate, Length: 541909, dtype: object"
            ]
          },
          "execution_count": 6,
          "metadata": {},
          "output_type": "execute_result"
        }
      ],
      "source": [
        "data['InvoiceDate']"
      ]
    },
    {
      "cell_type": "code",
      "execution_count": null,
      "metadata": {
        "scrolled": true,
        "id": "-Fdjrtz40_RG"
      },
      "outputs": [],
      "source": [
        "data['InvoiceDate'] = pd.to_datetime(data['InvoiceDate'])"
      ]
    },
    {
      "cell_type": "code",
      "execution_count": null,
      "metadata": {
        "id": "VeIpt3040_RH",
        "outputId": "76bc78c1-0bba-41fd-e8c5-cdc0fb4650e1"
      },
      "outputs": [
        {
          "data": {
            "text/html": [
              "<div>\n",
              "<style scoped>\n",
              "    .dataframe tbody tr th:only-of-type {\n",
              "        vertical-align: middle;\n",
              "    }\n",
              "\n",
              "    .dataframe tbody tr th {\n",
              "        vertical-align: top;\n",
              "    }\n",
              "\n",
              "    .dataframe thead th {\n",
              "        text-align: right;\n",
              "    }\n",
              "</style>\n",
              "<table border=\"1\" class=\"dataframe\">\n",
              "  <thead>\n",
              "    <tr style=\"text-align: right;\">\n",
              "      <th></th>\n",
              "      <th>InvoiceNo</th>\n",
              "      <th>StockCode</th>\n",
              "      <th>Description</th>\n",
              "      <th>Quantity</th>\n",
              "      <th>InvoiceDate</th>\n",
              "      <th>UnitPrice</th>\n",
              "      <th>CustomerID</th>\n",
              "      <th>Country</th>\n",
              "    </tr>\n",
              "  </thead>\n",
              "  <tbody>\n",
              "    <tr>\n",
              "      <th>0</th>\n",
              "      <td>536365</td>\n",
              "      <td>85123A</td>\n",
              "      <td>WHITE HANGING HEART T-LIGHT HOLDER</td>\n",
              "      <td>6</td>\n",
              "      <td>2010-12-01 08:26:00</td>\n",
              "      <td>2.55</td>\n",
              "      <td>17850.0</td>\n",
              "      <td>United Kingdom</td>\n",
              "    </tr>\n",
              "    <tr>\n",
              "      <th>1</th>\n",
              "      <td>536365</td>\n",
              "      <td>71053</td>\n",
              "      <td>WHITE METAL LANTERN</td>\n",
              "      <td>6</td>\n",
              "      <td>2010-12-01 08:26:00</td>\n",
              "      <td>3.39</td>\n",
              "      <td>17850.0</td>\n",
              "      <td>United Kingdom</td>\n",
              "    </tr>\n",
              "  </tbody>\n",
              "</table>\n",
              "</div>"
            ],
            "text/plain": [
              "  InvoiceNo StockCode                         Description  Quantity  \\\n",
              "0    536365    85123A  WHITE HANGING HEART T-LIGHT HOLDER         6   \n",
              "1    536365     71053                 WHITE METAL LANTERN         6   \n",
              "\n",
              "          InvoiceDate  UnitPrice  CustomerID         Country  \n",
              "0 2010-12-01 08:26:00       2.55     17850.0  United Kingdom  \n",
              "1 2010-12-01 08:26:00       3.39     17850.0  United Kingdom  "
            ]
          },
          "execution_count": 8,
          "metadata": {},
          "output_type": "execute_result"
        }
      ],
      "source": [
        "data.head(2)"
      ]
    },
    {
      "cell_type": "code",
      "execution_count": null,
      "metadata": {
        "id": "7KgWA1yB0_RI",
        "outputId": "a557f3d8-3a1b-4e6d-c46a-3067e041947b"
      },
      "outputs": [
        {
          "data": {
            "text/plain": [
              "InvoiceNo           0\n",
              "StockCode           0\n",
              "Description      1454\n",
              "Quantity            0\n",
              "InvoiceDate         0\n",
              "UnitPrice           0\n",
              "CustomerID     135080\n",
              "Country             0\n",
              "dtype: int64"
            ]
          },
          "execution_count": 18,
          "metadata": {},
          "output_type": "execute_result"
        }
      ],
      "source": [
        "data.isna().sum()"
      ]
    },
    {
      "cell_type": "code",
      "execution_count": null,
      "metadata": {
        "scrolled": false,
        "id": "odRZ1vJY0_RI",
        "outputId": "39b237e8-ed70-4cea-bf0d-2ffcef63f107"
      },
      "outputs": [
        {
          "data": {
            "text/html": [
              "<div>\n",
              "<style scoped>\n",
              "    .dataframe tbody tr th:only-of-type {\n",
              "        vertical-align: middle;\n",
              "    }\n",
              "\n",
              "    .dataframe tbody tr th {\n",
              "        vertical-align: top;\n",
              "    }\n",
              "\n",
              "    .dataframe thead th {\n",
              "        text-align: right;\n",
              "    }\n",
              "</style>\n",
              "<table border=\"1\" class=\"dataframe\">\n",
              "  <thead>\n",
              "    <tr style=\"text-align: right;\">\n",
              "      <th></th>\n",
              "      <th>Quantity</th>\n",
              "      <th>UnitPrice</th>\n",
              "      <th>CustomerID</th>\n",
              "    </tr>\n",
              "  </thead>\n",
              "  <tbody>\n",
              "    <tr>\n",
              "      <th>count</th>\n",
              "      <td>541909.000000</td>\n",
              "      <td>541909.000000</td>\n",
              "      <td>406829.000000</td>\n",
              "    </tr>\n",
              "    <tr>\n",
              "      <th>mean</th>\n",
              "      <td>9.552250</td>\n",
              "      <td>4.611114</td>\n",
              "      <td>15287.690570</td>\n",
              "    </tr>\n",
              "    <tr>\n",
              "      <th>std</th>\n",
              "      <td>218.081158</td>\n",
              "      <td>96.759853</td>\n",
              "      <td>1713.600303</td>\n",
              "    </tr>\n",
              "    <tr>\n",
              "      <th>min</th>\n",
              "      <td>-80995.000000</td>\n",
              "      <td>-11062.060000</td>\n",
              "      <td>12346.000000</td>\n",
              "    </tr>\n",
              "    <tr>\n",
              "      <th>25%</th>\n",
              "      <td>1.000000</td>\n",
              "      <td>1.250000</td>\n",
              "      <td>13953.000000</td>\n",
              "    </tr>\n",
              "    <tr>\n",
              "      <th>50%</th>\n",
              "      <td>3.000000</td>\n",
              "      <td>2.080000</td>\n",
              "      <td>15152.000000</td>\n",
              "    </tr>\n",
              "    <tr>\n",
              "      <th>75%</th>\n",
              "      <td>10.000000</td>\n",
              "      <td>4.130000</td>\n",
              "      <td>16791.000000</td>\n",
              "    </tr>\n",
              "    <tr>\n",
              "      <th>max</th>\n",
              "      <td>80995.000000</td>\n",
              "      <td>38970.000000</td>\n",
              "      <td>18287.000000</td>\n",
              "    </tr>\n",
              "  </tbody>\n",
              "</table>\n",
              "</div>"
            ],
            "text/plain": [
              "            Quantity      UnitPrice     CustomerID\n",
              "count  541909.000000  541909.000000  406829.000000\n",
              "mean        9.552250       4.611114   15287.690570\n",
              "std       218.081158      96.759853    1713.600303\n",
              "min    -80995.000000  -11062.060000   12346.000000\n",
              "25%         1.000000       1.250000   13953.000000\n",
              "50%         3.000000       2.080000   15152.000000\n",
              "75%        10.000000       4.130000   16791.000000\n",
              "max     80995.000000   38970.000000   18287.000000"
            ]
          },
          "execution_count": 9,
          "metadata": {},
          "output_type": "execute_result"
        }
      ],
      "source": [
        "data.describe()"
      ]
    },
    {
      "cell_type": "code",
      "execution_count": null,
      "metadata": {
        "id": "FTamoRyo0_RJ",
        "outputId": "85455063-82bb-431e-83e1-fdf474203dbe"
      },
      "outputs": [
        {
          "data": {
            "text/html": [
              "<div>\n",
              "<style scoped>\n",
              "    .dataframe tbody tr th:only-of-type {\n",
              "        vertical-align: middle;\n",
              "    }\n",
              "\n",
              "    .dataframe tbody tr th {\n",
              "        vertical-align: top;\n",
              "    }\n",
              "\n",
              "    .dataframe thead th {\n",
              "        text-align: right;\n",
              "    }\n",
              "</style>\n",
              "<table border=\"1\" class=\"dataframe\">\n",
              "  <thead>\n",
              "    <tr style=\"text-align: right;\">\n",
              "      <th></th>\n",
              "      <th>InvoiceNo</th>\n",
              "      <th>StockCode</th>\n",
              "      <th>Description</th>\n",
              "      <th>Quantity</th>\n",
              "      <th>InvoiceDate</th>\n",
              "      <th>UnitPrice</th>\n",
              "      <th>CustomerID</th>\n",
              "      <th>Country</th>\n",
              "    </tr>\n",
              "  </thead>\n",
              "  <tbody>\n",
              "    <tr>\n",
              "      <th>622</th>\n",
              "      <td>536414</td>\n",
              "      <td>22139</td>\n",
              "      <td>NaN</td>\n",
              "      <td>56</td>\n",
              "      <td>2010-12-01 11:52:00</td>\n",
              "      <td>0.00</td>\n",
              "      <td>NaN</td>\n",
              "      <td>United Kingdom</td>\n",
              "    </tr>\n",
              "    <tr>\n",
              "      <th>1443</th>\n",
              "      <td>536544</td>\n",
              "      <td>21773</td>\n",
              "      <td>DECORATIVE ROSE BATHROOM BOTTLE</td>\n",
              "      <td>1</td>\n",
              "      <td>2010-12-01 14:32:00</td>\n",
              "      <td>2.51</td>\n",
              "      <td>NaN</td>\n",
              "      <td>United Kingdom</td>\n",
              "    </tr>\n",
              "    <tr>\n",
              "      <th>1444</th>\n",
              "      <td>536544</td>\n",
              "      <td>21774</td>\n",
              "      <td>DECORATIVE CATS BATHROOM BOTTLE</td>\n",
              "      <td>2</td>\n",
              "      <td>2010-12-01 14:32:00</td>\n",
              "      <td>2.51</td>\n",
              "      <td>NaN</td>\n",
              "      <td>United Kingdom</td>\n",
              "    </tr>\n",
              "  </tbody>\n",
              "</table>\n",
              "</div>"
            ],
            "text/plain": [
              "     InvoiceNo StockCode                      Description  Quantity  \\\n",
              "622     536414     22139                              NaN        56   \n",
              "1443    536544     21773  DECORATIVE ROSE BATHROOM BOTTLE         1   \n",
              "1444    536544     21774  DECORATIVE CATS BATHROOM BOTTLE         2   \n",
              "\n",
              "             InvoiceDate  UnitPrice  CustomerID         Country  \n",
              "622  2010-12-01 11:52:00       0.00         NaN  United Kingdom  \n",
              "1443 2010-12-01 14:32:00       2.51         NaN  United Kingdom  \n",
              "1444 2010-12-01 14:32:00       2.51         NaN  United Kingdom  "
            ]
          },
          "execution_count": 21,
          "metadata": {},
          "output_type": "execute_result"
        }
      ],
      "source": [
        "data[data.CustomerID.isna()].head(3)\n",
        "# 연관성 분석에서는 고객id기준이 아닌, 영수증기준이므로, 고객id null값도 버리지 않을것!"
      ]
    },
    {
      "cell_type": "code",
      "execution_count": null,
      "metadata": {
        "id": "f89ZN8H30_RJ",
        "outputId": "64894bba-1e84-4ebc-c514-a4b257994295"
      },
      "outputs": [
        {
          "data": {
            "text/html": [
              "<div>\n",
              "<style scoped>\n",
              "    .dataframe tbody tr th:only-of-type {\n",
              "        vertical-align: middle;\n",
              "    }\n",
              "\n",
              "    .dataframe tbody tr th {\n",
              "        vertical-align: top;\n",
              "    }\n",
              "\n",
              "    .dataframe thead th {\n",
              "        text-align: right;\n",
              "    }\n",
              "</style>\n",
              "<table border=\"1\" class=\"dataframe\">\n",
              "  <thead>\n",
              "    <tr style=\"text-align: right;\">\n",
              "      <th></th>\n",
              "      <th>InvoiceNo</th>\n",
              "      <th>StockCode</th>\n",
              "      <th>Description</th>\n",
              "      <th>Quantity</th>\n",
              "      <th>InvoiceDate</th>\n",
              "      <th>UnitPrice</th>\n",
              "      <th>CustomerID</th>\n",
              "      <th>Country</th>\n",
              "    </tr>\n",
              "  </thead>\n",
              "  <tbody>\n",
              "    <tr>\n",
              "      <th>622</th>\n",
              "      <td>536414</td>\n",
              "      <td>22139</td>\n",
              "      <td>NaN</td>\n",
              "      <td>56</td>\n",
              "      <td>2010-12-01 11:52:00</td>\n",
              "      <td>0.0</td>\n",
              "      <td>NaN</td>\n",
              "      <td>United Kingdom</td>\n",
              "    </tr>\n",
              "    <tr>\n",
              "      <th>1970</th>\n",
              "      <td>536545</td>\n",
              "      <td>21134</td>\n",
              "      <td>NaN</td>\n",
              "      <td>1</td>\n",
              "      <td>2010-12-01 14:32:00</td>\n",
              "      <td>0.0</td>\n",
              "      <td>NaN</td>\n",
              "      <td>United Kingdom</td>\n",
              "    </tr>\n",
              "    <tr>\n",
              "      <th>1971</th>\n",
              "      <td>536546</td>\n",
              "      <td>22145</td>\n",
              "      <td>NaN</td>\n",
              "      <td>1</td>\n",
              "      <td>2010-12-01 14:33:00</td>\n",
              "      <td>0.0</td>\n",
              "      <td>NaN</td>\n",
              "      <td>United Kingdom</td>\n",
              "    </tr>\n",
              "    <tr>\n",
              "      <th>1972</th>\n",
              "      <td>536547</td>\n",
              "      <td>37509</td>\n",
              "      <td>NaN</td>\n",
              "      <td>1</td>\n",
              "      <td>2010-12-01 14:33:00</td>\n",
              "      <td>0.0</td>\n",
              "      <td>NaN</td>\n",
              "      <td>United Kingdom</td>\n",
              "    </tr>\n",
              "    <tr>\n",
              "      <th>1987</th>\n",
              "      <td>536549</td>\n",
              "      <td>85226A</td>\n",
              "      <td>NaN</td>\n",
              "      <td>1</td>\n",
              "      <td>2010-12-01 14:34:00</td>\n",
              "      <td>0.0</td>\n",
              "      <td>NaN</td>\n",
              "      <td>United Kingdom</td>\n",
              "    </tr>\n",
              "    <tr>\n",
              "      <th>...</th>\n",
              "      <td>...</td>\n",
              "      <td>...</td>\n",
              "      <td>...</td>\n",
              "      <td>...</td>\n",
              "      <td>...</td>\n",
              "      <td>...</td>\n",
              "      <td>...</td>\n",
              "      <td>...</td>\n",
              "    </tr>\n",
              "    <tr>\n",
              "      <th>535322</th>\n",
              "      <td>581199</td>\n",
              "      <td>84581</td>\n",
              "      <td>NaN</td>\n",
              "      <td>-2</td>\n",
              "      <td>2011-12-07 18:26:00</td>\n",
              "      <td>0.0</td>\n",
              "      <td>NaN</td>\n",
              "      <td>United Kingdom</td>\n",
              "    </tr>\n",
              "    <tr>\n",
              "      <th>535326</th>\n",
              "      <td>581203</td>\n",
              "      <td>23406</td>\n",
              "      <td>NaN</td>\n",
              "      <td>15</td>\n",
              "      <td>2011-12-07 18:31:00</td>\n",
              "      <td>0.0</td>\n",
              "      <td>NaN</td>\n",
              "      <td>United Kingdom</td>\n",
              "    </tr>\n",
              "    <tr>\n",
              "      <th>535332</th>\n",
              "      <td>581209</td>\n",
              "      <td>21620</td>\n",
              "      <td>NaN</td>\n",
              "      <td>6</td>\n",
              "      <td>2011-12-07 18:35:00</td>\n",
              "      <td>0.0</td>\n",
              "      <td>NaN</td>\n",
              "      <td>United Kingdom</td>\n",
              "    </tr>\n",
              "    <tr>\n",
              "      <th>536981</th>\n",
              "      <td>581234</td>\n",
              "      <td>72817</td>\n",
              "      <td>NaN</td>\n",
              "      <td>27</td>\n",
              "      <td>2011-12-08 10:33:00</td>\n",
              "      <td>0.0</td>\n",
              "      <td>NaN</td>\n",
              "      <td>United Kingdom</td>\n",
              "    </tr>\n",
              "    <tr>\n",
              "      <th>538554</th>\n",
              "      <td>581408</td>\n",
              "      <td>85175</td>\n",
              "      <td>NaN</td>\n",
              "      <td>20</td>\n",
              "      <td>2011-12-08 14:06:00</td>\n",
              "      <td>0.0</td>\n",
              "      <td>NaN</td>\n",
              "      <td>United Kingdom</td>\n",
              "    </tr>\n",
              "  </tbody>\n",
              "</table>\n",
              "<p>1454 rows × 8 columns</p>\n",
              "</div>"
            ],
            "text/plain": [
              "       InvoiceNo StockCode Description  Quantity         InvoiceDate  \\\n",
              "622       536414     22139         NaN        56 2010-12-01 11:52:00   \n",
              "1970      536545     21134         NaN         1 2010-12-01 14:32:00   \n",
              "1971      536546     22145         NaN         1 2010-12-01 14:33:00   \n",
              "1972      536547     37509         NaN         1 2010-12-01 14:33:00   \n",
              "1987      536549    85226A         NaN         1 2010-12-01 14:34:00   \n",
              "...          ...       ...         ...       ...                 ...   \n",
              "535322    581199     84581         NaN        -2 2011-12-07 18:26:00   \n",
              "535326    581203     23406         NaN        15 2011-12-07 18:31:00   \n",
              "535332    581209     21620         NaN         6 2011-12-07 18:35:00   \n",
              "536981    581234     72817         NaN        27 2011-12-08 10:33:00   \n",
              "538554    581408     85175         NaN        20 2011-12-08 14:06:00   \n",
              "\n",
              "        UnitPrice  CustomerID         Country  \n",
              "622           0.0         NaN  United Kingdom  \n",
              "1970          0.0         NaN  United Kingdom  \n",
              "1971          0.0         NaN  United Kingdom  \n",
              "1972          0.0         NaN  United Kingdom  \n",
              "1987          0.0         NaN  United Kingdom  \n",
              "...           ...         ...             ...  \n",
              "535322        0.0         NaN  United Kingdom  \n",
              "535326        0.0         NaN  United Kingdom  \n",
              "535332        0.0         NaN  United Kingdom  \n",
              "536981        0.0         NaN  United Kingdom  \n",
              "538554        0.0         NaN  United Kingdom  \n",
              "\n",
              "[1454 rows x 8 columns]"
            ]
          },
          "execution_count": 37,
          "metadata": {},
          "output_type": "execute_result"
        }
      ],
      "source": [
        "data[data.Description.isna()]"
      ]
    },
    {
      "cell_type": "code",
      "execution_count": null,
      "metadata": {
        "scrolled": false,
        "id": "-oriNGBc0_RK",
        "outputId": "ad3a74e0-e770-4c64-c0d1-69fc09be6d35"
      },
      "outputs": [
        {
          "data": {
            "text/plain": [
              "0.0    1454\n",
              "Name: UnitPrice, dtype: int64"
            ]
          },
          "execution_count": 36,
          "metadata": {},
          "output_type": "execute_result"
        }
      ],
      "source": [
        "data[data.Description.isna()]['UnitPrice'].value_counts()"
      ]
    },
    {
      "cell_type": "markdown",
      "metadata": {
        "id": "UiWlB28i0_RL"
      },
      "source": [
        "##### description이 결측인데 stockcode랑 mapping안되는게 있는지 확인!  \n",
        "description이 null이어도 안버리고 가져가보려고!  \n",
        "> 했으나,,다 unitprice 0원,,"
      ]
    },
    {
      "cell_type": "code",
      "execution_count": null,
      "metadata": {
        "scrolled": false,
        "id": "Q5JtV3iI0_RL"
      },
      "outputs": [],
      "source": [
        "des_na_sc = data[data.Description.isna()]['StockCode'].unique().tolist()"
      ]
    },
    {
      "cell_type": "code",
      "execution_count": null,
      "metadata": {
        "id": "N2O_Vb-D0_RL"
      },
      "outputs": [],
      "source": [
        "dic = pd.DataFrame(data.groupby('StockCode')['Description'].count()).reset_index()"
      ]
    },
    {
      "cell_type": "code",
      "execution_count": null,
      "metadata": {
        "scrolled": true,
        "id": "h4iIR0ZV0_RM",
        "outputId": "52c3a68e-2670-470f-ebf6-edc005b5bf9d"
      },
      "outputs": [
        {
          "data": {
            "text/html": [
              "<div>\n",
              "<style scoped>\n",
              "    .dataframe tbody tr th:only-of-type {\n",
              "        vertical-align: middle;\n",
              "    }\n",
              "\n",
              "    .dataframe tbody tr th {\n",
              "        vertical-align: top;\n",
              "    }\n",
              "\n",
              "    .dataframe thead th {\n",
              "        text-align: right;\n",
              "    }\n",
              "</style>\n",
              "<table border=\"1\" class=\"dataframe\">\n",
              "  <thead>\n",
              "    <tr style=\"text-align: right;\">\n",
              "      <th></th>\n",
              "      <th>StockCode</th>\n",
              "      <th>Description</th>\n",
              "    </tr>\n",
              "  </thead>\n",
              "  <tbody>\n",
              "  </tbody>\n",
              "</table>\n",
              "</div>"
            ],
            "text/plain": [
              "Empty DataFrame\n",
              "Columns: [StockCode, Description]\n",
              "Index: []"
            ]
          },
          "execution_count": 34,
          "metadata": {},
          "output_type": "execute_result"
        }
      ],
      "source": [
        "dic[(dic.StockCode.isin(des_na_sc))&dic['Description'].isna()]"
      ]
    },
    {
      "cell_type": "markdown",
      "metadata": {
        "id": "eJ-L8Nca0_RM"
      },
      "source": [
        "## 데이터 탐색 및 이상치 제거"
      ]
    },
    {
      "cell_type": "code",
      "execution_count": null,
      "metadata": {
        "id": "3bSqzjvn0_RN",
        "outputId": "c59cbd8b-083b-464c-9652-efe82f023f95"
      },
      "outputs": [
        {
          "data": {
            "text/plain": [
              "(541909, 8)"
            ]
          },
          "execution_count": 44,
          "metadata": {},
          "output_type": "execute_result"
        }
      ],
      "source": [
        "data.shape"
      ]
    },
    {
      "cell_type": "code",
      "execution_count": null,
      "metadata": {
        "id": "lKHNKHf-0_RN"
      },
      "outputs": [],
      "source": [
        "# 1) UnitPrice = 0 제거\n",
        "data1 = data[data.UnitPrice >0]"
      ]
    },
    {
      "cell_type": "code",
      "execution_count": null,
      "metadata": {
        "id": "tzoG5NhE0_RO",
        "outputId": "e9335ef5-41ee-4859-b579-0bdfdd1e742f"
      },
      "outputs": [
        {
          "data": {
            "text/plain": [
              "(539392, 8)"
            ]
          },
          "execution_count": 52,
          "metadata": {},
          "output_type": "execute_result"
        }
      ],
      "source": [
        "data1.shape"
      ]
    },
    {
      "cell_type": "code",
      "execution_count": null,
      "metadata": {
        "scrolled": true,
        "id": "jyzYQwSW0_RO",
        "outputId": "be93c016-3209-43af-8d77-e044202d19aa"
      },
      "outputs": [
        {
          "data": {
            "text/html": [
              "<div>\n",
              "<style scoped>\n",
              "    .dataframe tbody tr th:only-of-type {\n",
              "        vertical-align: middle;\n",
              "    }\n",
              "\n",
              "    .dataframe tbody tr th {\n",
              "        vertical-align: top;\n",
              "    }\n",
              "\n",
              "    .dataframe thead th {\n",
              "        text-align: right;\n",
              "    }\n",
              "</style>\n",
              "<table border=\"1\" class=\"dataframe\">\n",
              "  <thead>\n",
              "    <tr style=\"text-align: right;\">\n",
              "      <th></th>\n",
              "      <th>Quantity</th>\n",
              "      <th>UnitPrice</th>\n",
              "      <th>CustomerID</th>\n",
              "    </tr>\n",
              "  </thead>\n",
              "  <tbody>\n",
              "    <tr>\n",
              "      <th>count</th>\n",
              "      <td>539392.000000</td>\n",
              "      <td>539392.000000</td>\n",
              "      <td>406789.000000</td>\n",
              "    </tr>\n",
              "    <tr>\n",
              "      <th>mean</th>\n",
              "      <td>9.845904</td>\n",
              "      <td>4.673648</td>\n",
              "      <td>15287.795830</td>\n",
              "    </tr>\n",
              "    <tr>\n",
              "      <th>std</th>\n",
              "      <td>215.412652</td>\n",
              "      <td>94.614722</td>\n",
              "      <td>1713.573064</td>\n",
              "    </tr>\n",
              "    <tr>\n",
              "      <th>min</th>\n",
              "      <td>-80995.000000</td>\n",
              "      <td>0.001000</td>\n",
              "      <td>12346.000000</td>\n",
              "    </tr>\n",
              "    <tr>\n",
              "      <th>25%</th>\n",
              "      <td>1.000000</td>\n",
              "      <td>1.250000</td>\n",
              "      <td>13954.000000</td>\n",
              "    </tr>\n",
              "    <tr>\n",
              "      <th>50%</th>\n",
              "      <td>3.000000</td>\n",
              "      <td>2.080000</td>\n",
              "      <td>15152.000000</td>\n",
              "    </tr>\n",
              "    <tr>\n",
              "      <th>75%</th>\n",
              "      <td>10.000000</td>\n",
              "      <td>4.130000</td>\n",
              "      <td>16791.000000</td>\n",
              "    </tr>\n",
              "    <tr>\n",
              "      <th>max</th>\n",
              "      <td>80995.000000</td>\n",
              "      <td>38970.000000</td>\n",
              "      <td>18287.000000</td>\n",
              "    </tr>\n",
              "  </tbody>\n",
              "</table>\n",
              "</div>"
            ],
            "text/plain": [
              "            Quantity      UnitPrice     CustomerID\n",
              "count  539392.000000  539392.000000  406789.000000\n",
              "mean        9.845904       4.673648   15287.795830\n",
              "std       215.412652      94.614722    1713.573064\n",
              "min    -80995.000000       0.001000   12346.000000\n",
              "25%         1.000000       1.250000   13954.000000\n",
              "50%         3.000000       2.080000   15152.000000\n",
              "75%        10.000000       4.130000   16791.000000\n",
              "max     80995.000000   38970.000000   18287.000000"
            ]
          },
          "execution_count": 53,
          "metadata": {},
          "output_type": "execute_result"
        }
      ],
      "source": [
        "data1.describe()"
      ]
    },
    {
      "cell_type": "code",
      "execution_count": null,
      "metadata": {
        "scrolled": true,
        "id": "6fg6iiA00_RP",
        "outputId": "188c4b1b-0c9c-4782-d6b2-59f6cf319d8d"
      },
      "outputs": [
        {
          "data": {
            "text/plain": [
              "{'C'}"
            ]
          },
          "execution_count": 65,
          "metadata": {},
          "output_type": "execute_result"
        }
      ],
      "source": [
        "# 2) Quantity < 0 이면 환불건! 확인 후 제거\n",
        "set([x[:1] for x in data1[data1.Quantity < 0]['InvoiceNo']])"
      ]
    },
    {
      "cell_type": "code",
      "execution_count": null,
      "metadata": {
        "id": "pqpX-uMx0_RP"
      },
      "outputs": [],
      "source": [
        "data1 = data1[data1.Quantity >=0]"
      ]
    },
    {
      "cell_type": "code",
      "execution_count": null,
      "metadata": {
        "id": "PRPGo9_Z0_RQ",
        "outputId": "cd0035aa-c07c-43bb-b36e-e14334601692"
      },
      "outputs": [
        {
          "data": {
            "text/html": [
              "<div>\n",
              "<style scoped>\n",
              "    .dataframe tbody tr th:only-of-type {\n",
              "        vertical-align: middle;\n",
              "    }\n",
              "\n",
              "    .dataframe tbody tr th {\n",
              "        vertical-align: top;\n",
              "    }\n",
              "\n",
              "    .dataframe thead th {\n",
              "        text-align: right;\n",
              "    }\n",
              "</style>\n",
              "<table border=\"1\" class=\"dataframe\">\n",
              "  <thead>\n",
              "    <tr style=\"text-align: right;\">\n",
              "      <th></th>\n",
              "      <th>Quantity</th>\n",
              "      <th>UnitPrice</th>\n",
              "      <th>CustomerID</th>\n",
              "    </tr>\n",
              "  </thead>\n",
              "  <tbody>\n",
              "    <tr>\n",
              "      <th>count</th>\n",
              "      <td>530104.000000</td>\n",
              "      <td>530104.000000</td>\n",
              "      <td>397884.000000</td>\n",
              "    </tr>\n",
              "    <tr>\n",
              "      <th>mean</th>\n",
              "      <td>10.542037</td>\n",
              "      <td>3.907625</td>\n",
              "      <td>15294.423453</td>\n",
              "    </tr>\n",
              "    <tr>\n",
              "      <th>std</th>\n",
              "      <td>155.524124</td>\n",
              "      <td>35.915681</td>\n",
              "      <td>1713.141560</td>\n",
              "    </tr>\n",
              "    <tr>\n",
              "      <th>min</th>\n",
              "      <td>1.000000</td>\n",
              "      <td>0.001000</td>\n",
              "      <td>12346.000000</td>\n",
              "    </tr>\n",
              "    <tr>\n",
              "      <th>25%</th>\n",
              "      <td>1.000000</td>\n",
              "      <td>1.250000</td>\n",
              "      <td>13969.000000</td>\n",
              "    </tr>\n",
              "    <tr>\n",
              "      <th>50%</th>\n",
              "      <td>3.000000</td>\n",
              "      <td>2.080000</td>\n",
              "      <td>15159.000000</td>\n",
              "    </tr>\n",
              "    <tr>\n",
              "      <th>75%</th>\n",
              "      <td>10.000000</td>\n",
              "      <td>4.130000</td>\n",
              "      <td>16795.000000</td>\n",
              "    </tr>\n",
              "    <tr>\n",
              "      <th>max</th>\n",
              "      <td>80995.000000</td>\n",
              "      <td>13541.330000</td>\n",
              "      <td>18287.000000</td>\n",
              "    </tr>\n",
              "  </tbody>\n",
              "</table>\n",
              "</div>"
            ],
            "text/plain": [
              "            Quantity      UnitPrice     CustomerID\n",
              "count  530104.000000  530104.000000  397884.000000\n",
              "mean       10.542037       3.907625   15294.423453\n",
              "std       155.524124      35.915681    1713.141560\n",
              "min         1.000000       0.001000   12346.000000\n",
              "25%         1.000000       1.250000   13969.000000\n",
              "50%         3.000000       2.080000   15159.000000\n",
              "75%        10.000000       4.130000   16795.000000\n",
              "max     80995.000000   13541.330000   18287.000000"
            ]
          },
          "execution_count": 67,
          "metadata": {},
          "output_type": "execute_result"
        }
      ],
      "source": [
        "data1.describe()"
      ]
    },
    {
      "cell_type": "code",
      "execution_count": null,
      "metadata": {
        "id": "aC2IaYZ70_RQ",
        "outputId": "06baf118-11ed-4abc-bbde-c8b5a2594c14"
      },
      "outputs": [
        {
          "data": {
            "text/html": [
              "<div>\n",
              "<style scoped>\n",
              "    .dataframe tbody tr th:only-of-type {\n",
              "        vertical-align: middle;\n",
              "    }\n",
              "\n",
              "    .dataframe tbody tr th {\n",
              "        vertical-align: top;\n",
              "    }\n",
              "\n",
              "    .dataframe thead th {\n",
              "        text-align: right;\n",
              "    }\n",
              "</style>\n",
              "<table border=\"1\" class=\"dataframe\">\n",
              "  <thead>\n",
              "    <tr style=\"text-align: right;\">\n",
              "      <th></th>\n",
              "      <th>InvoiceNo</th>\n",
              "      <th>StockCode</th>\n",
              "      <th>Description</th>\n",
              "      <th>Quantity</th>\n",
              "      <th>InvoiceDate</th>\n",
              "      <th>UnitPrice</th>\n",
              "      <th>CustomerID</th>\n",
              "      <th>Country</th>\n",
              "    </tr>\n",
              "  </thead>\n",
              "  <tbody>\n",
              "    <tr>\n",
              "      <th>540421</th>\n",
              "      <td>581483</td>\n",
              "      <td>23843</td>\n",
              "      <td>PAPER CRAFT , LITTLE BIRDIE</td>\n",
              "      <td>80995</td>\n",
              "      <td>2011-12-09 09:15:00</td>\n",
              "      <td>2.08</td>\n",
              "      <td>16446.0</td>\n",
              "      <td>United Kingdom</td>\n",
              "    </tr>\n",
              "  </tbody>\n",
              "</table>\n",
              "</div>"
            ],
            "text/plain": [
              "       InvoiceNo StockCode                  Description  Quantity  \\\n",
              "540421    581483     23843  PAPER CRAFT , LITTLE BIRDIE     80995   \n",
              "\n",
              "               InvoiceDate  UnitPrice  CustomerID         Country  \n",
              "540421 2011-12-09 09:15:00       2.08     16446.0  United Kingdom  "
            ]
          },
          "execution_count": 70,
          "metadata": {},
          "output_type": "execute_result"
        }
      ],
      "source": [
        "# 고객별 Quantity 이상치 확인\n",
        "data1[data1.Quantity == 80995]"
      ]
    },
    {
      "cell_type": "code",
      "execution_count": null,
      "metadata": {
        "scrolled": false,
        "id": "i7IEfu660_RQ",
        "outputId": "b0d038c2-ed86-4795-d102-dbd310149a4e"
      },
      "outputs": [
        {
          "data": {
            "text/plain": [
              "23.5"
            ]
          },
          "execution_count": 83,
          "metadata": {},
          "output_type": "execute_result"
        }
      ],
      "source": [
        "np.percentile(data1.Quantity,75) + 1.5*(np.percentile(data1.Quantity,75)-np.percentile(data1.Quantity,25))"
      ]
    },
    {
      "cell_type": "code",
      "execution_count": null,
      "metadata": {
        "id": "o32DzTcr0_RR",
        "outputId": "cc870126-4c3d-4181-8bb3-39dc3da380ee"
      },
      "outputs": [
        {
          "data": {
            "text/plain": [
              "100.0"
            ]
          },
          "execution_count": 80,
          "metadata": {},
          "output_type": "execute_result"
        }
      ],
      "source": [
        "np.percentile(data1.Quantity,99)"
      ]
    },
    {
      "cell_type": "code",
      "execution_count": null,
      "metadata": {
        "scrolled": true,
        "id": "Zlqsq5VY0_RR",
        "outputId": "1d7bda53-e229-44d7-b928-e04f4677ac2c"
      },
      "outputs": [
        {
          "data": {
            "text/plain": [
              "(0.0, 100.0)"
            ]
          },
          "execution_count": 79,
          "metadata": {},
          "output_type": "execute_result"
        },
        {
          "data": {
            "image/png": "[encoded data removed]",
            "text/plain": [
              "<Figure size 432x288 with 1 Axes>"
            ]
          },
          "metadata": {
            "needs_background": "light"
          },
          "output_type": "display_data"
        }
      ],
      "source": [
        "fig, ax = plt.subplots()\n",
        "ax.boxplot(data1['Quantity'])\n",
        "ax.set_ylim (0,100)"
      ]
    },
    {
      "cell_type": "code",
      "execution_count": null,
      "metadata": {
        "id": "Q4g-Q-480_RS",
        "outputId": "af7d2742-fc4c-45ab-e60b-f9b075b38ce5"
      },
      "outputs": [
        {
          "name": "stdout",
          "output_type": "stream",
          "text": [
            "166.06616054487858 477.1144075661511\n"
          ]
        }
      ],
      "source": [
        "print(data1.Quantity.mean() + data1.Quantity.std(),data1.Quantity.mean() + data1.Quantity.std()*3)"
      ]
    },
    {
      "cell_type": "code",
      "execution_count": null,
      "metadata": {
        "scrolled": true,
        "id": "zy5cYlFA0_RS"
      },
      "outputs": [],
      "source": [
        "data2 = data1[data1.Quantity <= 100].reset_index(drop=True)"
      ]
    },
    {
      "cell_type": "code",
      "execution_count": null,
      "metadata": {
        "id": "fabgdvOv0_RT",
        "outputId": "b3cf4993-ded6-4279-abc2-9d94a381ca35"
      },
      "outputs": [
        {
          "data": {
            "text/html": [
              "<div>\n",
              "<style scoped>\n",
              "    .dataframe tbody tr th:only-of-type {\n",
              "        vertical-align: middle;\n",
              "    }\n",
              "\n",
              "    .dataframe tbody tr th {\n",
              "        vertical-align: top;\n",
              "    }\n",
              "\n",
              "    .dataframe thead th {\n",
              "        text-align: right;\n",
              "    }\n",
              "</style>\n",
              "<table border=\"1\" class=\"dataframe\">\n",
              "  <thead>\n",
              "    <tr style=\"text-align: right;\">\n",
              "      <th></th>\n",
              "      <th>Quantity</th>\n",
              "      <th>UnitPrice</th>\n",
              "      <th>CustomerID</th>\n",
              "    </tr>\n",
              "  </thead>\n",
              "  <tbody>\n",
              "    <tr>\n",
              "      <th>count</th>\n",
              "      <td>525255.000000</td>\n",
              "      <td>525255.000000</td>\n",
              "      <td>393225.000000</td>\n",
              "    </tr>\n",
              "    <tr>\n",
              "      <th>mean</th>\n",
              "      <td>7.936888</td>\n",
              "      <td>3.930387</td>\n",
              "      <td>15294.104904</td>\n",
              "    </tr>\n",
              "    <tr>\n",
              "      <th>std</th>\n",
              "      <td>12.558855</td>\n",
              "      <td>36.080000</td>\n",
              "      <td>1712.009054</td>\n",
              "    </tr>\n",
              "    <tr>\n",
              "      <th>min</th>\n",
              "      <td>1.000000</td>\n",
              "      <td>0.001000</td>\n",
              "      <td>12347.000000</td>\n",
              "    </tr>\n",
              "    <tr>\n",
              "      <th>25%</th>\n",
              "      <td>1.000000</td>\n",
              "      <td>1.250000</td>\n",
              "      <td>13969.000000</td>\n",
              "    </tr>\n",
              "    <tr>\n",
              "      <th>50%</th>\n",
              "      <td>3.000000</td>\n",
              "      <td>2.100000</td>\n",
              "      <td>15159.000000</td>\n",
              "    </tr>\n",
              "    <tr>\n",
              "      <th>75%</th>\n",
              "      <td>10.000000</td>\n",
              "      <td>4.130000</td>\n",
              "      <td>16794.000000</td>\n",
              "    </tr>\n",
              "    <tr>\n",
              "      <th>max</th>\n",
              "      <td>100.000000</td>\n",
              "      <td>13541.330000</td>\n",
              "      <td>18287.000000</td>\n",
              "    </tr>\n",
              "  </tbody>\n",
              "</table>\n",
              "</div>"
            ],
            "text/plain": [
              "            Quantity      UnitPrice     CustomerID\n",
              "count  525255.000000  525255.000000  393225.000000\n",
              "mean        7.936888       3.930387   15294.104904\n",
              "std        12.558855      36.080000    1712.009054\n",
              "min         1.000000       0.001000   12347.000000\n",
              "25%         1.000000       1.250000   13969.000000\n",
              "50%         3.000000       2.100000   15159.000000\n",
              "75%        10.000000       4.130000   16794.000000\n",
              "max       100.000000   13541.330000   18287.000000"
            ]
          },
          "execution_count": 91,
          "metadata": {},
          "output_type": "execute_result"
        }
      ],
      "source": [
        "data2.describe()"
      ]
    },
    {
      "cell_type": "markdown",
      "metadata": {
        "id": "Ot1t0uXc0_RT"
      },
      "source": [
        "#### Invoiceno 기준으로 테이블 변경 후, 이상치 검증  \n",
        ": data2 너무 건 적어져서 우선 data1으로"
      ]
    },
    {
      "cell_type": "code",
      "execution_count": null,
      "metadata": {
        "scrolled": false,
        "id": "wBJTrV2g0_RU",
        "outputId": "13c28912-33e6-46ca-99a5-76cae2775132"
      },
      "outputs": [
        {
          "data": {
            "text/html": [
              "<div>\n",
              "<style scoped>\n",
              "    .dataframe tbody tr th:only-of-type {\n",
              "        vertical-align: middle;\n",
              "    }\n",
              "\n",
              "    .dataframe tbody tr th {\n",
              "        vertical-align: top;\n",
              "    }\n",
              "\n",
              "    .dataframe thead th {\n",
              "        text-align: right;\n",
              "    }\n",
              "</style>\n",
              "<table border=\"1\" class=\"dataframe\">\n",
              "  <thead>\n",
              "    <tr style=\"text-align: right;\">\n",
              "      <th></th>\n",
              "      <th>InvoiceNo</th>\n",
              "      <th>StockCode</th>\n",
              "      <th>Description</th>\n",
              "      <th>Quantity</th>\n",
              "      <th>InvoiceDate</th>\n",
              "      <th>UnitPrice</th>\n",
              "      <th>CustomerID</th>\n",
              "      <th>Country</th>\n",
              "    </tr>\n",
              "  </thead>\n",
              "  <tbody>\n",
              "    <tr>\n",
              "      <th>0</th>\n",
              "      <td>536365</td>\n",
              "      <td>85123A</td>\n",
              "      <td>WHITE HANGING HEART T-LIGHT HOLDER</td>\n",
              "      <td>6</td>\n",
              "      <td>2010-12-01 08:26:00</td>\n",
              "      <td>2.55</td>\n",
              "      <td>17850.0</td>\n",
              "      <td>United Kingdom</td>\n",
              "    </tr>\n",
              "    <tr>\n",
              "      <th>1</th>\n",
              "      <td>536365</td>\n",
              "      <td>71053</td>\n",
              "      <td>WHITE METAL LANTERN</td>\n",
              "      <td>6</td>\n",
              "      <td>2010-12-01 08:26:00</td>\n",
              "      <td>3.39</td>\n",
              "      <td>17850.0</td>\n",
              "      <td>United Kingdom</td>\n",
              "    </tr>\n",
              "    <tr>\n",
              "      <th>2</th>\n",
              "      <td>536365</td>\n",
              "      <td>84406B</td>\n",
              "      <td>CREAM CUPID HEARTS COAT HANGER</td>\n",
              "      <td>8</td>\n",
              "      <td>2010-12-01 08:26:00</td>\n",
              "      <td>2.75</td>\n",
              "      <td>17850.0</td>\n",
              "      <td>United Kingdom</td>\n",
              "    </tr>\n",
              "    <tr>\n",
              "      <th>3</th>\n",
              "      <td>536365</td>\n",
              "      <td>84029G</td>\n",
              "      <td>KNITTED UNION FLAG HOT WATER BOTTLE</td>\n",
              "      <td>6</td>\n",
              "      <td>2010-12-01 08:26:00</td>\n",
              "      <td>3.39</td>\n",
              "      <td>17850.0</td>\n",
              "      <td>United Kingdom</td>\n",
              "    </tr>\n",
              "    <tr>\n",
              "      <th>4</th>\n",
              "      <td>536365</td>\n",
              "      <td>84029E</td>\n",
              "      <td>RED WOOLLY HOTTIE WHITE HEART.</td>\n",
              "      <td>6</td>\n",
              "      <td>2010-12-01 08:26:00</td>\n",
              "      <td>3.39</td>\n",
              "      <td>17850.0</td>\n",
              "      <td>United Kingdom</td>\n",
              "    </tr>\n",
              "  </tbody>\n",
              "</table>\n",
              "</div>"
            ],
            "text/plain": [
              "  InvoiceNo StockCode                          Description  Quantity  \\\n",
              "0    536365    85123A   WHITE HANGING HEART T-LIGHT HOLDER         6   \n",
              "1    536365     71053                  WHITE METAL LANTERN         6   \n",
              "2    536365    84406B       CREAM CUPID HEARTS COAT HANGER         8   \n",
              "3    536365    84029G  KNITTED UNION FLAG HOT WATER BOTTLE         6   \n",
              "4    536365    84029E       RED WOOLLY HOTTIE WHITE HEART.         6   \n",
              "\n",
              "          InvoiceDate  UnitPrice  CustomerID         Country  \n",
              "0 2010-12-01 08:26:00       2.55     17850.0  United Kingdom  \n",
              "1 2010-12-01 08:26:00       3.39     17850.0  United Kingdom  \n",
              "2 2010-12-01 08:26:00       2.75     17850.0  United Kingdom  \n",
              "3 2010-12-01 08:26:00       3.39     17850.0  United Kingdom  \n",
              "4 2010-12-01 08:26:00       3.39     17850.0  United Kingdom  "
            ]
          },
          "execution_count": 94,
          "metadata": {},
          "output_type": "execute_result"
        }
      ],
      "source": [
        "data1.head()"
      ]
    },
    {
      "cell_type": "code",
      "execution_count": null,
      "metadata": {
        "id": "zIU57F8U0_RU"
      },
      "outputs": [],
      "source": [
        "data_invoice_cnt = pd.DataFrame(data1.groupby('InvoiceNo')['StockCode'].count()).reset_index()"
      ]
    },
    {
      "cell_type": "code",
      "execution_count": null,
      "metadata": {
        "scrolled": true,
        "id": "0E3BBDIX0_RU"
      },
      "outputs": [],
      "source": [
        "data_invoice_cnt.rename({'StockCode':'n'},axis = 1, inplace = True)"
      ]
    },
    {
      "cell_type": "code",
      "execution_count": null,
      "metadata": {
        "scrolled": true,
        "id": "D5bk0vzp0_RV",
        "outputId": "d4a87b7a-6bdf-40f3-af9b-2bad2b548205"
      },
      "outputs": [
        {
          "data": {
            "text/html": [
              "<div>\n",
              "<style scoped>\n",
              "    .dataframe tbody tr th:only-of-type {\n",
              "        vertical-align: middle;\n",
              "    }\n",
              "\n",
              "    .dataframe tbody tr th {\n",
              "        vertical-align: top;\n",
              "    }\n",
              "\n",
              "    .dataframe thead th {\n",
              "        text-align: right;\n",
              "    }\n",
              "</style>\n",
              "<table border=\"1\" class=\"dataframe\">\n",
              "  <thead>\n",
              "    <tr style=\"text-align: right;\">\n",
              "      <th></th>\n",
              "      <th>InvoiceNo</th>\n",
              "      <th>n</th>\n",
              "    </tr>\n",
              "  </thead>\n",
              "  <tbody>\n",
              "    <tr>\n",
              "      <th>0</th>\n",
              "      <td>536365</td>\n",
              "      <td>7</td>\n",
              "    </tr>\n",
              "    <tr>\n",
              "      <th>1</th>\n",
              "      <td>536366</td>\n",
              "      <td>2</td>\n",
              "    </tr>\n",
              "    <tr>\n",
              "      <th>2</th>\n",
              "      <td>536367</td>\n",
              "      <td>12</td>\n",
              "    </tr>\n",
              "    <tr>\n",
              "      <th>3</th>\n",
              "      <td>536368</td>\n",
              "      <td>4</td>\n",
              "    </tr>\n",
              "    <tr>\n",
              "      <th>4</th>\n",
              "      <td>536369</td>\n",
              "      <td>1</td>\n",
              "    </tr>\n",
              "    <tr>\n",
              "      <th>...</th>\n",
              "      <td>...</td>\n",
              "      <td>...</td>\n",
              "    </tr>\n",
              "    <tr>\n",
              "      <th>19955</th>\n",
              "      <td>581584</td>\n",
              "      <td>2</td>\n",
              "    </tr>\n",
              "    <tr>\n",
              "      <th>19956</th>\n",
              "      <td>581585</td>\n",
              "      <td>21</td>\n",
              "    </tr>\n",
              "    <tr>\n",
              "      <th>19957</th>\n",
              "      <td>581586</td>\n",
              "      <td>4</td>\n",
              "    </tr>\n",
              "    <tr>\n",
              "      <th>19958</th>\n",
              "      <td>581587</td>\n",
              "      <td>15</td>\n",
              "    </tr>\n",
              "    <tr>\n",
              "      <th>19959</th>\n",
              "      <td>A563185</td>\n",
              "      <td>1</td>\n",
              "    </tr>\n",
              "  </tbody>\n",
              "</table>\n",
              "<p>19960 rows × 2 columns</p>\n",
              "</div>"
            ],
            "text/plain": [
              "      InvoiceNo   n\n",
              "0        536365   7\n",
              "1        536366   2\n",
              "2        536367  12\n",
              "3        536368   4\n",
              "4        536369   1\n",
              "...         ...  ..\n",
              "19955    581584   2\n",
              "19956    581585  21\n",
              "19957    581586   4\n",
              "19958    581587  15\n",
              "19959   A563185   1\n",
              "\n",
              "[19960 rows x 2 columns]"
            ]
          },
          "execution_count": 120,
          "metadata": {},
          "output_type": "execute_result"
        }
      ],
      "source": [
        "data_invoice_cnt"
      ]
    },
    {
      "cell_type": "code",
      "execution_count": null,
      "metadata": {
        "id": "6A4BShHu0_RW",
        "outputId": "0f645dee-2e10-4d00-d4bd-769725faadb2"
      },
      "outputs": [
        {
          "data": {
            "text/html": [
              "<div>\n",
              "<style scoped>\n",
              "    .dataframe tbody tr th:only-of-type {\n",
              "        vertical-align: middle;\n",
              "    }\n",
              "\n",
              "    .dataframe tbody tr th {\n",
              "        vertical-align: top;\n",
              "    }\n",
              "\n",
              "    .dataframe thead th {\n",
              "        text-align: right;\n",
              "    }\n",
              "</style>\n",
              "<table border=\"1\" class=\"dataframe\">\n",
              "  <thead>\n",
              "    <tr style=\"text-align: right;\">\n",
              "      <th></th>\n",
              "      <th>n</th>\n",
              "    </tr>\n",
              "  </thead>\n",
              "  <tbody>\n",
              "    <tr>\n",
              "      <th>count</th>\n",
              "      <td>19542.000000</td>\n",
              "    </tr>\n",
              "    <tr>\n",
              "      <th>mean</th>\n",
              "      <td>26.878262</td>\n",
              "    </tr>\n",
              "    <tr>\n",
              "      <th>std</th>\n",
              "      <td>47.888395</td>\n",
              "    </tr>\n",
              "    <tr>\n",
              "      <th>min</th>\n",
              "      <td>1.000000</td>\n",
              "    </tr>\n",
              "    <tr>\n",
              "      <th>25%</th>\n",
              "      <td>7.000000</td>\n",
              "    </tr>\n",
              "    <tr>\n",
              "      <th>50%</th>\n",
              "      <td>16.000000</td>\n",
              "    </tr>\n",
              "    <tr>\n",
              "      <th>75%</th>\n",
              "      <td>29.000000</td>\n",
              "    </tr>\n",
              "    <tr>\n",
              "      <th>max</th>\n",
              "      <td>1110.000000</td>\n",
              "    </tr>\n",
              "  </tbody>\n",
              "</table>\n",
              "</div>"
            ],
            "text/plain": [
              "                  n\n",
              "count  19542.000000\n",
              "mean      26.878262\n",
              "std       47.888395\n",
              "min        1.000000\n",
              "25%        7.000000\n",
              "50%       16.000000\n",
              "75%       29.000000\n",
              "max     1110.000000"
            ]
          },
          "execution_count": 107,
          "metadata": {},
          "output_type": "execute_result"
        }
      ],
      "source": [
        "data_invoice_cnt.describe()"
      ]
    },
    {
      "cell_type": "code",
      "execution_count": null,
      "metadata": {
        "scrolled": true,
        "id": "gF_CkU820_RW",
        "outputId": "bd3f053b-6917-4e9e-ec79-44d633f5db14"
      },
      "outputs": [
        {
          "data": {
            "text/plain": [
              "(0.0, 100.0)"
            ]
          },
          "execution_count": 121,
          "metadata": {},
          "output_type": "execute_result"
        },
        {
          "data": {
            "image/png": "[encoded data removed]",
            "text/plain": [
              "<Figure size 432x288 with 1 Axes>"
            ]
          },
          "metadata": {
            "needs_background": "light"
          },
          "output_type": "display_data"
        }
      ],
      "source": [
        "fig, ax = plt.subplots()\n",
        "ax.boxplot(data_invoice_cnt['n'])\n",
        "ax.set_ylim (0,100)"
      ]
    },
    {
      "cell_type": "code",
      "execution_count": null,
      "metadata": {
        "id": "O1GyT45z0_RX",
        "outputId": "a8965506-983d-44ae-f41d-b37d44695678"
      },
      "outputs": [
        {
          "data": {
            "text/plain": [
              "219.40999999999985"
            ]
          },
          "execution_count": 122,
          "metadata": {},
          "output_type": "execute_result"
        }
      ],
      "source": [
        "data_invoice_cnt['n'].quantile(.99)"
      ]
    },
    {
      "cell_type": "code",
      "execution_count": null,
      "metadata": {
        "id": "IgE0H3tj0_RX",
        "outputId": "d400af07-400c-42d8-dd30-0d46ff04d860"
      },
      "outputs": [
        {
          "data": {
            "text/plain": [
              "63.5"
            ]
          },
          "execution_count": 123,
          "metadata": {},
          "output_type": "execute_result"
        }
      ],
      "source": [
        "data_invoice_cnt['n'].quantile(.75) + 1.5*(data_invoice_cnt['n'].quantile(.75)-data_invoice_cnt['n'].quantile(.25))"
      ]
    },
    {
      "cell_type": "code",
      "execution_count": null,
      "metadata": {
        "id": "xkuOg6Jo0_RX",
        "outputId": "3b9a987c-5c97-492e-c931-39914f07bf85"
      },
      "outputs": [
        {
          "name": "stdout",
          "output_type": "stream",
          "text": [
            "74.10038236879666 169.18451383985692\n"
          ]
        }
      ],
      "source": [
        "print(data_invoice_cnt['n'].mean() + data_invoice_cnt['n'].std(), data_invoice_cnt['n'].mean() + data_invoice_cnt['n'].std()*3)"
      ]
    },
    {
      "cell_type": "code",
      "execution_count": null,
      "metadata": {
        "scrolled": true,
        "id": "gil65rpE0_RY",
        "outputId": "54412bf4-5697-417f-8b68-c0abc853c7bd"
      },
      "outputs": [
        {
          "data": {
            "text/plain": [
              "(19960, 2)"
            ]
          },
          "execution_count": 127,
          "metadata": {},
          "output_type": "execute_result"
        }
      ],
      "source": [
        "data_invoice_cnt.shape"
      ]
    },
    {
      "cell_type": "code",
      "execution_count": null,
      "metadata": {
        "id": "6QUs_g-M0_RY"
      },
      "outputs": [],
      "source": [
        "outlier_treat = data_invoice_cnt[(data_invoice_cnt.n >= 2)  & (data_invoice_cnt.n <= 150)]"
      ]
    },
    {
      "cell_type": "code",
      "execution_count": null,
      "metadata": {
        "scrolled": true,
        "id": "d8aIALKZ0_RZ",
        "outputId": "d2b17669-c334-4c5f-8eed-fa93c9a147d7"
      },
      "outputs": [
        {
          "data": {
            "text/html": [
              "<div>\n",
              "<style scoped>\n",
              "    .dataframe tbody tr th:only-of-type {\n",
              "        vertical-align: middle;\n",
              "    }\n",
              "\n",
              "    .dataframe tbody tr th {\n",
              "        vertical-align: top;\n",
              "    }\n",
              "\n",
              "    .dataframe thead th {\n",
              "        text-align: right;\n",
              "    }\n",
              "</style>\n",
              "<table border=\"1\" class=\"dataframe\">\n",
              "  <thead>\n",
              "    <tr style=\"text-align: right;\">\n",
              "      <th></th>\n",
              "      <th>InvoiceNo</th>\n",
              "      <th>StockCode</th>\n",
              "      <th>Description</th>\n",
              "      <th>Quantity</th>\n",
              "      <th>InvoiceDate</th>\n",
              "      <th>UnitPrice</th>\n",
              "      <th>CustomerID</th>\n",
              "      <th>Country</th>\n",
              "    </tr>\n",
              "  </thead>\n",
              "  <tbody>\n",
              "    <tr>\n",
              "      <th>0</th>\n",
              "      <td>536365</td>\n",
              "      <td>85123A</td>\n",
              "      <td>WHITE HANGING HEART T-LIGHT HOLDER</td>\n",
              "      <td>6</td>\n",
              "      <td>2010-12-01 08:26:00</td>\n",
              "      <td>2.55</td>\n",
              "      <td>17850.0</td>\n",
              "      <td>United Kingdom</td>\n",
              "    </tr>\n",
              "    <tr>\n",
              "      <th>1</th>\n",
              "      <td>536365</td>\n",
              "      <td>71053</td>\n",
              "      <td>WHITE METAL LANTERN</td>\n",
              "      <td>6</td>\n",
              "      <td>2010-12-01 08:26:00</td>\n",
              "      <td>3.39</td>\n",
              "      <td>17850.0</td>\n",
              "      <td>United Kingdom</td>\n",
              "    </tr>\n",
              "    <tr>\n",
              "      <th>2</th>\n",
              "      <td>536365</td>\n",
              "      <td>84406B</td>\n",
              "      <td>CREAM CUPID HEARTS COAT HANGER</td>\n",
              "      <td>8</td>\n",
              "      <td>2010-12-01 08:26:00</td>\n",
              "      <td>2.75</td>\n",
              "      <td>17850.0</td>\n",
              "      <td>United Kingdom</td>\n",
              "    </tr>\n",
              "    <tr>\n",
              "      <th>3</th>\n",
              "      <td>536365</td>\n",
              "      <td>84029G</td>\n",
              "      <td>KNITTED UNION FLAG HOT WATER BOTTLE</td>\n",
              "      <td>6</td>\n",
              "      <td>2010-12-01 08:26:00</td>\n",
              "      <td>3.39</td>\n",
              "      <td>17850.0</td>\n",
              "      <td>United Kingdom</td>\n",
              "    </tr>\n",
              "    <tr>\n",
              "      <th>4</th>\n",
              "      <td>536365</td>\n",
              "      <td>84029E</td>\n",
              "      <td>RED WOOLLY HOTTIE WHITE HEART.</td>\n",
              "      <td>6</td>\n",
              "      <td>2010-12-01 08:26:00</td>\n",
              "      <td>3.39</td>\n",
              "      <td>17850.0</td>\n",
              "      <td>United Kingdom</td>\n",
              "    </tr>\n",
              "  </tbody>\n",
              "</table>\n",
              "</div>"
            ],
            "text/plain": [
              "  InvoiceNo StockCode                          Description  Quantity  \\\n",
              "0    536365    85123A   WHITE HANGING HEART T-LIGHT HOLDER         6   \n",
              "1    536365     71053                  WHITE METAL LANTERN         6   \n",
              "2    536365    84406B       CREAM CUPID HEARTS COAT HANGER         8   \n",
              "3    536365    84029G  KNITTED UNION FLAG HOT WATER BOTTLE         6   \n",
              "4    536365    84029E       RED WOOLLY HOTTIE WHITE HEART.         6   \n",
              "\n",
              "          InvoiceDate  UnitPrice  CustomerID         Country  \n",
              "0 2010-12-01 08:26:00       2.55     17850.0  United Kingdom  \n",
              "1 2010-12-01 08:26:00       3.39     17850.0  United Kingdom  \n",
              "2 2010-12-01 08:26:00       2.75     17850.0  United Kingdom  \n",
              "3 2010-12-01 08:26:00       3.39     17850.0  United Kingdom  \n",
              "4 2010-12-01 08:26:00       3.39     17850.0  United Kingdom  "
            ]
          },
          "execution_count": 137,
          "metadata": {},
          "output_type": "execute_result"
        }
      ],
      "source": [
        "data2.head()"
      ]
    },
    {
      "cell_type": "code",
      "execution_count": null,
      "metadata": {
        "scrolled": true,
        "id": "yPfPx8ut0_RZ"
      },
      "outputs": [],
      "source": [
        "pur_outlier_treat = pd.merge(outlier_treat,data2, how= 'inner', on='InvoiceNo')"
      ]
    },
    {
      "cell_type": "code",
      "execution_count": null,
      "metadata": {
        "collapsed": true,
        "id": "d5nszSNN0_Ra",
        "outputId": "a18a9f36-5413-419e-c53f-e3ea45715f82"
      },
      "outputs": [
        {
          "data": {
            "text/html": [
              "<div>\n",
              "<style scoped>\n",
              "    .dataframe tbody tr th:only-of-type {\n",
              "        vertical-align: middle;\n",
              "    }\n",
              "\n",
              "    .dataframe tbody tr th {\n",
              "        vertical-align: top;\n",
              "    }\n",
              "\n",
              "    .dataframe thead th {\n",
              "        text-align: right;\n",
              "    }\n",
              "</style>\n",
              "<table border=\"1\" class=\"dataframe\">\n",
              "  <thead>\n",
              "    <tr style=\"text-align: right;\">\n",
              "      <th></th>\n",
              "      <th>n</th>\n",
              "      <th>Quantity</th>\n",
              "      <th>UnitPrice</th>\n",
              "      <th>CustomerID</th>\n",
              "    </tr>\n",
              "  </thead>\n",
              "  <tbody>\n",
              "    <tr>\n",
              "      <th>count</th>\n",
              "      <td>409659.000000</td>\n",
              "      <td>409659.000000</td>\n",
              "      <td>409659.000000</td>\n",
              "      <td>377744.000000</td>\n",
              "    </tr>\n",
              "    <tr>\n",
              "      <th>mean</th>\n",
              "      <td>44.740753</td>\n",
              "      <td>9.300894</td>\n",
              "      <td>3.285169</td>\n",
              "      <td>15311.610199</td>\n",
              "    </tr>\n",
              "    <tr>\n",
              "      <th>std</th>\n",
              "      <td>32.773343</td>\n",
              "      <td>13.535249</td>\n",
              "      <td>11.628148</td>\n",
              "      <td>1718.385159</td>\n",
              "    </tr>\n",
              "    <tr>\n",
              "      <th>min</th>\n",
              "      <td>2.000000</td>\n",
              "      <td>1.000000</td>\n",
              "      <td>0.001000</td>\n",
              "      <td>12347.000000</td>\n",
              "    </tr>\n",
              "    <tr>\n",
              "      <th>25%</th>\n",
              "      <td>20.000000</td>\n",
              "      <td>2.000000</td>\n",
              "      <td>1.250000</td>\n",
              "      <td>13931.000000</td>\n",
              "    </tr>\n",
              "    <tr>\n",
              "      <th>50%</th>\n",
              "      <td>35.000000</td>\n",
              "      <td>4.000000</td>\n",
              "      <td>1.950000</td>\n",
              "      <td>15219.000000</td>\n",
              "    </tr>\n",
              "    <tr>\n",
              "      <th>75%</th>\n",
              "      <td>61.000000</td>\n",
              "      <td>12.000000</td>\n",
              "      <td>3.750000</td>\n",
              "      <td>16813.000000</td>\n",
              "    </tr>\n",
              "    <tr>\n",
              "      <th>max</th>\n",
              "      <td>150.000000</td>\n",
              "      <td>100.000000</td>\n",
              "      <td>3949.320000</td>\n",
              "      <td>18287.000000</td>\n",
              "    </tr>\n",
              "  </tbody>\n",
              "</table>\n",
              "</div>"
            ],
            "text/plain": [
              "                   n       Quantity      UnitPrice     CustomerID\n",
              "count  409659.000000  409659.000000  409659.000000  377744.000000\n",
              "mean       44.740753       9.300894       3.285169   15311.610199\n",
              "std        32.773343      13.535249      11.628148    1718.385159\n",
              "min         2.000000       1.000000       0.001000   12347.000000\n",
              "25%        20.000000       2.000000       1.250000   13931.000000\n",
              "50%        35.000000       4.000000       1.950000   15219.000000\n",
              "75%        61.000000      12.000000       3.750000   16813.000000\n",
              "max       150.000000     100.000000    3949.320000   18287.000000"
            ]
          },
          "execution_count": 136,
          "metadata": {},
          "output_type": "execute_result"
        }
      ],
      "source": [
        "pur_outlier_treat.describe()"
      ]
    },
    {
      "cell_type": "code",
      "execution_count": null,
      "metadata": {
        "id": "NYuZ145G0_Ra",
        "outputId": "13757f1e-13ab-43b0-98ab-d23351032810"
      },
      "outputs": [
        {
          "data": {
            "text/html": [
              "<div>\n",
              "<style scoped>\n",
              "    .dataframe tbody tr th:only-of-type {\n",
              "        vertical-align: middle;\n",
              "    }\n",
              "\n",
              "    .dataframe tbody tr th {\n",
              "        vertical-align: top;\n",
              "    }\n",
              "\n",
              "    .dataframe thead th {\n",
              "        text-align: right;\n",
              "    }\n",
              "</style>\n",
              "<table border=\"1\" class=\"dataframe\">\n",
              "  <thead>\n",
              "    <tr style=\"text-align: right;\">\n",
              "      <th></th>\n",
              "      <th>InvoiceNo</th>\n",
              "      <th>n</th>\n",
              "      <th>StockCode</th>\n",
              "      <th>Description</th>\n",
              "      <th>Quantity</th>\n",
              "      <th>InvoiceDate</th>\n",
              "      <th>UnitPrice</th>\n",
              "      <th>CustomerID</th>\n",
              "      <th>Country</th>\n",
              "    </tr>\n",
              "  </thead>\n",
              "  <tbody>\n",
              "    <tr>\n",
              "      <th>409654</th>\n",
              "      <td>581587</td>\n",
              "      <td>15</td>\n",
              "      <td>22613</td>\n",
              "      <td>PACK OF 20 SPACEBOY NAPKINS</td>\n",
              "      <td>12</td>\n",
              "      <td>2011-12-09 12:50:00</td>\n",
              "      <td>0.85</td>\n",
              "      <td>12680.0</td>\n",
              "      <td>France</td>\n",
              "    </tr>\n",
              "    <tr>\n",
              "      <th>409655</th>\n",
              "      <td>581587</td>\n",
              "      <td>15</td>\n",
              "      <td>22899</td>\n",
              "      <td>CHILDREN'S APRON DOLLY GIRL</td>\n",
              "      <td>6</td>\n",
              "      <td>2011-12-09 12:50:00</td>\n",
              "      <td>2.10</td>\n",
              "      <td>12680.0</td>\n",
              "      <td>France</td>\n",
              "    </tr>\n",
              "    <tr>\n",
              "      <th>409656</th>\n",
              "      <td>581587</td>\n",
              "      <td>15</td>\n",
              "      <td>23254</td>\n",
              "      <td>CHILDRENS CUTLERY DOLLY GIRL</td>\n",
              "      <td>4</td>\n",
              "      <td>2011-12-09 12:50:00</td>\n",
              "      <td>4.15</td>\n",
              "      <td>12680.0</td>\n",
              "      <td>France</td>\n",
              "    </tr>\n",
              "    <tr>\n",
              "      <th>409657</th>\n",
              "      <td>581587</td>\n",
              "      <td>15</td>\n",
              "      <td>23255</td>\n",
              "      <td>CHILDRENS CUTLERY CIRCUS PARADE</td>\n",
              "      <td>4</td>\n",
              "      <td>2011-12-09 12:50:00</td>\n",
              "      <td>4.15</td>\n",
              "      <td>12680.0</td>\n",
              "      <td>France</td>\n",
              "    </tr>\n",
              "    <tr>\n",
              "      <th>409658</th>\n",
              "      <td>581587</td>\n",
              "      <td>15</td>\n",
              "      <td>22138</td>\n",
              "      <td>BAKING SET 9 PIECE RETROSPOT</td>\n",
              "      <td>3</td>\n",
              "      <td>2011-12-09 12:50:00</td>\n",
              "      <td>4.95</td>\n",
              "      <td>12680.0</td>\n",
              "      <td>France</td>\n",
              "    </tr>\n",
              "  </tbody>\n",
              "</table>\n",
              "</div>"
            ],
            "text/plain": [
              "       InvoiceNo   n StockCode                      Description  Quantity  \\\n",
              "409654    581587  15     22613      PACK OF 20 SPACEBOY NAPKINS        12   \n",
              "409655    581587  15     22899     CHILDREN'S APRON DOLLY GIRL          6   \n",
              "409656    581587  15     23254    CHILDRENS CUTLERY DOLLY GIRL          4   \n",
              "409657    581587  15     23255  CHILDRENS CUTLERY CIRCUS PARADE         4   \n",
              "409658    581587  15     22138    BAKING SET 9 PIECE RETROSPOT          3   \n",
              "\n",
              "               InvoiceDate  UnitPrice  CustomerID Country  \n",
              "409654 2011-12-09 12:50:00       0.85     12680.0  France  \n",
              "409655 2011-12-09 12:50:00       2.10     12680.0  France  \n",
              "409656 2011-12-09 12:50:00       4.15     12680.0  France  \n",
              "409657 2011-12-09 12:50:00       4.15     12680.0  France  \n",
              "409658 2011-12-09 12:50:00       4.95     12680.0  France  "
            ]
          },
          "execution_count": 138,
          "metadata": {},
          "output_type": "execute_result"
        }
      ],
      "source": [
        "pur_outlier_treat.tail()"
      ]
    },
    {
      "cell_type": "code",
      "execution_count": null,
      "metadata": {
        "scrolled": true,
        "id": "l9lA3XJ00_Rb"
      },
      "outputs": [],
      "source": [
        "# 국가별로 차이가 있을까?\n",
        "invoce_product_cnt = pur_outlier_treat.groupby('Country')['InvoiceNo'].nunique().sort_values(ascending = False)"
      ]
    },
    {
      "cell_type": "code",
      "execution_count": null,
      "metadata": {
        "id": "BpwuiBLy0_Rb"
      },
      "outputs": [],
      "source": [
        "invoce_product_cnt = pd.DataFrame(invoce_product_cnt).reset_index()"
      ]
    },
    {
      "cell_type": "code",
      "execution_count": null,
      "metadata": {
        "id": "baQPLQ5p0_Rb"
      },
      "outputs": [],
      "source": [
        "# (코딩연습)\n",
        "# 각 국가별 가장 많은 거래에 포함된 상품 Top 5 비교 "
      ]
    },
    {
      "cell_type": "code",
      "execution_count": null,
      "metadata": {
        "id": "yf40_ZZm0_Rc"
      },
      "outputs": [],
      "source": []
    },
    {
      "cell_type": "markdown",
      "metadata": {
        "id": "sAzKWfIi0_Rc"
      },
      "source": [
        "##### Method 1) nlargest 이용"
      ]
    },
    {
      "cell_type": "code",
      "execution_count": null,
      "metadata": {
        "id": "UPlSQg7S0_Rc"
      },
      "outputs": [],
      "source": [
        "t = pd.DataFrame(pur_outlier_treat.groupby(['Country','Description'])['InvoiceNo'].count()).reset_index()"
      ]
    },
    {
      "cell_type": "code",
      "execution_count": null,
      "metadata": {
        "scrolled": true,
        "id": "NBZy-3ot0_Rd"
      },
      "outputs": [],
      "source": [
        "t1 = t.groupby('Country').apply(lambda x:x.nlargest(5,'InvoiceNo'))"
      ]
    },
    {
      "cell_type": "code",
      "execution_count": null,
      "metadata": {
        "id": "DAsTjnI00_Rd"
      },
      "outputs": [],
      "source": [
        "t1 = t1.reset_index(drop = True)"
      ]
    },
    {
      "cell_type": "code",
      "execution_count": null,
      "metadata": {
        "scrolled": true,
        "id": "Src3b7DZ0_Rd",
        "outputId": "01ea06fa-1f7b-40f8-b554-fe9551d8fdb7"
      },
      "outputs": [
        {
          "data": {
            "text/html": [
              "<div>\n",
              "<style scoped>\n",
              "    .dataframe tbody tr th:only-of-type {\n",
              "        vertical-align: middle;\n",
              "    }\n",
              "\n",
              "    .dataframe tbody tr th {\n",
              "        vertical-align: top;\n",
              "    }\n",
              "\n",
              "    .dataframe thead th {\n",
              "        text-align: right;\n",
              "    }\n",
              "</style>\n",
              "<table border=\"1\" class=\"dataframe\">\n",
              "  <thead>\n",
              "    <tr style=\"text-align: right;\">\n",
              "      <th></th>\n",
              "      <th>Country</th>\n",
              "      <th>Description</th>\n",
              "      <th>InvoiceNo</th>\n",
              "    </tr>\n",
              "  </thead>\n",
              "  <tbody>\n",
              "    <tr>\n",
              "      <th>180</th>\n",
              "      <td>United Kingdom</td>\n",
              "      <td>WHITE HANGING HEART T-LIGHT HOLDER</td>\n",
              "      <td>1942</td>\n",
              "    </tr>\n",
              "    <tr>\n",
              "      <th>181</th>\n",
              "      <td>United Kingdom</td>\n",
              "      <td>JUMBO BAG RED RETROSPOT</td>\n",
              "      <td>1625</td>\n",
              "    </tr>\n",
              "    <tr>\n",
              "      <th>182</th>\n",
              "      <td>United Kingdom</td>\n",
              "      <td>REGENCY CAKESTAND 3 TIER</td>\n",
              "      <td>1493</td>\n",
              "    </tr>\n",
              "    <tr>\n",
              "      <th>183</th>\n",
              "      <td>United Kingdom</td>\n",
              "      <td>PARTY BUNTING</td>\n",
              "      <td>1398</td>\n",
              "    </tr>\n",
              "    <tr>\n",
              "      <th>184</th>\n",
              "      <td>United Kingdom</td>\n",
              "      <td>ASSORTED COLOUR BIRD ORNAMENT</td>\n",
              "      <td>1282</td>\n",
              "    </tr>\n",
              "  </tbody>\n",
              "</table>\n",
              "</div>"
            ],
            "text/plain": [
              "            Country                         Description  InvoiceNo\n",
              "180  United Kingdom  WHITE HANGING HEART T-LIGHT HOLDER       1942\n",
              "181  United Kingdom             JUMBO BAG RED RETROSPOT       1625\n",
              "182  United Kingdom            REGENCY CAKESTAND 3 TIER       1493\n",
              "183  United Kingdom                       PARTY BUNTING       1398\n",
              "184  United Kingdom       ASSORTED COLOUR BIRD ORNAMENT       1282"
            ]
          },
          "execution_count": 214,
          "metadata": {},
          "output_type": "execute_result"
        }
      ],
      "source": [
        "t1[t1.Country == 'United Kingdom']"
      ]
    },
    {
      "cell_type": "code",
      "execution_count": null,
      "metadata": {
        "scrolled": true,
        "id": "ilAunSus0_Re",
        "outputId": "b2dd3f8c-b5e7-4536-82a4-467a6f4e5477"
      },
      "outputs": [
        {
          "data": {
            "text/html": [
              "<div>\n",
              "<style scoped>\n",
              "    .dataframe tbody tr th:only-of-type {\n",
              "        vertical-align: middle;\n",
              "    }\n",
              "\n",
              "    .dataframe tbody tr th {\n",
              "        vertical-align: top;\n",
              "    }\n",
              "\n",
              "    .dataframe thead th {\n",
              "        text-align: right;\n",
              "    }\n",
              "</style>\n",
              "<table border=\"1\" class=\"dataframe\">\n",
              "  <thead>\n",
              "    <tr style=\"text-align: right;\">\n",
              "      <th></th>\n",
              "      <th></th>\n",
              "      <th>Country</th>\n",
              "      <th>Description</th>\n",
              "      <th>InvoiceNo</th>\n",
              "    </tr>\n",
              "    <tr>\n",
              "      <th>Country</th>\n",
              "      <th></th>\n",
              "      <th></th>\n",
              "      <th></th>\n",
              "      <th></th>\n",
              "    </tr>\n",
              "  </thead>\n",
              "  <tbody>\n",
              "    <tr>\n",
              "      <th rowspan=\"5\" valign=\"top\">Australia</th>\n",
              "      <th>0</th>\n",
              "      <td>Australia</td>\n",
              "      <td>BAKING SET SPACEBOY DESIGN</td>\n",
              "      <td>8</td>\n",
              "    </tr>\n",
              "    <tr>\n",
              "      <th>1</th>\n",
              "      <td>Australia</td>\n",
              "      <td>LUNCH BAG RED RETROSPOT</td>\n",
              "      <td>8</td>\n",
              "    </tr>\n",
              "    <tr>\n",
              "      <th>2</th>\n",
              "      <td>Australia</td>\n",
              "      <td>LUNCH BAG SPACEBOY DESIGN</td>\n",
              "      <td>8</td>\n",
              "    </tr>\n",
              "    <tr>\n",
              "      <th>3</th>\n",
              "      <td>Australia</td>\n",
              "      <td>PARTY BUNTING</td>\n",
              "      <td>8</td>\n",
              "    </tr>\n",
              "    <tr>\n",
              "      <th>4</th>\n",
              "      <td>Australia</td>\n",
              "      <td>ROSES REGENCY TEACUP AND SAUCER</td>\n",
              "      <td>8</td>\n",
              "    </tr>\n",
              "    <tr>\n",
              "      <th>...</th>\n",
              "      <th>...</th>\n",
              "      <td>...</td>\n",
              "      <td>...</td>\n",
              "      <td>...</td>\n",
              "    </tr>\n",
              "    <tr>\n",
              "      <th rowspan=\"5\" valign=\"top\">Unspecified</th>\n",
              "      <th>186</th>\n",
              "      <td>Unspecified</td>\n",
              "      <td>12 PENCILS TALL TUBE RED RETROSPOT</td>\n",
              "      <td>3</td>\n",
              "    </tr>\n",
              "    <tr>\n",
              "      <th>187</th>\n",
              "      <td>Unspecified</td>\n",
              "      <td>4 TRADITIONAL SPINNING TOPS</td>\n",
              "      <td>3</td>\n",
              "    </tr>\n",
              "    <tr>\n",
              "      <th>188</th>\n",
              "      <td>Unspecified</td>\n",
              "      <td>ASSORTED COLOUR BIRD ORNAMENT</td>\n",
              "      <td>3</td>\n",
              "    </tr>\n",
              "    <tr>\n",
              "      <th>189</th>\n",
              "      <td>Unspecified</td>\n",
              "      <td>BINGO SET</td>\n",
              "      <td>3</td>\n",
              "    </tr>\n",
              "    <tr>\n",
              "      <th>185</th>\n",
              "      <td>Unspecified</td>\n",
              "      <td>3 STRIPEY MICE FELTCRAFT</td>\n",
              "      <td>4</td>\n",
              "    </tr>\n",
              "  </tbody>\n",
              "</table>\n",
              "<p>190 rows × 3 columns</p>\n",
              "</div>"
            ],
            "text/plain": [
              "                     Country                         Description  InvoiceNo\n",
              "Country                                                                    \n",
              "Australia   0      Australia          BAKING SET SPACEBOY DESIGN          8\n",
              "            1      Australia             LUNCH BAG RED RETROSPOT          8\n",
              "            2      Australia          LUNCH BAG SPACEBOY DESIGN           8\n",
              "            3      Australia                       PARTY BUNTING          8\n",
              "            4      Australia    ROSES REGENCY TEACUP AND SAUCER           8\n",
              "...                      ...                                 ...        ...\n",
              "Unspecified 186  Unspecified  12 PENCILS TALL TUBE RED RETROSPOT          3\n",
              "            187  Unspecified         4 TRADITIONAL SPINNING TOPS          3\n",
              "            188  Unspecified       ASSORTED COLOUR BIRD ORNAMENT          3\n",
              "            189  Unspecified                           BINGO SET          3\n",
              "            185  Unspecified            3 STRIPEY MICE FELTCRAFT          4\n",
              "\n",
              "[190 rows x 3 columns]"
            ]
          },
          "execution_count": 228,
          "metadata": {},
          "output_type": "execute_result"
        }
      ],
      "source": [
        "t1.groupby('Country').apply(lambda x: x.sort_values('InvoiceNo')) # 낮은 등급부터 보이기"
      ]
    },
    {
      "cell_type": "markdown",
      "metadata": {
        "id": "06b5oeKc0_Re"
      },
      "source": [
        "##### Method 2) rank 이용"
      ]
    },
    {
      "cell_type": "code",
      "execution_count": null,
      "metadata": {
        "scrolled": true,
        "id": "sQmjmGoy0_Rf"
      },
      "outputs": [],
      "source": [
        "t['rk'] = t.groupby('Country')['InvoiceNo'].rank(method = 'min', ascending = False) #'dense'는 등급별 1씩차이나게\n",
        "# min 은 1위가 10명이면, 1다음 rank는 11"
      ]
    },
    {
      "cell_type": "code",
      "execution_count": null,
      "metadata": {
        "id": "d474TAkr0_Rf"
      },
      "outputs": [],
      "source": [
        "t22 = t[t.rk <= 5]"
      ]
    },
    {
      "cell_type": "code",
      "execution_count": null,
      "metadata": {
        "id": "8qibuXyY0_Rf"
      },
      "outputs": [],
      "source": [
        "t22  = t22.groupby('Country').apply(lambda x: x.sort_values(by = 'rk'))"
      ]
    },
    {
      "cell_type": "code",
      "execution_count": null,
      "metadata": {
        "id": "WrMG7rEp0_Rg"
      },
      "outputs": [],
      "source": [
        "t22.reset_index(drop = True, inplace = True)"
      ]
    },
    {
      "cell_type": "code",
      "execution_count": null,
      "metadata": {
        "scrolled": false,
        "id": "UmGReCJ80_Rg",
        "outputId": "73cc3cd6-884c-424d-b3d2-059ed7199f63"
      },
      "outputs": [
        {
          "data": {
            "text/html": [
              "<div>\n",
              "<style scoped>\n",
              "    .dataframe tbody tr th:only-of-type {\n",
              "        vertical-align: middle;\n",
              "    }\n",
              "\n",
              "    .dataframe tbody tr th {\n",
              "        vertical-align: top;\n",
              "    }\n",
              "\n",
              "    .dataframe thead th {\n",
              "        text-align: right;\n",
              "    }\n",
              "</style>\n",
              "<table border=\"1\" class=\"dataframe\">\n",
              "  <thead>\n",
              "    <tr style=\"text-align: right;\">\n",
              "      <th></th>\n",
              "      <th>Country</th>\n",
              "      <th>InvoiceNo_x</th>\n",
              "      <th>Description</th>\n",
              "      <th>InvoiceNo_y</th>\n",
              "      <th>rk</th>\n",
              "    </tr>\n",
              "  </thead>\n",
              "  <tbody>\n",
              "    <tr>\n",
              "      <th>0</th>\n",
              "      <td>United Kingdom</td>\n",
              "      <td>15993</td>\n",
              "      <td>WHITE HANGING HEART T-LIGHT HOLDER</td>\n",
              "      <td>1942</td>\n",
              "      <td>1.0</td>\n",
              "    </tr>\n",
              "    <tr>\n",
              "      <th>1</th>\n",
              "      <td>United Kingdom</td>\n",
              "      <td>15993</td>\n",
              "      <td>JUMBO BAG RED RETROSPOT</td>\n",
              "      <td>1625</td>\n",
              "      <td>2.0</td>\n",
              "    </tr>\n",
              "    <tr>\n",
              "      <th>2</th>\n",
              "      <td>United Kingdom</td>\n",
              "      <td>15993</td>\n",
              "      <td>REGENCY CAKESTAND 3 TIER</td>\n",
              "      <td>1493</td>\n",
              "      <td>3.0</td>\n",
              "    </tr>\n",
              "    <tr>\n",
              "      <th>3</th>\n",
              "      <td>United Kingdom</td>\n",
              "      <td>15993</td>\n",
              "      <td>PARTY BUNTING</td>\n",
              "      <td>1398</td>\n",
              "      <td>4.0</td>\n",
              "    </tr>\n",
              "    <tr>\n",
              "      <th>4</th>\n",
              "      <td>United Kingdom</td>\n",
              "      <td>15993</td>\n",
              "      <td>ASSORTED COLOUR BIRD ORNAMENT</td>\n",
              "      <td>1282</td>\n",
              "      <td>5.0</td>\n",
              "    </tr>\n",
              "    <tr>\n",
              "      <th>...</th>\n",
              "      <td>...</td>\n",
              "      <td>...</td>\n",
              "      <td>...</td>\n",
              "      <td>...</td>\n",
              "      <td>...</td>\n",
              "    </tr>\n",
              "    <tr>\n",
              "      <th>634</th>\n",
              "      <td>Saudi Arabia</td>\n",
              "      <td>1</td>\n",
              "      <td>GOLD EAR MUFF HEADPHONES</td>\n",
              "      <td>1</td>\n",
              "      <td>1.0</td>\n",
              "    </tr>\n",
              "    <tr>\n",
              "      <th>635</th>\n",
              "      <td>Saudi Arabia</td>\n",
              "      <td>1</td>\n",
              "      <td>HOMEMADE JAM SCENTED CANDLES</td>\n",
              "      <td>1</td>\n",
              "      <td>1.0</td>\n",
              "    </tr>\n",
              "    <tr>\n",
              "      <th>636</th>\n",
              "      <td>Saudi Arabia</td>\n",
              "      <td>1</td>\n",
              "      <td>PLASTERS IN TIN CIRCUS PARADE</td>\n",
              "      <td>1</td>\n",
              "      <td>1.0</td>\n",
              "    </tr>\n",
              "    <tr>\n",
              "      <th>637</th>\n",
              "      <td>Saudi Arabia</td>\n",
              "      <td>1</td>\n",
              "      <td>PLASTERS IN TIN SKULLS</td>\n",
              "      <td>1</td>\n",
              "      <td>1.0</td>\n",
              "    </tr>\n",
              "    <tr>\n",
              "      <th>638</th>\n",
              "      <td>Saudi Arabia</td>\n",
              "      <td>1</td>\n",
              "      <td>PLASTERS IN TIN STRONGMAN</td>\n",
              "      <td>1</td>\n",
              "      <td>1.0</td>\n",
              "    </tr>\n",
              "  </tbody>\n",
              "</table>\n",
              "<p>639 rows × 5 columns</p>\n",
              "</div>"
            ],
            "text/plain": [
              "            Country  InvoiceNo_x                         Description  \\\n",
              "0    United Kingdom        15993  WHITE HANGING HEART T-LIGHT HOLDER   \n",
              "1    United Kingdom        15993             JUMBO BAG RED RETROSPOT   \n",
              "2    United Kingdom        15993            REGENCY CAKESTAND 3 TIER   \n",
              "3    United Kingdom        15993                       PARTY BUNTING   \n",
              "4    United Kingdom        15993       ASSORTED COLOUR BIRD ORNAMENT   \n",
              "..              ...          ...                                 ...   \n",
              "634    Saudi Arabia            1            GOLD EAR MUFF HEADPHONES   \n",
              "635    Saudi Arabia            1        HOMEMADE JAM SCENTED CANDLES   \n",
              "636    Saudi Arabia            1      PLASTERS IN TIN CIRCUS PARADE    \n",
              "637    Saudi Arabia            1              PLASTERS IN TIN SKULLS   \n",
              "638    Saudi Arabia            1           PLASTERS IN TIN STRONGMAN   \n",
              "\n",
              "     InvoiceNo_y   rk  \n",
              "0           1942  1.0  \n",
              "1           1625  2.0  \n",
              "2           1493  3.0  \n",
              "3           1398  4.0  \n",
              "4           1282  5.0  \n",
              "..           ...  ...  \n",
              "634            1  1.0  \n",
              "635            1  1.0  \n",
              "636            1  1.0  \n",
              "637            1  1.0  \n",
              "638            1  1.0  \n",
              "\n",
              "[639 rows x 5 columns]"
            ]
          },
          "execution_count": 284,
          "metadata": {},
          "output_type": "execute_result"
        }
      ],
      "source": [
        "pd.merge(invoce_product_cnt, t22, how = 'inner', on = 'Country')"
      ]
    },
    {
      "cell_type": "markdown",
      "metadata": {
        "id": "KgejtiQp0_Rh"
      },
      "source": [
        "-----------------------------------------------------------------------------------------------"
      ]
    },
    {
      "cell_type": "markdown",
      "metadata": {
        "id": "LzIE6rR20_Rh"
      },
      "source": [
        "# 데이터 변환 및 데이터 탐색"
      ]
    },
    {
      "cell_type": "markdown",
      "metadata": {
        "id": "PaxwgM8M0_Rh"
      },
      "source": [
        "### 연관성 분석용 matrix생성\n",
        ": 상품별 구매여부 형태로 만들기  \n",
        "-  연관성분석(장바구니 분석)시 transactionEncoder 패키지 많이 사용  \n",
        "- invoiceno별 상품리스트 만들기"
      ]
    },
    {
      "cell_type": "code",
      "execution_count": null,
      "metadata": {
        "id": "x4m3zC9z0_Ri"
      },
      "outputs": [],
      "source": [
        "pur_by_tran = pur_outlier_treat[['InvoiceNo', 'Description']]"
      ]
    },
    {
      "cell_type": "code",
      "execution_count": null,
      "metadata": {
        "id": "AaiYth300_Rj"
      },
      "outputs": [],
      "source": [
        "hi = pur_by_tran.groupby('InvoiceNo')['Description'].apply(lambda x : list(set(x)))"
      ]
    },
    {
      "cell_type": "code",
      "execution_count": null,
      "metadata": {
        "id": "p_88Au0h0_Rj"
      },
      "outputs": [],
      "source": [
        "purchcse_list = hi.values"
      ]
    },
    {
      "cell_type": "code",
      "execution_count": null,
      "metadata": {
        "id": "UAdk5sr10_Rk"
      },
      "outputs": [],
      "source": [
        "te = TransactionEncoder()"
      ]
    },
    {
      "cell_type": "code",
      "execution_count": null,
      "metadata": {
        "id": "L59uG1Kq0_Rk"
      },
      "outputs": [],
      "source": [
        "te_ary = te.fit(purchcse_list).transform(purchcse_list)"
      ]
    },
    {
      "cell_type": "code",
      "execution_count": null,
      "metadata": {
        "id": "_DEqI-NC0_Rl"
      },
      "outputs": [],
      "source": [
        "df = pd.DataFrame(te_ary, columns=te.columns_)"
      ]
    },
    {
      "cell_type": "code",
      "execution_count": null,
      "metadata": {
        "id": "SHOfELwF0_Rm",
        "outputId": "366e9d72-7f56-4afb-b013-e1b2f113ffb1"
      },
      "outputs": [
        {
          "data": {
            "text/html": [
              "<div>\n",
              "<style scoped>\n",
              "    .dataframe tbody tr th:only-of-type {\n",
              "        vertical-align: middle;\n",
              "    }\n",
              "\n",
              "    .dataframe tbody tr th {\n",
              "        vertical-align: top;\n",
              "    }\n",
              "\n",
              "    .dataframe thead th {\n",
              "        text-align: right;\n",
              "    }\n",
              "</style>\n",
              "<table border=\"1\" class=\"dataframe\">\n",
              "  <thead>\n",
              "    <tr style=\"text-align: right;\">\n",
              "      <th></th>\n",
              "      <th>4 PURPLE FLOCK DINNER CANDLES</th>\n",
              "      <th>50'S CHRISTMAS GIFT BAG LARGE</th>\n",
              "      <th>DOLLY GIRL BEAKER</th>\n",
              "      <th>I LOVE LONDON MINI BACKPACK</th>\n",
              "      <th>I LOVE LONDON MINI RUCKSACK</th>\n",
              "      <th>NINE DRAWER OFFICE TIDY</th>\n",
              "      <th>OVAL WALL MIRROR DIAMANTE</th>\n",
              "      <th>RED SPOT GIFT BAG LARGE</th>\n",
              "      <th>SET 2 TEA TOWELS I LOVE LONDON</th>\n",
              "      <th>SPACEBOY BABY GIFT SET</th>\n",
              "      <th>...</th>\n",
              "      <th>ZINC STAR T-LIGHT HOLDER</th>\n",
              "      <th>ZINC SWEETHEART SOAP DISH</th>\n",
              "      <th>ZINC SWEETHEART WIRE LETTER RACK</th>\n",
              "      <th>ZINC T-LIGHT HOLDER STAR LARGE</th>\n",
              "      <th>ZINC T-LIGHT HOLDER STARS LARGE</th>\n",
              "      <th>ZINC T-LIGHT HOLDER STARS SMALL</th>\n",
              "      <th>ZINC TOP  2 DOOR WOODEN SHELF</th>\n",
              "      <th>ZINC WILLIE WINKIE  CANDLE STICK</th>\n",
              "      <th>ZINC WIRE KITCHEN ORGANISER</th>\n",
              "      <th>ZINC WIRE SWEETHEART LETTER TRAY</th>\n",
              "    </tr>\n",
              "  </thead>\n",
              "  <tbody>\n",
              "    <tr>\n",
              "      <th>0</th>\n",
              "      <td>False</td>\n",
              "      <td>False</td>\n",
              "      <td>False</td>\n",
              "      <td>False</td>\n",
              "      <td>False</td>\n",
              "      <td>False</td>\n",
              "      <td>False</td>\n",
              "      <td>False</td>\n",
              "      <td>False</td>\n",
              "      <td>False</td>\n",
              "      <td>...</td>\n",
              "      <td>False</td>\n",
              "      <td>False</td>\n",
              "      <td>False</td>\n",
              "      <td>False</td>\n",
              "      <td>False</td>\n",
              "      <td>False</td>\n",
              "      <td>False</td>\n",
              "      <td>False</td>\n",
              "      <td>False</td>\n",
              "      <td>False</td>\n",
              "    </tr>\n",
              "    <tr>\n",
              "      <th>1</th>\n",
              "      <td>False</td>\n",
              "      <td>False</td>\n",
              "      <td>False</td>\n",
              "      <td>False</td>\n",
              "      <td>False</td>\n",
              "      <td>False</td>\n",
              "      <td>False</td>\n",
              "      <td>False</td>\n",
              "      <td>False</td>\n",
              "      <td>False</td>\n",
              "      <td>...</td>\n",
              "      <td>False</td>\n",
              "      <td>False</td>\n",
              "      <td>False</td>\n",
              "      <td>False</td>\n",
              "      <td>False</td>\n",
              "      <td>False</td>\n",
              "      <td>False</td>\n",
              "      <td>False</td>\n",
              "      <td>False</td>\n",
              "      <td>False</td>\n",
              "    </tr>\n",
              "    <tr>\n",
              "      <th>2</th>\n",
              "      <td>False</td>\n",
              "      <td>False</td>\n",
              "      <td>False</td>\n",
              "      <td>False</td>\n",
              "      <td>False</td>\n",
              "      <td>False</td>\n",
              "      <td>False</td>\n",
              "      <td>False</td>\n",
              "      <td>False</td>\n",
              "      <td>False</td>\n",
              "      <td>...</td>\n",
              "      <td>False</td>\n",
              "      <td>False</td>\n",
              "      <td>False</td>\n",
              "      <td>False</td>\n",
              "      <td>False</td>\n",
              "      <td>False</td>\n",
              "      <td>False</td>\n",
              "      <td>False</td>\n",
              "      <td>False</td>\n",
              "      <td>False</td>\n",
              "    </tr>\n",
              "    <tr>\n",
              "      <th>3</th>\n",
              "      <td>False</td>\n",
              "      <td>False</td>\n",
              "      <td>False</td>\n",
              "      <td>False</td>\n",
              "      <td>False</td>\n",
              "      <td>False</td>\n",
              "      <td>False</td>\n",
              "      <td>False</td>\n",
              "      <td>False</td>\n",
              "      <td>False</td>\n",
              "      <td>...</td>\n",
              "      <td>False</td>\n",
              "      <td>False</td>\n",
              "      <td>False</td>\n",
              "      <td>False</td>\n",
              "      <td>False</td>\n",
              "      <td>False</td>\n",
              "      <td>False</td>\n",
              "      <td>False</td>\n",
              "      <td>False</td>\n",
              "      <td>False</td>\n",
              "    </tr>\n",
              "    <tr>\n",
              "      <th>4</th>\n",
              "      <td>False</td>\n",
              "      <td>False</td>\n",
              "      <td>False</td>\n",
              "      <td>False</td>\n",
              "      <td>False</td>\n",
              "      <td>False</td>\n",
              "      <td>False</td>\n",
              "      <td>False</td>\n",
              "      <td>True</td>\n",
              "      <td>False</td>\n",
              "      <td>...</td>\n",
              "      <td>False</td>\n",
              "      <td>False</td>\n",
              "      <td>False</td>\n",
              "      <td>False</td>\n",
              "      <td>False</td>\n",
              "      <td>False</td>\n",
              "      <td>False</td>\n",
              "      <td>False</td>\n",
              "      <td>False</td>\n",
              "      <td>False</td>\n",
              "    </tr>\n",
              "    <tr>\n",
              "      <th>...</th>\n",
              "      <td>...</td>\n",
              "      <td>...</td>\n",
              "      <td>...</td>\n",
              "      <td>...</td>\n",
              "      <td>...</td>\n",
              "      <td>...</td>\n",
              "      <td>...</td>\n",
              "      <td>...</td>\n",
              "      <td>...</td>\n",
              "      <td>...</td>\n",
              "      <td>...</td>\n",
              "      <td>...</td>\n",
              "      <td>...</td>\n",
              "      <td>...</td>\n",
              "      <td>...</td>\n",
              "      <td>...</td>\n",
              "      <td>...</td>\n",
              "      <td>...</td>\n",
              "      <td>...</td>\n",
              "      <td>...</td>\n",
              "      <td>...</td>\n",
              "    </tr>\n",
              "    <tr>\n",
              "      <th>17778</th>\n",
              "      <td>False</td>\n",
              "      <td>False</td>\n",
              "      <td>False</td>\n",
              "      <td>False</td>\n",
              "      <td>False</td>\n",
              "      <td>False</td>\n",
              "      <td>False</td>\n",
              "      <td>False</td>\n",
              "      <td>False</td>\n",
              "      <td>False</td>\n",
              "      <td>...</td>\n",
              "      <td>False</td>\n",
              "      <td>False</td>\n",
              "      <td>False</td>\n",
              "      <td>False</td>\n",
              "      <td>False</td>\n",
              "      <td>False</td>\n",
              "      <td>False</td>\n",
              "      <td>False</td>\n",
              "      <td>False</td>\n",
              "      <td>False</td>\n",
              "    </tr>\n",
              "    <tr>\n",
              "      <th>17779</th>\n",
              "      <td>False</td>\n",
              "      <td>False</td>\n",
              "      <td>False</td>\n",
              "      <td>False</td>\n",
              "      <td>False</td>\n",
              "      <td>False</td>\n",
              "      <td>False</td>\n",
              "      <td>False</td>\n",
              "      <td>False</td>\n",
              "      <td>False</td>\n",
              "      <td>...</td>\n",
              "      <td>False</td>\n",
              "      <td>False</td>\n",
              "      <td>False</td>\n",
              "      <td>False</td>\n",
              "      <td>False</td>\n",
              "      <td>False</td>\n",
              "      <td>False</td>\n",
              "      <td>False</td>\n",
              "      <td>False</td>\n",
              "      <td>False</td>\n",
              "    </tr>\n",
              "    <tr>\n",
              "      <th>17780</th>\n",
              "      <td>False</td>\n",
              "      <td>False</td>\n",
              "      <td>False</td>\n",
              "      <td>False</td>\n",
              "      <td>False</td>\n",
              "      <td>False</td>\n",
              "      <td>False</td>\n",
              "      <td>False</td>\n",
              "      <td>False</td>\n",
              "      <td>False</td>\n",
              "      <td>...</td>\n",
              "      <td>False</td>\n",
              "      <td>False</td>\n",
              "      <td>False</td>\n",
              "      <td>True</td>\n",
              "      <td>False</td>\n",
              "      <td>False</td>\n",
              "      <td>False</td>\n",
              "      <td>True</td>\n",
              "      <td>False</td>\n",
              "      <td>False</td>\n",
              "    </tr>\n",
              "    <tr>\n",
              "      <th>17781</th>\n",
              "      <td>False</td>\n",
              "      <td>False</td>\n",
              "      <td>False</td>\n",
              "      <td>False</td>\n",
              "      <td>False</td>\n",
              "      <td>False</td>\n",
              "      <td>False</td>\n",
              "      <td>False</td>\n",
              "      <td>False</td>\n",
              "      <td>False</td>\n",
              "      <td>...</td>\n",
              "      <td>False</td>\n",
              "      <td>False</td>\n",
              "      <td>False</td>\n",
              "      <td>False</td>\n",
              "      <td>False</td>\n",
              "      <td>False</td>\n",
              "      <td>False</td>\n",
              "      <td>False</td>\n",
              "      <td>False</td>\n",
              "      <td>False</td>\n",
              "    </tr>\n",
              "    <tr>\n",
              "      <th>17782</th>\n",
              "      <td>False</td>\n",
              "      <td>False</td>\n",
              "      <td>False</td>\n",
              "      <td>False</td>\n",
              "      <td>False</td>\n",
              "      <td>False</td>\n",
              "      <td>False</td>\n",
              "      <td>False</td>\n",
              "      <td>False</td>\n",
              "      <td>False</td>\n",
              "      <td>...</td>\n",
              "      <td>False</td>\n",
              "      <td>False</td>\n",
              "      <td>False</td>\n",
              "      <td>False</td>\n",
              "      <td>False</td>\n",
              "      <td>False</td>\n",
              "      <td>False</td>\n",
              "      <td>False</td>\n",
              "      <td>False</td>\n",
              "      <td>False</td>\n",
              "    </tr>\n",
              "  </tbody>\n",
              "</table>\n",
              "<p>17783 rows × 3912 columns</p>\n",
              "</div>"
            ],
            "text/plain": [
              "        4 PURPLE FLOCK DINNER CANDLES   50'S CHRISTMAS GIFT BAG LARGE  \\\n",
              "0                               False                           False   \n",
              "1                               False                           False   \n",
              "2                               False                           False   \n",
              "3                               False                           False   \n",
              "4                               False                           False   \n",
              "...                               ...                             ...   \n",
              "17778                           False                           False   \n",
              "17779                           False                           False   \n",
              "17780                           False                           False   \n",
              "17781                           False                           False   \n",
              "17782                           False                           False   \n",
              "\n",
              "        DOLLY GIRL BEAKER   I LOVE LONDON MINI BACKPACK  \\\n",
              "0                   False                         False   \n",
              "1                   False                         False   \n",
              "2                   False                         False   \n",
              "3                   False                         False   \n",
              "4                   False                         False   \n",
              "...                   ...                           ...   \n",
              "17778               False                         False   \n",
              "17779               False                         False   \n",
              "17780               False                         False   \n",
              "17781               False                         False   \n",
              "17782               False                         False   \n",
              "\n",
              "        I LOVE LONDON MINI RUCKSACK   NINE DRAWER OFFICE TIDY  \\\n",
              "0                             False                     False   \n",
              "1                             False                     False   \n",
              "2                             False                     False   \n",
              "3                             False                     False   \n",
              "4                             False                     False   \n",
              "...                             ...                       ...   \n",
              "17778                         False                     False   \n",
              "17779                         False                     False   \n",
              "17780                         False                     False   \n",
              "17781                         False                     False   \n",
              "17782                         False                     False   \n",
              "\n",
              "        OVAL WALL MIRROR DIAMANTE    RED SPOT GIFT BAG LARGE  \\\n",
              "0                            False                     False   \n",
              "1                            False                     False   \n",
              "2                            False                     False   \n",
              "3                            False                     False   \n",
              "4                            False                     False   \n",
              "...                            ...                       ...   \n",
              "17778                        False                     False   \n",
              "17779                        False                     False   \n",
              "17780                        False                     False   \n",
              "17781                        False                     False   \n",
              "17782                        False                     False   \n",
              "\n",
              "        SET 2 TEA TOWELS I LOVE LONDON    SPACEBOY BABY GIFT SET  ...  \\\n",
              "0                                 False                    False  ...   \n",
              "1                                 False                    False  ...   \n",
              "2                                 False                    False  ...   \n",
              "3                                 False                    False  ...   \n",
              "4                                  True                    False  ...   \n",
              "...                                 ...                      ...  ...   \n",
              "17778                             False                    False  ...   \n",
              "17779                             False                    False  ...   \n",
              "17780                             False                    False  ...   \n",
              "17781                             False                    False  ...   \n",
              "17782                             False                    False  ...   \n",
              "\n",
              "       ZINC STAR T-LIGHT HOLDER   ZINC SWEETHEART SOAP DISH  \\\n",
              "0                          False                      False   \n",
              "1                          False                      False   \n",
              "2                          False                      False   \n",
              "3                          False                      False   \n",
              "4                          False                      False   \n",
              "...                          ...                        ...   \n",
              "17778                      False                      False   \n",
              "17779                      False                      False   \n",
              "17780                      False                      False   \n",
              "17781                      False                      False   \n",
              "17782                      False                      False   \n",
              "\n",
              "       ZINC SWEETHEART WIRE LETTER RACK  ZINC T-LIGHT HOLDER STAR LARGE  \\\n",
              "0                                 False                           False   \n",
              "1                                 False                           False   \n",
              "2                                 False                           False   \n",
              "3                                 False                           False   \n",
              "4                                 False                           False   \n",
              "...                                 ...                             ...   \n",
              "17778                             False                           False   \n",
              "17779                             False                           False   \n",
              "17780                             False                            True   \n",
              "17781                             False                           False   \n",
              "17782                             False                           False   \n",
              "\n",
              "       ZINC T-LIGHT HOLDER STARS LARGE  ZINC T-LIGHT HOLDER STARS SMALL  \\\n",
              "0                                False                            False   \n",
              "1                                False                            False   \n",
              "2                                False                            False   \n",
              "3                                False                            False   \n",
              "4                                False                            False   \n",
              "...                                ...                              ...   \n",
              "17778                            False                            False   \n",
              "17779                            False                            False   \n",
              "17780                            False                            False   \n",
              "17781                            False                            False   \n",
              "17782                            False                            False   \n",
              "\n",
              "       ZINC TOP  2 DOOR WOODEN SHELF   ZINC WILLIE WINKIE  CANDLE STICK  \\\n",
              "0                               False                             False   \n",
              "1                               False                             False   \n",
              "2                               False                             False   \n",
              "3                               False                             False   \n",
              "4                               False                             False   \n",
              "...                               ...                               ...   \n",
              "17778                           False                             False   \n",
              "17779                           False                             False   \n",
              "17780                           False                              True   \n",
              "17781                           False                             False   \n",
              "17782                           False                             False   \n",
              "\n",
              "       ZINC WIRE KITCHEN ORGANISER  ZINC WIRE SWEETHEART LETTER TRAY  \n",
              "0                            False                             False  \n",
              "1                            False                             False  \n",
              "2                            False                             False  \n",
              "3                            False                             False  \n",
              "4                            False                             False  \n",
              "...                            ...                               ...  \n",
              "17778                        False                             False  \n",
              "17779                        False                             False  \n",
              "17780                        False                             False  \n",
              "17781                        False                             False  \n",
              "17782                        False                             False  \n",
              "\n",
              "[17783 rows x 3912 columns]"
            ]
          },
          "execution_count": 344,
          "metadata": {},
          "output_type": "execute_result"
        }
      ],
      "source": [
        "df # 대부분의; 셀이 0인 희소행렬(sparse matrix)"
      ]
    },
    {
      "cell_type": "markdown",
      "metadata": {
        "id": "ZXpimPoA0_Rm"
      },
      "source": [
        "### EDA"
      ]
    },
    {
      "cell_type": "code",
      "execution_count": null,
      "metadata": {
        "scrolled": true,
        "id": "0z6aA6VK0_Rn",
        "outputId": "0a39aacc-6528-463d-a4a6-e8477f85ca38"
      },
      "outputs": [
        {
          "data": {
            "text/plain": [
              "<AxesSubplot:>"
            ]
          },
          "execution_count": 342,
          "metadata": {},
          "output_type": "execute_result"
        },
        {
          "data": {
            "image/png": "[encoded data removed]",
            "text/plain": [
              "<Figure size 432x288 with 1 Axes>"
            ]
          },
          "metadata": {
            "needs_background": "light"
          },
          "output_type": "display_data"
        }
      ],
      "source": [
        "pur_outlier_treat['Description'].value_counts().head(10).plot(kind = 'bar')"
      ]
    },
    {
      "cell_type": "code",
      "execution_count": null,
      "metadata": {
        "scrolled": false,
        "id": "I9SVGdiC0_Rn",
        "outputId": "832fbd45-4096-4a26-8281-5f3d104096aa"
      },
      "outputs": [
        {
          "data": {
            "text/plain": [
              "WHITE HANGING HEART T-LIGHT HOLDER    0.004965\n",
              "REGENCY CAKESTAND 3 TIER              0.004382\n",
              "JUMBO BAG RED RETROSPOT               0.004323\n",
              "PARTY BUNTING                         0.003637\n",
              "LUNCH BAG RED RETROSPOT               0.003437\n",
              "ASSORTED COLOUR BIRD ORNAMENT         0.003310\n",
              "LUNCH BAG  BLACK SKULL.               0.002900\n",
              "SET OF 3 CAKE TINS PANTRY DESIGN      0.002893\n",
              "PACK OF 72 RETROSPOT CAKE CASES       0.002641\n",
              "LUNCH BAG SPACEBOY DESIGN             0.002609\n",
              "Name: Description, dtype: float64"
            ]
          },
          "execution_count": 343,
          "metadata": {},
          "output_type": "execute_result"
        }
      ],
      "source": [
        "pur_outlier_treat['Description'].value_counts(1).head(10)"
      ]
    },
    {
      "cell_type": "code",
      "execution_count": null,
      "metadata": {
        "id": "RF9l_8Zb0_Rn",
        "outputId": "000d8bcb-9edd-4a18-b1c1-238789ca81e5"
      },
      "outputs": [
        {
          "data": {
            "text/plain": [
              "WHITE HANGING HEART T-LIGHT HOLDER    2034\n",
              "REGENCY CAKESTAND 3 TIER              1795\n",
              "JUMBO BAG RED RETROSPOT               1771\n",
              "PARTY BUNTING                         1490\n",
              "LUNCH BAG RED RETROSPOT               1408\n",
              "ASSORTED COLOUR BIRD ORNAMENT         1356\n",
              "LUNCH BAG  BLACK SKULL.               1188\n",
              "SET OF 3 CAKE TINS PANTRY DESIGN      1185\n",
              "PACK OF 72 RETROSPOT CAKE CASES       1082\n",
              "LUNCH BAG SPACEBOY DESIGN             1069\n",
              "Name: Description, dtype: int64"
            ]
          },
          "execution_count": 352,
          "metadata": {},
          "output_type": "execute_result"
        }
      ],
      "source": [
        "pur_outlier_treat['Description'].value_counts(0).head(10)"
      ]
    },
    {
      "cell_type": "markdown",
      "metadata": {
        "id": "EiB3RMfM0_Ro"
      },
      "source": [
        "# 모델링\n",
        "### 연관성 모델 생성\n",
        "- 장바구니 분석(컨텐츠 기반 추천(contents-based recommendation))\n",
        "-  apriori, fpgrowth  \n"
      ]
    },
    {
      "cell_type": "code",
      "execution_count": null,
      "metadata": {
        "scrolled": true,
        "id": "BiITqxgL0_Rp",
        "outputId": "acd64d50-4e2b-4a9c-8843-38df816901f2"
      },
      "outputs": [
        {
          "data": {
            "text/plain": [
              "0.11111735927571276"
            ]
          },
          "execution_count": 350,
          "metadata": {},
          "output_type": "execute_result"
        }
      ],
      "source": [
        "df['WHITE HANGING HEART T-LIGHT HOLDER'].mean()"
      ]
    },
    {
      "cell_type": "code",
      "execution_count": null,
      "metadata": {
        "id": "e-JYs1me0_Rq"
      },
      "outputs": [],
      "source": [
        "freq_itemsets1 = fpgrowth(df, min_support = 0.01, max_len = 3, use_colnames = True)\n",
        "## 지지도 설정은 룰 확인해보면서, 탐색적으로 설정! 보통 0.01~0.05"
      ]
    },
    {
      "cell_type": "code",
      "execution_count": null,
      "metadata": {
        "scrolled": true,
        "id": "kUBQLFSM0_Rq",
        "outputId": "0efc7f86-8bfb-4313-e8a6-98904dab0359"
      },
      "outputs": [
        {
          "data": {
            "text/html": [
              "<div>\n",
              "<style scoped>\n",
              "    .dataframe tbody tr th:only-of-type {\n",
              "        vertical-align: middle;\n",
              "    }\n",
              "\n",
              "    .dataframe tbody tr th {\n",
              "        vertical-align: top;\n",
              "    }\n",
              "\n",
              "    .dataframe thead th {\n",
              "        text-align: right;\n",
              "    }\n",
              "</style>\n",
              "<table border=\"1\" class=\"dataframe\">\n",
              "  <thead>\n",
              "    <tr style=\"text-align: right;\">\n",
              "      <th></th>\n",
              "      <th>support</th>\n",
              "      <th>itemsets</th>\n",
              "    </tr>\n",
              "  </thead>\n",
              "  <tbody>\n",
              "    <tr>\n",
              "      <th>0</th>\n",
              "      <td>0.111117</td>\n",
              "      <td>(WHITE HANGING HEART T-LIGHT HOLDER)</td>\n",
              "    </tr>\n",
              "    <tr>\n",
              "      <th>1</th>\n",
              "      <td>0.021762</td>\n",
              "      <td>(KNITTED UNION FLAG HOT WATER BOTTLE)</td>\n",
              "    </tr>\n",
              "    <tr>\n",
              "      <th>2</th>\n",
              "      <td>0.020975</td>\n",
              "      <td>(RED WOOLLY HOTTIE WHITE HEART.)</td>\n",
              "    </tr>\n",
              "    <tr>\n",
              "      <th>3</th>\n",
              "      <td>0.017320</td>\n",
              "      <td>(SET 7 BABUSHKA NESTING BOXES)</td>\n",
              "    </tr>\n",
              "    <tr>\n",
              "      <th>4</th>\n",
              "      <td>0.014058</td>\n",
              "      <td>(WHITE METAL LANTERN)</td>\n",
              "    </tr>\n",
              "    <tr>\n",
              "      <th>...</th>\n",
              "      <td>...</td>\n",
              "      <td>...</td>\n",
              "    </tr>\n",
              "    <tr>\n",
              "      <th>1196</th>\n",
              "      <td>0.010178</td>\n",
              "      <td>(LUNCH BAG SPACEBOY DESIGN , LUNCH BAG VINTAGE...</td>\n",
              "    </tr>\n",
              "    <tr>\n",
              "      <th>1197</th>\n",
              "      <td>0.010178</td>\n",
              "      <td>(LUNCH BAG VINTAGE DOILY , LUNCH BAG APPLE DES...</td>\n",
              "    </tr>\n",
              "    <tr>\n",
              "      <th>1198</th>\n",
              "      <td>0.012146</td>\n",
              "      <td>(HOT WATER BOTTLE KEEP CALM, LOVE HOT WATER BO...</td>\n",
              "    </tr>\n",
              "    <tr>\n",
              "      <th>1199</th>\n",
              "      <td>0.014058</td>\n",
              "      <td>(HOT WATER BOTTLE KEEP CALM, CHOCOLATE HOT WAT...</td>\n",
              "    </tr>\n",
              "    <tr>\n",
              "      <th>1200</th>\n",
              "      <td>0.011190</td>\n",
              "      <td>(HAND WARMER RED LOVE HEART, HAND WARMER OWL D...</td>\n",
              "    </tr>\n",
              "  </tbody>\n",
              "</table>\n",
              "<p>1201 rows × 2 columns</p>\n",
              "</div>"
            ],
            "text/plain": [
              "       support                                           itemsets\n",
              "0     0.111117               (WHITE HANGING HEART T-LIGHT HOLDER)\n",
              "1     0.021762              (KNITTED UNION FLAG HOT WATER BOTTLE)\n",
              "2     0.020975                   (RED WOOLLY HOTTIE WHITE HEART.)\n",
              "3     0.017320                     (SET 7 BABUSHKA NESTING BOXES)\n",
              "4     0.014058                              (WHITE METAL LANTERN)\n",
              "...        ...                                                ...\n",
              "1196  0.010178  (LUNCH BAG SPACEBOY DESIGN , LUNCH BAG VINTAGE...\n",
              "1197  0.010178  (LUNCH BAG VINTAGE DOILY , LUNCH BAG APPLE DES...\n",
              "1198  0.012146  (HOT WATER BOTTLE KEEP CALM, LOVE HOT WATER BO...\n",
              "1199  0.014058  (HOT WATER BOTTLE KEEP CALM, CHOCOLATE HOT WAT...\n",
              "1200  0.011190  (HAND WARMER RED LOVE HEART, HAND WARMER OWL D...\n",
              "\n",
              "[1201 rows x 2 columns]"
            ]
          },
          "execution_count": 346,
          "metadata": {},
          "output_type": "execute_result"
        }
      ],
      "source": [
        "freq_itemsets1"
      ]
    },
    {
      "cell_type": "code",
      "execution_count": null,
      "metadata": {
        "id": "UuZ81CHP0_Rq"
      },
      "outputs": [],
      "source": [
        "rules_conf_20 = association_rules(freq_itemsets1, metric = 'confidence', min_threshold= 0.5)\n",
        "# confidence 해석 : 1이라면, A를 산사람이면 무조건 B도 같이 산다는 의미"
      ]
    },
    {
      "cell_type": "code",
      "execution_count": null,
      "metadata": {
        "scrolled": true,
        "id": "77uOnzBP0_Rr",
        "outputId": "3b8153f9-dd6c-44b4-87a4-4fd25b2c6b17"
      },
      "outputs": [
        {
          "data": {
            "text/html": [
              "<div>\n",
              "<style scoped>\n",
              "    .dataframe tbody tr th:only-of-type {\n",
              "        vertical-align: middle;\n",
              "    }\n",
              "\n",
              "    .dataframe tbody tr th {\n",
              "        vertical-align: top;\n",
              "    }\n",
              "\n",
              "    .dataframe thead th {\n",
              "        text-align: right;\n",
              "    }\n",
              "</style>\n",
              "<table border=\"1\" class=\"dataframe\">\n",
              "  <thead>\n",
              "    <tr style=\"text-align: right;\">\n",
              "      <th></th>\n",
              "      <th>antecedents</th>\n",
              "      <th>consequents</th>\n",
              "      <th>antecedent support</th>\n",
              "      <th>consequent support</th>\n",
              "      <th>support</th>\n",
              "      <th>confidence</th>\n",
              "      <th>lift</th>\n",
              "      <th>leverage</th>\n",
              "      <th>conviction</th>\n",
              "    </tr>\n",
              "  </thead>\n",
              "  <tbody>\n",
              "    <tr>\n",
              "      <th>434</th>\n",
              "      <td>(REGENCY TEA PLATE PINK)</td>\n",
              "      <td>(REGENCY TEA PLATE GREEN , REGENCY TEA PLATE R...</td>\n",
              "      <td>0.012540</td>\n",
              "      <td>0.012540</td>\n",
              "      <td>0.010291</td>\n",
              "      <td>0.820628</td>\n",
              "      <td>65.440467</td>\n",
              "      <td>0.010133</td>\n",
              "      <td>5.505089</td>\n",
              "    </tr>\n",
              "    <tr>\n",
              "      <th>433</th>\n",
              "      <td>(REGENCY TEA PLATE GREEN , REGENCY TEA PLATE R...</td>\n",
              "      <td>(REGENCY TEA PLATE PINK)</td>\n",
              "      <td>0.012540</td>\n",
              "      <td>0.012540</td>\n",
              "      <td>0.010291</td>\n",
              "      <td>0.820628</td>\n",
              "      <td>65.440467</td>\n",
              "      <td>0.010133</td>\n",
              "      <td>5.505089</td>\n",
              "    </tr>\n",
              "    <tr>\n",
              "      <th>432</th>\n",
              "      <td>(REGENCY TEA PLATE PINK, REGENCY TEA PLATE ROS...</td>\n",
              "      <td>(REGENCY TEA PLATE GREEN )</td>\n",
              "      <td>0.010966</td>\n",
              "      <td>0.015014</td>\n",
              "      <td>0.010291</td>\n",
              "      <td>0.938462</td>\n",
              "      <td>62.504350</td>\n",
              "      <td>0.010126</td>\n",
              "      <td>16.006017</td>\n",
              "    </tr>\n",
              "    <tr>\n",
              "      <th>435</th>\n",
              "      <td>(REGENCY TEA PLATE GREEN )</td>\n",
              "      <td>(REGENCY TEA PLATE PINK, REGENCY TEA PLATE ROS...</td>\n",
              "      <td>0.015014</td>\n",
              "      <td>0.010966</td>\n",
              "      <td>0.010291</td>\n",
              "      <td>0.685393</td>\n",
              "      <td>62.504350</td>\n",
              "      <td>0.010126</td>\n",
              "      <td>3.143717</td>\n",
              "    </tr>\n",
              "    <tr>\n",
              "      <th>427</th>\n",
              "      <td>(REGENCY TEA PLATE PINK)</td>\n",
              "      <td>(REGENCY TEA PLATE GREEN )</td>\n",
              "      <td>0.012540</td>\n",
              "      <td>0.015014</td>\n",
              "      <td>0.011247</td>\n",
              "      <td>0.896861</td>\n",
              "      <td>59.733629</td>\n",
              "      <td>0.011058</td>\n",
              "      <td>9.550078</td>\n",
              "    </tr>\n",
              "    <tr>\n",
              "      <th>428</th>\n",
              "      <td>(REGENCY TEA PLATE GREEN )</td>\n",
              "      <td>(REGENCY TEA PLATE PINK)</td>\n",
              "      <td>0.015014</td>\n",
              "      <td>0.012540</td>\n",
              "      <td>0.011247</td>\n",
              "      <td>0.749064</td>\n",
              "      <td>59.733629</td>\n",
              "      <td>0.011058</td>\n",
              "      <td>3.935102</td>\n",
              "    </tr>\n",
              "    <tr>\n",
              "      <th>436</th>\n",
              "      <td>(REGENCY TEA PLATE ROSES )</td>\n",
              "      <td>(REGENCY TEA PLATE PINK, REGENCY TEA PLATE GRE...</td>\n",
              "      <td>0.018051</td>\n",
              "      <td>0.011247</td>\n",
              "      <td>0.010291</td>\n",
              "      <td>0.570093</td>\n",
              "      <td>50.689860</td>\n",
              "      <td>0.010088</td>\n",
              "      <td>2.299926</td>\n",
              "    </tr>\n",
              "    <tr>\n",
              "      <th>431</th>\n",
              "      <td>(REGENCY TEA PLATE PINK, REGENCY TEA PLATE GRE...</td>\n",
              "      <td>(REGENCY TEA PLATE ROSES )</td>\n",
              "      <td>0.011247</td>\n",
              "      <td>0.018051</td>\n",
              "      <td>0.010291</td>\n",
              "      <td>0.915000</td>\n",
              "      <td>50.689860</td>\n",
              "      <td>0.010088</td>\n",
              "      <td>11.552342</td>\n",
              "    </tr>\n",
              "    <tr>\n",
              "      <th>423</th>\n",
              "      <td>(REGENCY SUGAR BOWL GREEN)</td>\n",
              "      <td>(REGENCY MILK JUG PINK )</td>\n",
              "      <td>0.014958</td>\n",
              "      <td>0.015296</td>\n",
              "      <td>0.011584</td>\n",
              "      <td>0.774436</td>\n",
              "      <td>50.631607</td>\n",
              "      <td>0.011355</td>\n",
              "      <td>4.365523</td>\n",
              "    </tr>\n",
              "    <tr>\n",
              "      <th>424</th>\n",
              "      <td>(REGENCY MILK JUG PINK )</td>\n",
              "      <td>(REGENCY SUGAR BOWL GREEN)</td>\n",
              "      <td>0.015296</td>\n",
              "      <td>0.014958</td>\n",
              "      <td>0.011584</td>\n",
              "      <td>0.757353</td>\n",
              "      <td>50.631607</td>\n",
              "      <td>0.011355</td>\n",
              "      <td>4.059567</td>\n",
              "    </tr>\n",
              "  </tbody>\n",
              "</table>\n",
              "</div>"
            ],
            "text/plain": [
              "                                           antecedents  \\\n",
              "434                           (REGENCY TEA PLATE PINK)   \n",
              "433  (REGENCY TEA PLATE GREEN , REGENCY TEA PLATE R...   \n",
              "432  (REGENCY TEA PLATE PINK, REGENCY TEA PLATE ROS...   \n",
              "435                         (REGENCY TEA PLATE GREEN )   \n",
              "427                           (REGENCY TEA PLATE PINK)   \n",
              "428                         (REGENCY TEA PLATE GREEN )   \n",
              "436                         (REGENCY TEA PLATE ROSES )   \n",
              "431  (REGENCY TEA PLATE PINK, REGENCY TEA PLATE GRE...   \n",
              "423                         (REGENCY SUGAR BOWL GREEN)   \n",
              "424                           (REGENCY MILK JUG PINK )   \n",
              "\n",
              "                                           consequents  antecedent support  \\\n",
              "434  (REGENCY TEA PLATE GREEN , REGENCY TEA PLATE R...            0.012540   \n",
              "433                           (REGENCY TEA PLATE PINK)            0.012540   \n",
              "432                         (REGENCY TEA PLATE GREEN )            0.010966   \n",
              "435  (REGENCY TEA PLATE PINK, REGENCY TEA PLATE ROS...            0.015014   \n",
              "427                         (REGENCY TEA PLATE GREEN )            0.012540   \n",
              "428                           (REGENCY TEA PLATE PINK)            0.015014   \n",
              "436  (REGENCY TEA PLATE PINK, REGENCY TEA PLATE GRE...            0.018051   \n",
              "431                         (REGENCY TEA PLATE ROSES )            0.011247   \n",
              "423                           (REGENCY MILK JUG PINK )            0.014958   \n",
              "424                         (REGENCY SUGAR BOWL GREEN)            0.015296   \n",
              "\n",
              "     consequent support   support  confidence       lift  leverage  conviction  \n",
              "434            0.012540  0.010291    0.820628  65.440467  0.010133    5.505089  \n",
              "433            0.012540  0.010291    0.820628  65.440467  0.010133    5.505089  \n",
              "432            0.015014  0.010291    0.938462  62.504350  0.010126   16.006017  \n",
              "435            0.010966  0.010291    0.685393  62.504350  0.010126    3.143717  \n",
              "427            0.015014  0.011247    0.896861  59.733629  0.011058    9.550078  \n",
              "428            0.012540  0.011247    0.749064  59.733629  0.011058    3.935102  \n",
              "436            0.011247  0.010291    0.570093  50.689860  0.010088    2.299926  \n",
              "431            0.018051  0.010291    0.915000  50.689860  0.010088   11.552342  \n",
              "423            0.015296  0.011584    0.774436  50.631607  0.011355    4.365523  \n",
              "424            0.014958  0.011584    0.757353  50.631607  0.011355    4.059567  "
            ]
          },
          "execution_count": 364,
          "metadata": {},
          "output_type": "execute_result"
        }
      ],
      "source": [
        "rules_conf_20.sort_values(by='lift', ascending = False).head(10)"
      ]
    },
    {
      "cell_type": "code",
      "execution_count": null,
      "metadata": {
        "id": "KYZjg7bD0_Rr"
      },
      "outputs": [],
      "source": [
        "freq_itemsets2 = fpgrowth(df, min_support = 0.01, max_len = 2, use_colnames = True)"
      ]
    },
    {
      "cell_type": "code",
      "execution_count": null,
      "metadata": {
        "id": "nJtoNOXO0_Rr"
      },
      "outputs": [],
      "source": [
        "rules_conf_2 = association_rules(freq_itemsets2, metric = 'confidence', min_threshold= 0.5)"
      ]
    },
    {
      "cell_type": "code",
      "execution_count": null,
      "metadata": {
        "id": "3tsmwHiq0_Rs",
        "outputId": "581cb79c-4405-4bd1-f236-d810afb2b835"
      },
      "outputs": [
        {
          "data": {
            "text/html": [
              "<div>\n",
              "<style scoped>\n",
              "    .dataframe tbody tr th:only-of-type {\n",
              "        vertical-align: middle;\n",
              "    }\n",
              "\n",
              "    .dataframe tbody tr th {\n",
              "        vertical-align: top;\n",
              "    }\n",
              "\n",
              "    .dataframe thead th {\n",
              "        text-align: right;\n",
              "    }\n",
              "</style>\n",
              "<table border=\"1\" class=\"dataframe\">\n",
              "  <thead>\n",
              "    <tr style=\"text-align: right;\">\n",
              "      <th></th>\n",
              "      <th>antecedents</th>\n",
              "      <th>consequents</th>\n",
              "      <th>antecedent support</th>\n",
              "      <th>consequent support</th>\n",
              "      <th>support</th>\n",
              "      <th>confidence</th>\n",
              "      <th>lift</th>\n",
              "      <th>leverage</th>\n",
              "      <th>conviction</th>\n",
              "    </tr>\n",
              "  </thead>\n",
              "  <tbody>\n",
              "    <tr>\n",
              "      <th>162</th>\n",
              "      <td>(REGENCY TEA PLATE GREEN )</td>\n",
              "      <td>(REGENCY TEA PLATE PINK)</td>\n",
              "      <td>0.015014</td>\n",
              "      <td>0.012540</td>\n",
              "      <td>0.011247</td>\n",
              "      <td>0.749064</td>\n",
              "      <td>59.733629</td>\n",
              "      <td>0.011058</td>\n",
              "      <td>3.935102</td>\n",
              "    </tr>\n",
              "    <tr>\n",
              "      <th>161</th>\n",
              "      <td>(REGENCY TEA PLATE PINK)</td>\n",
              "      <td>(REGENCY TEA PLATE GREEN )</td>\n",
              "      <td>0.012540</td>\n",
              "      <td>0.015014</td>\n",
              "      <td>0.011247</td>\n",
              "      <td>0.896861</td>\n",
              "      <td>59.733629</td>\n",
              "      <td>0.011058</td>\n",
              "      <td>9.550078</td>\n",
              "    </tr>\n",
              "    <tr>\n",
              "      <th>157</th>\n",
              "      <td>(REGENCY SUGAR BOWL GREEN)</td>\n",
              "      <td>(REGENCY MILK JUG PINK )</td>\n",
              "      <td>0.014958</td>\n",
              "      <td>0.015296</td>\n",
              "      <td>0.011584</td>\n",
              "      <td>0.774436</td>\n",
              "      <td>50.631607</td>\n",
              "      <td>0.011355</td>\n",
              "      <td>4.365523</td>\n",
              "    </tr>\n",
              "    <tr>\n",
              "      <th>158</th>\n",
              "      <td>(REGENCY MILK JUG PINK )</td>\n",
              "      <td>(REGENCY SUGAR BOWL GREEN)</td>\n",
              "      <td>0.015296</td>\n",
              "      <td>0.014958</td>\n",
              "      <td>0.011584</td>\n",
              "      <td>0.757353</td>\n",
              "      <td>50.631607</td>\n",
              "      <td>0.011355</td>\n",
              "      <td>4.059567</td>\n",
              "    </tr>\n",
              "    <tr>\n",
              "      <th>164</th>\n",
              "      <td>(REGENCY TEA PLATE ROSES )</td>\n",
              "      <td>(REGENCY TEA PLATE PINK)</td>\n",
              "      <td>0.018051</td>\n",
              "      <td>0.012540</td>\n",
              "      <td>0.010966</td>\n",
              "      <td>0.607477</td>\n",
              "      <td>48.442857</td>\n",
              "      <td>0.010739</td>\n",
              "      <td>2.515672</td>\n",
              "    </tr>\n",
              "    <tr>\n",
              "      <th>163</th>\n",
              "      <td>(REGENCY TEA PLATE PINK)</td>\n",
              "      <td>(REGENCY TEA PLATE ROSES )</td>\n",
              "      <td>0.012540</td>\n",
              "      <td>0.018051</td>\n",
              "      <td>0.010966</td>\n",
              "      <td>0.874439</td>\n",
              "      <td>48.442857</td>\n",
              "      <td>0.010739</td>\n",
              "      <td>7.820523</td>\n",
              "    </tr>\n",
              "    <tr>\n",
              "      <th>156</th>\n",
              "      <td>(REGENCY TEA PLATE ROSES )</td>\n",
              "      <td>(REGENCY TEA PLATE GREEN )</td>\n",
              "      <td>0.018051</td>\n",
              "      <td>0.015014</td>\n",
              "      <td>0.012540</td>\n",
              "      <td>0.694704</td>\n",
              "      <td>46.269371</td>\n",
              "      <td>0.012269</td>\n",
              "      <td>3.226331</td>\n",
              "    </tr>\n",
              "    <tr>\n",
              "      <th>155</th>\n",
              "      <td>(REGENCY TEA PLATE GREEN )</td>\n",
              "      <td>(REGENCY TEA PLATE ROSES )</td>\n",
              "      <td>0.015014</td>\n",
              "      <td>0.018051</td>\n",
              "      <td>0.012540</td>\n",
              "      <td>0.835206</td>\n",
              "      <td>46.269371</td>\n",
              "      <td>0.012269</td>\n",
              "      <td>5.958645</td>\n",
              "    </tr>\n",
              "    <tr>\n",
              "      <th>109</th>\n",
              "      <td>(PINK  POLKADOT CUP)</td>\n",
              "      <td>(BLUE POLKADOT CUP)</td>\n",
              "      <td>0.014902</td>\n",
              "      <td>0.016027</td>\n",
              "      <td>0.010572</td>\n",
              "      <td>0.709434</td>\n",
              "      <td>44.266190</td>\n",
              "      <td>0.010333</td>\n",
              "      <td>3.386402</td>\n",
              "    </tr>\n",
              "    <tr>\n",
              "      <th>110</th>\n",
              "      <td>(BLUE POLKADOT CUP)</td>\n",
              "      <td>(PINK  POLKADOT CUP)</td>\n",
              "      <td>0.016027</td>\n",
              "      <td>0.014902</td>\n",
              "      <td>0.010572</td>\n",
              "      <td>0.659649</td>\n",
              "      <td>44.266190</td>\n",
              "      <td>0.010333</td>\n",
              "      <td>2.894360</td>\n",
              "    </tr>\n",
              "  </tbody>\n",
              "</table>\n",
              "</div>"
            ],
            "text/plain": [
              "                    antecedents                 consequents  \\\n",
              "162  (REGENCY TEA PLATE GREEN )    (REGENCY TEA PLATE PINK)   \n",
              "161    (REGENCY TEA PLATE PINK)  (REGENCY TEA PLATE GREEN )   \n",
              "157  (REGENCY SUGAR BOWL GREEN)    (REGENCY MILK JUG PINK )   \n",
              "158    (REGENCY MILK JUG PINK )  (REGENCY SUGAR BOWL GREEN)   \n",
              "164  (REGENCY TEA PLATE ROSES )    (REGENCY TEA PLATE PINK)   \n",
              "163    (REGENCY TEA PLATE PINK)  (REGENCY TEA PLATE ROSES )   \n",
              "156  (REGENCY TEA PLATE ROSES )  (REGENCY TEA PLATE GREEN )   \n",
              "155  (REGENCY TEA PLATE GREEN )  (REGENCY TEA PLATE ROSES )   \n",
              "109        (PINK  POLKADOT CUP)         (BLUE POLKADOT CUP)   \n",
              "110         (BLUE POLKADOT CUP)        (PINK  POLKADOT CUP)   \n",
              "\n",
              "     antecedent support  consequent support   support  confidence       lift  \\\n",
              "162            0.015014            0.012540  0.011247    0.749064  59.733629   \n",
              "161            0.012540            0.015014  0.011247    0.896861  59.733629   \n",
              "157            0.014958            0.015296  0.011584    0.774436  50.631607   \n",
              "158            0.015296            0.014958  0.011584    0.757353  50.631607   \n",
              "164            0.018051            0.012540  0.010966    0.607477  48.442857   \n",
              "163            0.012540            0.018051  0.010966    0.874439  48.442857   \n",
              "156            0.018051            0.015014  0.012540    0.694704  46.269371   \n",
              "155            0.015014            0.018051  0.012540    0.835206  46.269371   \n",
              "109            0.014902            0.016027  0.010572    0.709434  44.266190   \n",
              "110            0.016027            0.014902  0.010572    0.659649  44.266190   \n",
              "\n",
              "     leverage  conviction  \n",
              "162  0.011058    3.935102  \n",
              "161  0.011058    9.550078  \n",
              "157  0.011355    4.365523  \n",
              "158  0.011355    4.059567  \n",
              "164  0.010739    2.515672  \n",
              "163  0.010739    7.820523  \n",
              "156  0.012269    3.226331  \n",
              "155  0.012269    5.958645  \n",
              "109  0.010333    3.386402  \n",
              "110  0.010333    2.894360  "
            ]
          },
          "execution_count": 370,
          "metadata": {},
          "output_type": "execute_result"
        }
      ],
      "source": [
        "rules_conf_2.sort_values(by='lift', ascending = False).head(10)"
      ]
    }
  ],
  "metadata": {
    "kernelspec": {
      "display_name": "Python 3",
      "language": "python",
      "name": "python3"
    },
    "language_info": {
      "codemirror_mode": {
        "name": "ipython",
        "version": 3
      },
      "file_extension": ".py",
      "mimetype": "text/x-python",
      "name": "python",
      "nbconvert_exporter": "python",
      "pygments_lexer": "ipython3",
      "version": "3.8.3"
    },
    "colab": {
      "provenance": [],
      "include_colab_link": true
    }
  },
  "nbformat": 4,
  "nbformat_minor": 0
}