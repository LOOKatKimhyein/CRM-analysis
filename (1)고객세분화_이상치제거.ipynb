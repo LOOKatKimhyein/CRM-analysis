{
  "cells": [
    {
      "cell_type": "markdown",
      "metadata": {
        "id": "view-in-github",
        "colab_type": "text"
      },
      "source": [
        "<a href=\"https://colab.research.google.com/github/LOOKatKimhyein/CRM-analysis/blob/main/(1)%EA%B3%A0%EA%B0%9D%EC%84%B8%EB%B6%84%ED%99%94_%EC%9D%B4%EC%83%81%EC%B9%98%EC%A0%9C%EA%B1%B0.ipynb\" target=\"_parent\"><img src=\"https://colab.research.google.com/assets/colab-badge.svg\" alt=\"Open In Colab\"/></a>"
      ]
    },
    {
      "cell_type": "markdown",
      "metadata": {
        "id": "Em33IG_g8Xdz"
      },
      "source": [
        "### RFM (Recency, Frequency, Monetary)  \n",
        "- 고객별 최근 구매시기, 구매횟수, 구매금액 기준으로 고객세분화를 진행"
      ]
    },
    {
      "cell_type": "code",
      "execution_count": null,
      "metadata": {
        "id": "3hYw3CRr8Xd6"
      },
      "outputs": [],
      "source": [
        "# 분석에 필요한 library 호출 \n",
        "import numpy as np\n",
        "import pandas as pd\n",
        "import matplotlib.pyplot as plt\n",
        "import seaborn as sns\n",
        "import datetime as dt"
      ]
    },
    {
      "cell_type": "code",
      "execution_count": null,
      "metadata": {
        "id": "bLns8_gl8Xd-",
        "outputId": "756c71fc-4906-4627-9ce0-b346fcb7b9bf"
      },
      "outputs": [
        {
          "data": {
            "text/html": [
              "<div>\n",
              "<style scoped>\n",
              "    .dataframe tbody tr th:only-of-type {\n",
              "        vertical-align: middle;\n",
              "    }\n",
              "\n",
              "    .dataframe tbody tr th {\n",
              "        vertical-align: top;\n",
              "    }\n",
              "\n",
              "    .dataframe thead th {\n",
              "        text-align: right;\n",
              "    }\n",
              "</style>\n",
              "<table border=\"1\" class=\"dataframe\">\n",
              "  <thead>\n",
              "    <tr style=\"text-align: right;\">\n",
              "      <th></th>\n",
              "      <th>InvoiceNo</th>\n",
              "      <th>StockCode</th>\n",
              "      <th>Description</th>\n",
              "      <th>Quantity</th>\n",
              "      <th>InvoiceDate</th>\n",
              "      <th>UnitPrice</th>\n",
              "      <th>CustomerID</th>\n",
              "      <th>Country</th>\n",
              "    </tr>\n",
              "  </thead>\n",
              "  <tbody>\n",
              "    <tr>\n",
              "      <th>0</th>\n",
              "      <td>536365</td>\n",
              "      <td>85123A</td>\n",
              "      <td>WHITE HANGING HEART T-LIGHT HOLDER</td>\n",
              "      <td>6</td>\n",
              "      <td>12/1/2010 8:26</td>\n",
              "      <td>2.55</td>\n",
              "      <td>17850.0</td>\n",
              "      <td>United Kingdom</td>\n",
              "    </tr>\n",
              "    <tr>\n",
              "      <th>1</th>\n",
              "      <td>536365</td>\n",
              "      <td>71053</td>\n",
              "      <td>WHITE METAL LANTERN</td>\n",
              "      <td>6</td>\n",
              "      <td>12/1/2010 8:26</td>\n",
              "      <td>3.39</td>\n",
              "      <td>17850.0</td>\n",
              "      <td>United Kingdom</td>\n",
              "    </tr>\n",
              "    <tr>\n",
              "      <th>2</th>\n",
              "      <td>536365</td>\n",
              "      <td>84406B</td>\n",
              "      <td>CREAM CUPID HEARTS COAT HANGER</td>\n",
              "      <td>8</td>\n",
              "      <td>12/1/2010 8:26</td>\n",
              "      <td>2.75</td>\n",
              "      <td>17850.0</td>\n",
              "      <td>United Kingdom</td>\n",
              "    </tr>\n",
              "    <tr>\n",
              "      <th>3</th>\n",
              "      <td>536365</td>\n",
              "      <td>84029G</td>\n",
              "      <td>KNITTED UNION FLAG HOT WATER BOTTLE</td>\n",
              "      <td>6</td>\n",
              "      <td>12/1/2010 8:26</td>\n",
              "      <td>3.39</td>\n",
              "      <td>17850.0</td>\n",
              "      <td>United Kingdom</td>\n",
              "    </tr>\n",
              "    <tr>\n",
              "      <th>4</th>\n",
              "      <td>536365</td>\n",
              "      <td>84029E</td>\n",
              "      <td>RED WOOLLY HOTTIE WHITE HEART.</td>\n",
              "      <td>6</td>\n",
              "      <td>12/1/2010 8:26</td>\n",
              "      <td>3.39</td>\n",
              "      <td>17850.0</td>\n",
              "      <td>United Kingdom</td>\n",
              "    </tr>\n",
              "  </tbody>\n",
              "</table>\n",
              "</div>"
            ],
            "text/plain": [
              "  InvoiceNo StockCode                          Description  Quantity  \\\n",
              "0    536365    85123A   WHITE HANGING HEART T-LIGHT HOLDER         6   \n",
              "1    536365     71053                  WHITE METAL LANTERN         6   \n",
              "2    536365    84406B       CREAM CUPID HEARTS COAT HANGER         8   \n",
              "3    536365    84029G  KNITTED UNION FLAG HOT WATER BOTTLE         6   \n",
              "4    536365    84029E       RED WOOLLY HOTTIE WHITE HEART.         6   \n",
              "\n",
              "      InvoiceDate  UnitPrice  CustomerID         Country  \n",
              "0  12/1/2010 8:26       2.55     17850.0  United Kingdom  \n",
              "1  12/1/2010 8:26       3.39     17850.0  United Kingdom  \n",
              "2  12/1/2010 8:26       2.75     17850.0  United Kingdom  \n",
              "3  12/1/2010 8:26       3.39     17850.0  United Kingdom  \n",
              "4  12/1/2010 8:26       3.39     17850.0  United Kingdom  "
            ]
          },
          "execution_count": 2,
          "metadata": {},
          "output_type": "execute_result"
        }
      ],
      "source": [
        "df_org = pd.read_csv('./data.csv', encoding= 'latin') \n",
        "df_org.head() #데이터 확인 "
      ]
    },
    {
      "cell_type": "code",
      "execution_count": null,
      "metadata": {
        "id": "B6GyJzxA8XeB",
        "outputId": "f3a31931-f40d-4a60-c646-239f631248b5"
      },
      "outputs": [
        {
          "name": "stdout",
          "output_type": "stream",
          "text": [
            "<class 'pandas.core.frame.DataFrame'>\n",
            "RangeIndex: 541909 entries, 0 to 541908\n",
            "Data columns (total 8 columns):\n",
            " #   Column       Non-Null Count   Dtype  \n",
            "---  ------       --------------   -----  \n",
            " 0   InvoiceNo    541909 non-null  object \n",
            " 1   StockCode    541909 non-null  object \n",
            " 2   Description  540455 non-null  object \n",
            " 3   Quantity     541909 non-null  int64  \n",
            " 4   InvoiceDate  541909 non-null  object \n",
            " 5   UnitPrice    541909 non-null  float64\n",
            " 6   CustomerID   406829 non-null  float64\n",
            " 7   Country      541909 non-null  object \n",
            "dtypes: float64(2), int64(1), object(5)\n",
            "memory usage: 33.1+ MB\n"
          ]
        }
      ],
      "source": [
        "df_org.info()"
      ]
    },
    {
      "cell_type": "markdown",
      "metadata": {
        "id": "oGfppxmk8XeD"
      },
      "source": [
        "#### invoiceDate변수 날짜형으로 변환"
      ]
    },
    {
      "cell_type": "code",
      "execution_count": null,
      "metadata": {
        "id": "ObBLDI958XeE"
      },
      "outputs": [],
      "source": [
        "df_org['InvoiceDate'] = pd.DatetimeIndex(df_org['InvoiceDate'])"
      ]
    },
    {
      "cell_type": "code",
      "execution_count": null,
      "metadata": {
        "id": "M8JCO0nP8XeE",
        "outputId": "8ec1ee81-7b58-49a5-b0f4-53c630fda3fb"
      },
      "outputs": [
        {
          "data": {
            "text/plain": [
              "0        2010-12-01 08:26:00\n",
              "1        2010-12-01 08:26:00\n",
              "2        2010-12-01 08:26:00\n",
              "3        2010-12-01 08:26:00\n",
              "4        2010-12-01 08:26:00\n",
              "                 ...        \n",
              "541904   2011-12-09 12:50:00\n",
              "541905   2011-12-09 12:50:00\n",
              "541906   2011-12-09 12:50:00\n",
              "541907   2011-12-09 12:50:00\n",
              "541908   2011-12-09 12:50:00\n",
              "Name: InvoiceDate, Length: 541909, dtype: datetime64[ns]"
            ]
          },
          "execution_count": 11,
          "metadata": {},
          "output_type": "execute_result"
        }
      ],
      "source": [
        "df_org['InvoiceDate']"
      ]
    },
    {
      "cell_type": "code",
      "execution_count": null,
      "metadata": {
        "scrolled": true,
        "id": "wCbZsOT68XeF"
      },
      "outputs": [],
      "source": [
        "df_org['InvoiceDate2'] = df_org['InvoiceDate'].apply(lambda x : str(x)[:10])"
      ]
    },
    {
      "cell_type": "code",
      "execution_count": null,
      "metadata": {
        "id": "s_IIAsbY8XeG",
        "outputId": "5c8288fb-61b1-4b9f-d64f-c45707686187"
      },
      "outputs": [
        {
          "data": {
            "text/plain": [
              "InvoiceNo            0\n",
              "StockCode            0\n",
              "Description       1454\n",
              "Quantity             0\n",
              "InvoiceDate          0\n",
              "UnitPrice            0\n",
              "CustomerID      135080\n",
              "Country              0\n",
              "InvoiceDate2         0\n",
              "dtype: int64"
            ]
          },
          "execution_count": 28,
          "metadata": {},
          "output_type": "execute_result"
        }
      ],
      "source": [
        "df_org.isna().sum()"
      ]
    },
    {
      "cell_type": "code",
      "execution_count": null,
      "metadata": {
        "id": "-qE8AHHq8XeH",
        "outputId": "09c3509a-67ee-429d-b301-1b8e7f1f0328"
      },
      "outputs": [
        {
          "data": {
            "text/plain": [
              "(541909, 9)"
            ]
          },
          "execution_count": 29,
          "metadata": {},
          "output_type": "execute_result"
        }
      ],
      "source": [
        "df_org.shape"
      ]
    },
    {
      "cell_type": "markdown",
      "metadata": {
        "id": "14QK9NbZ8XeI"
      },
      "source": [
        "#### Customer na값 삭제(w.고객기준으로 계산할거니까)"
      ]
    },
    {
      "cell_type": "code",
      "execution_count": null,
      "metadata": {
        "scrolled": true,
        "id": "WRrSNXQr8XeI"
      },
      "outputs": [],
      "source": [
        "df_na_treat = df_org[~df_org['CustomerID'].isna()].reset_index(drop=True)"
      ]
    },
    {
      "cell_type": "code",
      "execution_count": null,
      "metadata": {
        "scrolled": true,
        "id": "0whcJIPF8XeJ",
        "outputId": "947b815c-9ed5-4a2a-81c0-9aa17f72179a"
      },
      "outputs": [
        {
          "data": {
            "text/plain": [
              "(406829, 9)"
            ]
          },
          "execution_count": 31,
          "metadata": {},
          "output_type": "execute_result"
        }
      ],
      "source": [
        "df_na_treat.shape"
      ]
    },
    {
      "cell_type": "code",
      "execution_count": null,
      "metadata": {
        "id": "wWbrXnJ18XeK",
        "outputId": "0cd96dc5-a4d9-4cb7-f0c1-e2b883a09dae"
      },
      "outputs": [
        {
          "name": "stdout",
          "output_type": "stream",
          "text": [
            "<class 'pandas.core.frame.DataFrame'>\n",
            "RangeIndex: 406829 entries, 0 to 406828\n",
            "Data columns (total 9 columns):\n",
            " #   Column        Non-Null Count   Dtype         \n",
            "---  ------        --------------   -----         \n",
            " 0   InvoiceNo     406829 non-null  object        \n",
            " 1   StockCode     406829 non-null  object        \n",
            " 2   Description   406829 non-null  object        \n",
            " 3   Quantity      406829 non-null  int64         \n",
            " 4   InvoiceDate   406829 non-null  datetime64[ns]\n",
            " 5   UnitPrice     406829 non-null  float64       \n",
            " 6   CustomerID    406829 non-null  float64       \n",
            " 7   Country       406829 non-null  object        \n",
            " 8   InvoiceDate2  406829 non-null  object        \n",
            "dtypes: datetime64[ns](1), float64(2), int64(1), object(5)\n",
            "memory usage: 27.9+ MB\n"
          ]
        }
      ],
      "source": [
        "df_na_treat.info()"
      ]
    },
    {
      "cell_type": "markdown",
      "metadata": {
        "id": "0uA_RDp28XeL"
      },
      "source": [
        "### RFM에 필요한 변수 확인 및 이상치 확인"
      ]
    },
    {
      "cell_type": "markdown",
      "metadata": {
        "id": "NVzdPm-28XeL"
      },
      "source": [
        "##### [필요한 변수]  \n",
        "- R : today날짜와 invoiceDate2의 gap  \n",
        "- F : CustomerID별  StockCode의 갯수(중복제거x < 이건 분석가 선택)  \n",
        "- M : CustomerID, Stockcode 별 Quantity * UnitPrice구해서 더하기"
      ]
    },
    {
      "cell_type": "code",
      "execution_count": null,
      "metadata": {
        "scrolled": true,
        "id": "JlIHqC3O8XeM",
        "outputId": "0513fc07-09a3-4b4b-95ab-5fdb952fad63"
      },
      "outputs": [
        {
          "data": {
            "text/html": [
              "<div>\n",
              "<style scoped>\n",
              "    .dataframe tbody tr th:only-of-type {\n",
              "        vertical-align: middle;\n",
              "    }\n",
              "\n",
              "    .dataframe tbody tr th {\n",
              "        vertical-align: top;\n",
              "    }\n",
              "\n",
              "    .dataframe thead th {\n",
              "        text-align: right;\n",
              "    }\n",
              "</style>\n",
              "<table border=\"1\" class=\"dataframe\">\n",
              "  <thead>\n",
              "    <tr style=\"text-align: right;\">\n",
              "      <th></th>\n",
              "      <th>Quantity</th>\n",
              "      <th>UnitPrice</th>\n",
              "      <th>CustomerID</th>\n",
              "    </tr>\n",
              "  </thead>\n",
              "  <tbody>\n",
              "    <tr>\n",
              "      <th>count</th>\n",
              "      <td>406829.000000</td>\n",
              "      <td>406829.000000</td>\n",
              "      <td>406829.000000</td>\n",
              "    </tr>\n",
              "    <tr>\n",
              "      <th>mean</th>\n",
              "      <td>12.061303</td>\n",
              "      <td>3.460471</td>\n",
              "      <td>15287.690570</td>\n",
              "    </tr>\n",
              "    <tr>\n",
              "      <th>std</th>\n",
              "      <td>248.693370</td>\n",
              "      <td>69.315162</td>\n",
              "      <td>1713.600303</td>\n",
              "    </tr>\n",
              "    <tr>\n",
              "      <th>min</th>\n",
              "      <td>-80995.000000</td>\n",
              "      <td>0.000000</td>\n",
              "      <td>12346.000000</td>\n",
              "    </tr>\n",
              "    <tr>\n",
              "      <th>25%</th>\n",
              "      <td>2.000000</td>\n",
              "      <td>1.250000</td>\n",
              "      <td>13953.000000</td>\n",
              "    </tr>\n",
              "    <tr>\n",
              "      <th>50%</th>\n",
              "      <td>5.000000</td>\n",
              "      <td>1.950000</td>\n",
              "      <td>15152.000000</td>\n",
              "    </tr>\n",
              "    <tr>\n",
              "      <th>75%</th>\n",
              "      <td>12.000000</td>\n",
              "      <td>3.750000</td>\n",
              "      <td>16791.000000</td>\n",
              "    </tr>\n",
              "    <tr>\n",
              "      <th>max</th>\n",
              "      <td>80995.000000</td>\n",
              "      <td>38970.000000</td>\n",
              "      <td>18287.000000</td>\n",
              "    </tr>\n",
              "  </tbody>\n",
              "</table>\n",
              "</div>"
            ],
            "text/plain": [
              "            Quantity      UnitPrice     CustomerID\n",
              "count  406829.000000  406829.000000  406829.000000\n",
              "mean       12.061303       3.460471   15287.690570\n",
              "std       248.693370      69.315162    1713.600303\n",
              "min    -80995.000000       0.000000   12346.000000\n",
              "25%         2.000000       1.250000   13953.000000\n",
              "50%         5.000000       1.950000   15152.000000\n",
              "75%        12.000000       3.750000   16791.000000\n",
              "max     80995.000000   38970.000000   18287.000000"
            ]
          },
          "execution_count": 33,
          "metadata": {},
          "output_type": "execute_result"
        }
      ],
      "source": [
        "df_na_treat.describe()"
      ]
    },
    {
      "cell_type": "markdown",
      "metadata": {
        "id": "n9sPvkB38XeN"
      },
      "source": [
        "#### 의심할만한 부분  \n",
        "1) Quantity < 0 인 케이스  \n",
        "2) Unitprice=0인 케이스  \n",
        "3) Quantity가 80995건인 케이스(지나치게 많은 케이스)"
      ]
    },
    {
      "cell_type": "code",
      "execution_count": null,
      "metadata": {
        "id": "hdxq3F9n8XeO"
      },
      "outputs": [],
      "source": [
        "# 1) Quantity < 0 인 케이스  \n",
        "minus_quantity = df_na_treat[df_na_treat.Quantity < 0]['CustomerID']"
      ]
    },
    {
      "cell_type": "code",
      "execution_count": null,
      "metadata": {
        "id": "LaR9eq1P8XeP",
        "outputId": "d3363d73-638f-4c05-e29b-9fc484d6488a"
      },
      "outputs": [
        {
          "data": {
            "text/plain": [
              "8905"
            ]
          },
          "execution_count": 50,
          "metadata": {},
          "output_type": "execute_result"
        }
      ],
      "source": [
        "len(minus_quantity)"
      ]
    },
    {
      "cell_type": "code",
      "execution_count": null,
      "metadata": {
        "scrolled": true,
        "id": "G9KDdE4n8XeQ",
        "outputId": "f9d66524-bb4d-47f3-cd45-cb13a84566cf"
      },
      "outputs": [
        {
          "data": {
            "text/html": [
              "<div>\n",
              "<style scoped>\n",
              "    .dataframe tbody tr th:only-of-type {\n",
              "        vertical-align: middle;\n",
              "    }\n",
              "\n",
              "    .dataframe tbody tr th {\n",
              "        vertical-align: top;\n",
              "    }\n",
              "\n",
              "    .dataframe thead th {\n",
              "        text-align: right;\n",
              "    }\n",
              "</style>\n",
              "<table border=\"1\" class=\"dataframe\">\n",
              "  <thead>\n",
              "    <tr style=\"text-align: right;\">\n",
              "      <th></th>\n",
              "      <th>InvoiceNo</th>\n",
              "      <th>StockCode</th>\n",
              "      <th>Description</th>\n",
              "      <th>Quantity</th>\n",
              "      <th>InvoiceDate</th>\n",
              "      <th>UnitPrice</th>\n",
              "      <th>CustomerID</th>\n",
              "      <th>Country</th>\n",
              "      <th>InvoiceDate2</th>\n",
              "    </tr>\n",
              "  </thead>\n",
              "  <tbody>\n",
              "    <tr>\n",
              "      <th>292511</th>\n",
              "      <td>570859</td>\n",
              "      <td>84879</td>\n",
              "      <td>ASSORTED COLOUR BIRD ORNAMENT</td>\n",
              "      <td>8</td>\n",
              "      <td>2011-10-12 15:22:00</td>\n",
              "      <td>1.69</td>\n",
              "      <td>18277.0</td>\n",
              "      <td>United Kingdom</td>\n",
              "      <td>2011-10-12</td>\n",
              "    </tr>\n",
              "    <tr>\n",
              "      <th>292510</th>\n",
              "      <td>570859</td>\n",
              "      <td>23323</td>\n",
              "      <td>WHITE WICKER STAR</td>\n",
              "      <td>6</td>\n",
              "      <td>2011-10-12 15:22:00</td>\n",
              "      <td>2.10</td>\n",
              "      <td>18277.0</td>\n",
              "      <td>United Kingdom</td>\n",
              "      <td>2011-10-12</td>\n",
              "    </tr>\n",
              "    <tr>\n",
              "      <th>292509</th>\n",
              "      <td>570859</td>\n",
              "      <td>22465</td>\n",
              "      <td>HANGING METAL STAR LANTERN</td>\n",
              "      <td>12</td>\n",
              "      <td>2011-10-12 15:22:00</td>\n",
              "      <td>1.65</td>\n",
              "      <td>18277.0</td>\n",
              "      <td>United Kingdom</td>\n",
              "      <td>2011-10-12</td>\n",
              "    </tr>\n",
              "    <tr>\n",
              "      <th>292505</th>\n",
              "      <td>570859</td>\n",
              "      <td>15056P</td>\n",
              "      <td>EDWARDIAN PARASOL PINK</td>\n",
              "      <td>3</td>\n",
              "      <td>2011-10-12 15:22:00</td>\n",
              "      <td>5.95</td>\n",
              "      <td>18277.0</td>\n",
              "      <td>United Kingdom</td>\n",
              "      <td>2011-10-12</td>\n",
              "    </tr>\n",
              "    <tr>\n",
              "      <th>292508</th>\n",
              "      <td>570859</td>\n",
              "      <td>20724</td>\n",
              "      <td>RED RETROSPOT CHARLOTTE BAG</td>\n",
              "      <td>10</td>\n",
              "      <td>2011-10-12 15:22:00</td>\n",
              "      <td>0.85</td>\n",
              "      <td>18277.0</td>\n",
              "      <td>United Kingdom</td>\n",
              "      <td>2011-10-12</td>\n",
              "    </tr>\n",
              "    <tr>\n",
              "      <th>292506</th>\n",
              "      <td>570859</td>\n",
              "      <td>20679</td>\n",
              "      <td>EDWARDIAN PARASOL RED</td>\n",
              "      <td>3</td>\n",
              "      <td>2011-10-12 15:22:00</td>\n",
              "      <td>5.95</td>\n",
              "      <td>18277.0</td>\n",
              "      <td>United Kingdom</td>\n",
              "      <td>2011-10-12</td>\n",
              "    </tr>\n",
              "    <tr>\n",
              "      <th>43154</th>\n",
              "      <td>C542086</td>\n",
              "      <td>22423</td>\n",
              "      <td>REGENCY CAKESTAND 3 TIER</td>\n",
              "      <td>-1</td>\n",
              "      <td>2011-01-25 12:34:00</td>\n",
              "      <td>12.75</td>\n",
              "      <td>18277.0</td>\n",
              "      <td>United Kingdom</td>\n",
              "      <td>2011-01-25</td>\n",
              "    </tr>\n",
              "    <tr>\n",
              "      <th>209684</th>\n",
              "      <td>562525</td>\n",
              "      <td>23295</td>\n",
              "      <td>SET OF 12 MINI LOAF BAKING CASES</td>\n",
              "      <td>8</td>\n",
              "      <td>2011-08-05 13:35:00</td>\n",
              "      <td>0.83</td>\n",
              "      <td>18282.0</td>\n",
              "      <td>United Kingdom</td>\n",
              "      <td>2011-08-05</td>\n",
              "    </tr>\n",
              "    <tr>\n",
              "      <th>209683</th>\n",
              "      <td>562525</td>\n",
              "      <td>23187</td>\n",
              "      <td>FRENCH STYLE STORAGE JAR BONBONS</td>\n",
              "      <td>48</td>\n",
              "      <td>2011-08-05 13:35:00</td>\n",
              "      <td>0.29</td>\n",
              "      <td>18282.0</td>\n",
              "      <td>United Kingdom</td>\n",
              "      <td>2011-08-05</td>\n",
              "    </tr>\n",
              "    <tr>\n",
              "      <th>209682</th>\n",
              "      <td>562525</td>\n",
              "      <td>21270</td>\n",
              "      <td>ANTIQUE CREAM CUTLERY CUPBOARD</td>\n",
              "      <td>1</td>\n",
              "      <td>2011-08-05 13:35:00</td>\n",
              "      <td>12.75</td>\n",
              "      <td>18282.0</td>\n",
              "      <td>United Kingdom</td>\n",
              "      <td>2011-08-05</td>\n",
              "    </tr>\n",
              "    <tr>\n",
              "      <th>391793</th>\n",
              "      <td>580173</td>\n",
              "      <td>23174</td>\n",
              "      <td>REGENCY SUGAR BOWL GREEN</td>\n",
              "      <td>4</td>\n",
              "      <td>2011-12-02 11:43:00</td>\n",
              "      <td>4.15</td>\n",
              "      <td>18282.0</td>\n",
              "      <td>United Kingdom</td>\n",
              "      <td>2011-12-02</td>\n",
              "    </tr>\n",
              "    <tr>\n",
              "      <th>391792</th>\n",
              "      <td>580173</td>\n",
              "      <td>22818</td>\n",
              "      <td>CARD CHRISTMAS VILLAGE</td>\n",
              "      <td>12</td>\n",
              "      <td>2011-12-02 11:43:00</td>\n",
              "      <td>0.42</td>\n",
              "      <td>18282.0</td>\n",
              "      <td>United Kingdom</td>\n",
              "      <td>2011-12-02</td>\n",
              "    </tr>\n",
              "    <tr>\n",
              "      <th>391791</th>\n",
              "      <td>580173</td>\n",
              "      <td>22699</td>\n",
              "      <td>ROSES REGENCY TEACUP AND SAUCER</td>\n",
              "      <td>6</td>\n",
              "      <td>2011-12-02 11:43:00</td>\n",
              "      <td>2.95</td>\n",
              "      <td>18282.0</td>\n",
              "      <td>United Kingdom</td>\n",
              "      <td>2011-12-02</td>\n",
              "    </tr>\n",
              "    <tr>\n",
              "      <th>391790</th>\n",
              "      <td>580173</td>\n",
              "      <td>22423</td>\n",
              "      <td>REGENCY CAKESTAND 3 TIER</td>\n",
              "      <td>2</td>\n",
              "      <td>2011-12-02 11:43:00</td>\n",
              "      <td>12.75</td>\n",
              "      <td>18282.0</td>\n",
              "      <td>United Kingdom</td>\n",
              "      <td>2011-12-02</td>\n",
              "    </tr>\n",
              "    <tr>\n",
              "      <th>212946</th>\n",
              "      <td>C562808</td>\n",
              "      <td>23187</td>\n",
              "      <td>FRENCH STYLE STORAGE JAR BONBONS</td>\n",
              "      <td>-5</td>\n",
              "      <td>2011-08-09 15:10:00</td>\n",
              "      <td>0.29</td>\n",
              "      <td>18282.0</td>\n",
              "      <td>United Kingdom</td>\n",
              "      <td>2011-08-09</td>\n",
              "    </tr>\n",
              "    <tr>\n",
              "      <th>209686</th>\n",
              "      <td>562525</td>\n",
              "      <td>21108</td>\n",
              "      <td>FAIRY CAKE FLANNEL ASSORTED COLOUR</td>\n",
              "      <td>9</td>\n",
              "      <td>2011-08-05 13:35:00</td>\n",
              "      <td>2.55</td>\n",
              "      <td>18282.0</td>\n",
              "      <td>United Kingdom</td>\n",
              "      <td>2011-08-05</td>\n",
              "    </tr>\n",
              "    <tr>\n",
              "      <th>209687</th>\n",
              "      <td>562525</td>\n",
              "      <td>21109</td>\n",
              "      <td>LARGE CAKE TOWEL CHOCOLATE SPOTS</td>\n",
              "      <td>2</td>\n",
              "      <td>2011-08-05 13:35:00</td>\n",
              "      <td>6.75</td>\n",
              "      <td>18282.0</td>\n",
              "      <td>United Kingdom</td>\n",
              "      <td>2011-08-05</td>\n",
              "    </tr>\n",
              "    <tr>\n",
              "      <th>209688</th>\n",
              "      <td>562525</td>\n",
              "      <td>22424</td>\n",
              "      <td>ENAMEL BREAD BIN CREAM</td>\n",
              "      <td>1</td>\n",
              "      <td>2011-08-05 13:35:00</td>\n",
              "      <td>12.75</td>\n",
              "      <td>18282.0</td>\n",
              "      <td>United Kingdom</td>\n",
              "      <td>2011-08-05</td>\n",
              "    </tr>\n",
              "    <tr>\n",
              "      <th>209685</th>\n",
              "      <td>562525</td>\n",
              "      <td>22089</td>\n",
              "      <td>PAPER BUNTING VINTAGE PAISLEY</td>\n",
              "      <td>6</td>\n",
              "      <td>2011-08-05 13:35:00</td>\n",
              "      <td>2.95</td>\n",
              "      <td>18282.0</td>\n",
              "      <td>United Kingdom</td>\n",
              "      <td>2011-08-05</td>\n",
              "    </tr>\n",
              "    <tr>\n",
              "      <th>391794</th>\n",
              "      <td>580173</td>\n",
              "      <td>23175</td>\n",
              "      <td>REGENCY MILK JUG PINK</td>\n",
              "      <td>4</td>\n",
              "      <td>2011-12-02 11:43:00</td>\n",
              "      <td>3.25</td>\n",
              "      <td>18282.0</td>\n",
              "      <td>United Kingdom</td>\n",
              "      <td>2011-12-02</td>\n",
              "    </tr>\n",
              "  </tbody>\n",
              "</table>\n",
              "</div>"
            ],
            "text/plain": [
              "       InvoiceNo StockCode                         Description  Quantity  \\\n",
              "292511    570859     84879       ASSORTED COLOUR BIRD ORNAMENT         8   \n",
              "292510    570859     23323                  WHITE WICKER STAR          6   \n",
              "292509    570859     22465          HANGING METAL STAR LANTERN        12   \n",
              "292505    570859    15056P              EDWARDIAN PARASOL PINK         3   \n",
              "292508    570859     20724         RED RETROSPOT CHARLOTTE BAG        10   \n",
              "292506    570859     20679               EDWARDIAN PARASOL RED         3   \n",
              "43154    C542086     22423            REGENCY CAKESTAND 3 TIER        -1   \n",
              "209684    562525     23295    SET OF 12 MINI LOAF BAKING CASES         8   \n",
              "209683    562525     23187    FRENCH STYLE STORAGE JAR BONBONS        48   \n",
              "209682    562525     21270      ANTIQUE CREAM CUTLERY CUPBOARD         1   \n",
              "391793    580173     23174            REGENCY SUGAR BOWL GREEN         4   \n",
              "391792    580173     22818              CARD CHRISTMAS VILLAGE        12   \n",
              "391791    580173     22699    ROSES REGENCY TEACUP AND SAUCER          6   \n",
              "391790    580173     22423            REGENCY CAKESTAND 3 TIER         2   \n",
              "212946   C562808     23187    FRENCH STYLE STORAGE JAR BONBONS        -5   \n",
              "209686    562525     21108  FAIRY CAKE FLANNEL ASSORTED COLOUR         9   \n",
              "209687    562525     21109    LARGE CAKE TOWEL CHOCOLATE SPOTS         2   \n",
              "209688    562525     22424              ENAMEL BREAD BIN CREAM         1   \n",
              "209685    562525     22089       PAPER BUNTING VINTAGE PAISLEY         6   \n",
              "391794    580173     23175              REGENCY MILK JUG PINK          4   \n",
              "\n",
              "               InvoiceDate  UnitPrice  CustomerID         Country InvoiceDate2  \n",
              "292511 2011-10-12 15:22:00       1.69     18277.0  United Kingdom   2011-10-12  \n",
              "292510 2011-10-12 15:22:00       2.10     18277.0  United Kingdom   2011-10-12  \n",
              "292509 2011-10-12 15:22:00       1.65     18277.0  United Kingdom   2011-10-12  \n",
              "292505 2011-10-12 15:22:00       5.95     18277.0  United Kingdom   2011-10-12  \n",
              "292508 2011-10-12 15:22:00       0.85     18277.0  United Kingdom   2011-10-12  \n",
              "292506 2011-10-12 15:22:00       5.95     18277.0  United Kingdom   2011-10-12  \n",
              "43154  2011-01-25 12:34:00      12.75     18277.0  United Kingdom   2011-01-25  \n",
              "209684 2011-08-05 13:35:00       0.83     18282.0  United Kingdom   2011-08-05  \n",
              "209683 2011-08-05 13:35:00       0.29     18282.0  United Kingdom   2011-08-05  \n",
              "209682 2011-08-05 13:35:00      12.75     18282.0  United Kingdom   2011-08-05  \n",
              "391793 2011-12-02 11:43:00       4.15     18282.0  United Kingdom   2011-12-02  \n",
              "391792 2011-12-02 11:43:00       0.42     18282.0  United Kingdom   2011-12-02  \n",
              "391791 2011-12-02 11:43:00       2.95     18282.0  United Kingdom   2011-12-02  \n",
              "391790 2011-12-02 11:43:00      12.75     18282.0  United Kingdom   2011-12-02  \n",
              "212946 2011-08-09 15:10:00       0.29     18282.0  United Kingdom   2011-08-09  \n",
              "209686 2011-08-05 13:35:00       2.55     18282.0  United Kingdom   2011-08-05  \n",
              "209687 2011-08-05 13:35:00       6.75     18282.0  United Kingdom   2011-08-05  \n",
              "209688 2011-08-05 13:35:00      12.75     18282.0  United Kingdom   2011-08-05  \n",
              "209685 2011-08-05 13:35:00       2.95     18282.0  United Kingdom   2011-08-05  \n",
              "391794 2011-12-02 11:43:00       3.25     18282.0  United Kingdom   2011-12-02  "
            ]
          },
          "execution_count": 44,
          "metadata": {},
          "output_type": "execute_result"
        }
      ],
      "source": [
        "df_na_treat[df_na_treat.CustomerID.isin(minus_quantity)].sort_values(by = 'CustomerID').tail(20)"
      ]
    },
    {
      "cell_type": "code",
      "execution_count": null,
      "metadata": {
        "id": "u9o75WeL8XeR",
        "outputId": "33496319-bff6-447c-a38c-14ea65f6a896"
      },
      "outputs": [
        {
          "data": {
            "text/plain": [
              "(406829, 9)"
            ]
          },
          "execution_count": 49,
          "metadata": {},
          "output_type": "execute_result"
        }
      ],
      "source": [
        "df_na_treat.shape"
      ]
    },
    {
      "cell_type": "code",
      "execution_count": null,
      "metadata": {
        "id": "bxoxnuWa8XeS"
      },
      "outputs": [],
      "source": [
        "#### 환불, 취소건은 제외\n",
        "df_na_treat = df_na_treat[df_na_treat.Quantity > 0]"
      ]
    },
    {
      "cell_type": "code",
      "execution_count": null,
      "metadata": {
        "id": "FfSCH7-c8XeT",
        "outputId": "38536719-a24c-448e-8009-9f5b305fbf8a"
      },
      "outputs": [
        {
          "data": {
            "text/plain": [
              "406829"
            ]
          },
          "execution_count": 53,
          "metadata": {},
          "output_type": "execute_result"
        }
      ],
      "source": [
        "df_na_treat.shape[0] + len(minus_quantity)"
      ]
    },
    {
      "cell_type": "code",
      "execution_count": null,
      "metadata": {
        "scrolled": true,
        "id": "1lYjO3nQ8XeU",
        "outputId": "fad5c193-3768-4ee5-b9c6-e64200b4deb8"
      },
      "outputs": [
        {
          "data": {
            "text/plain": [
              "(397924, 9)"
            ]
          },
          "execution_count": 54,
          "metadata": {},
          "output_type": "execute_result"
        }
      ],
      "source": [
        "df_na_treat.shape"
      ]
    },
    {
      "cell_type": "code",
      "execution_count": null,
      "metadata": {
        "scrolled": true,
        "id": "ujdKjj0X8XeV",
        "outputId": "d15cdc29-5c39-4a12-9e84-131ec07d2997"
      },
      "outputs": [
        {
          "data": {
            "text/html": [
              "<div>\n",
              "<style scoped>\n",
              "    .dataframe tbody tr th:only-of-type {\n",
              "        vertical-align: middle;\n",
              "    }\n",
              "\n",
              "    .dataframe tbody tr th {\n",
              "        vertical-align: top;\n",
              "    }\n",
              "\n",
              "    .dataframe thead th {\n",
              "        text-align: right;\n",
              "    }\n",
              "</style>\n",
              "<table border=\"1\" class=\"dataframe\">\n",
              "  <thead>\n",
              "    <tr style=\"text-align: right;\">\n",
              "      <th></th>\n",
              "      <th>InvoiceNo</th>\n",
              "      <th>StockCode</th>\n",
              "      <th>Description</th>\n",
              "      <th>Quantity</th>\n",
              "      <th>InvoiceDate</th>\n",
              "      <th>UnitPrice</th>\n",
              "      <th>CustomerID</th>\n",
              "      <th>Country</th>\n",
              "      <th>InvoiceDate2</th>\n",
              "    </tr>\n",
              "  </thead>\n",
              "  <tbody>\n",
              "    <tr>\n",
              "      <th>7012</th>\n",
              "      <td>537197</td>\n",
              "      <td>22841</td>\n",
              "      <td>ROUND CAKE TIN VINTAGE GREEN</td>\n",
              "      <td>1</td>\n",
              "      <td>2010-12-05 14:02:00</td>\n",
              "      <td>0.0</td>\n",
              "      <td>12647.0</td>\n",
              "      <td>Germany</td>\n",
              "      <td>2010-12-05</td>\n",
              "    </tr>\n",
              "    <tr>\n",
              "      <th>23071</th>\n",
              "      <td>539263</td>\n",
              "      <td>22580</td>\n",
              "      <td>ADVENT CALENDAR GINGHAM SACK</td>\n",
              "      <td>4</td>\n",
              "      <td>2010-12-16 14:36:00</td>\n",
              "      <td>0.0</td>\n",
              "      <td>16560.0</td>\n",
              "      <td>United Kingdom</td>\n",
              "      <td>2010-12-16</td>\n",
              "    </tr>\n",
              "    <tr>\n",
              "      <th>26046</th>\n",
              "      <td>539722</td>\n",
              "      <td>22423</td>\n",
              "      <td>REGENCY CAKESTAND 3 TIER</td>\n",
              "      <td>10</td>\n",
              "      <td>2010-12-21 13:45:00</td>\n",
              "      <td>0.0</td>\n",
              "      <td>14911.0</td>\n",
              "      <td>EIRE</td>\n",
              "      <td>2010-12-21</td>\n",
              "    </tr>\n",
              "    <tr>\n",
              "      <th>29881</th>\n",
              "      <td>540372</td>\n",
              "      <td>22090</td>\n",
              "      <td>PAPER BUNTING RETROSPOT</td>\n",
              "      <td>24</td>\n",
              "      <td>2011-01-06 16:41:00</td>\n",
              "      <td>0.0</td>\n",
              "      <td>13081.0</td>\n",
              "      <td>United Kingdom</td>\n",
              "      <td>2011-01-06</td>\n",
              "    </tr>\n",
              "    <tr>\n",
              "      <th>29883</th>\n",
              "      <td>540372</td>\n",
              "      <td>22553</td>\n",
              "      <td>PLASTERS IN TIN SKULLS</td>\n",
              "      <td>24</td>\n",
              "      <td>2011-01-06 16:41:00</td>\n",
              "      <td>0.0</td>\n",
              "      <td>13081.0</td>\n",
              "      <td>United Kingdom</td>\n",
              "      <td>2011-01-06</td>\n",
              "    </tr>\n",
              "    <tr>\n",
              "      <th>35460</th>\n",
              "      <td>541109</td>\n",
              "      <td>22168</td>\n",
              "      <td>ORGANISER WOOD ANTIQUE WHITE</td>\n",
              "      <td>1</td>\n",
              "      <td>2011-01-13 15:10:00</td>\n",
              "      <td>0.0</td>\n",
              "      <td>15107.0</td>\n",
              "      <td>United Kingdom</td>\n",
              "      <td>2011-01-13</td>\n",
              "    </tr>\n",
              "    <tr>\n",
              "      <th>55279</th>\n",
              "      <td>543599</td>\n",
              "      <td>84535B</td>\n",
              "      <td>FAIRY CAKES NOTEBOOK A6 SIZE</td>\n",
              "      <td>16</td>\n",
              "      <td>2011-02-10 13:08:00</td>\n",
              "      <td>0.0</td>\n",
              "      <td>17560.0</td>\n",
              "      <td>United Kingdom</td>\n",
              "      <td>2011-02-10</td>\n",
              "    </tr>\n",
              "    <tr>\n",
              "      <th>87903</th>\n",
              "      <td>547417</td>\n",
              "      <td>22062</td>\n",
              "      <td>CERAMIC BOWL WITH LOVE HEART DESIGN</td>\n",
              "      <td>36</td>\n",
              "      <td>2011-03-23 10:25:00</td>\n",
              "      <td>0.0</td>\n",
              "      <td>13239.0</td>\n",
              "      <td>United Kingdom</td>\n",
              "      <td>2011-03-23</td>\n",
              "    </tr>\n",
              "    <tr>\n",
              "      <th>95201</th>\n",
              "      <td>548318</td>\n",
              "      <td>22055</td>\n",
              "      <td>MINI CAKE STAND  HANGING STRAWBERY</td>\n",
              "      <td>5</td>\n",
              "      <td>2011-03-30 12:45:00</td>\n",
              "      <td>0.0</td>\n",
              "      <td>13113.0</td>\n",
              "      <td>United Kingdom</td>\n",
              "      <td>2011-03-30</td>\n",
              "    </tr>\n",
              "    <tr>\n",
              "      <th>99945</th>\n",
              "      <td>548871</td>\n",
              "      <td>22162</td>\n",
              "      <td>HEART GARLAND RUSTIC PADDED</td>\n",
              "      <td>2</td>\n",
              "      <td>2011-04-04 14:42:00</td>\n",
              "      <td>0.0</td>\n",
              "      <td>14410.0</td>\n",
              "      <td>United Kingdom</td>\n",
              "      <td>2011-04-04</td>\n",
              "    </tr>\n",
              "    <tr>\n",
              "      <th>109968</th>\n",
              "      <td>550188</td>\n",
              "      <td>22636</td>\n",
              "      <td>CHILDS BREAKFAST SET CIRCUS PARADE</td>\n",
              "      <td>1</td>\n",
              "      <td>2011-04-14 18:57:00</td>\n",
              "      <td>0.0</td>\n",
              "      <td>12457.0</td>\n",
              "      <td>Switzerland</td>\n",
              "      <td>2011-04-14</td>\n",
              "    </tr>\n",
              "    <tr>\n",
              "      <th>131865</th>\n",
              "      <td>553000</td>\n",
              "      <td>47566</td>\n",
              "      <td>PARTY BUNTING</td>\n",
              "      <td>4</td>\n",
              "      <td>2011-05-12 15:21:00</td>\n",
              "      <td>0.0</td>\n",
              "      <td>17667.0</td>\n",
              "      <td>United Kingdom</td>\n",
              "      <td>2011-05-12</td>\n",
              "    </tr>\n",
              "    <tr>\n",
              "      <th>140517</th>\n",
              "      <td>554037</td>\n",
              "      <td>22619</td>\n",
              "      <td>SET OF 6 SOLDIER SKITTLES</td>\n",
              "      <td>80</td>\n",
              "      <td>2011-05-20 14:13:00</td>\n",
              "      <td>0.0</td>\n",
              "      <td>12415.0</td>\n",
              "      <td>Australia</td>\n",
              "      <td>2011-05-20</td>\n",
              "    </tr>\n",
              "    <tr>\n",
              "      <th>199499</th>\n",
              "      <td>561284</td>\n",
              "      <td>22167</td>\n",
              "      <td>OVAL WALL MIRROR DIAMANTE</td>\n",
              "      <td>1</td>\n",
              "      <td>2011-07-26 12:24:00</td>\n",
              "      <td>0.0</td>\n",
              "      <td>16818.0</td>\n",
              "      <td>United Kingdom</td>\n",
              "      <td>2011-07-26</td>\n",
              "    </tr>\n",
              "    <tr>\n",
              "      <th>202073</th>\n",
              "      <td>561669</td>\n",
              "      <td>22960</td>\n",
              "      <td>JAM MAKING SET WITH JARS</td>\n",
              "      <td>11</td>\n",
              "      <td>2011-07-28 17:09:00</td>\n",
              "      <td>0.0</td>\n",
              "      <td>12507.0</td>\n",
              "      <td>Spain</td>\n",
              "      <td>2011-07-28</td>\n",
              "    </tr>\n",
              "    <tr>\n",
              "      <th>204627</th>\n",
              "      <td>561916</td>\n",
              "      <td>M</td>\n",
              "      <td>Manual</td>\n",
              "      <td>1</td>\n",
              "      <td>2011-08-01 11:44:00</td>\n",
              "      <td>0.0</td>\n",
              "      <td>15581.0</td>\n",
              "      <td>United Kingdom</td>\n",
              "      <td>2011-08-01</td>\n",
              "    </tr>\n",
              "    <tr>\n",
              "      <th>214132</th>\n",
              "      <td>562973</td>\n",
              "      <td>23157</td>\n",
              "      <td>SET OF 6 NATIVITY MAGNETS</td>\n",
              "      <td>240</td>\n",
              "      <td>2011-08-11 11:42:00</td>\n",
              "      <td>0.0</td>\n",
              "      <td>14911.0</td>\n",
              "      <td>EIRE</td>\n",
              "      <td>2011-08-11</td>\n",
              "    </tr>\n",
              "    <tr>\n",
              "      <th>229359</th>\n",
              "      <td>564651</td>\n",
              "      <td>23270</td>\n",
              "      <td>SET OF 2 CERAMIC PAINTED HEARTS</td>\n",
              "      <td>96</td>\n",
              "      <td>2011-08-26 14:19:00</td>\n",
              "      <td>0.0</td>\n",
              "      <td>14646.0</td>\n",
              "      <td>Netherlands</td>\n",
              "      <td>2011-08-26</td>\n",
              "    </tr>\n",
              "    <tr>\n",
              "      <th>229360</th>\n",
              "      <td>564651</td>\n",
              "      <td>23268</td>\n",
              "      <td>SET OF 2 CERAMIC CHRISTMAS REINDEER</td>\n",
              "      <td>192</td>\n",
              "      <td>2011-08-26 14:19:00</td>\n",
              "      <td>0.0</td>\n",
              "      <td>14646.0</td>\n",
              "      <td>Netherlands</td>\n",
              "      <td>2011-08-26</td>\n",
              "    </tr>\n",
              "    <tr>\n",
              "      <th>229361</th>\n",
              "      <td>564651</td>\n",
              "      <td>22955</td>\n",
              "      <td>36 FOIL STAR CAKE CASES</td>\n",
              "      <td>144</td>\n",
              "      <td>2011-08-26 14:19:00</td>\n",
              "      <td>0.0</td>\n",
              "      <td>14646.0</td>\n",
              "      <td>Netherlands</td>\n",
              "      <td>2011-08-26</td>\n",
              "    </tr>\n",
              "    <tr>\n",
              "      <th>229362</th>\n",
              "      <td>564651</td>\n",
              "      <td>21786</td>\n",
              "      <td>POLKADOT RAIN HAT</td>\n",
              "      <td>144</td>\n",
              "      <td>2011-08-26 14:19:00</td>\n",
              "      <td>0.0</td>\n",
              "      <td>14646.0</td>\n",
              "      <td>Netherlands</td>\n",
              "      <td>2011-08-26</td>\n",
              "    </tr>\n",
              "    <tr>\n",
              "      <th>262429</th>\n",
              "      <td>568158</td>\n",
              "      <td>PADS</td>\n",
              "      <td>PADS TO MATCH ALL CUSHIONS</td>\n",
              "      <td>1</td>\n",
              "      <td>2011-09-25 12:22:00</td>\n",
              "      <td>0.0</td>\n",
              "      <td>16133.0</td>\n",
              "      <td>United Kingdom</td>\n",
              "      <td>2011-09-25</td>\n",
              "    </tr>\n",
              "    <tr>\n",
              "      <th>265590</th>\n",
              "      <td>568384</td>\n",
              "      <td>M</td>\n",
              "      <td>Manual</td>\n",
              "      <td>1</td>\n",
              "      <td>2011-09-27 09:46:00</td>\n",
              "      <td>0.0</td>\n",
              "      <td>12748.0</td>\n",
              "      <td>United Kingdom</td>\n",
              "      <td>2011-09-27</td>\n",
              "    </tr>\n",
              "    <tr>\n",
              "      <th>280386</th>\n",
              "      <td>569716</td>\n",
              "      <td>22778</td>\n",
              "      <td>GLASS CLOCHE SMALL</td>\n",
              "      <td>2</td>\n",
              "      <td>2011-10-06 08:17:00</td>\n",
              "      <td>0.0</td>\n",
              "      <td>15804.0</td>\n",
              "      <td>United Kingdom</td>\n",
              "      <td>2011-10-06</td>\n",
              "    </tr>\n",
              "    <tr>\n",
              "      <th>293578</th>\n",
              "      <td>571035</td>\n",
              "      <td>M</td>\n",
              "      <td>Manual</td>\n",
              "      <td>1</td>\n",
              "      <td>2011-10-13 12:50:00</td>\n",
              "      <td>0.0</td>\n",
              "      <td>12446.0</td>\n",
              "      <td>RSA</td>\n",
              "      <td>2011-10-13</td>\n",
              "    </tr>\n",
              "    <tr>\n",
              "      <th>314491</th>\n",
              "      <td>572893</td>\n",
              "      <td>21208</td>\n",
              "      <td>PASTEL COLOUR HONEYCOMB FAN</td>\n",
              "      <td>5</td>\n",
              "      <td>2011-10-26 14:36:00</td>\n",
              "      <td>0.0</td>\n",
              "      <td>18059.0</td>\n",
              "      <td>United Kingdom</td>\n",
              "      <td>2011-10-26</td>\n",
              "    </tr>\n",
              "    <tr>\n",
              "      <th>327463</th>\n",
              "      <td>574138</td>\n",
              "      <td>23234</td>\n",
              "      <td>BISCUIT TIN VINTAGE CHRISTMAS</td>\n",
              "      <td>216</td>\n",
              "      <td>2011-11-03 11:26:00</td>\n",
              "      <td>0.0</td>\n",
              "      <td>12415.0</td>\n",
              "      <td>Australia</td>\n",
              "      <td>2011-11-03</td>\n",
              "    </tr>\n",
              "    <tr>\n",
              "      <th>327630</th>\n",
              "      <td>574175</td>\n",
              "      <td>22065</td>\n",
              "      <td>CHRISTMAS PUDDING TRINKET POT</td>\n",
              "      <td>12</td>\n",
              "      <td>2011-11-03 11:47:00</td>\n",
              "      <td>0.0</td>\n",
              "      <td>14110.0</td>\n",
              "      <td>United Kingdom</td>\n",
              "      <td>2011-11-03</td>\n",
              "    </tr>\n",
              "    <tr>\n",
              "      <th>327992</th>\n",
              "      <td>574252</td>\n",
              "      <td>M</td>\n",
              "      <td>Manual</td>\n",
              "      <td>1</td>\n",
              "      <td>2011-11-03 13:24:00</td>\n",
              "      <td>0.0</td>\n",
              "      <td>12437.0</td>\n",
              "      <td>France</td>\n",
              "      <td>2011-11-03</td>\n",
              "    </tr>\n",
              "    <tr>\n",
              "      <th>329894</th>\n",
              "      <td>574469</td>\n",
              "      <td>22385</td>\n",
              "      <td>JUMBO BAG SPACEBOY DESIGN</td>\n",
              "      <td>12</td>\n",
              "      <td>2011-11-04 11:55:00</td>\n",
              "      <td>0.0</td>\n",
              "      <td>12431.0</td>\n",
              "      <td>Australia</td>\n",
              "      <td>2011-11-04</td>\n",
              "    </tr>\n",
              "    <tr>\n",
              "      <th>336106</th>\n",
              "      <td>574879</td>\n",
              "      <td>22625</td>\n",
              "      <td>RED KITCHEN SCALES</td>\n",
              "      <td>2</td>\n",
              "      <td>2011-11-07 13:22:00</td>\n",
              "      <td>0.0</td>\n",
              "      <td>13014.0</td>\n",
              "      <td>United Kingdom</td>\n",
              "      <td>2011-11-07</td>\n",
              "    </tr>\n",
              "    <tr>\n",
              "      <th>336738</th>\n",
              "      <td>574920</td>\n",
              "      <td>22899</td>\n",
              "      <td>CHILDREN'S APRON DOLLY GIRL</td>\n",
              "      <td>1</td>\n",
              "      <td>2011-11-07 16:34:00</td>\n",
              "      <td>0.0</td>\n",
              "      <td>13985.0</td>\n",
              "      <td>United Kingdom</td>\n",
              "      <td>2011-11-07</td>\n",
              "    </tr>\n",
              "    <tr>\n",
              "      <th>336739</th>\n",
              "      <td>574920</td>\n",
              "      <td>23480</td>\n",
              "      <td>MINI LIGHTS WOODLAND MUSHROOMS</td>\n",
              "      <td>1</td>\n",
              "      <td>2011-11-07 16:34:00</td>\n",
              "      <td>0.0</td>\n",
              "      <td>13985.0</td>\n",
              "      <td>United Kingdom</td>\n",
              "      <td>2011-11-07</td>\n",
              "    </tr>\n",
              "    <tr>\n",
              "      <th>342114</th>\n",
              "      <td>575579</td>\n",
              "      <td>22437</td>\n",
              "      <td>SET OF 9 BLACK SKULL BALLOONS</td>\n",
              "      <td>20</td>\n",
              "      <td>2011-11-10 11:49:00</td>\n",
              "      <td>0.0</td>\n",
              "      <td>13081.0</td>\n",
              "      <td>United Kingdom</td>\n",
              "      <td>2011-11-10</td>\n",
              "    </tr>\n",
              "    <tr>\n",
              "      <th>342115</th>\n",
              "      <td>575579</td>\n",
              "      <td>22089</td>\n",
              "      <td>PAPER BUNTING VINTAGE PAISLEY</td>\n",
              "      <td>24</td>\n",
              "      <td>2011-11-10 11:49:00</td>\n",
              "      <td>0.0</td>\n",
              "      <td>13081.0</td>\n",
              "      <td>United Kingdom</td>\n",
              "      <td>2011-11-10</td>\n",
              "    </tr>\n",
              "    <tr>\n",
              "      <th>360854</th>\n",
              "      <td>577129</td>\n",
              "      <td>22464</td>\n",
              "      <td>HANGING METAL HEART LANTERN</td>\n",
              "      <td>4</td>\n",
              "      <td>2011-11-17 19:52:00</td>\n",
              "      <td>0.0</td>\n",
              "      <td>15602.0</td>\n",
              "      <td>United Kingdom</td>\n",
              "      <td>2011-11-17</td>\n",
              "    </tr>\n",
              "    <tr>\n",
              "      <th>361225</th>\n",
              "      <td>577168</td>\n",
              "      <td>M</td>\n",
              "      <td>Manual</td>\n",
              "      <td>1</td>\n",
              "      <td>2011-11-18 10:42:00</td>\n",
              "      <td>0.0</td>\n",
              "      <td>12603.0</td>\n",
              "      <td>Germany</td>\n",
              "      <td>2011-11-18</td>\n",
              "    </tr>\n",
              "    <tr>\n",
              "      <th>362308</th>\n",
              "      <td>577314</td>\n",
              "      <td>23407</td>\n",
              "      <td>SET OF 2 TRAYS HOME SWEET HOME</td>\n",
              "      <td>2</td>\n",
              "      <td>2011-11-18 13:23:00</td>\n",
              "      <td>0.0</td>\n",
              "      <td>12444.0</td>\n",
              "      <td>Norway</td>\n",
              "      <td>2011-11-18</td>\n",
              "    </tr>\n",
              "    <tr>\n",
              "      <th>366848</th>\n",
              "      <td>577696</td>\n",
              "      <td>M</td>\n",
              "      <td>Manual</td>\n",
              "      <td>1</td>\n",
              "      <td>2011-11-21 11:57:00</td>\n",
              "      <td>0.0</td>\n",
              "      <td>16406.0</td>\n",
              "      <td>United Kingdom</td>\n",
              "      <td>2011-11-21</td>\n",
              "    </tr>\n",
              "    <tr>\n",
              "      <th>378894</th>\n",
              "      <td>578841</td>\n",
              "      <td>84826</td>\n",
              "      <td>ASSTD DESIGN 3D PAPER STICKERS</td>\n",
              "      <td>12540</td>\n",
              "      <td>2011-11-25 15:57:00</td>\n",
              "      <td>0.0</td>\n",
              "      <td>13256.0</td>\n",
              "      <td>United Kingdom</td>\n",
              "      <td>2011-11-25</td>\n",
              "    </tr>\n",
              "  </tbody>\n",
              "</table>\n",
              "</div>"
            ],
            "text/plain": [
              "       InvoiceNo StockCode                          Description  Quantity  \\\n",
              "7012      537197     22841         ROUND CAKE TIN VINTAGE GREEN         1   \n",
              "23071     539263     22580         ADVENT CALENDAR GINGHAM SACK         4   \n",
              "26046     539722     22423             REGENCY CAKESTAND 3 TIER        10   \n",
              "29881     540372     22090              PAPER BUNTING RETROSPOT        24   \n",
              "29883     540372     22553               PLASTERS IN TIN SKULLS        24   \n",
              "35460     541109     22168        ORGANISER WOOD ANTIQUE WHITE          1   \n",
              "55279     543599    84535B         FAIRY CAKES NOTEBOOK A6 SIZE        16   \n",
              "87903     547417     22062  CERAMIC BOWL WITH LOVE HEART DESIGN        36   \n",
              "95201     548318     22055   MINI CAKE STAND  HANGING STRAWBERY         5   \n",
              "99945     548871     22162          HEART GARLAND RUSTIC PADDED         2   \n",
              "109968    550188     22636   CHILDS BREAKFAST SET CIRCUS PARADE         1   \n",
              "131865    553000     47566                        PARTY BUNTING         4   \n",
              "140517    554037     22619            SET OF 6 SOLDIER SKITTLES        80   \n",
              "199499    561284     22167           OVAL WALL MIRROR DIAMANTE          1   \n",
              "202073    561669     22960             JAM MAKING SET WITH JARS        11   \n",
              "204627    561916         M                               Manual         1   \n",
              "214132    562973     23157           SET OF 6 NATIVITY MAGNETS        240   \n",
              "229359    564651     23270     SET OF 2 CERAMIC PAINTED HEARTS         96   \n",
              "229360    564651     23268  SET OF 2 CERAMIC CHRISTMAS REINDEER       192   \n",
              "229361    564651     22955             36 FOIL STAR CAKE CASES        144   \n",
              "229362    564651     21786                   POLKADOT RAIN HAT        144   \n",
              "262429    568158      PADS           PADS TO MATCH ALL CUSHIONS         1   \n",
              "265590    568384         M                               Manual         1   \n",
              "280386    569716     22778                   GLASS CLOCHE SMALL         2   \n",
              "293578    571035         M                               Manual         1   \n",
              "314491    572893     21208          PASTEL COLOUR HONEYCOMB FAN         5   \n",
              "327463    574138     23234        BISCUIT TIN VINTAGE CHRISTMAS       216   \n",
              "327630    574175     22065       CHRISTMAS PUDDING TRINKET POT         12   \n",
              "327992    574252         M                               Manual         1   \n",
              "329894    574469     22385            JUMBO BAG SPACEBOY DESIGN        12   \n",
              "336106    574879     22625                   RED KITCHEN SCALES         2   \n",
              "336738    574920     22899         CHILDREN'S APRON DOLLY GIRL          1   \n",
              "336739    574920     23480       MINI LIGHTS WOODLAND MUSHROOMS         1   \n",
              "342114    575579     22437        SET OF 9 BLACK SKULL BALLOONS        20   \n",
              "342115    575579     22089        PAPER BUNTING VINTAGE PAISLEY        24   \n",
              "360854    577129     22464          HANGING METAL HEART LANTERN         4   \n",
              "361225    577168         M                               Manual         1   \n",
              "362308    577314     23407       SET OF 2 TRAYS HOME SWEET HOME         2   \n",
              "366848    577696         M                               Manual         1   \n",
              "378894    578841     84826       ASSTD DESIGN 3D PAPER STICKERS     12540   \n",
              "\n",
              "               InvoiceDate  UnitPrice  CustomerID         Country InvoiceDate2  \n",
              "7012   2010-12-05 14:02:00        0.0     12647.0         Germany   2010-12-05  \n",
              "23071  2010-12-16 14:36:00        0.0     16560.0  United Kingdom   2010-12-16  \n",
              "26046  2010-12-21 13:45:00        0.0     14911.0            EIRE   2010-12-21  \n",
              "29881  2011-01-06 16:41:00        0.0     13081.0  United Kingdom   2011-01-06  \n",
              "29883  2011-01-06 16:41:00        0.0     13081.0  United Kingdom   2011-01-06  \n",
              "35460  2011-01-13 15:10:00        0.0     15107.0  United Kingdom   2011-01-13  \n",
              "55279  2011-02-10 13:08:00        0.0     17560.0  United Kingdom   2011-02-10  \n",
              "87903  2011-03-23 10:25:00        0.0     13239.0  United Kingdom   2011-03-23  \n",
              "95201  2011-03-30 12:45:00        0.0     13113.0  United Kingdom   2011-03-30  \n",
              "99945  2011-04-04 14:42:00        0.0     14410.0  United Kingdom   2011-04-04  \n",
              "109968 2011-04-14 18:57:00        0.0     12457.0     Switzerland   2011-04-14  \n",
              "131865 2011-05-12 15:21:00        0.0     17667.0  United Kingdom   2011-05-12  \n",
              "140517 2011-05-20 14:13:00        0.0     12415.0       Australia   2011-05-20  \n",
              "199499 2011-07-26 12:24:00        0.0     16818.0  United Kingdom   2011-07-26  \n",
              "202073 2011-07-28 17:09:00        0.0     12507.0           Spain   2011-07-28  \n",
              "204627 2011-08-01 11:44:00        0.0     15581.0  United Kingdom   2011-08-01  \n",
              "214132 2011-08-11 11:42:00        0.0     14911.0            EIRE   2011-08-11  \n",
              "229359 2011-08-26 14:19:00        0.0     14646.0     Netherlands   2011-08-26  \n",
              "229360 2011-08-26 14:19:00        0.0     14646.0     Netherlands   2011-08-26  \n",
              "229361 2011-08-26 14:19:00        0.0     14646.0     Netherlands   2011-08-26  \n",
              "229362 2011-08-26 14:19:00        0.0     14646.0     Netherlands   2011-08-26  \n",
              "262429 2011-09-25 12:22:00        0.0     16133.0  United Kingdom   2011-09-25  \n",
              "265590 2011-09-27 09:46:00        0.0     12748.0  United Kingdom   2011-09-27  \n",
              "280386 2011-10-06 08:17:00        0.0     15804.0  United Kingdom   2011-10-06  \n",
              "293578 2011-10-13 12:50:00        0.0     12446.0             RSA   2011-10-13  \n",
              "314491 2011-10-26 14:36:00        0.0     18059.0  United Kingdom   2011-10-26  \n",
              "327463 2011-11-03 11:26:00        0.0     12415.0       Australia   2011-11-03  \n",
              "327630 2011-11-03 11:47:00        0.0     14110.0  United Kingdom   2011-11-03  \n",
              "327992 2011-11-03 13:24:00        0.0     12437.0          France   2011-11-03  \n",
              "329894 2011-11-04 11:55:00        0.0     12431.0       Australia   2011-11-04  \n",
              "336106 2011-11-07 13:22:00        0.0     13014.0  United Kingdom   2011-11-07  \n",
              "336738 2011-11-07 16:34:00        0.0     13985.0  United Kingdom   2011-11-07  \n",
              "336739 2011-11-07 16:34:00        0.0     13985.0  United Kingdom   2011-11-07  \n",
              "342114 2011-11-10 11:49:00        0.0     13081.0  United Kingdom   2011-11-10  \n",
              "342115 2011-11-10 11:49:00        0.0     13081.0  United Kingdom   2011-11-10  \n",
              "360854 2011-11-17 19:52:00        0.0     15602.0  United Kingdom   2011-11-17  \n",
              "361225 2011-11-18 10:42:00        0.0     12603.0         Germany   2011-11-18  \n",
              "362308 2011-11-18 13:23:00        0.0     12444.0          Norway   2011-11-18  \n",
              "366848 2011-11-21 11:57:00        0.0     16406.0  United Kingdom   2011-11-21  \n",
              "378894 2011-11-25 15:57:00        0.0     13256.0  United Kingdom   2011-11-25  "
            ]
          },
          "execution_count": 63,
          "metadata": {},
          "output_type": "execute_result"
        }
      ],
      "source": [
        "# 2) Unitprice=0인 케이스  \n",
        "df_na_treat[df_na_treat.UnitPrice ==0]\n",
        "# 이건 사은품 정도로 생각하고 제외시키기"
      ]
    },
    {
      "cell_type": "code",
      "execution_count": null,
      "metadata": {
        "id": "9eRQw3no8XeW",
        "outputId": "324e5f30-adb0-4661-a653-3271b140c34b"
      },
      "outputs": [
        {
          "data": {
            "text/plain": [
              "(40, 9)"
            ]
          },
          "execution_count": 64,
          "metadata": {},
          "output_type": "execute_result"
        }
      ],
      "source": [
        "df_na_treat[df_na_treat.UnitPrice ==0].shape"
      ]
    },
    {
      "cell_type": "code",
      "execution_count": null,
      "metadata": {
        "id": "6jJXOYm-8XeX",
        "outputId": "6f56e531-0295-4d4a-a21f-2f14a8ca3ab7"
      },
      "outputs": [
        {
          "data": {
            "text/plain": [
              "397884"
            ]
          },
          "execution_count": 68,
          "metadata": {},
          "output_type": "execute_result"
        }
      ],
      "source": [
        "397924-40"
      ]
    },
    {
      "cell_type": "code",
      "execution_count": null,
      "metadata": {
        "id": "BBsAUms88XeY"
      },
      "outputs": [],
      "source": [
        "df_na_treat = df_na_treat[df_na_treat.UnitPrice > 0].reset_index(drop=True)"
      ]
    },
    {
      "cell_type": "code",
      "execution_count": null,
      "metadata": {
        "scrolled": true,
        "id": "fb9aC79T8XeY",
        "outputId": "b6609bce-a8b1-42ef-e08b-9fa0a0ddb29f"
      },
      "outputs": [
        {
          "data": {
            "text/html": [
              "<div>\n",
              "<style scoped>\n",
              "    .dataframe tbody tr th:only-of-type {\n",
              "        vertical-align: middle;\n",
              "    }\n",
              "\n",
              "    .dataframe tbody tr th {\n",
              "        vertical-align: top;\n",
              "    }\n",
              "\n",
              "    .dataframe thead th {\n",
              "        text-align: right;\n",
              "    }\n",
              "</style>\n",
              "<table border=\"1\" class=\"dataframe\">\n",
              "  <thead>\n",
              "    <tr style=\"text-align: right;\">\n",
              "      <th></th>\n",
              "      <th>InvoiceNo</th>\n",
              "      <th>StockCode</th>\n",
              "      <th>Description</th>\n",
              "      <th>Quantity</th>\n",
              "      <th>InvoiceDate</th>\n",
              "      <th>UnitPrice</th>\n",
              "      <th>CustomerID</th>\n",
              "      <th>Country</th>\n",
              "      <th>InvoiceDate2</th>\n",
              "    </tr>\n",
              "  </thead>\n",
              "  <tbody>\n",
              "    <tr>\n",
              "      <th>0</th>\n",
              "      <td>536365</td>\n",
              "      <td>85123A</td>\n",
              "      <td>WHITE HANGING HEART T-LIGHT HOLDER</td>\n",
              "      <td>6</td>\n",
              "      <td>2010-12-01 08:26:00</td>\n",
              "      <td>2.55</td>\n",
              "      <td>17850.0</td>\n",
              "      <td>United Kingdom</td>\n",
              "      <td>2010-12-01</td>\n",
              "    </tr>\n",
              "    <tr>\n",
              "      <th>1</th>\n",
              "      <td>536365</td>\n",
              "      <td>71053</td>\n",
              "      <td>WHITE METAL LANTERN</td>\n",
              "      <td>6</td>\n",
              "      <td>2010-12-01 08:26:00</td>\n",
              "      <td>3.39</td>\n",
              "      <td>17850.0</td>\n",
              "      <td>United Kingdom</td>\n",
              "      <td>2010-12-01</td>\n",
              "    </tr>\n",
              "    <tr>\n",
              "      <th>2</th>\n",
              "      <td>536365</td>\n",
              "      <td>84406B</td>\n",
              "      <td>CREAM CUPID HEARTS COAT HANGER</td>\n",
              "      <td>8</td>\n",
              "      <td>2010-12-01 08:26:00</td>\n",
              "      <td>2.75</td>\n",
              "      <td>17850.0</td>\n",
              "      <td>United Kingdom</td>\n",
              "      <td>2010-12-01</td>\n",
              "    </tr>\n",
              "    <tr>\n",
              "      <th>3</th>\n",
              "      <td>536365</td>\n",
              "      <td>84029G</td>\n",
              "      <td>KNITTED UNION FLAG HOT WATER BOTTLE</td>\n",
              "      <td>6</td>\n",
              "      <td>2010-12-01 08:26:00</td>\n",
              "      <td>3.39</td>\n",
              "      <td>17850.0</td>\n",
              "      <td>United Kingdom</td>\n",
              "      <td>2010-12-01</td>\n",
              "    </tr>\n",
              "    <tr>\n",
              "      <th>4</th>\n",
              "      <td>536365</td>\n",
              "      <td>84029E</td>\n",
              "      <td>RED WOOLLY HOTTIE WHITE HEART.</td>\n",
              "      <td>6</td>\n",
              "      <td>2010-12-01 08:26:00</td>\n",
              "      <td>3.39</td>\n",
              "      <td>17850.0</td>\n",
              "      <td>United Kingdom</td>\n",
              "      <td>2010-12-01</td>\n",
              "    </tr>\n",
              "    <tr>\n",
              "      <th>...</th>\n",
              "      <td>...</td>\n",
              "      <td>...</td>\n",
              "      <td>...</td>\n",
              "      <td>...</td>\n",
              "      <td>...</td>\n",
              "      <td>...</td>\n",
              "      <td>...</td>\n",
              "      <td>...</td>\n",
              "      <td>...</td>\n",
              "    </tr>\n",
              "    <tr>\n",
              "      <th>397879</th>\n",
              "      <td>581587</td>\n",
              "      <td>22613</td>\n",
              "      <td>PACK OF 20 SPACEBOY NAPKINS</td>\n",
              "      <td>12</td>\n",
              "      <td>2011-12-09 12:50:00</td>\n",
              "      <td>0.85</td>\n",
              "      <td>12680.0</td>\n",
              "      <td>France</td>\n",
              "      <td>2011-12-09</td>\n",
              "    </tr>\n",
              "    <tr>\n",
              "      <th>397880</th>\n",
              "      <td>581587</td>\n",
              "      <td>22899</td>\n",
              "      <td>CHILDREN'S APRON DOLLY GIRL</td>\n",
              "      <td>6</td>\n",
              "      <td>2011-12-09 12:50:00</td>\n",
              "      <td>2.10</td>\n",
              "      <td>12680.0</td>\n",
              "      <td>France</td>\n",
              "      <td>2011-12-09</td>\n",
              "    </tr>\n",
              "    <tr>\n",
              "      <th>397881</th>\n",
              "      <td>581587</td>\n",
              "      <td>23254</td>\n",
              "      <td>CHILDRENS CUTLERY DOLLY GIRL</td>\n",
              "      <td>4</td>\n",
              "      <td>2011-12-09 12:50:00</td>\n",
              "      <td>4.15</td>\n",
              "      <td>12680.0</td>\n",
              "      <td>France</td>\n",
              "      <td>2011-12-09</td>\n",
              "    </tr>\n",
              "    <tr>\n",
              "      <th>397882</th>\n",
              "      <td>581587</td>\n",
              "      <td>23255</td>\n",
              "      <td>CHILDRENS CUTLERY CIRCUS PARADE</td>\n",
              "      <td>4</td>\n",
              "      <td>2011-12-09 12:50:00</td>\n",
              "      <td>4.15</td>\n",
              "      <td>12680.0</td>\n",
              "      <td>France</td>\n",
              "      <td>2011-12-09</td>\n",
              "    </tr>\n",
              "    <tr>\n",
              "      <th>397883</th>\n",
              "      <td>581587</td>\n",
              "      <td>22138</td>\n",
              "      <td>BAKING SET 9 PIECE RETROSPOT</td>\n",
              "      <td>3</td>\n",
              "      <td>2011-12-09 12:50:00</td>\n",
              "      <td>4.95</td>\n",
              "      <td>12680.0</td>\n",
              "      <td>France</td>\n",
              "      <td>2011-12-09</td>\n",
              "    </tr>\n",
              "  </tbody>\n",
              "</table>\n",
              "<p>397884 rows × 9 columns</p>\n",
              "</div>"
            ],
            "text/plain": [
              "       InvoiceNo StockCode                          Description  Quantity  \\\n",
              "0         536365    85123A   WHITE HANGING HEART T-LIGHT HOLDER         6   \n",
              "1         536365     71053                  WHITE METAL LANTERN         6   \n",
              "2         536365    84406B       CREAM CUPID HEARTS COAT HANGER         8   \n",
              "3         536365    84029G  KNITTED UNION FLAG HOT WATER BOTTLE         6   \n",
              "4         536365    84029E       RED WOOLLY HOTTIE WHITE HEART.         6   \n",
              "...          ...       ...                                  ...       ...   \n",
              "397879    581587     22613          PACK OF 20 SPACEBOY NAPKINS        12   \n",
              "397880    581587     22899         CHILDREN'S APRON DOLLY GIRL          6   \n",
              "397881    581587     23254        CHILDRENS CUTLERY DOLLY GIRL          4   \n",
              "397882    581587     23255      CHILDRENS CUTLERY CIRCUS PARADE         4   \n",
              "397883    581587     22138        BAKING SET 9 PIECE RETROSPOT          3   \n",
              "\n",
              "               InvoiceDate  UnitPrice  CustomerID         Country InvoiceDate2  \n",
              "0      2010-12-01 08:26:00       2.55     17850.0  United Kingdom   2010-12-01  \n",
              "1      2010-12-01 08:26:00       3.39     17850.0  United Kingdom   2010-12-01  \n",
              "2      2010-12-01 08:26:00       2.75     17850.0  United Kingdom   2010-12-01  \n",
              "3      2010-12-01 08:26:00       3.39     17850.0  United Kingdom   2010-12-01  \n",
              "4      2010-12-01 08:26:00       3.39     17850.0  United Kingdom   2010-12-01  \n",
              "...                    ...        ...         ...             ...          ...  \n",
              "397879 2011-12-09 12:50:00       0.85     12680.0          France   2011-12-09  \n",
              "397880 2011-12-09 12:50:00       2.10     12680.0          France   2011-12-09  \n",
              "397881 2011-12-09 12:50:00       4.15     12680.0          France   2011-12-09  \n",
              "397882 2011-12-09 12:50:00       4.15     12680.0          France   2011-12-09  \n",
              "397883 2011-12-09 12:50:00       4.95     12680.0          France   2011-12-09  \n",
              "\n",
              "[397884 rows x 9 columns]"
            ]
          },
          "execution_count": 66,
          "metadata": {},
          "output_type": "execute_result"
        }
      ],
      "source": [
        "df_na_treat"
      ]
    },
    {
      "cell_type": "code",
      "execution_count": null,
      "metadata": {
        "id": "XBjb2MAz8XeZ",
        "outputId": "a7134e21-626d-4cc0-e4e2-7220d4841000"
      },
      "outputs": [
        {
          "data": {
            "text/plain": [
              "count    397884.000000\n",
              "mean         12.988238\n",
              "std         179.331775\n",
              "min           1.000000\n",
              "25%           2.000000\n",
              "50%           6.000000\n",
              "75%          12.000000\n",
              "max       80995.000000\n",
              "Name: Quantity, dtype: float64"
            ]
          },
          "execution_count": 69,
          "metadata": {},
          "output_type": "execute_result"
        }
      ],
      "source": [
        "# 3) Quantity가 80995건인 케이스(지나치게 많은 케이스)\n",
        "df_na_treat['Quantity'].describe()"
      ]
    },
    {
      "cell_type": "code",
      "execution_count": null,
      "metadata": {
        "id": "dy6rMqrD8XeZ",
        "outputId": "79fc88ff-cdf3-4d88-8318-06c6785b19d6"
      },
      "outputs": [
        {
          "data": {
            "text/plain": [
              "42"
            ]
          },
          "execution_count": 122,
          "metadata": {},
          "output_type": "execute_result"
        }
      ],
      "source": [
        "12+(3*10)"
      ]
    },
    {
      "cell_type": "markdown",
      "metadata": {
        "id": "DpUWqW1L8Xea"
      },
      "source": [
        "#### Quantity변수 이상치 찾기  \n",
        "1) boxplot  \n",
        "2) 상위 1% 확인  \n",
        "3) 평균, 표준편차(더가면 평균부터 3시그마, 6시그마까지)"
      ]
    },
    {
      "cell_type": "code",
      "execution_count": null,
      "metadata": {
        "id": "gnI3RVoB8Xea"
      },
      "outputs": [],
      "source": [
        "import warnings"
      ]
    },
    {
      "cell_type": "code",
      "execution_count": null,
      "metadata": {
        "id": "K7xgP9EW8Xeb"
      },
      "outputs": [],
      "source": [
        "warnings.filterwarnings('ignore')"
      ]
    },
    {
      "cell_type": "code",
      "execution_count": null,
      "metadata": {
        "id": "3Tezof0N8Xeb"
      },
      "outputs": [],
      "source": [
        "# 1) boxplot "
      ]
    },
    {
      "cell_type": "code",
      "execution_count": null,
      "metadata": {
        "scrolled": true,
        "id": "yA3AseJV8Xeb",
        "outputId": "cc30ad0f-e178-4ff3-bfdb-3cea9cad6d1a"
      },
      "outputs": [
        {
          "data": {
            "text/plain": [
              "<AxesSubplot:xlabel='Quantity'>"
            ]
          },
          "execution_count": 74,
          "metadata": {},
          "output_type": "execute_result"
        },
        {
          "data": {
            "image/png": "[encoded data removed]",
            "text/plain": [
              "<Figure size 432x288 with 1 Axes>"
            ]
          },
          "metadata": {
            "needs_background": "light"
          },
          "output_type": "display_data"
        }
      ],
      "source": [
        "sns.boxplot(df_na_treat['Quantity'])"
      ]
    },
    {
      "cell_type": "code",
      "execution_count": null,
      "metadata": {
        "id": "mZMMixSk8Xec",
        "outputId": "9f7b496b-04d9-4449-dcfe-49f382822859"
      },
      "outputs": [
        {
          "data": {
            "text/plain": [
              "27.0"
            ]
          },
          "execution_count": 78,
          "metadata": {},
          "output_type": "execute_result"
        }
      ],
      "source": [
        "12+1.5*(12-2)"
      ]
    },
    {
      "cell_type": "code",
      "execution_count": null,
      "metadata": {
        "scrolled": true,
        "id": "UWIswIja8Xec",
        "outputId": "a736c3a4-e69d-45df-ab6b-ca104895724a"
      },
      "outputs": [
        {
          "data": {
            "text/plain": [
              "(-10.0, 80.0)"
            ]
          },
          "execution_count": 75,
          "metadata": {},
          "output_type": "execute_result"
        },
        {
          "data": {
            "image/png": "[encoded data removed]",
            "text/plain": [
              "<Figure size 432x288 with 1 Axes>"
            ]
          },
          "metadata": {
            "needs_background": "light"
          },
          "output_type": "display_data"
        }
      ],
      "source": [
        "sns.boxplot(df_na_treat['Quantity'])\n",
        "plt.xlim(-10,80)"
      ]
    },
    {
      "cell_type": "code",
      "execution_count": null,
      "metadata": {
        "id": "QDa9XvPT8Xed"
      },
      "outputs": [],
      "source": [
        "def outliers_iqr(ys):\n",
        "    quartile_1, quartile_3 = np.percentile(ys, [25, 75])\n",
        "    iqr = quartile_3 - quartile_1\n",
        "    lower_bound = quartile_1 - (iqr * 1.5)\n",
        "    upper_bound = quartile_3 + (iqr * 1.5)\n",
        "    return np.where((ys > upper_bound) | (ys < lower_bound))"
      ]
    },
    {
      "cell_type": "code",
      "execution_count": null,
      "metadata": {
        "scrolled": true,
        "id": "i4nQ9ehd8Xed",
        "outputId": "48d958aa-0e97-447c-bff9-43085555e4ba"
      },
      "outputs": [
        {
          "data": {
            "text/plain": [
              "(array([     9,     31,     44, ..., 397841, 397842, 397843], dtype=int64),)"
            ]
          },
          "execution_count": 92,
          "metadata": {},
          "output_type": "execute_result"
        }
      ],
      "source": [
        "outliers_iqr(df_na_treat['Quantity'])"
      ]
    },
    {
      "cell_type": "code",
      "execution_count": null,
      "metadata": {
        "id": "9XHqM2BX8Xee"
      },
      "outputs": [],
      "source": [
        "# 표준점수 기반 예제 코드\n",
        "def std_based_outlier(df):\n",
        "    for i in range(0, len(df.iloc[1])): \n",
        "        df.iloc[:,i] = df.iloc[:,i].replace(0, np.NaN) # optional\n",
        "        df = df[~(np.abs(df.iloc[:,i] - df.iloc[:,i].mean()) > (3*df.iloc[:,i].std()))].fillna(0)"
      ]
    },
    {
      "cell_type": "code",
      "execution_count": null,
      "metadata": {
        "scrolled": true,
        "id": "bPu3ru5D8Xee",
        "outputId": "003c4edb-f63e-41fb-a750-07b6d134aa75"
      },
      "outputs": [
        {
          "data": {
            "text/plain": [
              "120.0"
            ]
          },
          "execution_count": 80,
          "metadata": {},
          "output_type": "execute_result"
        }
      ],
      "source": [
        "# 2) 상위 1% 확인 \n",
        "df_na_treat['Quantity'].quantile(0.99)"
      ]
    },
    {
      "cell_type": "code",
      "execution_count": null,
      "metadata": {
        "scrolled": true,
        "id": "_jc9pQx48Xef",
        "outputId": "bb6455c2-c1fb-46cb-9e61-8a2ce667cbfb"
      },
      "outputs": [
        {
          "data": {
            "text/plain": [
              "(-10.0, 150.0)"
            ]
          },
          "execution_count": 81,
          "metadata": {},
          "output_type": "execute_result"
        },
        {
          "data": {
            "image/png": "[encoded data removed]",
            "text/plain": [
              "<Figure size 432x288 with 1 Axes>"
            ]
          },
          "metadata": {
            "needs_background": "light"
          },
          "output_type": "display_data"
        }
      ],
      "source": [
        "sns.boxplot(df_na_treat['Quantity'])\n",
        "plt.xlim(-10,150)"
      ]
    },
    {
      "cell_type": "code",
      "execution_count": null,
      "metadata": {
        "id": "hS3NU2gr8Xef"
      },
      "outputs": [],
      "source": [
        "# 3) 평균, 표준편차(더가면 평균부터 3시그마, 6시그마까지)\n",
        "# >>> 분포그려보기"
      ]
    },
    {
      "cell_type": "code",
      "execution_count": null,
      "metadata": {
        "id": "gYLxGLSJ8Xef",
        "outputId": "918aedcf-5aab-4d28-bfd7-9c750c54e13e"
      },
      "outputs": [
        {
          "data": {
            "text/plain": [
              "(-10.0, 150.0)"
            ]
          },
          "execution_count": 87,
          "metadata": {},
          "output_type": "execute_result"
        },
        {
          "data": {
            "image/png": "[encoded data removed]",
            "text/plain": [
              "<Figure size 432x288 with 1 Axes>"
            ]
          },
          "metadata": {
            "needs_background": "light"
          },
          "output_type": "display_data"
        }
      ],
      "source": [
        "sns.histplot(df_na_treat['Quantity'],bins = 10000)\n",
        "plt.xlim(-10,150)"
      ]
    },
    {
      "cell_type": "code",
      "execution_count": null,
      "metadata": {
        "scrolled": true,
        "id": "t3Jokbh68Xeg",
        "outputId": "91f0f6c1-9680-4f53-f18f-830106bd91d4"
      },
      "outputs": [
        {
          "data": {
            "text/plain": [
              "583168"
            ]
          },
          "execution_count": 88,
          "metadata": {},
          "output_type": "execute_result"
        }
      ],
      "source": [
        "import gc\n",
        "gc.collect()"
      ]
    },
    {
      "cell_type": "code",
      "execution_count": null,
      "metadata": {
        "id": "3oPXlwuF8Xeg"
      },
      "outputs": [],
      "source": [
        "# https://lifelong-education-dr-kim.tistory.com/entry/python-pandas-series-type%EC%97%90%EC%84%9C-%EC%9D%B4%EC%83%81%EC%B9%98-outlier-%EC%A0%9C%EA%B1%B0-%ED%95%98%EA%B8%B0\n",
        "q_mean = df_na_treat['Quantity'].mean()"
      ]
    },
    {
      "cell_type": "code",
      "execution_count": null,
      "metadata": {
        "id": "k5P01zSs8Xeh",
        "outputId": "c9aef1c7-1dca-492e-eeed-2babe9c9f068"
      },
      "outputs": [
        {
          "data": {
            "text/plain": [
              "12.988237777844798"
            ]
          },
          "execution_count": 113,
          "metadata": {},
          "output_type": "execute_result"
        }
      ],
      "source": [
        "q_mean"
      ]
    },
    {
      "cell_type": "code",
      "execution_count": null,
      "metadata": {
        "id": "Z7LdNzZ58Xeh"
      },
      "outputs": [],
      "source": [
        "q_std =df_na_treat['Quantity'].std()"
      ]
    },
    {
      "cell_type": "code",
      "execution_count": null,
      "metadata": {
        "id": "ng97uIo78Xei",
        "outputId": "d4f49d8f-5b3f-4cc5-f44d-744324ce4b3e"
      },
      "outputs": [
        {
          "data": {
            "text/plain": [
              "179.33177496319874"
            ]
          },
          "execution_count": 114,
          "metadata": {},
          "output_type": "execute_result"
        }
      ],
      "source": [
        "q_std"
      ]
    },
    {
      "cell_type": "code",
      "execution_count": null,
      "metadata": {
        "id": "_T38hXYV8Xei"
      },
      "outputs": [],
      "source": [
        "import scipy.stats as stats"
      ]
    },
    {
      "cell_type": "code",
      "execution_count": null,
      "metadata": {
        "id": "xoKvJFAp8Xej"
      },
      "outputs": [],
      "source": [
        "pdf = stats.norm.pdf(np.sort(df_na_treat['Quantity']), q_mean, q_std)"
      ]
    },
    {
      "cell_type": "code",
      "execution_count": null,
      "metadata": {
        "id": "OYMbb1ug8Xej",
        "outputId": "346fc43d-1d52-47b1-b253-6308db882ff8"
      },
      "outputs": [
        {
          "data": {
            "text/plain": [
              "array([0.24197072, 0.24197072, 0.24197072, ..., 0.        , 0.        ,\n",
              "       0.        ])"
            ]
          },
          "execution_count": 109,
          "metadata": {},
          "output_type": "execute_result"
        }
      ],
      "source": [
        "pdf"
      ]
    },
    {
      "cell_type": "code",
      "execution_count": null,
      "metadata": {
        "id": "kzjkUbfN8Xej",
        "outputId": "017544de-d45e-46a1-ed5c-ae19f1bb61cc"
      },
      "outputs": [
        {
          "data": {
            "text/plain": [
              "12608"
            ]
          },
          "execution_count": 111,
          "metadata": {},
          "output_type": "execute_result"
        }
      ],
      "source": [
        "gc.collect()"
      ]
    },
    {
      "cell_type": "markdown",
      "metadata": {
        "id": "dfJegwVQ8Xek"
      },
      "source": [
        "###[To-DO] Isolation으로 이상치 제거해보기  \n",
        "https://minkithub.github.io/2020/05/03/seoulpark2/"
      ]
    },
    {
      "cell_type": "markdown",
      "metadata": {
        "id": "4PRfU-LM8Xek"
      },
      "source": [
        "##### Standard Scale    \n",
        "(표준정규분포로의 표준화)  \n",
        ": 평균은 0, 표준편차는 1이 되도록 변환해준다. 가장 일반적으로 사용되는 스케일링 기법"
      ]
    },
    {
      "cell_type": "code",
      "execution_count": null,
      "metadata": {
        "id": "10qBFsrj8Xel"
      },
      "outputs": [],
      "source": [
        "from sklearn.preprocessing import StandardScaler\n",
        "\n",
        "scale_data = df_na_treat[['Quantity']]\n",
        "\n",
        "scaler = StandardScaler()\n",
        "scaler.fit(scale_data)\n",
        "scale_data_scaled_standard = scaler.transform(scale_data)\n",
        "scale_data_scaled_standard_des = pd.DataFrame(scale_data_scaled_standard).describe()\n",
        "scale_data_scaled_standard_des.columns = scale_data.columns\n",
        "scale_data_scaled_standard_des = round(scale_data_scaled_standard_des)"
      ]
    },
    {
      "cell_type": "code",
      "execution_count": null,
      "metadata": {
        "id": "VMPrIcGR8Xel",
        "outputId": "1de80f05-959a-4c8e-bd9b-9172964382ad"
      },
      "outputs": [
        {
          "data": {
            "text/html": [
              "<div>\n",
              "<style scoped>\n",
              "    .dataframe tbody tr th:only-of-type {\n",
              "        vertical-align: middle;\n",
              "    }\n",
              "\n",
              "    .dataframe tbody tr th {\n",
              "        vertical-align: top;\n",
              "    }\n",
              "\n",
              "    .dataframe thead th {\n",
              "        text-align: right;\n",
              "    }\n",
              "</style>\n",
              "<table border=\"1\" class=\"dataframe\">\n",
              "  <thead>\n",
              "    <tr style=\"text-align: right;\">\n",
              "      <th></th>\n",
              "      <th>Quantity</th>\n",
              "    </tr>\n",
              "  </thead>\n",
              "  <tbody>\n",
              "    <tr>\n",
              "      <th>count</th>\n",
              "      <td>397884.0</td>\n",
              "    </tr>\n",
              "    <tr>\n",
              "      <th>mean</th>\n",
              "      <td>0.0</td>\n",
              "    </tr>\n",
              "    <tr>\n",
              "      <th>std</th>\n",
              "      <td>1.0</td>\n",
              "    </tr>\n",
              "    <tr>\n",
              "      <th>min</th>\n",
              "      <td>-0.0</td>\n",
              "    </tr>\n",
              "    <tr>\n",
              "      <th>25%</th>\n",
              "      <td>-0.0</td>\n",
              "    </tr>\n",
              "    <tr>\n",
              "      <th>50%</th>\n",
              "      <td>-0.0</td>\n",
              "    </tr>\n",
              "    <tr>\n",
              "      <th>75%</th>\n",
              "      <td>-0.0</td>\n",
              "    </tr>\n",
              "    <tr>\n",
              "      <th>max</th>\n",
              "      <td>452.0</td>\n",
              "    </tr>\n",
              "  </tbody>\n",
              "</table>\n",
              "</div>"
            ],
            "text/plain": [
              "       Quantity\n",
              "count  397884.0\n",
              "mean        0.0\n",
              "std         1.0\n",
              "min        -0.0\n",
              "25%        -0.0\n",
              "50%        -0.0\n",
              "75%        -0.0\n",
              "max       452.0"
            ]
          },
          "execution_count": 136,
          "metadata": {},
          "output_type": "execute_result"
        }
      ],
      "source": [
        "scale_data_scaled_standard #mean(0), std(1)확인 "
      ]
    },
    {
      "cell_type": "code",
      "execution_count": null,
      "metadata": {
        "id": "vCZMleQS8Xem",
        "outputId": "af96fd46-e365-488a-f807-4ba2bf9dadd6"
      },
      "outputs": [
        {
          "data": {
            "text/plain": [
              "(array([0.0000e+00, 0.0000e+00, 0.0000e+00, 0.0000e+00, 0.0000e+00,\n",
              "        0.0000e+00, 0.0000e+00, 0.0000e+00, 0.0000e+00, 0.0000e+00,\n",
              "        0.0000e+00, 0.0000e+00, 0.0000e+00, 0.0000e+00, 3.3196e+05,\n",
              "        5.3425e+04, 4.1840e+03, 4.4250e+03, 1.2660e+03, 4.9500e+02,\n",
              "        5.6200e+02, 3.4300e+02, 2.6200e+02, 1.5600e+02, 7.2000e+01,\n",
              "        1.0100e+02, 1.0800e+02, 1.1000e+01, 1.2300e+02]),\n",
              " array([-3.00000000e+00, -2.80000000e+00, -2.60000000e+00, -2.40000000e+00,\n",
              "        -2.20000000e+00, -2.00000000e+00, -1.80000000e+00, -1.60000000e+00,\n",
              "        -1.40000000e+00, -1.20000000e+00, -1.00000000e+00, -8.00000000e-01,\n",
              "        -6.00000000e-01, -4.00000000e-01, -2.00000000e-01,  2.66453526e-15,\n",
              "         2.00000000e-01,  4.00000000e-01,  6.00000000e-01,  8.00000000e-01,\n",
              "         1.00000000e+00,  1.20000000e+00,  1.40000000e+00,  1.60000000e+00,\n",
              "         1.80000000e+00,  2.00000000e+00,  2.20000000e+00,  2.40000000e+00,\n",
              "         2.60000000e+00,  2.80000000e+00]),\n",
              " <BarContainer object of 29 artists>)"
            ]
          },
          "execution_count": 148,
          "metadata": {},
          "output_type": "execute_result"
        },
        {
          "data": {
            "image/png": "[encoded data removed]",
            "text/plain": [
              "<Figure size 432x288 with 1 Axes>"
            ]
          },
          "metadata": {
            "needs_background": "light"
          },
          "output_type": "display_data"
        }
      ],
      "source": [
        "plt.hist(scale_data_scaled_standard, bins = np.arange(-3,3,0.2))"
      ]
    },
    {
      "cell_type": "code",
      "execution_count": null,
      "metadata": {
        "id": "PT7Hejrn8Xem"
      },
      "outputs": [],
      "source": [
        "zoom_in_standard = scale_data_scaled_standard[scale_data_scaled_standard<1*3]"
      ]
    },
    {
      "cell_type": "code",
      "execution_count": null,
      "metadata": {
        "id": "oJK3w19c8Xem",
        "outputId": "4037edbd-4d50-4c9a-d3de-b9a0502e6944"
      },
      "outputs": [
        {
          "data": {
            "text/plain": [
              "(array([0.0000e+00, 0.0000e+00, 0.0000e+00, 0.0000e+00, 0.0000e+00,\n",
              "        0.0000e+00, 0.0000e+00, 0.0000e+00, 0.0000e+00, 0.0000e+00,\n",
              "        0.0000e+00, 0.0000e+00, 0.0000e+00, 0.0000e+00, 3.3196e+05,\n",
              "        5.3425e+04, 4.1840e+03, 4.4250e+03, 1.2660e+03, 4.9500e+02,\n",
              "        5.6200e+02, 3.4300e+02, 2.6200e+02, 1.5600e+02, 7.2000e+01,\n",
              "        1.0100e+02, 1.0800e+02, 1.1000e+01, 1.2300e+02]),\n",
              " array([-3.00000000e+00, -2.80000000e+00, -2.60000000e+00, -2.40000000e+00,\n",
              "        -2.20000000e+00, -2.00000000e+00, -1.80000000e+00, -1.60000000e+00,\n",
              "        -1.40000000e+00, -1.20000000e+00, -1.00000000e+00, -8.00000000e-01,\n",
              "        -6.00000000e-01, -4.00000000e-01, -2.00000000e-01,  2.66453526e-15,\n",
              "         2.00000000e-01,  4.00000000e-01,  6.00000000e-01,  8.00000000e-01,\n",
              "         1.00000000e+00,  1.20000000e+00,  1.40000000e+00,  1.60000000e+00,\n",
              "         1.80000000e+00,  2.00000000e+00,  2.20000000e+00,  2.40000000e+00,\n",
              "         2.60000000e+00,  2.80000000e+00]),\n",
              " <BarContainer object of 29 artists>)"
            ]
          },
          "execution_count": 154,
          "metadata": {},
          "output_type": "execute_result"
        },
        {
          "data": {
            "image/png": "[encoded data removed]",
            "text/plain": [
              "<Figure size 432x288 with 1 Axes>"
            ]
          },
          "metadata": {
            "needs_background": "light"
          },
          "output_type": "display_data"
        }
      ],
      "source": [
        "plt.hist(zoom_in_standard, bins = np.arange(-3,3,0.2))"
      ]
    },
    {
      "cell_type": "markdown",
      "metadata": {
        "id": "LenZjhIA8Xen"
      },
      "source": [
        "#### 표준편차가 3 /-3 범위 밖에있는 데이터를 outlier로 간주"
      ]
    },
    {
      "cell_type": "code",
      "execution_count": null,
      "metadata": {
        "scrolled": true,
        "id": "fq4AxuT98Xeo",
        "outputId": "56efa82d-5ff5-4f1e-a73d-5ea9c3ccefed"
      },
      "outputs": [
        {
          "data": {
            "text/plain": [
              "-525.0064110407573"
            ]
          },
          "execution_count": 187,
          "metadata": {},
          "output_type": "execute_result"
        }
      ],
      "source": [
        "scaler.inverse_transform(np.array([[-3]]))[0][0]"
      ]
    },
    {
      "cell_type": "code",
      "execution_count": null,
      "metadata": {
        "scrolled": true,
        "id": "KncTnoE88Xep",
        "outputId": "871db3ba-4730-4eb6-8b6c-3b4fdee100ed"
      },
      "outputs": [
        {
          "data": {
            "text/plain": [
              "550.9828865964469"
            ]
          },
          "execution_count": 186,
          "metadata": {},
          "output_type": "execute_result"
        }
      ],
      "source": [
        "# 원래값의 outlier임계값찾기\n",
        "scaler.inverse_transform(np.array([[3]]))[0][0]"
      ]
    },
    {
      "cell_type": "code",
      "execution_count": null,
      "metadata": {
        "scrolled": true,
        "id": "WOLk7po18Xep",
        "outputId": "ad56b800-9ef6-490e-c79d-4c2af17a1eed"
      },
      "outputs": [
        {
          "data": {
            "text/plain": [
              "(388, 9)"
            ]
          },
          "execution_count": 189,
          "metadata": {},
          "output_type": "execute_result"
        }
      ],
      "source": [
        "df_na_treat[df_na_treat.Quantity > 550].shape"
      ]
    },
    {
      "cell_type": "code",
      "execution_count": null,
      "metadata": {
        "id": "EhIR6zAw8Xeq",
        "outputId": "22c9a348-0d56-4fb5-a592-142e1f94f56c"
      },
      "outputs": [
        {
          "data": {
            "text/plain": [
              "count      388.000000\n",
              "mean      1344.860825\n",
              "std       5531.335671\n",
              "min        552.000000\n",
              "25%        600.000000\n",
              "50%        720.000000\n",
              "75%       1072.000000\n",
              "max      80995.000000\n",
              "Name: Quantity, dtype: float64"
            ]
          },
          "execution_count": 191,
          "metadata": {},
          "output_type": "execute_result"
        }
      ],
      "source": [
        "df_na_treat[df_na_treat.Quantity > 550]['Quantity'].describe()"
      ]
    },
    {
      "cell_type": "code",
      "execution_count": null,
      "metadata": {
        "id": "2MWFr5Av8Xes",
        "outputId": "b266840a-a637-4eb0-8b3b-b94afbb91a20"
      },
      "outputs": [
        {
          "data": {
            "text/html": [
              "<div>\n",
              "<style scoped>\n",
              "    .dataframe tbody tr th:only-of-type {\n",
              "        vertical-align: middle;\n",
              "    }\n",
              "\n",
              "    .dataframe tbody tr th {\n",
              "        vertical-align: top;\n",
              "    }\n",
              "\n",
              "    .dataframe thead th {\n",
              "        text-align: right;\n",
              "    }\n",
              "</style>\n",
              "<table border=\"1\" class=\"dataframe\">\n",
              "  <thead>\n",
              "    <tr style=\"text-align: right;\">\n",
              "      <th></th>\n",
              "      <th>Quantity</th>\n",
              "    </tr>\n",
              "  </thead>\n",
              "  <tbody>\n",
              "    <tr>\n",
              "      <th>0</th>\n",
              "      <td>6</td>\n",
              "    </tr>\n",
              "    <tr>\n",
              "      <th>1</th>\n",
              "      <td>6</td>\n",
              "    </tr>\n",
              "    <tr>\n",
              "      <th>2</th>\n",
              "      <td>8</td>\n",
              "    </tr>\n",
              "    <tr>\n",
              "      <th>3</th>\n",
              "      <td>6</td>\n",
              "    </tr>\n",
              "    <tr>\n",
              "      <th>4</th>\n",
              "      <td>6</td>\n",
              "    </tr>\n",
              "    <tr>\n",
              "      <th>...</th>\n",
              "      <td>...</td>\n",
              "    </tr>\n",
              "    <tr>\n",
              "      <th>397879</th>\n",
              "      <td>12</td>\n",
              "    </tr>\n",
              "    <tr>\n",
              "      <th>397880</th>\n",
              "      <td>6</td>\n",
              "    </tr>\n",
              "    <tr>\n",
              "      <th>397881</th>\n",
              "      <td>4</td>\n",
              "    </tr>\n",
              "    <tr>\n",
              "      <th>397882</th>\n",
              "      <td>4</td>\n",
              "    </tr>\n",
              "    <tr>\n",
              "      <th>397883</th>\n",
              "      <td>3</td>\n",
              "    </tr>\n",
              "  </tbody>\n",
              "</table>\n",
              "<p>397884 rows × 1 columns</p>\n",
              "</div>"
            ],
            "text/plain": [
              "        Quantity\n",
              "0              6\n",
              "1              6\n",
              "2              8\n",
              "3              6\n",
              "4              6\n",
              "...          ...\n",
              "397879        12\n",
              "397880         6\n",
              "397881         4\n",
              "397882         4\n",
              "397883         3\n",
              "\n",
              "[397884 rows x 1 columns]"
            ]
          },
          "execution_count": 188,
          "metadata": {},
          "output_type": "execute_result"
        }
      ],
      "source": [
        "df_na_treat[['Quantity']]"
      ]
    },
    {
      "cell_type": "markdown",
      "metadata": {
        "id": "9Oga0PiU8Xet"
      },
      "source": [
        "#### RobustScale   \n",
        ": 중앙값(median) 0, IQR(interquartile range)이 1이 되도록 변환해준다. Roubust Scale은 이상치의 영향을 최소화한 기법으로 Standard Scale보다 표준화 값을 더 넓게 분포시킨다는 특징이 있다."
      ]
    },
    {
      "cell_type": "code",
      "execution_count": null,
      "metadata": {
        "id": "xc3UGlEN8Xeu",
        "outputId": "1ddeb056-aa99-46a7-f093-aae101c1049a"
      },
      "outputs": [
        {
          "data": {
            "text/plain": [
              "397884"
            ]
          },
          "execution_count": 125,
          "metadata": {},
          "output_type": "execute_result"
        }
      ],
      "source": [
        "len(df_na_treat.Quantity)"
      ]
    },
    {
      "cell_type": "code",
      "execution_count": null,
      "metadata": {
        "id": "Jsa6Bxag8Xeu",
        "outputId": "14b1c24a-5dc6-4fcd-cb6e-e500ffb6bb5c"
      },
      "outputs": [
        {
          "data": {
            "text/html": [
              "<div>\n",
              "<style scoped>\n",
              "    .dataframe tbody tr th:only-of-type {\n",
              "        vertical-align: middle;\n",
              "    }\n",
              "\n",
              "    .dataframe tbody tr th {\n",
              "        vertical-align: top;\n",
              "    }\n",
              "\n",
              "    .dataframe thead th {\n",
              "        text-align: right;\n",
              "    }\n",
              "</style>\n",
              "<table border=\"1\" class=\"dataframe\">\n",
              "  <thead>\n",
              "    <tr style=\"text-align: right;\">\n",
              "      <th></th>\n",
              "      <th>Quantity</th>\n",
              "    </tr>\n",
              "  </thead>\n",
              "  <tbody>\n",
              "    <tr>\n",
              "      <th>0</th>\n",
              "      <td>6</td>\n",
              "    </tr>\n",
              "    <tr>\n",
              "      <th>1</th>\n",
              "      <td>6</td>\n",
              "    </tr>\n",
              "    <tr>\n",
              "      <th>2</th>\n",
              "      <td>8</td>\n",
              "    </tr>\n",
              "    <tr>\n",
              "      <th>3</th>\n",
              "      <td>6</td>\n",
              "    </tr>\n",
              "    <tr>\n",
              "      <th>4</th>\n",
              "      <td>6</td>\n",
              "    </tr>\n",
              "    <tr>\n",
              "      <th>...</th>\n",
              "      <td>...</td>\n",
              "    </tr>\n",
              "    <tr>\n",
              "      <th>397879</th>\n",
              "      <td>12</td>\n",
              "    </tr>\n",
              "    <tr>\n",
              "      <th>397880</th>\n",
              "      <td>6</td>\n",
              "    </tr>\n",
              "    <tr>\n",
              "      <th>397881</th>\n",
              "      <td>4</td>\n",
              "    </tr>\n",
              "    <tr>\n",
              "      <th>397882</th>\n",
              "      <td>4</td>\n",
              "    </tr>\n",
              "    <tr>\n",
              "      <th>397883</th>\n",
              "      <td>3</td>\n",
              "    </tr>\n",
              "  </tbody>\n",
              "</table>\n",
              "<p>397884 rows × 1 columns</p>\n",
              "</div>"
            ],
            "text/plain": [
              "        Quantity\n",
              "0              6\n",
              "1              6\n",
              "2              8\n",
              "3              6\n",
              "4              6\n",
              "...          ...\n",
              "397879        12\n",
              "397880         6\n",
              "397881         4\n",
              "397882         4\n",
              "397883         3\n",
              "\n",
              "[397884 rows x 1 columns]"
            ]
          },
          "execution_count": 130,
          "metadata": {},
          "output_type": "execute_result"
        }
      ],
      "source": [
        "df_na_treat[['Quantity']]"
      ]
    },
    {
      "cell_type": "code",
      "execution_count": null,
      "metadata": {
        "id": "uLgrz5no8Xev"
      },
      "outputs": [],
      "source": [
        "from sklearn.preprocessing import RobustScaler\n",
        "\n",
        "scale_data = df_na_treat[['Quantity']]\n",
        "\n",
        "robust_scaler = RobustScaler()\n",
        "robust_scaler.fit(scale_data)\n",
        "scale_data_scaled_robust = robust_scaler.transform(scale_data)\n",
        "scale_data_scaled_robust_des = pd.DataFrame(scale_data_scaled_robust).describe()\n",
        "scale_data_scaled_robust_des.columns = scale_data.columns\n",
        "scale_data_scaled_robust_des = round(scale_data_scaled_robust_des)"
      ]
    },
    {
      "cell_type": "code",
      "execution_count": null,
      "metadata": {
        "id": "ttOoGewN8Xev",
        "outputId": "02f8d9a1-8e6b-4852-e559-f627d3d15e76"
      },
      "outputs": [
        {
          "data": {
            "text/plain": [
              "(397884, 9)"
            ]
          },
          "execution_count": 145,
          "metadata": {},
          "output_type": "execute_result"
        }
      ],
      "source": [
        "df_na_treat.shape"
      ]
    },
    {
      "cell_type": "code",
      "execution_count": null,
      "metadata": {
        "scrolled": true,
        "id": "bBaX6n-98Xew",
        "outputId": "5e269773-a151-468f-d100-41e707fed9d3"
      },
      "outputs": [
        {
          "data": {
            "text/plain": [
              "397884"
            ]
          },
          "execution_count": 144,
          "metadata": {},
          "output_type": "execute_result"
        }
      ],
      "source": [
        "len(scale_data_scaled_robust)"
      ]
    },
    {
      "cell_type": "code",
      "execution_count": null,
      "metadata": {
        "id": "7Uzk5XiL8Xew",
        "outputId": "e471a84f-e5de-476a-fabc-66642d9cac6f"
      },
      "outputs": [
        {
          "data": {
            "text/plain": [
              "Quantity    10.0\n",
              "dtype: float64"
            ]
          },
          "execution_count": 149,
          "metadata": {},
          "output_type": "execute_result"
        }
      ],
      "source": [
        "df_na_treat[['Quantity']].quantile(0.75)-df_na_treat[['Quantity']].quantile(0.25)"
      ]
    },
    {
      "cell_type": "code",
      "execution_count": null,
      "metadata": {
        "scrolled": false,
        "id": "-r_95RuF8Xex",
        "outputId": "1055640a-8c7a-4c8d-e48a-68ff5715b178"
      },
      "outputs": [
        {
          "data": {
            "text/html": [
              "<div>\n",
              "<style scoped>\n",
              "    .dataframe tbody tr th:only-of-type {\n",
              "        vertical-align: middle;\n",
              "    }\n",
              "\n",
              "    .dataframe tbody tr th {\n",
              "        vertical-align: top;\n",
              "    }\n",
              "\n",
              "    .dataframe thead th {\n",
              "        text-align: right;\n",
              "    }\n",
              "</style>\n",
              "<table border=\"1\" class=\"dataframe\">\n",
              "  <thead>\n",
              "    <tr style=\"text-align: right;\">\n",
              "      <th></th>\n",
              "      <th>Quantity</th>\n",
              "    </tr>\n",
              "  </thead>\n",
              "  <tbody>\n",
              "    <tr>\n",
              "      <th>count</th>\n",
              "      <td>397884.0</td>\n",
              "    </tr>\n",
              "    <tr>\n",
              "      <th>mean</th>\n",
              "      <td>1.0</td>\n",
              "    </tr>\n",
              "    <tr>\n",
              "      <th>std</th>\n",
              "      <td>18.0</td>\n",
              "    </tr>\n",
              "    <tr>\n",
              "      <th>min</th>\n",
              "      <td>-0.0</td>\n",
              "    </tr>\n",
              "    <tr>\n",
              "      <th>25%</th>\n",
              "      <td>-0.0</td>\n",
              "    </tr>\n",
              "    <tr>\n",
              "      <th>50%</th>\n",
              "      <td>0.0</td>\n",
              "    </tr>\n",
              "    <tr>\n",
              "      <th>75%</th>\n",
              "      <td>1.0</td>\n",
              "    </tr>\n",
              "    <tr>\n",
              "      <th>max</th>\n",
              "      <td>8099.0</td>\n",
              "    </tr>\n",
              "  </tbody>\n",
              "</table>\n",
              "</div>"
            ],
            "text/plain": [
              "       Quantity\n",
              "count  397884.0\n",
              "mean        1.0\n",
              "std        18.0\n",
              "min        -0.0\n",
              "25%        -0.0\n",
              "50%         0.0\n",
              "75%         1.0\n",
              "max      8099.0"
            ]
          },
          "execution_count": 141,
          "metadata": {},
          "output_type": "execute_result"
        }
      ],
      "source": [
        "scale_data_scaled_robust_des #mean, std확인 (IQR)"
      ]
    },
    {
      "cell_type": "code",
      "execution_count": null,
      "metadata": {
        "id": "Xl22IcDs8Xex"
      },
      "outputs": [],
      "source": [
        "zoom_in_robust = scale_data_scaled_robust[scale_data_scaled_robust<18*3]"
      ]
    },
    {
      "cell_type": "code",
      "execution_count": null,
      "metadata": {
        "id": "yTtGcQ928Xex",
        "outputId": "1afb18e4-7e39-40af-fdb3-39ff7d227bdc"
      },
      "outputs": [
        {
          "data": {
            "text/plain": [
              "array([[ 0. ],\n",
              "       [ 0. ],\n",
              "       [ 0.2],\n",
              "       ...,\n",
              "       [-0.2],\n",
              "       [-0.2],\n",
              "       [-0.3]])"
            ]
          },
          "execution_count": 175,
          "metadata": {},
          "output_type": "execute_result"
        }
      ],
      "source": [
        "scale_data_scaled_robust"
      ]
    },
    {
      "cell_type": "code",
      "execution_count": null,
      "metadata": {
        "scrolled": true,
        "id": "yqNYERYt8Xey",
        "outputId": "6856ac7a-98f6-410a-c761-9fac56d86309"
      },
      "outputs": [
        {
          "data": {
            "text/plain": [
              "array([ 0. ,  0. ,  0.2, ..., -0.2, -0.2, -0.3])"
            ]
          },
          "execution_count": 174,
          "metadata": {},
          "output_type": "execute_result"
        }
      ],
      "source": [
        "zoom_in_robust"
      ]
    },
    {
      "cell_type": "code",
      "execution_count": null,
      "metadata": {
        "scrolled": true,
        "id": "TVuzkLm48Xey",
        "outputId": "516865a9-f6af-4147-c396-aed3a28553cf"
      },
      "outputs": [
        {
          "data": {
            "text/plain": [
              "546.0"
            ]
          },
          "execution_count": 192,
          "metadata": {},
          "output_type": "execute_result"
        }
      ],
      "source": [
        "# 원래값의 outlier임계값찾기\n",
        "# X_origin = robust_scaler.inverse_transform(X_train_scaled)\n",
        "# 3 * std\n",
        "robust_scaler.inverse_transform(np.array([[18*3]]))[0][0]"
      ]
    },
    {
      "cell_type": "code",
      "execution_count": null,
      "metadata": {
        "id": "TBO32McA8Xez",
        "outputId": "4e4371bc-f4ab-4ce6-a2e1-bb6515a75655"
      },
      "outputs": [
        {
          "data": {
            "text/plain": [
              "186.0"
            ]
          },
          "execution_count": 184,
          "metadata": {},
          "output_type": "execute_result"
        }
      ],
      "source": [
        "# 원래값의 outlier임계값찾기\n",
        "robust_scaler.inverse_transform(np.array([[18]]))[0][0]"
      ]
    },
    {
      "cell_type": "code",
      "execution_count": null,
      "metadata": {
        "scrolled": true,
        "id": "vcxpl8mm8Xez",
        "outputId": "cce3049c-ddad-4953-d7c4-1e63188ea968"
      },
      "outputs": [
        {
          "data": {
            "text/plain": [
              "(array([0.00000e+00, 0.00000e+00, 0.00000e+00, 0.00000e+00, 0.00000e+00,\n",
              "        0.00000e+00, 0.00000e+00, 0.00000e+00, 0.00000e+00, 1.98576e+05,\n",
              "        1.73578e+05, 7.22900e+03, 7.90500e+03, 2.28400e+03, 3.66000e+03,\n",
              "        7.81000e+02, 1.17100e+03, 1.66000e+02, 6.80000e+01]),\n",
              " array([-20, -18, -16, -14, -12, -10,  -8,  -6,  -4,  -2,   0,   2,   4,\n",
              "          6,   8,  10,  12,  14,  16,  18]),\n",
              " <BarContainer object of 19 artists>)"
            ]
          },
          "execution_count": 162,
          "metadata": {},
          "output_type": "execute_result"
        },
        {
          "data": {
            "image/png": "[encoded data removed]",
            "text/plain": [
              "<Figure size 432x288 with 1 Axes>"
            ]
          },
          "metadata": {
            "needs_background": "light"
          },
          "output_type": "display_data"
        }
      ],
      "source": [
        "plt.hist(scale_data_scaled_robust, bins = np.arange(-20,20,2))"
      ]
    },
    {
      "cell_type": "code",
      "execution_count": null,
      "metadata": {
        "scrolled": true,
        "id": "SdNG41pP8Xe0",
        "outputId": "f9a28657-ff2a-411b-e0ae-ce2bd23019d1"
      },
      "outputs": [
        {
          "data": {
            "text/plain": [
              "388"
            ]
          },
          "execution_count": 165,
          "metadata": {},
          "output_type": "execute_result"
        }
      ],
      "source": [
        "len(scale_data_scaled_robust) - len(zoom_in_robust)"
      ]
    },
    {
      "cell_type": "code",
      "execution_count": null,
      "metadata": {
        "scrolled": true,
        "id": "CRC6xWFt8Xe0",
        "outputId": "7f2ca956-54b8-49df-8ea5-2c3ca9019b34"
      },
      "outputs": [
        {
          "data": {
            "text/plain": [
              "(array([0.00000e+00, 0.00000e+00, 0.00000e+00, 0.00000e+00, 0.00000e+00,\n",
              "        0.00000e+00, 0.00000e+00, 0.00000e+00, 0.00000e+00, 1.98576e+05,\n",
              "        1.73578e+05, 7.22900e+03, 7.90500e+03, 2.28400e+03, 3.66000e+03,\n",
              "        7.81000e+02, 1.17100e+03, 1.66000e+02, 6.80000e+01]),\n",
              " array([-20, -18, -16, -14, -12, -10,  -8,  -6,  -4,  -2,   0,   2,   4,\n",
              "          6,   8,  10,  12,  14,  16,  18]),\n",
              " <BarContainer object of 19 artists>)"
            ]
          },
          "execution_count": 163,
          "metadata": {},
          "output_type": "execute_result"
        },
        {
          "data": {
            "image/png": "[encoded data removed]",
            "text/plain": [
              "<Figure size 432x288 with 1 Axes>"
            ]
          },
          "metadata": {
            "needs_background": "light"
          },
          "output_type": "display_data"
        }
      ],
      "source": [
        "plt.hist(zoom_in_robust, bins = np.arange(-20,20,2))"
      ]
    },
    {
      "cell_type": "code",
      "execution_count": null,
      "metadata": {
        "id": "ZSxH2KFK8Xe0"
      },
      "outputs": [],
      "source": []
    }
  ],
  "metadata": {
    "kernelspec": {
      "display_name": "Python 3",
      "language": "python",
      "name": "python3"
    },
    "language_info": {
      "codemirror_mode": {
        "name": "ipython",
        "version": 3
      },
      "file_extension": ".py",
      "mimetype": "text/x-python",
      "name": "python",
      "nbconvert_exporter": "python",
      "pygments_lexer": "ipython3",
      "version": "3.8.3"
    },
    "colab": {
      "provenance": [],
      "include_colab_link": true
    }
  },
  "nbformat": 4,
  "nbformat_minor": 0
}