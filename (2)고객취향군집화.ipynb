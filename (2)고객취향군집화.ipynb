{
  "cells": [
    {
      "cell_type": "markdown",
      "metadata": {
        "id": "view-in-github",
        "colab_type": "text"
      },
      "source": [
        "<a href=\"https://colab.research.google.com/github/LOOKatKimhyein/CRM-analysis/blob/main/(2)%EA%B3%A0%EA%B0%9D%EC%B7%A8%ED%96%A5%EA%B5%B0%EC%A7%91%ED%99%94.ipynb\" target=\"_parent\"><img src=\"https://colab.research.google.com/assets/colab-badge.svg\" alt=\"Open In Colab\"/></a>"
      ]
    },
    {
      "cell_type": "markdown",
      "metadata": {
        "id": "tJ6NcCkRFb1c"
      },
      "source": [
        "#### 고객 취향 군집화  \n",
        ": clustering을 위해서는 모두 숫자형 변수로 input되게 만들어줘야한다.  \n",
        "user_id || 상품1 구매건수 || 상품2 구매건수|| 상품3 구매건수"
      ]
    },
    {
      "cell_type": "markdown",
      "metadata": {
        "id": "KewebWi_Fb1m"
      },
      "source": [
        "# 1. 환경 설정"
      ]
    },
    {
      "cell_type": "code",
      "execution_count": null,
      "metadata": {
        "id": "l7sXBk9mFb1o"
      },
      "outputs": [],
      "source": [
        "import numpy as np\n",
        "import pandas as pd\n",
        "import matplotlib.pyplot as plt\n",
        "import seaborn as sns\n",
        "import datetime as dt\n",
        "from sklearn.cluster import KMeans"
      ]
    },
    {
      "cell_type": "markdown",
      "metadata": {
        "id": "YqxJ4ggiFb1r"
      },
      "source": [
        "## 2. 데이터 불러오기"
      ]
    },
    {
      "cell_type": "code",
      "execution_count": null,
      "metadata": {
        "scrolled": false,
        "id": "uZAa0QwnFb1s",
        "outputId": "037c0f4c-09e2-42db-9819-7f537be75407"
      },
      "outputs": [
        {
          "data": {
            "text/html": [
              "<div>\n",
              "<style scoped>\n",
              "    .dataframe tbody tr th:only-of-type {\n",
              "        vertical-align: middle;\n",
              "    }\n",
              "\n",
              "    .dataframe tbody tr th {\n",
              "        vertical-align: top;\n",
              "    }\n",
              "\n",
              "    .dataframe thead th {\n",
              "        text-align: right;\n",
              "    }\n",
              "</style>\n",
              "<table border=\"1\" class=\"dataframe\">\n",
              "  <thead>\n",
              "    <tr style=\"text-align: right;\">\n",
              "      <th></th>\n",
              "      <th>event_time</th>\n",
              "      <th>event_type</th>\n",
              "      <th>product_id</th>\n",
              "      <th>category_id</th>\n",
              "      <th>category_code</th>\n",
              "      <th>brand</th>\n",
              "      <th>price</th>\n",
              "      <th>user_id</th>\n",
              "      <th>user_session</th>\n",
              "    </tr>\n",
              "  </thead>\n",
              "  <tbody>\n",
              "    <tr>\n",
              "      <th>0</th>\n",
              "      <td>2019-10-01 00:02:14 UTC</td>\n",
              "      <td>purchase</td>\n",
              "      <td>1004856</td>\n",
              "      <td>2053013555631882655</td>\n",
              "      <td>electronics.smartphone</td>\n",
              "      <td>samsung</td>\n",
              "      <td>130.76</td>\n",
              "      <td>543272936</td>\n",
              "      <td>8187d148-3c41-46d4-b0c0-9c08cd9dc564</td>\n",
              "    </tr>\n",
              "    <tr>\n",
              "      <th>1</th>\n",
              "      <td>2019-10-01 00:04:37 UTC</td>\n",
              "      <td>purchase</td>\n",
              "      <td>1002532</td>\n",
              "      <td>2053013555631882655</td>\n",
              "      <td>electronics.smartphone</td>\n",
              "      <td>apple</td>\n",
              "      <td>642.69</td>\n",
              "      <td>551377651</td>\n",
              "      <td>3c80f0d6-e9ec-4181-8c5c-837a30be2d68</td>\n",
              "    </tr>\n",
              "    <tr>\n",
              "      <th>2</th>\n",
              "      <td>2019-10-01 00:06:02 UTC</td>\n",
              "      <td>purchase</td>\n",
              "      <td>5100816</td>\n",
              "      <td>2053013553375346967</td>\n",
              "      <td>NaN</td>\n",
              "      <td>xiaomi</td>\n",
              "      <td>29.51</td>\n",
              "      <td>514591159</td>\n",
              "      <td>0e5dfc4b-2a55-43e6-8c05-97e1f07fbb56</td>\n",
              "    </tr>\n",
              "    <tr>\n",
              "      <th>3</th>\n",
              "      <td>2019-10-01 00:07:07 UTC</td>\n",
              "      <td>purchase</td>\n",
              "      <td>13800054</td>\n",
              "      <td>2053013557418656265</td>\n",
              "      <td>furniture.bathroom.toilet</td>\n",
              "      <td>santeri</td>\n",
              "      <td>54.42</td>\n",
              "      <td>555332717</td>\n",
              "      <td>1dea3ee2-2ded-42e8-8e7a-4e2ad6ae942f</td>\n",
              "    </tr>\n",
              "    <tr>\n",
              "      <th>4</th>\n",
              "      <td>2019-10-01 00:09:26 UTC</td>\n",
              "      <td>purchase</td>\n",
              "      <td>4804055</td>\n",
              "      <td>2053013554658804075</td>\n",
              "      <td>electronics.audio.headphone</td>\n",
              "      <td>apple</td>\n",
              "      <td>189.91</td>\n",
              "      <td>524601178</td>\n",
              "      <td>2af9b570-0942-4dcd-8f25-4d84fba82553</td>\n",
              "    </tr>\n",
              "  </tbody>\n",
              "</table>\n",
              "</div>"
            ],
            "text/plain": [
              "                event_time event_type  product_id          category_id  \\\n",
              "0  2019-10-01 00:02:14 UTC   purchase     1004856  2053013555631882655   \n",
              "1  2019-10-01 00:04:37 UTC   purchase     1002532  2053013555631882655   \n",
              "2  2019-10-01 00:06:02 UTC   purchase     5100816  2053013553375346967   \n",
              "3  2019-10-01 00:07:07 UTC   purchase    13800054  2053013557418656265   \n",
              "4  2019-10-01 00:09:26 UTC   purchase     4804055  2053013554658804075   \n",
              "\n",
              "                 category_code    brand   price    user_id  \\\n",
              "0       electronics.smartphone  samsung  130.76  543272936   \n",
              "1       electronics.smartphone    apple  642.69  551377651   \n",
              "2                          NaN   xiaomi   29.51  514591159   \n",
              "3    furniture.bathroom.toilet  santeri   54.42  555332717   \n",
              "4  electronics.audio.headphone    apple  189.91  524601178   \n",
              "\n",
              "                           user_session  \n",
              "0  8187d148-3c41-46d4-b0c0-9c08cd9dc564  \n",
              "1  3c80f0d6-e9ec-4181-8c5c-837a30be2d68  \n",
              "2  0e5dfc4b-2a55-43e6-8c05-97e1f07fbb56  \n",
              "3  1dea3ee2-2ded-42e8-8e7a-4e2ad6ae942f  \n",
              "4  2af9b570-0942-4dcd-8f25-4d84fba82553  "
            ]
          },
          "execution_count": 2,
          "metadata": {},
          "output_type": "execute_result"
        }
      ],
      "source": [
        "df_org = pd.read_csv('.//2019-Oct_purchase.csv')\n",
        "df_org.head()"
      ]
    },
    {
      "cell_type": "code",
      "execution_count": null,
      "metadata": {
        "id": "zYYzKkgoFb1u",
        "outputId": "33d4894a-d8a1-42e4-f453-da8bad8319d5"
      },
      "outputs": [
        {
          "data": {
            "text/plain": [
              "(742849, 9)"
            ]
          },
          "execution_count": 3,
          "metadata": {},
          "output_type": "execute_result"
        }
      ],
      "source": [
        "df_org.shape"
      ]
    },
    {
      "cell_type": "markdown",
      "metadata": {
        "id": "Fcv2b2bVFb1v"
      },
      "source": [
        "#### 데이터 확인"
      ]
    },
    {
      "cell_type": "code",
      "execution_count": null,
      "metadata": {
        "id": "pofF7i4CFb1w",
        "outputId": "23fcd8df-f9e7-4927-bb39-de76676fa6b8"
      },
      "outputs": [
        {
          "name": "stdout",
          "output_type": "stream",
          "text": [
            "<class 'pandas.core.frame.DataFrame'>\n",
            "RangeIndex: 742849 entries, 0 to 742848\n",
            "Data columns (total 9 columns):\n",
            " #   Column         Non-Null Count   Dtype  \n",
            "---  ------         --------------   -----  \n",
            " 0   event_time     742849 non-null  object \n",
            " 1   event_type     742849 non-null  object \n",
            " 2   product_id     742849 non-null  int64  \n",
            " 3   category_id    742849 non-null  int64  \n",
            " 4   category_code  569424 non-null  object \n",
            " 5   brand          684544 non-null  object \n",
            " 6   price          742849 non-null  float64\n",
            " 7   user_id        742849 non-null  int64  \n",
            " 8   user_session   742849 non-null  object \n",
            "dtypes: float64(1), int64(3), object(5)\n",
            "memory usage: 51.0+ MB\n"
          ]
        }
      ],
      "source": [
        "df_org.info()"
      ]
    },
    {
      "cell_type": "code",
      "execution_count": null,
      "metadata": {
        "scrolled": true,
        "id": "cBjJsR-OFb1x",
        "outputId": "efd3aca4-dcbc-4876-abd9-77d7e5004916"
      },
      "outputs": [
        {
          "data": {
            "text/plain": [
              "347118"
            ]
          },
          "execution_count": 5,
          "metadata": {},
          "output_type": "execute_result"
        }
      ],
      "source": [
        "df_org['user_id'].nunique()"
      ]
    },
    {
      "cell_type": "code",
      "execution_count": null,
      "metadata": {
        "id": "_TmYQw8kFb1z",
        "outputId": "a3b07fc3-f645-4b91-f264-659406ee154a"
      },
      "outputs": [
        {
          "data": {
            "text/plain": [
              "629560"
            ]
          },
          "execution_count": 6,
          "metadata": {},
          "output_type": "execute_result"
        }
      ],
      "source": [
        "df_org['user_session'].nunique()"
      ]
    },
    {
      "cell_type": "code",
      "execution_count": null,
      "metadata": {
        "id": "InpWXsrVFb10",
        "outputId": "4fc0609c-3d51-4f63-991f-0701082b738b"
      },
      "outputs": [
        {
          "data": {
            "text/plain": [
              "0"
            ]
          },
          "execution_count": 7,
          "metadata": {},
          "output_type": "execute_result"
        }
      ],
      "source": [
        "df_org['user_session'].isnull().sum()"
      ]
    },
    {
      "cell_type": "code",
      "execution_count": null,
      "metadata": {
        "scrolled": true,
        "id": "uzLHxvJFFb11",
        "outputId": "8746f327-59bb-47f8-ed3a-4779861fac8a"
      },
      "outputs": [
        {
          "data": {
            "text/plain": [
              "0"
            ]
          },
          "execution_count": 8,
          "metadata": {},
          "output_type": "execute_result"
        }
      ],
      "source": [
        "df_org['user_id'].isnull().sum()"
      ]
    },
    {
      "cell_type": "markdown",
      "metadata": {
        "id": "L8dqQHfcFb12"
      },
      "source": [
        "#### NA 확인"
      ]
    },
    {
      "cell_type": "code",
      "execution_count": null,
      "metadata": {
        "scrolled": true,
        "id": "uU2N5BGRFb12",
        "outputId": "41b2c3ef-1e19-4191-a077-405a422ee509"
      },
      "outputs": [
        {
          "data": {
            "text/plain": [
              "event_time            0\n",
              "event_type            0\n",
              "product_id            0\n",
              "category_id           0\n",
              "category_code    173425\n",
              "brand             58305\n",
              "price                 0\n",
              "user_id               0\n",
              "user_session          0\n",
              "dtype: int64"
            ]
          },
          "execution_count": 9,
          "metadata": {},
          "output_type": "execute_result"
        }
      ],
      "source": [
        "df_org.isna().sum()"
      ]
    },
    {
      "cell_type": "code",
      "execution_count": null,
      "metadata": {
        "scrolled": false,
        "id": "Is1UAi_EFb13",
        "outputId": "d9f4889c-e6ed-4498-8013-81b3ce3c07af"
      },
      "outputs": [
        {
          "data": {
            "text/html": [
              "<div>\n",
              "<style scoped>\n",
              "    .dataframe tbody tr th:only-of-type {\n",
              "        vertical-align: middle;\n",
              "    }\n",
              "\n",
              "    .dataframe tbody tr th {\n",
              "        vertical-align: top;\n",
              "    }\n",
              "\n",
              "    .dataframe thead th {\n",
              "        text-align: right;\n",
              "    }\n",
              "</style>\n",
              "<table border=\"1\" class=\"dataframe\">\n",
              "  <thead>\n",
              "    <tr style=\"text-align: right;\">\n",
              "      <th></th>\n",
              "      <th>event_time</th>\n",
              "      <th>event_type</th>\n",
              "      <th>product_id</th>\n",
              "      <th>category_id</th>\n",
              "      <th>category_code</th>\n",
              "      <th>brand</th>\n",
              "      <th>price</th>\n",
              "      <th>user_id</th>\n",
              "      <th>user_session</th>\n",
              "    </tr>\n",
              "  </thead>\n",
              "  <tbody>\n",
              "    <tr>\n",
              "      <th>2</th>\n",
              "      <td>2019-10-01 00:06:02 UTC</td>\n",
              "      <td>purchase</td>\n",
              "      <td>5100816</td>\n",
              "      <td>2053013553375346967</td>\n",
              "      <td>NaN</td>\n",
              "      <td>xiaomi</td>\n",
              "      <td>29.51</td>\n",
              "      <td>514591159</td>\n",
              "      <td>0e5dfc4b-2a55-43e6-8c05-97e1f07fbb56</td>\n",
              "    </tr>\n",
              "    <tr>\n",
              "      <th>11</th>\n",
              "      <td>2019-10-01 02:19:12 UTC</td>\n",
              "      <td>purchase</td>\n",
              "      <td>13103842</td>\n",
              "      <td>2053013553526341921</td>\n",
              "      <td>NaN</td>\n",
              "      <td>pdw</td>\n",
              "      <td>391.26</td>\n",
              "      <td>516178643</td>\n",
              "      <td>4d74b49e-3838-43cc-ac2e-a0490942b464</td>\n",
              "    </tr>\n",
              "    <tr>\n",
              "      <th>13</th>\n",
              "      <td>2019-10-01 02:19:59 UTC</td>\n",
              "      <td>purchase</td>\n",
              "      <td>28100119</td>\n",
              "      <td>2053013564918072245</td>\n",
              "      <td>NaN</td>\n",
              "      <td>NaN</td>\n",
              "      <td>153.16</td>\n",
              "      <td>517953667</td>\n",
              "      <td>7954f58c-158d-402d-9820-c502a5eea86d</td>\n",
              "    </tr>\n",
              "    <tr>\n",
              "      <th>17</th>\n",
              "      <td>2019-10-01 02:20:28 UTC</td>\n",
              "      <td>purchase</td>\n",
              "      <td>26601440</td>\n",
              "      <td>2053013563517174627</td>\n",
              "      <td>NaN</td>\n",
              "      <td>NaN</td>\n",
              "      <td>91.12</td>\n",
              "      <td>554101070</td>\n",
              "      <td>5a29c401-c05b-4dcf-b9e6-78324875dfd4</td>\n",
              "    </tr>\n",
              "    <tr>\n",
              "      <th>20</th>\n",
              "      <td>2019-10-01 02:21:07 UTC</td>\n",
              "      <td>purchase</td>\n",
              "      <td>16500007</td>\n",
              "      <td>2053013556462354899</td>\n",
              "      <td>NaN</td>\n",
              "      <td>omron</td>\n",
              "      <td>62.52</td>\n",
              "      <td>516815266</td>\n",
              "      <td>918c33db-9bb0-41b9-a148-47523330eddd</td>\n",
              "    </tr>\n",
              "  </tbody>\n",
              "</table>\n",
              "</div>"
            ],
            "text/plain": [
              "                 event_time event_type  product_id          category_id  \\\n",
              "2   2019-10-01 00:06:02 UTC   purchase     5100816  2053013553375346967   \n",
              "11  2019-10-01 02:19:12 UTC   purchase    13103842  2053013553526341921   \n",
              "13  2019-10-01 02:19:59 UTC   purchase    28100119  2053013564918072245   \n",
              "17  2019-10-01 02:20:28 UTC   purchase    26601440  2053013563517174627   \n",
              "20  2019-10-01 02:21:07 UTC   purchase    16500007  2053013556462354899   \n",
              "\n",
              "   category_code   brand   price    user_id  \\\n",
              "2            NaN  xiaomi   29.51  514591159   \n",
              "11           NaN     pdw  391.26  516178643   \n",
              "13           NaN     NaN  153.16  517953667   \n",
              "17           NaN     NaN   91.12  554101070   \n",
              "20           NaN   omron   62.52  516815266   \n",
              "\n",
              "                            user_session  \n",
              "2   0e5dfc4b-2a55-43e6-8c05-97e1f07fbb56  \n",
              "11  4d74b49e-3838-43cc-ac2e-a0490942b464  \n",
              "13  7954f58c-158d-402d-9820-c502a5eea86d  \n",
              "17  5a29c401-c05b-4dcf-b9e6-78324875dfd4  \n",
              "20  918c33db-9bb0-41b9-a148-47523330eddd  "
            ]
          },
          "execution_count": 10,
          "metadata": {},
          "output_type": "execute_result"
        }
      ],
      "source": [
        "df_org[df_org['category_code'].isna()].head()"
      ]
    },
    {
      "cell_type": "code",
      "execution_count": null,
      "metadata": {
        "id": "-XvvejUsFb14",
        "outputId": "2d1d24c0-3e00-4e93-d573-333537acc3cb"
      },
      "outputs": [
        {
          "data": {
            "text/plain": [
              "electronics.smartphone            38776\n",
              "electronics.audio.headphone        4762\n",
              "electronics.clocks                 1135\n",
              "appliances.environment.vacuum       667\n",
              "auto.accessories.videoregister      329\n",
              "kids.skates                         244\n",
              "appliances.personal.scales          236\n",
              "computers.notebook                  138\n",
              "accessories.bag                      83\n",
              "appliances.kitchen.kettle            64\n",
              "electronics.tablet                   53\n",
              "electronics.video.tv                 28\n",
              "construction.tools.light             26\n",
              "accessories.umbrella                 14\n",
              "electronics.camera.video             13\n",
              "appliances.kitchen.blender           11\n",
              "computers.peripherals.mouse           9\n",
              "sport.bicycle                         5\n",
              "furniture.bedroom.pillow              2\n",
              "Name: category_code, dtype: int64"
            ]
          },
          "execution_count": 11,
          "metadata": {},
          "output_type": "execute_result"
        }
      ],
      "source": [
        "df_org[df_org.brand == 'xiaomi']['category_code'].value_counts()\n",
        "# category_code가 na라면, brand로 추측해서 넣어볼 수 있을듯"
      ]
    },
    {
      "cell_type": "code",
      "execution_count": null,
      "metadata": {
        "id": "-1ncchGAFb15",
        "outputId": "12fa9cce-21db-47c5-c926-0ef972601425"
      },
      "outputs": [
        {
          "data": {
            "text/html": [
              "<div>\n",
              "<style scoped>\n",
              "    .dataframe tbody tr th:only-of-type {\n",
              "        vertical-align: middle;\n",
              "    }\n",
              "\n",
              "    .dataframe tbody tr th {\n",
              "        vertical-align: top;\n",
              "    }\n",
              "\n",
              "    .dataframe thead th {\n",
              "        text-align: right;\n",
              "    }\n",
              "</style>\n",
              "<table border=\"1\" class=\"dataframe\">\n",
              "  <thead>\n",
              "    <tr style=\"text-align: right;\">\n",
              "      <th></th>\n",
              "      <th>event_time</th>\n",
              "      <th>event_type</th>\n",
              "      <th>product_id</th>\n",
              "      <th>category_id</th>\n",
              "      <th>category_code</th>\n",
              "      <th>brand</th>\n",
              "      <th>price</th>\n",
              "      <th>user_id</th>\n",
              "      <th>user_session</th>\n",
              "    </tr>\n",
              "  </thead>\n",
              "  <tbody>\n",
              "    <tr>\n",
              "      <th>13</th>\n",
              "      <td>2019-10-01 02:19:59 UTC</td>\n",
              "      <td>purchase</td>\n",
              "      <td>28100119</td>\n",
              "      <td>2053013564918072245</td>\n",
              "      <td>NaN</td>\n",
              "      <td>NaN</td>\n",
              "      <td>153.16</td>\n",
              "      <td>517953667</td>\n",
              "      <td>7954f58c-158d-402d-9820-c502a5eea86d</td>\n",
              "    </tr>\n",
              "    <tr>\n",
              "      <th>17</th>\n",
              "      <td>2019-10-01 02:20:28 UTC</td>\n",
              "      <td>purchase</td>\n",
              "      <td>26601440</td>\n",
              "      <td>2053013563517174627</td>\n",
              "      <td>NaN</td>\n",
              "      <td>NaN</td>\n",
              "      <td>91.12</td>\n",
              "      <td>554101070</td>\n",
              "      <td>5a29c401-c05b-4dcf-b9e6-78324875dfd4</td>\n",
              "    </tr>\n",
              "    <tr>\n",
              "      <th>21</th>\n",
              "      <td>2019-10-01 02:21:45 UTC</td>\n",
              "      <td>purchase</td>\n",
              "      <td>28100000</td>\n",
              "      <td>2053013564918072245</td>\n",
              "      <td>NaN</td>\n",
              "      <td>NaN</td>\n",
              "      <td>60.49</td>\n",
              "      <td>517953667</td>\n",
              "      <td>7954f58c-158d-402d-9820-c502a5eea86d</td>\n",
              "    </tr>\n",
              "    <tr>\n",
              "      <th>29</th>\n",
              "      <td>2019-10-01 02:23:03 UTC</td>\n",
              "      <td>purchase</td>\n",
              "      <td>19100075</td>\n",
              "      <td>2053013556227473861</td>\n",
              "      <td>construction.tools.saw</td>\n",
              "      <td>NaN</td>\n",
              "      <td>120.47</td>\n",
              "      <td>513484630</td>\n",
              "      <td>92bc0a54-4dab-4748-9a39-edbb4c760254</td>\n",
              "    </tr>\n",
              "    <tr>\n",
              "      <th>43</th>\n",
              "      <td>2019-10-01 02:26:02 UTC</td>\n",
              "      <td>purchase</td>\n",
              "      <td>34800175</td>\n",
              "      <td>2062461754293617058</td>\n",
              "      <td>NaN</td>\n",
              "      <td>NaN</td>\n",
              "      <td>33.46</td>\n",
              "      <td>512594464</td>\n",
              "      <td>f18609cf-7cab-47cf-aaf8-8622202722bd</td>\n",
              "    </tr>\n",
              "  </tbody>\n",
              "</table>\n",
              "</div>"
            ],
            "text/plain": [
              "                 event_time event_type  product_id          category_id  \\\n",
              "13  2019-10-01 02:19:59 UTC   purchase    28100119  2053013564918072245   \n",
              "17  2019-10-01 02:20:28 UTC   purchase    26601440  2053013563517174627   \n",
              "21  2019-10-01 02:21:45 UTC   purchase    28100000  2053013564918072245   \n",
              "29  2019-10-01 02:23:03 UTC   purchase    19100075  2053013556227473861   \n",
              "43  2019-10-01 02:26:02 UTC   purchase    34800175  2062461754293617058   \n",
              "\n",
              "             category_code brand   price    user_id  \\\n",
              "13                     NaN   NaN  153.16  517953667   \n",
              "17                     NaN   NaN   91.12  554101070   \n",
              "21                     NaN   NaN   60.49  517953667   \n",
              "29  construction.tools.saw   NaN  120.47  513484630   \n",
              "43                     NaN   NaN   33.46  512594464   \n",
              "\n",
              "                            user_session  \n",
              "13  7954f58c-158d-402d-9820-c502a5eea86d  \n",
              "17  5a29c401-c05b-4dcf-b9e6-78324875dfd4  \n",
              "21  7954f58c-158d-402d-9820-c502a5eea86d  \n",
              "29  92bc0a54-4dab-4748-9a39-edbb4c760254  \n",
              "43  f18609cf-7cab-47cf-aaf8-8622202722bd  "
            ]
          },
          "execution_count": 12,
          "metadata": {},
          "output_type": "execute_result"
        }
      ],
      "source": [
        "df_org[df_org['brand'].isna()].head()"
      ]
    },
    {
      "cell_type": "code",
      "execution_count": null,
      "metadata": {
        "scrolled": true,
        "id": "WpUl3ZJaFb15",
        "outputId": "cb1d0eb5-2664-4d98-f7c7-28ba246e5318"
      },
      "outputs": [
        {
          "data": {
            "text/plain": [
              "huter       801\n",
              "stihl       215\n",
              "eurolux     125\n",
              "bosch        80\n",
              "crown        72\n",
              "makita       42\n",
              "dewalt       31\n",
              "alteco       28\n",
              "p.i.t.       24\n",
              "carver       15\n",
              "dwt          15\n",
              "edon         13\n",
              "festool      12\n",
              "dremel        7\n",
              "stanley       7\n",
              "patriot       5\n",
              "total         5\n",
              "metabo        3\n",
              "kolner        3\n",
              "oasis         2\n",
              "stalker       2\n",
              "al-ko         2\n",
              "magnetta      1\n",
              "ryobi         1\n",
              "ivt           1\n",
              "hitachi       1\n",
              "hyundai       1\n",
              "Name: brand, dtype: int64"
            ]
          },
          "execution_count": 13,
          "metadata": {},
          "output_type": "execute_result"
        }
      ],
      "source": [
        "df_org[df_org.category_code == 'construction.tools.saw']['brand'].value_counts()\n",
        "# category_code가 na라면, brand로 추측해서 넣어볼 수 있을듯"
      ]
    },
    {
      "cell_type": "code",
      "execution_count": null,
      "metadata": {
        "scrolled": true,
        "id": "oGOIcdx7Fb16",
        "outputId": "19be8255-1864-462a-83ba-d2f592e30043"
      },
      "outputs": [
        {
          "data": {
            "text/plain": [
              "(38388, 9)"
            ]
          },
          "execution_count": 14,
          "metadata": {},
          "output_type": "execute_result"
        }
      ],
      "source": [
        "df_org[(df_org.brand.isna())&(df_org.category_code.isna())].shape"
      ]
    },
    {
      "cell_type": "code",
      "execution_count": null,
      "metadata": {
        "id": "1-wqh3cBFb16"
      },
      "outputs": [],
      "source": [
        "df_na_treat =  df_org.dropna(axis = 0)"
      ]
    },
    {
      "cell_type": "code",
      "execution_count": null,
      "metadata": {
        "id": "KkFugQg8Fb17",
        "outputId": "ddcdce80-b5b7-4e5e-e718-21291245bb74"
      },
      "outputs": [
        {
          "data": {
            "text/plain": [
              "event_time       0\n",
              "event_type       0\n",
              "product_id       0\n",
              "category_id      0\n",
              "category_code    0\n",
              "brand            0\n",
              "price            0\n",
              "user_id          0\n",
              "user_session     0\n",
              "dtype: int64"
            ]
          },
          "execution_count": 16,
          "metadata": {},
          "output_type": "execute_result"
        }
      ],
      "source": [
        "df_na_treat.isna().sum()"
      ]
    },
    {
      "cell_type": "markdown",
      "metadata": {
        "id": "TQ1auLVCFb18"
      },
      "source": [
        "### 데이터 탐색 및 이상치 제거  \n",
        "[이상치 제거]  \n",
        "- boxplot으로 IQR * 1.5 + q3 보기  \n",
        "- 상위 1% 보기  \n",
        "- 3시그마 확인하기  \n",
        "> \"price\" 변수 이상치 의심되지만, 상품카테고리를 사용할 것이기 때문에 굳이 price변수 이상치 제거 x"
      ]
    },
    {
      "cell_type": "code",
      "execution_count": null,
      "metadata": {
        "id": "SiyqCtGdFb18",
        "outputId": "4172900c-abc1-4882-c8d1-18031bb7e2e4"
      },
      "outputs": [
        {
          "data": {
            "text/plain": [
              "(549507, 9)"
            ]
          },
          "execution_count": 17,
          "metadata": {},
          "output_type": "execute_result"
        }
      ],
      "source": [
        "df_na_treat.shape"
      ]
    },
    {
      "cell_type": "code",
      "execution_count": null,
      "metadata": {
        "id": "VDNFwWG1Fb19",
        "outputId": "9847d8a6-2957-4d27-eb3c-b440f813bdb9"
      },
      "outputs": [
        {
          "name": "stdout",
          "output_type": "stream",
          "text": [
            "<class 'pandas.core.frame.DataFrame'>\n",
            "Int64Index: 549507 entries, 0 to 742848\n",
            "Data columns (total 9 columns):\n",
            " #   Column         Non-Null Count   Dtype  \n",
            "---  ------         --------------   -----  \n",
            " 0   event_time     549507 non-null  object \n",
            " 1   event_type     549507 non-null  object \n",
            " 2   product_id     549507 non-null  int64  \n",
            " 3   category_id    549507 non-null  int64  \n",
            " 4   category_code  549507 non-null  object \n",
            " 5   brand          549507 non-null  object \n",
            " 6   price          549507 non-null  float64\n",
            " 7   user_id        549507 non-null  int64  \n",
            " 8   user_session   549507 non-null  object \n",
            "dtypes: float64(1), int64(3), object(5)\n",
            "memory usage: 41.9+ MB\n"
          ]
        }
      ],
      "source": [
        "df_na_treat.info()"
      ]
    },
    {
      "cell_type": "code",
      "execution_count": null,
      "metadata": {
        "scrolled": true,
        "id": "1vZRecHPFb19",
        "outputId": "84e6f78a-0a06-40db-a85c-6d8d5643f6a5"
      },
      "outputs": [
        {
          "data": {
            "text/html": [
              "<div>\n",
              "<style scoped>\n",
              "    .dataframe tbody tr th:only-of-type {\n",
              "        vertical-align: middle;\n",
              "    }\n",
              "\n",
              "    .dataframe tbody tr th {\n",
              "        vertical-align: top;\n",
              "    }\n",
              "\n",
              "    .dataframe thead th {\n",
              "        text-align: right;\n",
              "    }\n",
              "</style>\n",
              "<table border=\"1\" class=\"dataframe\">\n",
              "  <thead>\n",
              "    <tr style=\"text-align: right;\">\n",
              "      <th></th>\n",
              "      <th>product_id</th>\n",
              "      <th>category_id</th>\n",
              "      <th>price</th>\n",
              "      <th>user_id</th>\n",
              "    </tr>\n",
              "  </thead>\n",
              "  <tbody>\n",
              "    <tr>\n",
              "      <th>count</th>\n",
              "      <td>5.495070e+05</td>\n",
              "      <td>5.495070e+05</td>\n",
              "      <td>549507.000000</td>\n",
              "      <td>5.495070e+05</td>\n",
              "    </tr>\n",
              "    <tr>\n",
              "      <th>mean</th>\n",
              "      <td>3.054594e+06</td>\n",
              "      <td>2.054518e+18</td>\n",
              "      <td>371.001168</td>\n",
              "      <td>5.363179e+08</td>\n",
              "    </tr>\n",
              "    <tr>\n",
              "      <th>std</th>\n",
              "      <td>5.111423e+06</td>\n",
              "      <td>1.258658e+16</td>\n",
              "      <td>370.971646</td>\n",
              "      <td>1.832481e+07</td>\n",
              "    </tr>\n",
              "    <tr>\n",
              "      <th>min</th>\n",
              "      <td>1.000978e+06</td>\n",
              "      <td>2.053014e+18</td>\n",
              "      <td>0.880000</td>\n",
              "      <td>3.031604e+08</td>\n",
              "    </tr>\n",
              "    <tr>\n",
              "      <th>25%</th>\n",
              "      <td>1.004767e+06</td>\n",
              "      <td>2.053014e+18</td>\n",
              "      <td>131.530000</td>\n",
              "      <td>5.171431e+08</td>\n",
              "    </tr>\n",
              "    <tr>\n",
              "      <th>50%</th>\n",
              "      <td>1.005100e+06</td>\n",
              "      <td>2.053014e+18</td>\n",
              "      <td>230.880000</td>\n",
              "      <td>5.365788e+08</td>\n",
              "    </tr>\n",
              "    <tr>\n",
              "      <th>75%</th>\n",
              "      <td>3.600937e+06</td>\n",
              "      <td>2.053014e+18</td>\n",
              "      <td>462.440000</td>\n",
              "      <td>5.545513e+08</td>\n",
              "    </tr>\n",
              "    <tr>\n",
              "      <th>max</th>\n",
              "      <td>6.050000e+07</td>\n",
              "      <td>2.173217e+18</td>\n",
              "      <td>2574.040000</td>\n",
              "      <td>5.662783e+08</td>\n",
              "    </tr>\n",
              "  </tbody>\n",
              "</table>\n",
              "</div>"
            ],
            "text/plain": [
              "         product_id   category_id          price       user_id\n",
              "count  5.495070e+05  5.495070e+05  549507.000000  5.495070e+05\n",
              "mean   3.054594e+06  2.054518e+18     371.001168  5.363179e+08\n",
              "std    5.111423e+06  1.258658e+16     370.971646  1.832481e+07\n",
              "min    1.000978e+06  2.053014e+18       0.880000  3.031604e+08\n",
              "25%    1.004767e+06  2.053014e+18     131.530000  5.171431e+08\n",
              "50%    1.005100e+06  2.053014e+18     230.880000  5.365788e+08\n",
              "75%    3.600937e+06  2.053014e+18     462.440000  5.545513e+08\n",
              "max    6.050000e+07  2.173217e+18    2574.040000  5.662783e+08"
            ]
          },
          "execution_count": 19,
          "metadata": {},
          "output_type": "execute_result"
        }
      ],
      "source": [
        "df_na_treat.describe()"
      ]
    },
    {
      "cell_type": "code",
      "execution_count": null,
      "metadata": {
        "scrolled": true,
        "id": "ic_T6bBGFb1-",
        "outputId": "55566bb7-898e-4698-96c9-3d61b9c9e4b2"
      },
      "outputs": [
        {
          "data": {
            "text/plain": [
              "{'whiskers': [<matplotlib.lines.Line2D at 0x20286393730>,\n",
              "  <matplotlib.lines.Line2D at 0x20286393a00>],\n",
              " 'caps': [<matplotlib.lines.Line2D at 0x20286393d90>,\n",
              "  <matplotlib.lines.Line2D at 0x202863af160>],\n",
              " 'boxes': [<matplotlib.lines.Line2D at 0x202863932e0>],\n",
              " 'medians': [<matplotlib.lines.Line2D at 0x202863af4f0>],\n",
              " 'fliers': [<matplotlib.lines.Line2D at 0x202863af880>],\n",
              " 'means': []}"
            ]
          },
          "execution_count": 20,
          "metadata": {},
          "output_type": "execute_result"
        },
        {
          "data": {
            "image/png": "[encoded data removed]",
            "text/plain": [
              "<Figure size 432x288 with 1 Axes>"
            ]
          },
          "metadata": {
            "needs_background": "light"
          },
          "output_type": "display_data"
        }
      ],
      "source": [
        "# 1) boxplot\n",
        "plt.boxplot(df_na_treat.price)"
      ]
    },
    {
      "cell_type": "code",
      "execution_count": null,
      "metadata": {
        "id": "_acopnx1Fb1-"
      },
      "outputs": [],
      "source": [
        "IQR = df_na_treat.price.quantile(0.75) - df_na_treat.price.quantile(0.25)"
      ]
    },
    {
      "cell_type": "code",
      "execution_count": null,
      "metadata": {
        "scrolled": false,
        "id": "EGLTii-IFb1_",
        "outputId": "6f5ff5e0-00df-44f7-9ca3-c54ca94aa7a4"
      },
      "outputs": [
        {
          "data": {
            "text/plain": [
              "958.805"
            ]
          },
          "execution_count": 22,
          "metadata": {},
          "output_type": "execute_result"
        }
      ],
      "source": [
        "df_na_treat.price.quantile(0.75)  + IQR*1.5"
      ]
    },
    {
      "cell_type": "code",
      "execution_count": null,
      "metadata": {
        "scrolled": true,
        "id": "sj5VDIGCFb1_",
        "outputId": "5e52ec9a-4865-40f5-e198-76d8206546c6"
      },
      "outputs": [
        {
          "data": {
            "text/plain": [
              "1698.87"
            ]
          },
          "execution_count": 23,
          "metadata": {},
          "output_type": "execute_result"
        }
      ],
      "source": [
        "# 상위1%\n",
        "df_na_treat.price.quantile(0.99) "
      ]
    },
    {
      "cell_type": "code",
      "execution_count": null,
      "metadata": {
        "id": "oHKjrwzXFb2A",
        "outputId": "855edaea-a9c6-41ea-f84d-008b768226ca"
      },
      "outputs": [
        {
          "data": {
            "text/plain": [
              "(-1.0, 500.0)"
            ]
          },
          "execution_count": 24,
          "metadata": {},
          "output_type": "execute_result"
        },
        {
          "data": {
            "image/png": "[encoded data removed]",
            "text/plain": [
              "<Figure size 432x288 with 1 Axes>"
            ]
          },
          "metadata": {
            "needs_background": "light"
          },
          "output_type": "display_data"
        }
      ],
      "source": [
        "sns.histplot(df_na_treat['price'],bins = 10000)\n",
        "plt.xlim(-1,500)"
      ]
    },
    {
      "cell_type": "code",
      "execution_count": null,
      "metadata": {
        "scrolled": true,
        "id": "7zccrTpvFb2A",
        "outputId": "34b7560a-721d-4b51-9117-1501b55a0806"
      },
      "outputs": [
        {
          "data": {
            "text/plain": [
              "583177"
            ]
          },
          "execution_count": 25,
          "metadata": {},
          "output_type": "execute_result"
        }
      ],
      "source": [
        "import gc\n",
        "gc.collect()"
      ]
    },
    {
      "cell_type": "code",
      "execution_count": null,
      "metadata": {
        "id": "qDxYABW4Fb2B",
        "outputId": "efd31795-9d48-49a4-bc98-0b29a8460d92"
      },
      "outputs": [
        {
          "name": "stdout",
          "output_type": "stream",
          "text": [
            "371.00116784681546 370.9716461127377\n"
          ]
        }
      ],
      "source": [
        "# 3시그마\n",
        "print(df_na_treat['price'].mean(), df_na_treat['price'].std())"
      ]
    },
    {
      "cell_type": "markdown",
      "metadata": {
        "id": "JbSVli86Fb2B"
      },
      "source": [
        "#### 'category'변수 확인 및 파생"
      ]
    },
    {
      "cell_type": "code",
      "execution_count": null,
      "metadata": {
        "id": "ER7pLXlVFb2B",
        "outputId": "2acc972f-c25b-482e-bbe1-9d95e748cbe6"
      },
      "outputs": [
        {
          "data": {
            "text/html": [
              "<div>\n",
              "<style scoped>\n",
              "    .dataframe tbody tr th:only-of-type {\n",
              "        vertical-align: middle;\n",
              "    }\n",
              "\n",
              "    .dataframe tbody tr th {\n",
              "        vertical-align: top;\n",
              "    }\n",
              "\n",
              "    .dataframe thead th {\n",
              "        text-align: right;\n",
              "    }\n",
              "</style>\n",
              "<table border=\"1\" class=\"dataframe\">\n",
              "  <thead>\n",
              "    <tr style=\"text-align: right;\">\n",
              "      <th></th>\n",
              "      <th>event_time</th>\n",
              "      <th>event_type</th>\n",
              "      <th>product_id</th>\n",
              "      <th>category_id</th>\n",
              "      <th>category_code</th>\n",
              "      <th>brand</th>\n",
              "      <th>price</th>\n",
              "      <th>user_id</th>\n",
              "      <th>user_session</th>\n",
              "    </tr>\n",
              "  </thead>\n",
              "  <tbody>\n",
              "    <tr>\n",
              "      <th>0</th>\n",
              "      <td>2019-10-01 00:02:14 UTC</td>\n",
              "      <td>purchase</td>\n",
              "      <td>1004856</td>\n",
              "      <td>2053013555631882655</td>\n",
              "      <td>electronics.smartphone</td>\n",
              "      <td>samsung</td>\n",
              "      <td>130.76</td>\n",
              "      <td>543272936</td>\n",
              "      <td>8187d148-3c41-46d4-b0c0-9c08cd9dc564</td>\n",
              "    </tr>\n",
              "    <tr>\n",
              "      <th>1</th>\n",
              "      <td>2019-10-01 00:04:37 UTC</td>\n",
              "      <td>purchase</td>\n",
              "      <td>1002532</td>\n",
              "      <td>2053013555631882655</td>\n",
              "      <td>electronics.smartphone</td>\n",
              "      <td>apple</td>\n",
              "      <td>642.69</td>\n",
              "      <td>551377651</td>\n",
              "      <td>3c80f0d6-e9ec-4181-8c5c-837a30be2d68</td>\n",
              "    </tr>\n",
              "    <tr>\n",
              "      <th>3</th>\n",
              "      <td>2019-10-01 00:07:07 UTC</td>\n",
              "      <td>purchase</td>\n",
              "      <td>13800054</td>\n",
              "      <td>2053013557418656265</td>\n",
              "      <td>furniture.bathroom.toilet</td>\n",
              "      <td>santeri</td>\n",
              "      <td>54.42</td>\n",
              "      <td>555332717</td>\n",
              "      <td>1dea3ee2-2ded-42e8-8e7a-4e2ad6ae942f</td>\n",
              "    </tr>\n",
              "  </tbody>\n",
              "</table>\n",
              "</div>"
            ],
            "text/plain": [
              "                event_time event_type  product_id          category_id  \\\n",
              "0  2019-10-01 00:02:14 UTC   purchase     1004856  2053013555631882655   \n",
              "1  2019-10-01 00:04:37 UTC   purchase     1002532  2053013555631882655   \n",
              "3  2019-10-01 00:07:07 UTC   purchase    13800054  2053013557418656265   \n",
              "\n",
              "               category_code    brand   price    user_id  \\\n",
              "0     electronics.smartphone  samsung  130.76  543272936   \n",
              "1     electronics.smartphone    apple  642.69  551377651   \n",
              "3  furniture.bathroom.toilet  santeri   54.42  555332717   \n",
              "\n",
              "                           user_session  \n",
              "0  8187d148-3c41-46d4-b0c0-9c08cd9dc564  \n",
              "1  3c80f0d6-e9ec-4181-8c5c-837a30be2d68  \n",
              "3  1dea3ee2-2ded-42e8-8e7a-4e2ad6ae942f  "
            ]
          },
          "execution_count": 27,
          "metadata": {},
          "output_type": "execute_result"
        }
      ],
      "source": [
        "df_na_treat.head(3)"
      ]
    },
    {
      "cell_type": "code",
      "execution_count": null,
      "metadata": {
        "id": "ILQXhZDQFb2C",
        "outputId": "2bc8277b-ab92-4978-891d-f1532f817f2a"
      },
      "outputs": [
        {
          "data": {
            "text/plain": [
              "electronics.smartphone         0.614323\n",
              "electronics.audio.headphone    0.055393\n",
              "electronics.video.tv           0.039213\n",
              "electronics.clocks             0.030294\n",
              "appliances.kitchen.washer      0.029224\n",
              "                                 ...   \n",
              "apparel.skirt                  0.000005\n",
              "apparel.jeans                  0.000005\n",
              "apparel.shorts                 0.000004\n",
              "apparel.jumper                 0.000004\n",
              "apparel.jacket                 0.000002\n",
              "Name: category_code, Length: 120, dtype: float64"
            ]
          },
          "execution_count": 28,
          "metadata": {},
          "output_type": "execute_result"
        }
      ],
      "source": [
        "df_na_treat['category_code'].value_counts(1)"
      ]
    },
    {
      "cell_type": "code",
      "execution_count": null,
      "metadata": {
        "id": "ddefKqebFb2D",
        "outputId": "7472e677-78f1-4471-a02b-2dddaceeb86f"
      },
      "outputs": [
        {
          "data": {
            "text/plain": [
              "(array([119.,   0.,   0.,   0.,   0.,   0.,   0.,   0.,   0.,   1.]),\n",
              " array([1.81981303e-06, 6.14339763e-02, 1.22866133e-01, 1.84298289e-01,\n",
              "        2.45730446e-01, 3.07162602e-01, 3.68594759e-01, 4.30026915e-01,\n",
              "        4.91459071e-01, 5.52891228e-01, 6.14323384e-01]),\n",
              " <BarContainer object of 10 artists>)"
            ]
          },
          "execution_count": 29,
          "metadata": {},
          "output_type": "execute_result"
        },
        {
          "data": {
            "image/png": "[encoded data removed]",
            "text/plain": [
              "<Figure size 432x288 with 1 Axes>"
            ]
          },
          "metadata": {
            "needs_background": "light"
          },
          "output_type": "display_data"
        }
      ],
      "source": [
        "plt.hist(df_na_treat['category_code'].value_counts(1).values)"
      ]
    },
    {
      "cell_type": "code",
      "execution_count": null,
      "metadata": {
        "scrolled": true,
        "id": "OZkQRMXpFb2D",
        "outputId": "111b2d9b-d3e9-475f-ee9a-9192ca74f238"
      },
      "outputs": [
        {
          "data": {
            "text/plain": [
              "120"
            ]
          },
          "execution_count": 30,
          "metadata": {},
          "output_type": "execute_result"
        }
      ],
      "source": [
        "df_na_treat['category_code'].nunique()"
      ]
    },
    {
      "cell_type": "code",
      "execution_count": null,
      "metadata": {
        "id": "rhEMMeqcFb2E",
        "outputId": "2b07d761-42b4-4c17-def6-5b30b4b85aad"
      },
      "outputs": [
        {
          "name": "stderr",
          "output_type": "stream",
          "text": [
            "c:\\python 3.8\\lib\\site-packages\\pandas\\core\\frame.py:3641: SettingWithCopyWarning: \n",
            "A value is trying to be set on a copy of a slice from a DataFrame.\n",
            "Try using .loc[row_indexer,col_indexer] = value instead\n",
            "\n",
            "See the caveats in the documentation: https://pandas.pydata.org/pandas-docs/stable/user_guide/indexing.html#returning-a-view-versus-a-copy\n",
            "  self[k1] = value[k2]\n"
          ]
        }
      ],
      "source": [
        "# 카테고리 파싱 (카테고리 단위별로 변수화)\n",
        "df_na_treat[['ctgr_lv1','ctgr_lv2','ctgr_lv3','ctgr_lv4']] = df_na_treat['category_code'].str.split('.',expand= True)"
      ]
    },
    {
      "cell_type": "code",
      "execution_count": null,
      "metadata": {
        "scrolled": false,
        "id": "pwpU2_WbFb2F",
        "outputId": "57193240-da5e-4b80-bfb5-4bd582529b19"
      },
      "outputs": [
        {
          "data": {
            "text/html": [
              "<div>\n",
              "<style scoped>\n",
              "    .dataframe tbody tr th:only-of-type {\n",
              "        vertical-align: middle;\n",
              "    }\n",
              "\n",
              "    .dataframe tbody tr th {\n",
              "        vertical-align: top;\n",
              "    }\n",
              "\n",
              "    .dataframe thead th {\n",
              "        text-align: right;\n",
              "    }\n",
              "</style>\n",
              "<table border=\"1\" class=\"dataframe\">\n",
              "  <thead>\n",
              "    <tr style=\"text-align: right;\">\n",
              "      <th></th>\n",
              "      <th>event_time</th>\n",
              "      <th>event_type</th>\n",
              "      <th>product_id</th>\n",
              "      <th>category_id</th>\n",
              "      <th>category_code</th>\n",
              "      <th>brand</th>\n",
              "      <th>price</th>\n",
              "      <th>user_id</th>\n",
              "      <th>user_session</th>\n",
              "      <th>ctgr_lv1</th>\n",
              "      <th>ctgr_lv2</th>\n",
              "      <th>ctgr_lv3</th>\n",
              "      <th>ctgr_lv4</th>\n",
              "    </tr>\n",
              "  </thead>\n",
              "  <tbody>\n",
              "    <tr>\n",
              "      <th>0</th>\n",
              "      <td>2019-10-01 00:02:14 UTC</td>\n",
              "      <td>purchase</td>\n",
              "      <td>1004856</td>\n",
              "      <td>2053013555631882655</td>\n",
              "      <td>electronics.smartphone</td>\n",
              "      <td>samsung</td>\n",
              "      <td>130.76</td>\n",
              "      <td>543272936</td>\n",
              "      <td>8187d148-3c41-46d4-b0c0-9c08cd9dc564</td>\n",
              "      <td>electronics</td>\n",
              "      <td>smartphone</td>\n",
              "      <td>None</td>\n",
              "      <td>None</td>\n",
              "    </tr>\n",
              "    <tr>\n",
              "      <th>1</th>\n",
              "      <td>2019-10-01 00:04:37 UTC</td>\n",
              "      <td>purchase</td>\n",
              "      <td>1002532</td>\n",
              "      <td>2053013555631882655</td>\n",
              "      <td>electronics.smartphone</td>\n",
              "      <td>apple</td>\n",
              "      <td>642.69</td>\n",
              "      <td>551377651</td>\n",
              "      <td>3c80f0d6-e9ec-4181-8c5c-837a30be2d68</td>\n",
              "      <td>electronics</td>\n",
              "      <td>smartphone</td>\n",
              "      <td>None</td>\n",
              "      <td>None</td>\n",
              "    </tr>\n",
              "    <tr>\n",
              "      <th>3</th>\n",
              "      <td>2019-10-01 00:07:07 UTC</td>\n",
              "      <td>purchase</td>\n",
              "      <td>13800054</td>\n",
              "      <td>2053013557418656265</td>\n",
              "      <td>furniture.bathroom.toilet</td>\n",
              "      <td>santeri</td>\n",
              "      <td>54.42</td>\n",
              "      <td>555332717</td>\n",
              "      <td>1dea3ee2-2ded-42e8-8e7a-4e2ad6ae942f</td>\n",
              "      <td>furniture</td>\n",
              "      <td>bathroom</td>\n",
              "      <td>toilet</td>\n",
              "      <td>None</td>\n",
              "    </tr>\n",
              "    <tr>\n",
              "      <th>4</th>\n",
              "      <td>2019-10-01 00:09:26 UTC</td>\n",
              "      <td>purchase</td>\n",
              "      <td>4804055</td>\n",
              "      <td>2053013554658804075</td>\n",
              "      <td>electronics.audio.headphone</td>\n",
              "      <td>apple</td>\n",
              "      <td>189.91</td>\n",
              "      <td>524601178</td>\n",
              "      <td>2af9b570-0942-4dcd-8f25-4d84fba82553</td>\n",
              "      <td>electronics</td>\n",
              "      <td>audio</td>\n",
              "      <td>headphone</td>\n",
              "      <td>None</td>\n",
              "    </tr>\n",
              "    <tr>\n",
              "      <th>5</th>\n",
              "      <td>2019-10-01 00:09:54 UTC</td>\n",
              "      <td>purchase</td>\n",
              "      <td>4804056</td>\n",
              "      <td>2053013554658804075</td>\n",
              "      <td>electronics.audio.headphone</td>\n",
              "      <td>apple</td>\n",
              "      <td>161.98</td>\n",
              "      <td>551377651</td>\n",
              "      <td>3c80f0d6-e9ec-4181-8c5c-837a30be2d68</td>\n",
              "      <td>electronics</td>\n",
              "      <td>audio</td>\n",
              "      <td>headphone</td>\n",
              "      <td>None</td>\n",
              "    </tr>\n",
              "  </tbody>\n",
              "</table>\n",
              "</div>"
            ],
            "text/plain": [
              "                event_time event_type  product_id          category_id  \\\n",
              "0  2019-10-01 00:02:14 UTC   purchase     1004856  2053013555631882655   \n",
              "1  2019-10-01 00:04:37 UTC   purchase     1002532  2053013555631882655   \n",
              "3  2019-10-01 00:07:07 UTC   purchase    13800054  2053013557418656265   \n",
              "4  2019-10-01 00:09:26 UTC   purchase     4804055  2053013554658804075   \n",
              "5  2019-10-01 00:09:54 UTC   purchase     4804056  2053013554658804075   \n",
              "\n",
              "                 category_code    brand   price    user_id  \\\n",
              "0       electronics.smartphone  samsung  130.76  543272936   \n",
              "1       electronics.smartphone    apple  642.69  551377651   \n",
              "3    furniture.bathroom.toilet  santeri   54.42  555332717   \n",
              "4  electronics.audio.headphone    apple  189.91  524601178   \n",
              "5  electronics.audio.headphone    apple  161.98  551377651   \n",
              "\n",
              "                           user_session     ctgr_lv1    ctgr_lv2   ctgr_lv3  \\\n",
              "0  8187d148-3c41-46d4-b0c0-9c08cd9dc564  electronics  smartphone       None   \n",
              "1  3c80f0d6-e9ec-4181-8c5c-837a30be2d68  electronics  smartphone       None   \n",
              "3  1dea3ee2-2ded-42e8-8e7a-4e2ad6ae942f    furniture    bathroom     toilet   \n",
              "4  2af9b570-0942-4dcd-8f25-4d84fba82553  electronics       audio  headphone   \n",
              "5  3c80f0d6-e9ec-4181-8c5c-837a30be2d68  electronics       audio  headphone   \n",
              "\n",
              "  ctgr_lv4  \n",
              "0     None  \n",
              "1     None  \n",
              "3     None  \n",
              "4     None  \n",
              "5     None  "
            ]
          },
          "execution_count": 32,
          "metadata": {},
          "output_type": "execute_result"
        }
      ],
      "source": [
        "df_na_treat.head()"
      ]
    },
    {
      "cell_type": "code",
      "execution_count": null,
      "metadata": {
        "id": "HkqxwcEbFb2F",
        "outputId": "60a29681-a5cb-4f51-90ce-94ea48d9c860"
      },
      "outputs": [
        {
          "data": {
            "text/html": [
              "<div>\n",
              "<style scoped>\n",
              "    .dataframe tbody tr th:only-of-type {\n",
              "        vertical-align: middle;\n",
              "    }\n",
              "\n",
              "    .dataframe tbody tr th {\n",
              "        vertical-align: top;\n",
              "    }\n",
              "\n",
              "    .dataframe thead th {\n",
              "        text-align: right;\n",
              "    }\n",
              "</style>\n",
              "<table border=\"1\" class=\"dataframe\">\n",
              "  <thead>\n",
              "    <tr style=\"text-align: right;\">\n",
              "      <th></th>\n",
              "      <th>ctgr_lv1</th>\n",
              "      <th>ctgr_lv1</th>\n",
              "    </tr>\n",
              "  </thead>\n",
              "  <tbody>\n",
              "    <tr>\n",
              "      <th>electronics</th>\n",
              "      <td>420361</td>\n",
              "      <td>0.764978</td>\n",
              "    </tr>\n",
              "    <tr>\n",
              "      <th>appliances</th>\n",
              "      <td>71231</td>\n",
              "      <td>0.129627</td>\n",
              "    </tr>\n",
              "    <tr>\n",
              "      <th>computers</th>\n",
              "      <td>27151</td>\n",
              "      <td>0.049410</td>\n",
              "    </tr>\n",
              "    <tr>\n",
              "      <th>auto</th>\n",
              "      <td>7869</td>\n",
              "      <td>0.014320</td>\n",
              "    </tr>\n",
              "    <tr>\n",
              "      <th>apparel</th>\n",
              "      <td>6152</td>\n",
              "      <td>0.011195</td>\n",
              "    </tr>\n",
              "    <tr>\n",
              "      <th>construction</th>\n",
              "      <td>5439</td>\n",
              "      <td>0.009898</td>\n",
              "    </tr>\n",
              "    <tr>\n",
              "      <th>kids</th>\n",
              "      <td>4529</td>\n",
              "      <td>0.008242</td>\n",
              "    </tr>\n",
              "    <tr>\n",
              "      <th>furniture</th>\n",
              "      <td>3828</td>\n",
              "      <td>0.006966</td>\n",
              "    </tr>\n",
              "    <tr>\n",
              "      <th>accessories</th>\n",
              "      <td>1432</td>\n",
              "      <td>0.002606</td>\n",
              "    </tr>\n",
              "    <tr>\n",
              "      <th>sport</th>\n",
              "      <td>1029</td>\n",
              "      <td>0.001873</td>\n",
              "    </tr>\n",
              "    <tr>\n",
              "      <th>medicine</th>\n",
              "      <td>304</td>\n",
              "      <td>0.000553</td>\n",
              "    </tr>\n",
              "    <tr>\n",
              "      <th>stationery</th>\n",
              "      <td>115</td>\n",
              "      <td>0.000209</td>\n",
              "    </tr>\n",
              "    <tr>\n",
              "      <th>country_yard</th>\n",
              "      <td>67</td>\n",
              "      <td>0.000122</td>\n",
              "    </tr>\n",
              "  </tbody>\n",
              "</table>\n",
              "</div>"
            ],
            "text/plain": [
              "              ctgr_lv1  ctgr_lv1\n",
              "electronics     420361  0.764978\n",
              "appliances       71231  0.129627\n",
              "computers        27151  0.049410\n",
              "auto              7869  0.014320\n",
              "apparel           6152  0.011195\n",
              "construction      5439  0.009898\n",
              "kids              4529  0.008242\n",
              "furniture         3828  0.006966\n",
              "accessories       1432  0.002606\n",
              "sport             1029  0.001873\n",
              "medicine           304  0.000553\n",
              "stationery         115  0.000209\n",
              "country_yard        67  0.000122"
            ]
          },
          "execution_count": 33,
          "metadata": {},
          "output_type": "execute_result"
        }
      ],
      "source": [
        "pd.concat([df_na_treat['ctgr_lv1'].value_counts(),df_na_treat['ctgr_lv1'].value_counts(1)], axis =1)"
      ]
    },
    {
      "cell_type": "markdown",
      "metadata": {
        "id": "JpNxPAr-Fb2G"
      },
      "source": [
        "#### electronics, appliances 는 2번째 카테고리까지 가보자"
      ]
    },
    {
      "cell_type": "code",
      "execution_count": null,
      "metadata": {
        "scrolled": true,
        "id": "J326dqKGFb2G",
        "outputId": "71cf88a7-fc2d-44a0-ad06-9e85cf3fdb51"
      },
      "outputs": [
        {
          "data": {
            "text/html": [
              "<div>\n",
              "<style scoped>\n",
              "    .dataframe tbody tr th:only-of-type {\n",
              "        vertical-align: middle;\n",
              "    }\n",
              "\n",
              "    .dataframe tbody tr th {\n",
              "        vertical-align: top;\n",
              "    }\n",
              "\n",
              "    .dataframe thead th {\n",
              "        text-align: right;\n",
              "    }\n",
              "</style>\n",
              "<table border=\"1\" class=\"dataframe\">\n",
              "  <thead>\n",
              "    <tr style=\"text-align: right;\">\n",
              "      <th></th>\n",
              "      <th>ctgr_lv2</th>\n",
              "      <th>ctgr_lv2</th>\n",
              "    </tr>\n",
              "  </thead>\n",
              "  <tbody>\n",
              "    <tr>\n",
              "      <th>smartphone</th>\n",
              "      <td>337575</td>\n",
              "      <td>0.803060</td>\n",
              "    </tr>\n",
              "    <tr>\n",
              "      <th>audio</th>\n",
              "      <td>34653</td>\n",
              "      <td>0.082436</td>\n",
              "    </tr>\n",
              "    <tr>\n",
              "      <th>video</th>\n",
              "      <td>21630</td>\n",
              "      <td>0.051456</td>\n",
              "    </tr>\n",
              "    <tr>\n",
              "      <th>clocks</th>\n",
              "      <td>16647</td>\n",
              "      <td>0.039602</td>\n",
              "    </tr>\n",
              "    <tr>\n",
              "      <th>tablet</th>\n",
              "      <td>5599</td>\n",
              "      <td>0.013320</td>\n",
              "    </tr>\n",
              "    <tr>\n",
              "      <th>telephone</th>\n",
              "      <td>3733</td>\n",
              "      <td>0.008880</td>\n",
              "    </tr>\n",
              "    <tr>\n",
              "      <th>camera</th>\n",
              "      <td>524</td>\n",
              "      <td>0.001247</td>\n",
              "    </tr>\n",
              "  </tbody>\n",
              "</table>\n",
              "</div>"
            ],
            "text/plain": [
              "            ctgr_lv2  ctgr_lv2\n",
              "smartphone    337575  0.803060\n",
              "audio          34653  0.082436\n",
              "video          21630  0.051456\n",
              "clocks         16647  0.039602\n",
              "tablet          5599  0.013320\n",
              "telephone       3733  0.008880\n",
              "camera           524  0.001247"
            ]
          },
          "execution_count": 34,
          "metadata": {},
          "output_type": "execute_result"
        }
      ],
      "source": [
        "pd.concat([df_na_treat[df_na_treat.ctgr_lv1 == 'electronics']['ctgr_lv2'].value_counts(),df_na_treat[df_na_treat.ctgr_lv1 == 'electronics']['ctgr_lv2'].value_counts(1)], axis =1)"
      ]
    },
    {
      "cell_type": "code",
      "execution_count": null,
      "metadata": {
        "id": "DChYt20GFb2G",
        "outputId": "fb127604-2787-457c-827b-31fb105ef847"
      },
      "outputs": [
        {
          "data": {
            "text/plain": [
              "0.61432323268"
            ]
          },
          "execution_count": 35,
          "metadata": {},
          "output_type": "execute_result"
        }
      ],
      "source": [
        "0.764978*0.803060\n",
        "# 카테고리 3까지 가보자"
      ]
    },
    {
      "cell_type": "code",
      "execution_count": null,
      "metadata": {
        "scrolled": true,
        "id": "i3FzafnAFb2H",
        "outputId": "03fccd07-427f-4233-c131-96ce6ab1beed"
      },
      "outputs": [
        {
          "data": {
            "text/html": [
              "<div>\n",
              "<style scoped>\n",
              "    .dataframe tbody tr th:only-of-type {\n",
              "        vertical-align: middle;\n",
              "    }\n",
              "\n",
              "    .dataframe tbody tr th {\n",
              "        vertical-align: top;\n",
              "    }\n",
              "\n",
              "    .dataframe thead th {\n",
              "        text-align: right;\n",
              "    }\n",
              "</style>\n",
              "<table border=\"1\" class=\"dataframe\">\n",
              "  <thead>\n",
              "    <tr style=\"text-align: right;\">\n",
              "      <th></th>\n",
              "      <th>0</th>\n",
              "      <th>1</th>\n",
              "    </tr>\n",
              "    <tr>\n",
              "      <th>brand</th>\n",
              "      <th></th>\n",
              "      <th></th>\n",
              "    </tr>\n",
              "  </thead>\n",
              "  <tbody>\n",
              "    <tr>\n",
              "      <th>samsung</th>\n",
              "      <td>143123</td>\n",
              "      <td>0.423974</td>\n",
              "    </tr>\n",
              "    <tr>\n",
              "      <th>apple</th>\n",
              "      <td>115345</td>\n",
              "      <td>0.341687</td>\n",
              "    </tr>\n",
              "    <tr>\n",
              "      <th>xiaomi</th>\n",
              "      <td>38776</td>\n",
              "      <td>0.114866</td>\n",
              "    </tr>\n",
              "    <tr>\n",
              "      <th>huawei</th>\n",
              "      <td>21882</td>\n",
              "      <td>0.064821</td>\n",
              "    </tr>\n",
              "    <tr>\n",
              "      <th>oppo</th>\n",
              "      <td>10891</td>\n",
              "      <td>0.032262</td>\n",
              "    </tr>\n",
              "    <tr>\n",
              "      <th>vivo</th>\n",
              "      <td>2025</td>\n",
              "      <td>0.005999</td>\n",
              "    </tr>\n",
              "    <tr>\n",
              "      <th>meizu</th>\n",
              "      <td>1686</td>\n",
              "      <td>0.004994</td>\n",
              "    </tr>\n",
              "    <tr>\n",
              "      <th>honor</th>\n",
              "      <td>555</td>\n",
              "      <td>0.001644</td>\n",
              "    </tr>\n",
              "    <tr>\n",
              "      <th>nokia</th>\n",
              "      <td>512</td>\n",
              "      <td>0.001517</td>\n",
              "    </tr>\n",
              "    <tr>\n",
              "      <th>oneplus</th>\n",
              "      <td>509</td>\n",
              "      <td>0.001508</td>\n",
              "    </tr>\n",
              "    <tr>\n",
              "      <th>sony</th>\n",
              "      <td>494</td>\n",
              "      <td>0.001463</td>\n",
              "    </tr>\n",
              "    <tr>\n",
              "      <th>tp-link</th>\n",
              "      <td>375</td>\n",
              "      <td>0.001111</td>\n",
              "    </tr>\n",
              "    <tr>\n",
              "      <th>prestigio</th>\n",
              "      <td>287</td>\n",
              "      <td>0.000850</td>\n",
              "    </tr>\n",
              "    <tr>\n",
              "      <th>inoi</th>\n",
              "      <td>195</td>\n",
              "      <td>0.000578</td>\n",
              "    </tr>\n",
              "    <tr>\n",
              "      <th>zte</th>\n",
              "      <td>173</td>\n",
              "      <td>0.000512</td>\n",
              "    </tr>\n",
              "    <tr>\n",
              "      <th>lg</th>\n",
              "      <td>110</td>\n",
              "      <td>0.000326</td>\n",
              "    </tr>\n",
              "    <tr>\n",
              "      <th>tecno</th>\n",
              "      <td>95</td>\n",
              "      <td>0.000281</td>\n",
              "    </tr>\n",
              "    <tr>\n",
              "      <th>haier</th>\n",
              "      <td>92</td>\n",
              "      <td>0.000273</td>\n",
              "    </tr>\n",
              "    <tr>\n",
              "      <th>bq</th>\n",
              "      <td>92</td>\n",
              "      <td>0.000273</td>\n",
              "    </tr>\n",
              "    <tr>\n",
              "      <th>doogee</th>\n",
              "      <td>89</td>\n",
              "      <td>0.000264</td>\n",
              "    </tr>\n",
              "    <tr>\n",
              "      <th>fly</th>\n",
              "      <td>46</td>\n",
              "      <td>0.000136</td>\n",
              "    </tr>\n",
              "    <tr>\n",
              "      <th>jinga</th>\n",
              "      <td>43</td>\n",
              "      <td>0.000127</td>\n",
              "    </tr>\n",
              "    <tr>\n",
              "      <th>htc</th>\n",
              "      <td>43</td>\n",
              "      <td>0.000127</td>\n",
              "    </tr>\n",
              "    <tr>\n",
              "      <th>gionee</th>\n",
              "      <td>33</td>\n",
              "      <td>0.000098</td>\n",
              "    </tr>\n",
              "    <tr>\n",
              "      <th>umi</th>\n",
              "      <td>27</td>\n",
              "      <td>0.000080</td>\n",
              "    </tr>\n",
              "    <tr>\n",
              "      <th>google</th>\n",
              "      <td>27</td>\n",
              "      <td>0.000080</td>\n",
              "    </tr>\n",
              "    <tr>\n",
              "      <th>texet</th>\n",
              "      <td>16</td>\n",
              "      <td>0.000047</td>\n",
              "    </tr>\n",
              "    <tr>\n",
              "      <th>asus</th>\n",
              "      <td>12</td>\n",
              "      <td>0.000036</td>\n",
              "    </tr>\n",
              "    <tr>\n",
              "      <th>blackberry</th>\n",
              "      <td>8</td>\n",
              "      <td>0.000024</td>\n",
              "    </tr>\n",
              "    <tr>\n",
              "      <th>irbis</th>\n",
              "      <td>7</td>\n",
              "      <td>0.000021</td>\n",
              "    </tr>\n",
              "    <tr>\n",
              "      <th>nubia</th>\n",
              "      <td>5</td>\n",
              "      <td>0.000015</td>\n",
              "    </tr>\n",
              "    <tr>\n",
              "      <th>philips</th>\n",
              "      <td>1</td>\n",
              "      <td>0.000003</td>\n",
              "    </tr>\n",
              "    <tr>\n",
              "      <th>micromax</th>\n",
              "      <td>1</td>\n",
              "      <td>0.000003</td>\n",
              "    </tr>\n",
              "  </tbody>\n",
              "</table>\n",
              "</div>"
            ],
            "text/plain": [
              "                 0         1\n",
              "brand                       \n",
              "samsung     143123  0.423974\n",
              "apple       115345  0.341687\n",
              "xiaomi       38776  0.114866\n",
              "huawei       21882  0.064821\n",
              "oppo         10891  0.032262\n",
              "vivo          2025  0.005999\n",
              "meizu         1686  0.004994\n",
              "honor          555  0.001644\n",
              "nokia          512  0.001517\n",
              "oneplus        509  0.001508\n",
              "sony           494  0.001463\n",
              "tp-link        375  0.001111\n",
              "prestigio      287  0.000850\n",
              "inoi           195  0.000578\n",
              "zte            173  0.000512\n",
              "lg             110  0.000326\n",
              "tecno           95  0.000281\n",
              "haier           92  0.000273\n",
              "bq              92  0.000273\n",
              "doogee          89  0.000264\n",
              "fly             46  0.000136\n",
              "jinga           43  0.000127\n",
              "htc             43  0.000127\n",
              "gionee          33  0.000098\n",
              "umi             27  0.000080\n",
              "google          27  0.000080\n",
              "texet           16  0.000047\n",
              "asus            12  0.000036\n",
              "blackberry       8  0.000024\n",
              "irbis            7  0.000021\n",
              "nubia            5  0.000015\n",
              "philips          1  0.000003\n",
              "micromax         1  0.000003"
            ]
          },
          "execution_count": 36,
          "metadata": {},
          "output_type": "execute_result"
        }
      ],
      "source": [
        "pd.concat([df_na_treat.loc[(df_na_treat.ctgr_lv1 ==\"electronics\")&(df_na_treat.ctgr_lv2 ==\"smartphone\") ,['brand']].value_counts(), \n",
        "df_na_treat.loc[(df_na_treat.ctgr_lv1 ==\"electronics\")&(df_na_treat.ctgr_lv2 ==\"smartphone\") ,['brand']].value_counts(normalize=True)], axis = 1)"
      ]
    },
    {
      "cell_type": "code",
      "execution_count": null,
      "metadata": {
        "scrolled": true,
        "id": "LdRZTl4FFb2H",
        "outputId": "ae2cd85c-5d9d-4fd5-9757-847cc66c92af"
      },
      "outputs": [
        {
          "data": {
            "text/plain": [
              "0.25985872742363997"
            ]
          },
          "execution_count": 37,
          "metadata": {},
          "output_type": "execute_result"
        }
      ],
      "source": [
        "0.764978*0.803060*0.423"
      ]
    },
    {
      "cell_type": "code",
      "execution_count": null,
      "metadata": {
        "id": "jKFdv8-nFb2I",
        "outputId": "f061ad3d-c9b7-45d5-fe79-2c0403c8702b"
      },
      "outputs": [
        {
          "data": {
            "text/html": [
              "<div>\n",
              "<style scoped>\n",
              "    .dataframe tbody tr th:only-of-type {\n",
              "        vertical-align: middle;\n",
              "    }\n",
              "\n",
              "    .dataframe tbody tr th {\n",
              "        vertical-align: top;\n",
              "    }\n",
              "\n",
              "    .dataframe thead th {\n",
              "        text-align: right;\n",
              "    }\n",
              "</style>\n",
              "<table border=\"1\" class=\"dataframe\">\n",
              "  <thead>\n",
              "    <tr style=\"text-align: right;\">\n",
              "      <th></th>\n",
              "      <th>ctgr_lv4</th>\n",
              "      <th>ctgr_lv4</th>\n",
              "    </tr>\n",
              "  </thead>\n",
              "  <tbody>\n",
              "  </tbody>\n",
              "</table>\n",
              "</div>"
            ],
            "text/plain": [
              "Empty DataFrame\n",
              "Columns: [ctgr_lv4, ctgr_lv4]\n",
              "Index: []"
            ]
          },
          "execution_count": 38,
          "metadata": {},
          "output_type": "execute_result"
        }
      ],
      "source": [
        "pd.concat([df_na_treat[df_na_treat.ctgr_lv2 == 'smartphone']['ctgr_lv4'].value_counts(),df_na_treat[df_na_treat.ctgr_lv2 == 'smartphone']['ctgr_lv4'].value_counts(1)], axis =1)\n",
        "# 4까지 나눌수는 없음"
      ]
    },
    {
      "cell_type": "markdown",
      "metadata": {
        "id": "UW_v3HHoFb2I"
      },
      "source": [
        "[결론1]  \n",
        "- 스마트폰은 삼성/애플/기타 로 묶자!"
      ]
    },
    {
      "cell_type": "code",
      "execution_count": null,
      "metadata": {
        "scrolled": true,
        "id": "cmqoA2hcFb2J",
        "outputId": "b39faa3f-6c93-4532-b97e-cbcece534bd5"
      },
      "outputs": [
        {
          "data": {
            "text/html": [
              "<div>\n",
              "<style scoped>\n",
              "    .dataframe tbody tr th:only-of-type {\n",
              "        vertical-align: middle;\n",
              "    }\n",
              "\n",
              "    .dataframe tbody tr th {\n",
              "        vertical-align: top;\n",
              "    }\n",
              "\n",
              "    .dataframe thead th {\n",
              "        text-align: right;\n",
              "    }\n",
              "</style>\n",
              "<table border=\"1\" class=\"dataframe\">\n",
              "  <thead>\n",
              "    <tr style=\"text-align: right;\">\n",
              "      <th></th>\n",
              "      <th>0</th>\n",
              "      <th>1</th>\n",
              "    </tr>\n",
              "    <tr>\n",
              "      <th>ctgr_lv2</th>\n",
              "      <th></th>\n",
              "      <th></th>\n",
              "    </tr>\n",
              "  </thead>\n",
              "  <tbody>\n",
              "    <tr>\n",
              "      <th>kitchen</th>\n",
              "      <td>45057</td>\n",
              "      <td>0.632548</td>\n",
              "    </tr>\n",
              "    <tr>\n",
              "      <th>environment</th>\n",
              "      <td>17437</td>\n",
              "      <td>0.244795</td>\n",
              "    </tr>\n",
              "    <tr>\n",
              "      <th>iron</th>\n",
              "      <td>3647</td>\n",
              "      <td>0.051200</td>\n",
              "    </tr>\n",
              "    <tr>\n",
              "      <th>personal</th>\n",
              "      <td>2493</td>\n",
              "      <td>0.034999</td>\n",
              "    </tr>\n",
              "    <tr>\n",
              "      <th>sewing_machine</th>\n",
              "      <td>1939</td>\n",
              "      <td>0.027221</td>\n",
              "    </tr>\n",
              "    <tr>\n",
              "      <th>ironing_board</th>\n",
              "      <td>658</td>\n",
              "      <td>0.009238</td>\n",
              "    </tr>\n",
              "  </tbody>\n",
              "</table>\n",
              "</div>"
            ],
            "text/plain": [
              "                    0         1\n",
              "ctgr_lv2                       \n",
              "kitchen         45057  0.632548\n",
              "environment     17437  0.244795\n",
              "iron             3647  0.051200\n",
              "personal         2493  0.034999\n",
              "sewing_machine   1939  0.027221\n",
              "ironing_board     658  0.009238"
            ]
          },
          "execution_count": 39,
          "metadata": {},
          "output_type": "execute_result"
        }
      ],
      "source": [
        "# 대카테고리 'appliances' 값 확인 \n",
        "pd.concat([df_na_treat.loc[df_na_treat.ctgr_lv1 ==\"appliances\",['ctgr_lv2']].value_counts(),\n",
        "          df_na_treat.loc[df_na_treat.ctgr_lv1 ==\"appliances\",['ctgr_lv2']].value_counts(normalize=True)], axis= 1)\n",
        "# appliances 는 중카테고리의 수가 작아 appliances 단일로 분석하는것이 좋을것으로 판단됨"
      ]
    },
    {
      "cell_type": "code",
      "execution_count": null,
      "metadata": {
        "id": "IeQM9icEFb2J",
        "outputId": "d362c343-9a35-42ed-f262-e99fa685ed7e"
      },
      "outputs": [
        {
          "data": {
            "text/plain": [
              "0.081995299596"
            ]
          },
          "execution_count": 40,
          "metadata": {},
          "output_type": "execute_result"
        }
      ],
      "source": [
        "0.129627*0.632548\n",
        "# 굳이 나누면 kitchen과 그 외, 로 나눌 수 있는데, 중 카테고리 수가 적으나 \"카테고리1\"로 가자"
      ]
    },
    {
      "cell_type": "markdown",
      "metadata": {
        "id": "se24elCEFb2K"
      },
      "source": [
        "[결론1]  \n",
        "- 스마트폰은 삼성/애플/기타 로 묶자!  \n",
        "- appliances은 단일 카테고리로 가자(이유: 2카테고리 수가 적음)"
      ]
    },
    {
      "cell_type": "markdown",
      "metadata": {
        "id": "06X2d_aEFb2K"
      },
      "source": [
        "### 데이터 고객기준으로 변경  \n",
        "- transaction단위 > user 단위"
      ]
    },
    {
      "cell_type": "code",
      "execution_count": null,
      "metadata": {
        "id": "g5ZhfJM8Fb2K",
        "outputId": "1b482724-7a4f-460d-bdad-6a6c2a624910"
      },
      "outputs": [
        {
          "data": {
            "text/html": [
              "<div>\n",
              "<style scoped>\n",
              "    .dataframe tbody tr th:only-of-type {\n",
              "        vertical-align: middle;\n",
              "    }\n",
              "\n",
              "    .dataframe tbody tr th {\n",
              "        vertical-align: top;\n",
              "    }\n",
              "\n",
              "    .dataframe thead th {\n",
              "        text-align: right;\n",
              "    }\n",
              "</style>\n",
              "<table border=\"1\" class=\"dataframe\">\n",
              "  <thead>\n",
              "    <tr style=\"text-align: right;\">\n",
              "      <th></th>\n",
              "      <th>event_time</th>\n",
              "      <th>event_type</th>\n",
              "      <th>product_id</th>\n",
              "      <th>category_id</th>\n",
              "      <th>category_code</th>\n",
              "      <th>brand</th>\n",
              "      <th>price</th>\n",
              "      <th>user_id</th>\n",
              "      <th>user_session</th>\n",
              "      <th>ctgr_lv1</th>\n",
              "      <th>ctgr_lv2</th>\n",
              "      <th>ctgr_lv3</th>\n",
              "      <th>ctgr_lv4</th>\n",
              "    </tr>\n",
              "  </thead>\n",
              "  <tbody>\n",
              "    <tr>\n",
              "      <th>0</th>\n",
              "      <td>2019-10-01 00:02:14 UTC</td>\n",
              "      <td>purchase</td>\n",
              "      <td>1004856</td>\n",
              "      <td>2053013555631882655</td>\n",
              "      <td>electronics.smartphone</td>\n",
              "      <td>samsung</td>\n",
              "      <td>130.76</td>\n",
              "      <td>543272936</td>\n",
              "      <td>8187d148-3c41-46d4-b0c0-9c08cd9dc564</td>\n",
              "      <td>electronics</td>\n",
              "      <td>smartphone</td>\n",
              "      <td>None</td>\n",
              "      <td>None</td>\n",
              "    </tr>\n",
              "    <tr>\n",
              "      <th>1</th>\n",
              "      <td>2019-10-01 00:04:37 UTC</td>\n",
              "      <td>purchase</td>\n",
              "      <td>1002532</td>\n",
              "      <td>2053013555631882655</td>\n",
              "      <td>electronics.smartphone</td>\n",
              "      <td>apple</td>\n",
              "      <td>642.69</td>\n",
              "      <td>551377651</td>\n",
              "      <td>3c80f0d6-e9ec-4181-8c5c-837a30be2d68</td>\n",
              "      <td>electronics</td>\n",
              "      <td>smartphone</td>\n",
              "      <td>None</td>\n",
              "      <td>None</td>\n",
              "    </tr>\n",
              "    <tr>\n",
              "      <th>3</th>\n",
              "      <td>2019-10-01 00:07:07 UTC</td>\n",
              "      <td>purchase</td>\n",
              "      <td>13800054</td>\n",
              "      <td>2053013557418656265</td>\n",
              "      <td>furniture.bathroom.toilet</td>\n",
              "      <td>santeri</td>\n",
              "      <td>54.42</td>\n",
              "      <td>555332717</td>\n",
              "      <td>1dea3ee2-2ded-42e8-8e7a-4e2ad6ae942f</td>\n",
              "      <td>furniture</td>\n",
              "      <td>bathroom</td>\n",
              "      <td>toilet</td>\n",
              "      <td>None</td>\n",
              "    </tr>\n",
              "    <tr>\n",
              "      <th>4</th>\n",
              "      <td>2019-10-01 00:09:26 UTC</td>\n",
              "      <td>purchase</td>\n",
              "      <td>4804055</td>\n",
              "      <td>2053013554658804075</td>\n",
              "      <td>electronics.audio.headphone</td>\n",
              "      <td>apple</td>\n",
              "      <td>189.91</td>\n",
              "      <td>524601178</td>\n",
              "      <td>2af9b570-0942-4dcd-8f25-4d84fba82553</td>\n",
              "      <td>electronics</td>\n",
              "      <td>audio</td>\n",
              "      <td>headphone</td>\n",
              "      <td>None</td>\n",
              "    </tr>\n",
              "    <tr>\n",
              "      <th>5</th>\n",
              "      <td>2019-10-01 00:09:54 UTC</td>\n",
              "      <td>purchase</td>\n",
              "      <td>4804056</td>\n",
              "      <td>2053013554658804075</td>\n",
              "      <td>electronics.audio.headphone</td>\n",
              "      <td>apple</td>\n",
              "      <td>161.98</td>\n",
              "      <td>551377651</td>\n",
              "      <td>3c80f0d6-e9ec-4181-8c5c-837a30be2d68</td>\n",
              "      <td>electronics</td>\n",
              "      <td>audio</td>\n",
              "      <td>headphone</td>\n",
              "      <td>None</td>\n",
              "    </tr>\n",
              "  </tbody>\n",
              "</table>\n",
              "</div>"
            ],
            "text/plain": [
              "                event_time event_type  product_id          category_id  \\\n",
              "0  2019-10-01 00:02:14 UTC   purchase     1004856  2053013555631882655   \n",
              "1  2019-10-01 00:04:37 UTC   purchase     1002532  2053013555631882655   \n",
              "3  2019-10-01 00:07:07 UTC   purchase    13800054  2053013557418656265   \n",
              "4  2019-10-01 00:09:26 UTC   purchase     4804055  2053013554658804075   \n",
              "5  2019-10-01 00:09:54 UTC   purchase     4804056  2053013554658804075   \n",
              "\n",
              "                 category_code    brand   price    user_id  \\\n",
              "0       electronics.smartphone  samsung  130.76  543272936   \n",
              "1       electronics.smartphone    apple  642.69  551377651   \n",
              "3    furniture.bathroom.toilet  santeri   54.42  555332717   \n",
              "4  electronics.audio.headphone    apple  189.91  524601178   \n",
              "5  electronics.audio.headphone    apple  161.98  551377651   \n",
              "\n",
              "                           user_session     ctgr_lv1    ctgr_lv2   ctgr_lv3  \\\n",
              "0  8187d148-3c41-46d4-b0c0-9c08cd9dc564  electronics  smartphone       None   \n",
              "1  3c80f0d6-e9ec-4181-8c5c-837a30be2d68  electronics  smartphone       None   \n",
              "3  1dea3ee2-2ded-42e8-8e7a-4e2ad6ae942f    furniture    bathroom     toilet   \n",
              "4  2af9b570-0942-4dcd-8f25-4d84fba82553  electronics       audio  headphone   \n",
              "5  3c80f0d6-e9ec-4181-8c5c-837a30be2d68  electronics       audio  headphone   \n",
              "\n",
              "  ctgr_lv4  \n",
              "0     None  \n",
              "1     None  \n",
              "3     None  \n",
              "4     None  \n",
              "5     None  "
            ]
          },
          "execution_count": 41,
          "metadata": {},
          "output_type": "execute_result"
        }
      ],
      "source": [
        "df_na_treat.head()"
      ]
    },
    {
      "cell_type": "code",
      "execution_count": null,
      "metadata": {
        "scrolled": true,
        "id": "RYbH4szPFb2L",
        "outputId": "592ed695-be9d-4740-8881-f92d427555b0"
      },
      "outputs": [
        {
          "data": {
            "text/plain": [
              "user_id\n",
              "303160429    1\n",
              "340041246    1\n",
              "384989212    1\n",
              "401021311    1\n",
              "403013066    2\n",
              "            ..\n",
              "566265448    1\n",
              "566267483    2\n",
              "566270060    2\n",
              "566274637    1\n",
              "566278294    1\n",
              "Name: event_time, Length: 263445, dtype: int64"
            ]
          },
          "execution_count": 42,
          "metadata": {},
          "output_type": "execute_result"
        }
      ],
      "source": [
        "df_na_treat.groupby('user_id')['event_time'].count()"
      ]
    },
    {
      "cell_type": "code",
      "execution_count": null,
      "metadata": {
        "scrolled": true,
        "id": "dIQhSukPFb2L"
      },
      "outputs": [],
      "source": [
        "user_by_ctgr_cnt = df_na_treat.groupby('user_id')['event_time'].count().to_frame()"
      ]
    },
    {
      "cell_type": "code",
      "execution_count": null,
      "metadata": {
        "id": "aubFHBXUFb2M"
      },
      "outputs": [],
      "source": [
        "user_by_ctgr_cnt.columns = ['pur_cnt']"
      ]
    },
    {
      "cell_type": "code",
      "execution_count": null,
      "metadata": {
        "scrolled": true,
        "id": "u8cCSrkvFb2M",
        "outputId": "e92b0bcf-0717-4222-fc37-bb074d5cb09a"
      },
      "outputs": [
        {
          "data": {
            "text/html": [
              "<div>\n",
              "<style scoped>\n",
              "    .dataframe tbody tr th:only-of-type {\n",
              "        vertical-align: middle;\n",
              "    }\n",
              "\n",
              "    .dataframe tbody tr th {\n",
              "        vertical-align: top;\n",
              "    }\n",
              "\n",
              "    .dataframe thead th {\n",
              "        text-align: right;\n",
              "    }\n",
              "</style>\n",
              "<table border=\"1\" class=\"dataframe\">\n",
              "  <thead>\n",
              "    <tr style=\"text-align: right;\">\n",
              "      <th></th>\n",
              "      <th>pur_cnt</th>\n",
              "    </tr>\n",
              "    <tr>\n",
              "      <th>user_id</th>\n",
              "      <th></th>\n",
              "    </tr>\n",
              "  </thead>\n",
              "  <tbody>\n",
              "    <tr>\n",
              "      <th>303160429</th>\n",
              "      <td>1</td>\n",
              "    </tr>\n",
              "    <tr>\n",
              "      <th>340041246</th>\n",
              "      <td>1</td>\n",
              "    </tr>\n",
              "    <tr>\n",
              "      <th>384989212</th>\n",
              "      <td>1</td>\n",
              "    </tr>\n",
              "    <tr>\n",
              "      <th>401021311</th>\n",
              "      <td>1</td>\n",
              "    </tr>\n",
              "    <tr>\n",
              "      <th>403013066</th>\n",
              "      <td>2</td>\n",
              "    </tr>\n",
              "    <tr>\n",
              "      <th>...</th>\n",
              "      <td>...</td>\n",
              "    </tr>\n",
              "    <tr>\n",
              "      <th>566265448</th>\n",
              "      <td>1</td>\n",
              "    </tr>\n",
              "    <tr>\n",
              "      <th>566267483</th>\n",
              "      <td>2</td>\n",
              "    </tr>\n",
              "    <tr>\n",
              "      <th>566270060</th>\n",
              "      <td>2</td>\n",
              "    </tr>\n",
              "    <tr>\n",
              "      <th>566274637</th>\n",
              "      <td>1</td>\n",
              "    </tr>\n",
              "    <tr>\n",
              "      <th>566278294</th>\n",
              "      <td>1</td>\n",
              "    </tr>\n",
              "  </tbody>\n",
              "</table>\n",
              "<p>263445 rows × 1 columns</p>\n",
              "</div>"
            ],
            "text/plain": [
              "           pur_cnt\n",
              "user_id           \n",
              "303160429        1\n",
              "340041246        1\n",
              "384989212        1\n",
              "401021311        1\n",
              "403013066        2\n",
              "...            ...\n",
              "566265448        1\n",
              "566267483        2\n",
              "566270060        2\n",
              "566274637        1\n",
              "566278294        1\n",
              "\n",
              "[263445 rows x 1 columns]"
            ]
          },
          "execution_count": 45,
          "metadata": {},
          "output_type": "execute_result"
        }
      ],
      "source": [
        "user_by_ctgr_cnt"
      ]
    },
    {
      "cell_type": "code",
      "execution_count": null,
      "metadata": {
        "id": "rnChWBVnFb2M"
      },
      "outputs": [],
      "source": [
        "# 유저별 전략 카테고리 값 요약  \n",
        "smartphone_samsung =  df_na_treat[(df_na_treat.ctgr_lv1 == 'electronics') & (df_na_treat.ctgr_lv2 == 'smartphone') & (df_na_treat.brand == 'samsung')].groupby('user_id')['brand'].count()\n",
        "smartphone_apple =  df_na_treat[(df_na_treat.ctgr_lv1 == 'electronics') & (df_na_treat.ctgr_lv2 == 'smartphone') & (df_na_treat.brand == 'apple')].groupby('user_id')['brand'].count()\n",
        "smartphone_ect =  df_na_treat[(df_na_treat.ctgr_lv1 == 'electronics') & (df_na_treat.ctgr_lv2 == 'smartphone') & ~(df_na_treat.brand == 'samsung') & ~(df_na_treat.brand == 'apple')].groupby('user_id')['brand'].count()\n",
        "electronics = df_na_treat[(df_na_treat.ctgr_lv1 == 'electronics') & ~(df_na_treat.ctgr_lv2 == 'smartphone')].groupby('user_id')['brand'].count()\n",
        "appliances = df_na_treat[(df_na_treat.ctgr_lv1 == 'appliances')].groupby('user_id')['brand'].count()\n",
        "ect = df_na_treat[~((df_na_treat.ctgr_lv1 == 'electronics') | (df_na_treat.ctgr_lv1 == 'appliances'))].groupby('user_id')['brand'].count()"
      ]
    },
    {
      "cell_type": "code",
      "execution_count": null,
      "metadata": {
        "scrolled": true,
        "id": "WBK0AMEnFb2N"
      },
      "outputs": [],
      "source": [
        "smartphone_samsung = smartphone_samsung.to_frame().reset_index().rename(columns = {'brand':'smartphone_samsung'})\n",
        "smartphone_apple = smartphone_apple.to_frame().reset_index().rename(columns = {'brand': 'smartphone_apple'})\n",
        "smartphone_ect = smartphone_ect.to_frame().reset_index().rename(columns = {'brand' : 'smartphone_ect'})\n",
        "electronics = electronics.to_frame().reset_index().rename(columns = {'brand': 'electronics'})\n",
        "appliances = appliances.to_frame().reset_index().rename(columns ={'brand' : 'appliances'})\n",
        "ect = ect.to_frame().reset_index().rename(columns = {'brand' :'etc'})"
      ]
    },
    {
      "cell_type": "code",
      "execution_count": null,
      "metadata": {
        "id": "Z5x-Wc_0Fb2N"
      },
      "outputs": [],
      "source": [
        "user_by_ctgr_cnt = pd.merge(user_by_ctgr_cnt,smartphone_samsung, how ='left', on = 'user_id' )\n",
        "user_by_ctgr_cnt = pd.merge(user_by_ctgr_cnt,smartphone_apple, how ='left', on = 'user_id' )\n",
        "user_by_ctgr_cnt = pd.merge(user_by_ctgr_cnt,smartphone_ect, how ='left', on = 'user_id' )\n",
        "user_by_ctgr_cnt = pd.merge(user_by_ctgr_cnt,electronics, how ='left', on = 'user_id' )\n",
        "user_by_ctgr_cnt = pd.merge(user_by_ctgr_cnt,appliances, how ='left', on = 'user_id' )\n",
        "user_by_ctgr_cnt = pd.merge(user_by_ctgr_cnt,ect, how ='left', on = 'user_id' )"
      ]
    },
    {
      "cell_type": "code",
      "execution_count": null,
      "metadata": {
        "scrolled": true,
        "id": "3J6vOz7RFb2O",
        "outputId": "c2edeb41-cc2b-4b4e-c3f3-188001610227"
      },
      "outputs": [
        {
          "data": {
            "text/html": [
              "<div>\n",
              "<style scoped>\n",
              "    .dataframe tbody tr th:only-of-type {\n",
              "        vertical-align: middle;\n",
              "    }\n",
              "\n",
              "    .dataframe tbody tr th {\n",
              "        vertical-align: top;\n",
              "    }\n",
              "\n",
              "    .dataframe thead th {\n",
              "        text-align: right;\n",
              "    }\n",
              "</style>\n",
              "<table border=\"1\" class=\"dataframe\">\n",
              "  <thead>\n",
              "    <tr style=\"text-align: right;\">\n",
              "      <th></th>\n",
              "      <th>user_id</th>\n",
              "      <th>pur_cnt</th>\n",
              "      <th>smartphone_samsung</th>\n",
              "      <th>smartphone_apple</th>\n",
              "      <th>smartphone_ect</th>\n",
              "      <th>electronics</th>\n",
              "      <th>appliances</th>\n",
              "      <th>etc</th>\n",
              "    </tr>\n",
              "  </thead>\n",
              "  <tbody>\n",
              "    <tr>\n",
              "      <th>0</th>\n",
              "      <td>303160429</td>\n",
              "      <td>1</td>\n",
              "      <td>NaN</td>\n",
              "      <td>NaN</td>\n",
              "      <td>NaN</td>\n",
              "      <td>1.0</td>\n",
              "      <td>NaN</td>\n",
              "      <td>NaN</td>\n",
              "    </tr>\n",
              "    <tr>\n",
              "      <th>1</th>\n",
              "      <td>340041246</td>\n",
              "      <td>1</td>\n",
              "      <td>NaN</td>\n",
              "      <td>NaN</td>\n",
              "      <td>NaN</td>\n",
              "      <td>1.0</td>\n",
              "      <td>NaN</td>\n",
              "      <td>NaN</td>\n",
              "    </tr>\n",
              "    <tr>\n",
              "      <th>2</th>\n",
              "      <td>384989212</td>\n",
              "      <td>1</td>\n",
              "      <td>NaN</td>\n",
              "      <td>NaN</td>\n",
              "      <td>NaN</td>\n",
              "      <td>NaN</td>\n",
              "      <td>1.0</td>\n",
              "      <td>NaN</td>\n",
              "    </tr>\n",
              "    <tr>\n",
              "      <th>3</th>\n",
              "      <td>401021311</td>\n",
              "      <td>1</td>\n",
              "      <td>NaN</td>\n",
              "      <td>NaN</td>\n",
              "      <td>NaN</td>\n",
              "      <td>1.0</td>\n",
              "      <td>NaN</td>\n",
              "      <td>NaN</td>\n",
              "    </tr>\n",
              "    <tr>\n",
              "      <th>4</th>\n",
              "      <td>403013066</td>\n",
              "      <td>2</td>\n",
              "      <td>1.0</td>\n",
              "      <td>1.0</td>\n",
              "      <td>NaN</td>\n",
              "      <td>NaN</td>\n",
              "      <td>NaN</td>\n",
              "      <td>NaN</td>\n",
              "    </tr>\n",
              "  </tbody>\n",
              "</table>\n",
              "</div>"
            ],
            "text/plain": [
              "     user_id  pur_cnt  smartphone_samsung  smartphone_apple  smartphone_ect  \\\n",
              "0  303160429        1                 NaN               NaN             NaN   \n",
              "1  340041246        1                 NaN               NaN             NaN   \n",
              "2  384989212        1                 NaN               NaN             NaN   \n",
              "3  401021311        1                 NaN               NaN             NaN   \n",
              "4  403013066        2                 1.0               1.0             NaN   \n",
              "\n",
              "   electronics  appliances  etc  \n",
              "0          1.0         NaN  NaN  \n",
              "1          1.0         NaN  NaN  \n",
              "2          NaN         1.0  NaN  \n",
              "3          1.0         NaN  NaN  \n",
              "4          NaN         NaN  NaN  "
            ]
          },
          "execution_count": 49,
          "metadata": {},
          "output_type": "execute_result"
        }
      ],
      "source": [
        "user_by_ctgr_cnt.head()"
      ]
    },
    {
      "cell_type": "code",
      "execution_count": null,
      "metadata": {
        "scrolled": false,
        "id": "ffDhThaDFb2O",
        "outputId": "b85f63bd-de0f-4b07-f127-1bba91f778af"
      },
      "outputs": [
        {
          "data": {
            "text/html": [
              "<div>\n",
              "<style scoped>\n",
              "    .dataframe tbody tr th:only-of-type {\n",
              "        vertical-align: middle;\n",
              "    }\n",
              "\n",
              "    .dataframe tbody tr th {\n",
              "        vertical-align: top;\n",
              "    }\n",
              "\n",
              "    .dataframe thead th {\n",
              "        text-align: right;\n",
              "    }\n",
              "</style>\n",
              "<table border=\"1\" class=\"dataframe\">\n",
              "  <thead>\n",
              "    <tr style=\"text-align: right;\">\n",
              "      <th></th>\n",
              "      <th>user_id</th>\n",
              "      <th>pur_cnt</th>\n",
              "      <th>smartphone_samsung</th>\n",
              "      <th>smartphone_apple</th>\n",
              "      <th>smartphone_ect</th>\n",
              "      <th>electronics</th>\n",
              "      <th>appliances</th>\n",
              "      <th>etc</th>\n",
              "    </tr>\n",
              "  </thead>\n",
              "  <tbody>\n",
              "    <tr>\n",
              "      <th>0</th>\n",
              "      <td>303160429</td>\n",
              "      <td>1</td>\n",
              "      <td>0.0</td>\n",
              "      <td>0.0</td>\n",
              "      <td>0.0</td>\n",
              "      <td>1.0</td>\n",
              "      <td>0.0</td>\n",
              "      <td>0.0</td>\n",
              "    </tr>\n",
              "    <tr>\n",
              "      <th>1</th>\n",
              "      <td>340041246</td>\n",
              "      <td>1</td>\n",
              "      <td>0.0</td>\n",
              "      <td>0.0</td>\n",
              "      <td>0.0</td>\n",
              "      <td>1.0</td>\n",
              "      <td>0.0</td>\n",
              "      <td>0.0</td>\n",
              "    </tr>\n",
              "    <tr>\n",
              "      <th>2</th>\n",
              "      <td>384989212</td>\n",
              "      <td>1</td>\n",
              "      <td>0.0</td>\n",
              "      <td>0.0</td>\n",
              "      <td>0.0</td>\n",
              "      <td>0.0</td>\n",
              "      <td>1.0</td>\n",
              "      <td>0.0</td>\n",
              "    </tr>\n",
              "    <tr>\n",
              "      <th>3</th>\n",
              "      <td>401021311</td>\n",
              "      <td>1</td>\n",
              "      <td>0.0</td>\n",
              "      <td>0.0</td>\n",
              "      <td>0.0</td>\n",
              "      <td>1.0</td>\n",
              "      <td>0.0</td>\n",
              "      <td>0.0</td>\n",
              "    </tr>\n",
              "    <tr>\n",
              "      <th>4</th>\n",
              "      <td>403013066</td>\n",
              "      <td>2</td>\n",
              "      <td>1.0</td>\n",
              "      <td>1.0</td>\n",
              "      <td>0.0</td>\n",
              "      <td>0.0</td>\n",
              "      <td>0.0</td>\n",
              "      <td>0.0</td>\n",
              "    </tr>\n",
              "  </tbody>\n",
              "</table>\n",
              "</div>"
            ],
            "text/plain": [
              "     user_id  pur_cnt  smartphone_samsung  smartphone_apple  smartphone_ect  \\\n",
              "0  303160429        1                 0.0               0.0             0.0   \n",
              "1  340041246        1                 0.0               0.0             0.0   \n",
              "2  384989212        1                 0.0               0.0             0.0   \n",
              "3  401021311        1                 0.0               0.0             0.0   \n",
              "4  403013066        2                 1.0               1.0             0.0   \n",
              "\n",
              "   electronics  appliances  etc  \n",
              "0          1.0         0.0  0.0  \n",
              "1          1.0         0.0  0.0  \n",
              "2          0.0         1.0  0.0  \n",
              "3          1.0         0.0  0.0  \n",
              "4          0.0         0.0  0.0  "
            ]
          },
          "execution_count": 50,
          "metadata": {},
          "output_type": "execute_result"
        }
      ],
      "source": [
        "user_by_ctgr_cnt.fillna(0,inplace= True)\n",
        "user_by_ctgr_cnt.head()"
      ]
    },
    {
      "cell_type": "code",
      "execution_count": null,
      "metadata": {
        "scrolled": true,
        "id": "Z28TeOSgFb2P",
        "outputId": "8a3600b4-f5c2-49cd-8984-416cbec48d93"
      },
      "outputs": [
        {
          "data": {
            "text/plain": [
              "(263445, 8)"
            ]
          },
          "execution_count": 51,
          "metadata": {},
          "output_type": "execute_result"
        }
      ],
      "source": [
        "user_by_ctgr_cnt.shape"
      ]
    },
    {
      "cell_type": "markdown",
      "metadata": {
        "id": "b8xUjvqIFb2P"
      },
      "source": [
        "#####  생성한 전략 카테고리 비중 확인하기"
      ]
    },
    {
      "cell_type": "code",
      "execution_count": null,
      "metadata": {
        "scrolled": true,
        "id": "zNtPQyjfFb2Q"
      },
      "outputs": [],
      "source": [
        "t = user_by_ctgr_cnt.iloc[:,2:8].stack().to_frame()"
      ]
    },
    {
      "cell_type": "code",
      "execution_count": null,
      "metadata": {
        "scrolled": true,
        "id": "mpHTEcdKFb2Q",
        "outputId": "e6ec311c-7d3d-4013-a05a-c1b9b266fae0"
      },
      "outputs": [
        {
          "data": {
            "text/html": [
              "<div>\n",
              "<style scoped>\n",
              "    .dataframe tbody tr th:only-of-type {\n",
              "        vertical-align: middle;\n",
              "    }\n",
              "\n",
              "    .dataframe tbody tr th {\n",
              "        vertical-align: top;\n",
              "    }\n",
              "\n",
              "    .dataframe thead th {\n",
              "        text-align: right;\n",
              "    }\n",
              "</style>\n",
              "<table border=\"1\" class=\"dataframe\">\n",
              "  <thead>\n",
              "    <tr style=\"text-align: right;\">\n",
              "      <th></th>\n",
              "      <th>level_0</th>\n",
              "      <th>level_1</th>\n",
              "      <th>0</th>\n",
              "    </tr>\n",
              "  </thead>\n",
              "  <tbody>\n",
              "    <tr>\n",
              "      <th>0</th>\n",
              "      <td>0</td>\n",
              "      <td>smartphone_samsung</td>\n",
              "      <td>0.0</td>\n",
              "    </tr>\n",
              "    <tr>\n",
              "      <th>1</th>\n",
              "      <td>0</td>\n",
              "      <td>smartphone_apple</td>\n",
              "      <td>0.0</td>\n",
              "    </tr>\n",
              "    <tr>\n",
              "      <th>2</th>\n",
              "      <td>0</td>\n",
              "      <td>smartphone_ect</td>\n",
              "      <td>0.0</td>\n",
              "    </tr>\n",
              "    <tr>\n",
              "      <th>3</th>\n",
              "      <td>0</td>\n",
              "      <td>electronics</td>\n",
              "      <td>1.0</td>\n",
              "    </tr>\n",
              "    <tr>\n",
              "      <th>4</th>\n",
              "      <td>0</td>\n",
              "      <td>appliances</td>\n",
              "      <td>0.0</td>\n",
              "    </tr>\n",
              "    <tr>\n",
              "      <th>...</th>\n",
              "      <td>...</td>\n",
              "      <td>...</td>\n",
              "      <td>...</td>\n",
              "    </tr>\n",
              "    <tr>\n",
              "      <th>1580665</th>\n",
              "      <td>263444</td>\n",
              "      <td>smartphone_apple</td>\n",
              "      <td>1.0</td>\n",
              "    </tr>\n",
              "    <tr>\n",
              "      <th>1580666</th>\n",
              "      <td>263444</td>\n",
              "      <td>smartphone_ect</td>\n",
              "      <td>0.0</td>\n",
              "    </tr>\n",
              "    <tr>\n",
              "      <th>1580667</th>\n",
              "      <td>263444</td>\n",
              "      <td>electronics</td>\n",
              "      <td>0.0</td>\n",
              "    </tr>\n",
              "    <tr>\n",
              "      <th>1580668</th>\n",
              "      <td>263444</td>\n",
              "      <td>appliances</td>\n",
              "      <td>0.0</td>\n",
              "    </tr>\n",
              "    <tr>\n",
              "      <th>1580669</th>\n",
              "      <td>263444</td>\n",
              "      <td>etc</td>\n",
              "      <td>0.0</td>\n",
              "    </tr>\n",
              "  </tbody>\n",
              "</table>\n",
              "<p>1580670 rows × 3 columns</p>\n",
              "</div>"
            ],
            "text/plain": [
              "         level_0             level_1    0\n",
              "0              0  smartphone_samsung  0.0\n",
              "1              0    smartphone_apple  0.0\n",
              "2              0      smartphone_ect  0.0\n",
              "3              0         electronics  1.0\n",
              "4              0          appliances  0.0\n",
              "...          ...                 ...  ...\n",
              "1580665   263444    smartphone_apple  1.0\n",
              "1580666   263444      smartphone_ect  0.0\n",
              "1580667   263444         electronics  0.0\n",
              "1580668   263444          appliances  0.0\n",
              "1580669   263444                 etc  0.0\n",
              "\n",
              "[1580670 rows x 3 columns]"
            ]
          },
          "execution_count": 53,
          "metadata": {},
          "output_type": "execute_result"
        }
      ],
      "source": [
        "t.reset_index(inplace=True)\n",
        "t"
      ]
    },
    {
      "cell_type": "code",
      "execution_count": null,
      "metadata": {
        "id": "yukP6_cZFb2R"
      },
      "outputs": [],
      "source": [
        "t.columns=['idx','cat','cnt']"
      ]
    },
    {
      "cell_type": "code",
      "execution_count": null,
      "metadata": {
        "scrolled": true,
        "id": "A9EVpduKFb2R",
        "outputId": "f009d2c0-1562-4ceb-b25f-69c44376e2e2"
      },
      "outputs": [
        {
          "data": {
            "text/plain": [
              "smartphone_samsung    0.240518\n",
              "electronics           0.164604\n",
              "appliances            0.162273\n",
              "smartphone_apple      0.155736\n",
              "smartphone_ect        0.153478\n",
              "etc                   0.123392\n",
              "Name: cat, dtype: float64"
            ]
          },
          "execution_count": 55,
          "metadata": {},
          "output_type": "execute_result"
        }
      ],
      "source": [
        "t[t.cnt == 1]['cat'].value_counts(1)"
      ]
    },
    {
      "cell_type": "markdown",
      "metadata": {
        "id": "ECImhTGfFb2R"
      },
      "source": [
        "### 이상치 확인"
      ]
    },
    {
      "cell_type": "code",
      "execution_count": null,
      "metadata": {
        "scrolled": true,
        "id": "0OWdGIb5Fb2S",
        "outputId": "e2cd6321-8125-4991-b43f-617b29f223a5"
      },
      "outputs": [
        {
          "data": {
            "text/html": [
              "<div>\n",
              "<style scoped>\n",
              "    .dataframe tbody tr th:only-of-type {\n",
              "        vertical-align: middle;\n",
              "    }\n",
              "\n",
              "    .dataframe tbody tr th {\n",
              "        vertical-align: top;\n",
              "    }\n",
              "\n",
              "    .dataframe thead th {\n",
              "        text-align: right;\n",
              "    }\n",
              "</style>\n",
              "<table border=\"1\" class=\"dataframe\">\n",
              "  <thead>\n",
              "    <tr style=\"text-align: right;\">\n",
              "      <th></th>\n",
              "      <th>user_id</th>\n",
              "      <th>pur_cnt</th>\n",
              "      <th>smartphone_samsung</th>\n",
              "      <th>smartphone_apple</th>\n",
              "      <th>smartphone_ect</th>\n",
              "      <th>electronics</th>\n",
              "      <th>appliances</th>\n",
              "      <th>etc</th>\n",
              "    </tr>\n",
              "  </thead>\n",
              "  <tbody>\n",
              "    <tr>\n",
              "      <th>count</th>\n",
              "      <td>2.634450e+05</td>\n",
              "      <td>263445.000000</td>\n",
              "      <td>263445.000000</td>\n",
              "      <td>263445.000000</td>\n",
              "      <td>263445.000000</td>\n",
              "      <td>263445.000000</td>\n",
              "      <td>263445.000000</td>\n",
              "      <td>263445.000000</td>\n",
              "    </tr>\n",
              "    <tr>\n",
              "      <th>mean</th>\n",
              "      <td>5.366641e+08</td>\n",
              "      <td>2.085851</td>\n",
              "      <td>0.543275</td>\n",
              "      <td>0.437833</td>\n",
              "      <td>0.300279</td>\n",
              "      <td>0.314244</td>\n",
              "      <td>0.270383</td>\n",
              "      <td>0.219837</td>\n",
              "    </tr>\n",
              "    <tr>\n",
              "      <th>std</th>\n",
              "      <td>1.855121e+07</td>\n",
              "      <td>3.618213</td>\n",
              "      <td>1.889915</td>\n",
              "      <td>1.894715</td>\n",
              "      <td>1.178621</td>\n",
              "      <td>1.298420</td>\n",
              "      <td>0.914654</td>\n",
              "      <td>0.914932</td>\n",
              "    </tr>\n",
              "    <tr>\n",
              "      <th>min</th>\n",
              "      <td>3.031604e+08</td>\n",
              "      <td>1.000000</td>\n",
              "      <td>0.000000</td>\n",
              "      <td>0.000000</td>\n",
              "      <td>0.000000</td>\n",
              "      <td>0.000000</td>\n",
              "      <td>0.000000</td>\n",
              "      <td>0.000000</td>\n",
              "    </tr>\n",
              "    <tr>\n",
              "      <th>25%</th>\n",
              "      <td>5.175192e+08</td>\n",
              "      <td>1.000000</td>\n",
              "      <td>0.000000</td>\n",
              "      <td>0.000000</td>\n",
              "      <td>0.000000</td>\n",
              "      <td>0.000000</td>\n",
              "      <td>0.000000</td>\n",
              "      <td>0.000000</td>\n",
              "    </tr>\n",
              "    <tr>\n",
              "      <th>50%</th>\n",
              "      <td>5.365856e+08</td>\n",
              "      <td>1.000000</td>\n",
              "      <td>0.000000</td>\n",
              "      <td>0.000000</td>\n",
              "      <td>0.000000</td>\n",
              "      <td>0.000000</td>\n",
              "      <td>0.000000</td>\n",
              "      <td>0.000000</td>\n",
              "    </tr>\n",
              "    <tr>\n",
              "      <th>75%</th>\n",
              "      <td>5.555559e+08</td>\n",
              "      <td>2.000000</td>\n",
              "      <td>1.000000</td>\n",
              "      <td>0.000000</td>\n",
              "      <td>0.000000</td>\n",
              "      <td>0.000000</td>\n",
              "      <td>0.000000</td>\n",
              "      <td>0.000000</td>\n",
              "    </tr>\n",
              "    <tr>\n",
              "      <th>max</th>\n",
              "      <td>5.662783e+08</td>\n",
              "      <td>322.000000</td>\n",
              "      <td>192.000000</td>\n",
              "      <td>183.000000</td>\n",
              "      <td>154.000000</td>\n",
              "      <td>272.000000</td>\n",
              "      <td>71.000000</td>\n",
              "      <td>65.000000</td>\n",
              "    </tr>\n",
              "  </tbody>\n",
              "</table>\n",
              "</div>"
            ],
            "text/plain": [
              "            user_id        pur_cnt  smartphone_samsung  smartphone_apple  \\\n",
              "count  2.634450e+05  263445.000000       263445.000000     263445.000000   \n",
              "mean   5.366641e+08       2.085851            0.543275          0.437833   \n",
              "std    1.855121e+07       3.618213            1.889915          1.894715   \n",
              "min    3.031604e+08       1.000000            0.000000          0.000000   \n",
              "25%    5.175192e+08       1.000000            0.000000          0.000000   \n",
              "50%    5.365856e+08       1.000000            0.000000          0.000000   \n",
              "75%    5.555559e+08       2.000000            1.000000          0.000000   \n",
              "max    5.662783e+08     322.000000          192.000000        183.000000   \n",
              "\n",
              "       smartphone_ect    electronics     appliances            etc  \n",
              "count   263445.000000  263445.000000  263445.000000  263445.000000  \n",
              "mean         0.300279       0.314244       0.270383       0.219837  \n",
              "std          1.178621       1.298420       0.914654       0.914932  \n",
              "min          0.000000       0.000000       0.000000       0.000000  \n",
              "25%          0.000000       0.000000       0.000000       0.000000  \n",
              "50%          0.000000       0.000000       0.000000       0.000000  \n",
              "75%          0.000000       0.000000       0.000000       0.000000  \n",
              "max        154.000000     272.000000      71.000000      65.000000  "
            ]
          },
          "execution_count": 56,
          "metadata": {},
          "output_type": "execute_result"
        }
      ],
      "source": [
        "user_by_ctgr_cnt.describe()\n",
        "# max에서 극단값 확인!"
      ]
    },
    {
      "cell_type": "code",
      "execution_count": null,
      "metadata": {
        "id": "S6K5jn7WFb2S"
      },
      "outputs": [],
      "source": [
        "# 예측: 구매건수가 너무 많은 이상치는 공동구매나 단체 주문일듯"
      ]
    },
    {
      "cell_type": "code",
      "execution_count": null,
      "metadata": {
        "scrolled": true,
        "id": "K7Oh8RMsFb2T",
        "outputId": "3e2c5463-8421-4b6c-bb67-3c00fdbd7609"
      },
      "outputs": [
        {
          "data": {
            "text/plain": [
              "(0.0, 10.0)"
            ]
          },
          "execution_count": 58,
          "metadata": {},
          "output_type": "execute_result"
        },
        {
          "data": {
            "image/png": "[encoded data removed]",
            "text/plain": [
              "<Figure size 432x288 with 1 Axes>"
            ]
          },
          "metadata": {
            "needs_background": "light"
          },
          "output_type": "display_data"
        }
      ],
      "source": [
        "fig, ax = plt.subplots()\n",
        "ax.boxplot(user_by_ctgr_cnt['pur_cnt'])\n",
        "ax.set_ylim(0,10)"
      ]
    },
    {
      "cell_type": "code",
      "execution_count": null,
      "metadata": {
        "id": "mjtkUgwaFb2U",
        "outputId": "3cb0f3ff-16b5-4c5b-9b59-4bb1f925eefe"
      },
      "outputs": [
        {
          "data": {
            "text/html": [
              "<div>\n",
              "<style scoped>\n",
              "    .dataframe tbody tr th:only-of-type {\n",
              "        vertical-align: middle;\n",
              "    }\n",
              "\n",
              "    .dataframe tbody tr th {\n",
              "        vertical-align: top;\n",
              "    }\n",
              "\n",
              "    .dataframe thead th {\n",
              "        text-align: right;\n",
              "    }\n",
              "</style>\n",
              "<table border=\"1\" class=\"dataframe\">\n",
              "  <thead>\n",
              "    <tr style=\"text-align: right;\">\n",
              "      <th></th>\n",
              "      <th>user_id</th>\n",
              "      <th>pur_cnt</th>\n",
              "      <th>smartphone_samsung</th>\n",
              "      <th>smartphone_apple</th>\n",
              "      <th>smartphone_ect</th>\n",
              "      <th>electronics</th>\n",
              "      <th>appliances</th>\n",
              "      <th>etc</th>\n",
              "    </tr>\n",
              "  </thead>\n",
              "  <tbody>\n",
              "    <tr>\n",
              "      <th>488</th>\n",
              "      <td>512372673</td>\n",
              "      <td>55</td>\n",
              "      <td>0.0</td>\n",
              "      <td>2.0</td>\n",
              "      <td>0.0</td>\n",
              "      <td>53.0</td>\n",
              "      <td>0.0</td>\n",
              "      <td>0.0</td>\n",
              "    </tr>\n",
              "    <tr>\n",
              "      <th>798</th>\n",
              "      <td>512382879</td>\n",
              "      <td>60</td>\n",
              "      <td>39.0</td>\n",
              "      <td>2.0</td>\n",
              "      <td>10.0</td>\n",
              "      <td>9.0</td>\n",
              "      <td>0.0</td>\n",
              "      <td>0.0</td>\n",
              "    </tr>\n",
              "    <tr>\n",
              "      <th>893</th>\n",
              "      <td>512386086</td>\n",
              "      <td>322</td>\n",
              "      <td>105.0</td>\n",
              "      <td>67.0</td>\n",
              "      <td>1.0</td>\n",
              "      <td>87.0</td>\n",
              "      <td>61.0</td>\n",
              "      <td>1.0</td>\n",
              "    </tr>\n",
              "    <tr>\n",
              "      <th>1519</th>\n",
              "      <td>512409624</td>\n",
              "      <td>69</td>\n",
              "      <td>0.0</td>\n",
              "      <td>69.0</td>\n",
              "      <td>0.0</td>\n",
              "      <td>0.0</td>\n",
              "      <td>0.0</td>\n",
              "      <td>0.0</td>\n",
              "    </tr>\n",
              "    <tr>\n",
              "      <th>3896</th>\n",
              "      <td>512511358</td>\n",
              "      <td>110</td>\n",
              "      <td>0.0</td>\n",
              "      <td>106.0</td>\n",
              "      <td>0.0</td>\n",
              "      <td>0.0</td>\n",
              "      <td>2.0</td>\n",
              "      <td>2.0</td>\n",
              "    </tr>\n",
              "  </tbody>\n",
              "</table>\n",
              "</div>"
            ],
            "text/plain": [
              "        user_id  pur_cnt  smartphone_samsung  smartphone_apple  \\\n",
              "488   512372673       55                 0.0               2.0   \n",
              "798   512382879       60                39.0               2.0   \n",
              "893   512386086      322               105.0              67.0   \n",
              "1519  512409624       69                 0.0              69.0   \n",
              "3896  512511358      110                 0.0             106.0   \n",
              "\n",
              "      smartphone_ect  electronics  appliances  etc  \n",
              "488              0.0         53.0         0.0  0.0  \n",
              "798             10.0          9.0         0.0  0.0  \n",
              "893              1.0         87.0        61.0  1.0  \n",
              "1519             0.0          0.0         0.0  0.0  \n",
              "3896             0.0          0.0         2.0  2.0  "
            ]
          },
          "execution_count": 59,
          "metadata": {},
          "output_type": "execute_result"
        }
      ],
      "source": [
        "user_by_ctgr_cnt[user_by_ctgr_cnt.pur_cnt > 50].head()"
      ]
    },
    {
      "cell_type": "code",
      "execution_count": null,
      "metadata": {
        "id": "CaB-6vcTFb2U"
      },
      "outputs": [],
      "source": [
        "# IQR활용\n",
        "IQR = user_by_ctgr_cnt.pur_cnt.quantile(0.75) - user_by_ctgr_cnt.pur_cnt.quantile(0.25)"
      ]
    },
    {
      "cell_type": "code",
      "execution_count": null,
      "metadata": {
        "scrolled": true,
        "id": "GpJkvNjKFb2U",
        "outputId": "e098d6d9-a685-4b96-a48d-5e35a82c03ca"
      },
      "outputs": [
        {
          "data": {
            "text/plain": [
              "2.5"
            ]
          },
          "execution_count": 61,
          "metadata": {},
          "output_type": "execute_result"
        }
      ],
      "source": [
        "user_by_ctgr_cnt.pur_cnt.quantile(0.75) + IQR * 0.5"
      ]
    },
    {
      "cell_type": "code",
      "execution_count": null,
      "metadata": {
        "id": "-NON8E19Fb2V",
        "outputId": "7683f348-10a2-45bf-f619-d83ae3a0c0e4"
      },
      "outputs": [
        {
          "data": {
            "text/plain": [
              "14.0"
            ]
          },
          "execution_count": 62,
          "metadata": {},
          "output_type": "execute_result"
        }
      ],
      "source": [
        "# 상위1%\n",
        "user_by_ctgr_cnt.pur_cnt.quantile(0.99)"
      ]
    },
    {
      "cell_type": "code",
      "execution_count": null,
      "metadata": {
        "id": "1sl5tJ01Fb2V",
        "outputId": "0ac680a4-ed28-4208-c672-f10c8e495ca6"
      },
      "outputs": [
        {
          "data": {
            "text/plain": [
              "3013"
            ]
          },
          "execution_count": 63,
          "metadata": {},
          "output_type": "execute_result"
        }
      ],
      "source": [
        "user_by_ctgr_cnt[user_by_ctgr_cnt.pur_cnt >=14].count()[0]"
      ]
    },
    {
      "cell_type": "code",
      "execution_count": null,
      "metadata": {
        "id": "b_s7BgUYFb2W",
        "outputId": "bbf72115-4b55-475a-fd84-affdec0debb5"
      },
      "outputs": [
        {
          "name": "stdout",
          "output_type": "stream",
          "text": [
            "12.940488868670593 23.795126800713046\n"
          ]
        }
      ],
      "source": [
        "# 3/6 시그마\n",
        "mm = user_by_ctgr_cnt.pur_cnt.mean()\n",
        "std =  user_by_ctgr_cnt.pur_cnt.std()\n",
        "print(mm + std*3,mm + std*6)"
      ]
    },
    {
      "cell_type": "code",
      "execution_count": null,
      "metadata": {
        "scrolled": true,
        "id": "JDKnPmjpFb2W",
        "outputId": "207eb71e-ce21-45b6-be4b-696a7a237643"
      },
      "outputs": [
        {
          "data": {
            "text/plain": [
              "3478"
            ]
          },
          "execution_count": 65,
          "metadata": {},
          "output_type": "execute_result"
        }
      ],
      "source": [
        "user_by_ctgr_cnt[user_by_ctgr_cnt.pur_cnt >=mm + std*3].count()[0]"
      ]
    },
    {
      "cell_type": "code",
      "execution_count": null,
      "metadata": {
        "scrolled": true,
        "id": "o7aba7SbFb2W",
        "outputId": "2fb8bbeb-c4e4-48f4-a974-73eda6c11406"
      },
      "outputs": [
        {
          "data": {
            "text/plain": [
              "1018"
            ]
          },
          "execution_count": 66,
          "metadata": {},
          "output_type": "execute_result"
        }
      ],
      "source": [
        "user_by_ctgr_cnt[user_by_ctgr_cnt.pur_cnt >=mm + std*6].count()[0]"
      ]
    },
    {
      "cell_type": "code",
      "execution_count": null,
      "metadata": {
        "scrolled": true,
        "id": "oM8u-2eSFb2X",
        "outputId": "0455a341-748b-4134-a9e9-fd00aa41e5c1"
      },
      "outputs": [
        {
          "name": "stdout",
          "output_type": "stream",
          "text": [
            "표준편차 : 3.618212644014151\n",
            "99분위수 : 14.0 , 대상자수 :  3013\n",
            "3시그마 : 12.940488868670593 , 대상자수 :  3478\n",
            "6시그마 : 23.795126800713046 , 대상자수 :  1115\n"
          ]
        }
      ],
      "source": [
        "# 이상치 판단 기준 (정리)\n",
        "\n",
        "user_by_ctgr_cnt[user_by_ctgr_cnt['pur_cnt']>= 50]['user_id'].count()\n",
        "\n",
        "print(\"표준편차 :\", user_by_ctgr_cnt['pur_cnt'].std())\n",
        "print(\"99분위수 :\", user_by_ctgr_cnt['pur_cnt'].quantile(q =0.99), \", 대상자수 : \",user_by_ctgr_cnt[user_by_ctgr_cnt['pur_cnt']>= 14]['user_id'].count())\n",
        "print(\"3시그마 :\", (user_by_ctgr_cnt['pur_cnt'].mean()) + (user_by_ctgr_cnt['pur_cnt'].std()*3), \", 대상자수 : \",user_by_ctgr_cnt[user_by_ctgr_cnt['pur_cnt']>= 13]['user_id'].count())\n",
        "print(\"6시그마 :\", (user_by_ctgr_cnt['pur_cnt'].mean()) + (user_by_ctgr_cnt['pur_cnt'].std()*6), \", 대상자수 : \",user_by_ctgr_cnt[user_by_ctgr_cnt['pur_cnt']>= 23]['user_id'].count())\n",
        "# 99분위수 확인  14  (14개 이상은 주문은 이상치로 간주하기로함)"
      ]
    },
    {
      "cell_type": "code",
      "execution_count": null,
      "metadata": {
        "id": "XvsMsLYoFb2Y",
        "outputId": "307e7b1e-b447-4bf3-dce4-1f1166e2932d"
      },
      "outputs": [
        {
          "name": "stdout",
          "output_type": "stream",
          "text": [
            "(260432, 8)\n"
          ]
        },
        {
          "data": {
            "text/html": [
              "<div>\n",
              "<style scoped>\n",
              "    .dataframe tbody tr th:only-of-type {\n",
              "        vertical-align: middle;\n",
              "    }\n",
              "\n",
              "    .dataframe tbody tr th {\n",
              "        vertical-align: top;\n",
              "    }\n",
              "\n",
              "    .dataframe thead th {\n",
              "        text-align: right;\n",
              "    }\n",
              "</style>\n",
              "<table border=\"1\" class=\"dataframe\">\n",
              "  <thead>\n",
              "    <tr style=\"text-align: right;\">\n",
              "      <th></th>\n",
              "      <th>user_id</th>\n",
              "      <th>pur_cnt</th>\n",
              "      <th>smartphone_samsung</th>\n",
              "      <th>smartphone_apple</th>\n",
              "      <th>smartphone_ect</th>\n",
              "      <th>electronics</th>\n",
              "      <th>appliances</th>\n",
              "      <th>etc</th>\n",
              "    </tr>\n",
              "  </thead>\n",
              "  <tbody>\n",
              "    <tr>\n",
              "      <th>count</th>\n",
              "      <td>2.604320e+05</td>\n",
              "      <td>260432.000000</td>\n",
              "      <td>260432.000000</td>\n",
              "      <td>260432.000000</td>\n",
              "      <td>260432.000000</td>\n",
              "      <td>260432.000000</td>\n",
              "      <td>260432.000000</td>\n",
              "      <td>260432.000000</td>\n",
              "    </tr>\n",
              "    <tr>\n",
              "      <th>mean</th>\n",
              "      <td>5.366739e+08</td>\n",
              "      <td>1.817841</td>\n",
              "      <td>0.464601</td>\n",
              "      <td>0.356784</td>\n",
              "      <td>0.266023</td>\n",
              "      <td>0.277366</td>\n",
              "      <td>0.253828</td>\n",
              "      <td>0.199238</td>\n",
              "    </tr>\n",
              "    <tr>\n",
              "      <th>std</th>\n",
              "      <td>1.855710e+07</td>\n",
              "      <td>1.659568</td>\n",
              "      <td>1.022210</td>\n",
              "      <td>1.002537</td>\n",
              "      <td>0.768920</td>\n",
              "      <td>0.781203</td>\n",
              "      <td>0.697226</td>\n",
              "      <td>0.653681</td>\n",
              "    </tr>\n",
              "    <tr>\n",
              "      <th>min</th>\n",
              "      <td>3.031604e+08</td>\n",
              "      <td>1.000000</td>\n",
              "      <td>0.000000</td>\n",
              "      <td>0.000000</td>\n",
              "      <td>0.000000</td>\n",
              "      <td>0.000000</td>\n",
              "      <td>0.000000</td>\n",
              "      <td>0.000000</td>\n",
              "    </tr>\n",
              "    <tr>\n",
              "      <th>25%</th>\n",
              "      <td>5.175314e+08</td>\n",
              "      <td>1.000000</td>\n",
              "      <td>0.000000</td>\n",
              "      <td>0.000000</td>\n",
              "      <td>0.000000</td>\n",
              "      <td>0.000000</td>\n",
              "      <td>0.000000</td>\n",
              "      <td>0.000000</td>\n",
              "    </tr>\n",
              "    <tr>\n",
              "      <th>50%</th>\n",
              "      <td>5.365809e+08</td>\n",
              "      <td>1.000000</td>\n",
              "      <td>0.000000</td>\n",
              "      <td>0.000000</td>\n",
              "      <td>0.000000</td>\n",
              "      <td>0.000000</td>\n",
              "      <td>0.000000</td>\n",
              "      <td>0.000000</td>\n",
              "    </tr>\n",
              "    <tr>\n",
              "      <th>75%</th>\n",
              "      <td>5.555716e+08</td>\n",
              "      <td>2.000000</td>\n",
              "      <td>1.000000</td>\n",
              "      <td>0.000000</td>\n",
              "      <td>0.000000</td>\n",
              "      <td>0.000000</td>\n",
              "      <td>0.000000</td>\n",
              "      <td>0.000000</td>\n",
              "    </tr>\n",
              "    <tr>\n",
              "      <th>max</th>\n",
              "      <td>5.662783e+08</td>\n",
              "      <td>13.000000</td>\n",
              "      <td>13.000000</td>\n",
              "      <td>13.000000</td>\n",
              "      <td>13.000000</td>\n",
              "      <td>13.000000</td>\n",
              "      <td>13.000000</td>\n",
              "      <td>13.000000</td>\n",
              "    </tr>\n",
              "  </tbody>\n",
              "</table>\n",
              "</div>"
            ],
            "text/plain": [
              "            user_id        pur_cnt  smartphone_samsung  smartphone_apple  \\\n",
              "count  2.604320e+05  260432.000000       260432.000000     260432.000000   \n",
              "mean   5.366739e+08       1.817841            0.464601          0.356784   \n",
              "std    1.855710e+07       1.659568            1.022210          1.002537   \n",
              "min    3.031604e+08       1.000000            0.000000          0.000000   \n",
              "25%    5.175314e+08       1.000000            0.000000          0.000000   \n",
              "50%    5.365809e+08       1.000000            0.000000          0.000000   \n",
              "75%    5.555716e+08       2.000000            1.000000          0.000000   \n",
              "max    5.662783e+08      13.000000           13.000000         13.000000   \n",
              "\n",
              "       smartphone_ect    electronics     appliances            etc  \n",
              "count   260432.000000  260432.000000  260432.000000  260432.000000  \n",
              "mean         0.266023       0.277366       0.253828       0.199238  \n",
              "std          0.768920       0.781203       0.697226       0.653681  \n",
              "min          0.000000       0.000000       0.000000       0.000000  \n",
              "25%          0.000000       0.000000       0.000000       0.000000  \n",
              "50%          0.000000       0.000000       0.000000       0.000000  \n",
              "75%          0.000000       0.000000       0.000000       0.000000  \n",
              "max         13.000000      13.000000      13.000000      13.000000  "
            ]
          },
          "execution_count": 68,
          "metadata": {},
          "output_type": "execute_result"
        }
      ],
      "source": [
        "df_train_data = user_by_ctgr_cnt[(user_by_ctgr_cnt.pur_cnt < 14)] # 상위 1%기준으로 이상치 삭제\n",
        "print(df_train_data.shape)\n",
        "df_train_data.describe()"
      ]
    },
    {
      "cell_type": "code",
      "execution_count": null,
      "metadata": {
        "id": "hyJA3hIUFb2Y"
      },
      "outputs": [],
      "source": [
        "### 이상치 제거 후 : df_train_data\n",
        "### 이상치 제거 전 : user_by_ctgr_cnt"
      ]
    },
    {
      "cell_type": "code",
      "execution_count": null,
      "metadata": {
        "id": "fK__6VKLFb2Y",
        "outputId": "f84e7156-b24d-4ad4-b2da-49f5c3c067b8"
      },
      "outputs": [
        {
          "data": {
            "text/plain": [
              "<AxesSubplot:>"
            ]
          },
          "execution_count": 70,
          "metadata": {},
          "output_type": "execute_result"
        },
        {
          "data": {
            "image/png": "[encoded data removed]",
            "text/plain": [
              "<Figure size 576x576 with 2 Axes>"
            ]
          },
          "metadata": {
            "needs_background": "light"
          },
          "output_type": "display_data"
        }
      ],
      "source": [
        "plt.figure(figsize = (8,8))\n",
        "sns.heatmap(df_train_data[['pur_cnt','smartphone_samsung','smartphone_apple','smartphone_ect','electronics','appliances','etc']].corr()\n",
        "           , annot = True, cmap = 'Blues', fmt = '.1%')"
      ]
    },
    {
      "cell_type": "code",
      "execution_count": null,
      "metadata": {
        "id": "r6wuA7M2Fb2Z",
        "outputId": "5e3f8bc6-d92f-4e8f-a4da-c8ff0a931c55"
      },
      "outputs": [
        {
          "data": {
            "text/plain": [
              "<AxesSubplot:>"
            ]
          },
          "execution_count": 71,
          "metadata": {},
          "output_type": "execute_result"
        },
        {
          "data": {
            "image/png": "[encoded data removed]",
            "text/plain": [
              "<Figure size 576x576 with 2 Axes>"
            ]
          },
          "metadata": {
            "needs_background": "light"
          },
          "output_type": "display_data"
        }
      ],
      "source": [
        "plt.figure(figsize = (8,8))\n",
        "sns.heatmap(user_by_ctgr_cnt[['pur_cnt','smartphone_samsung','smartphone_apple','smartphone_ect','electronics','appliances','etc']].corr()\n",
        "           , annot = True, cmap = 'Blues', fmt = '.1%')"
      ]
    },
    {
      "cell_type": "markdown",
      "metadata": {
        "id": "h7E4W1D8Fb2Z"
      },
      "source": [
        "###### smartphone과 구매건수와의 상관관계가 높음"
      ]
    },
    {
      "cell_type": "code",
      "execution_count": null,
      "metadata": {
        "id": "8Nu0vHucFb2a",
        "outputId": "333723e3-9c49-4091-8186-d244c7ed42f3"
      },
      "outputs": [
        {
          "data": {
            "text/plain": [
              "36"
            ]
          },
          "execution_count": 72,
          "metadata": {},
          "output_type": "execute_result"
        }
      ],
      "source": [
        "gc.collect()"
      ]
    },
    {
      "cell_type": "code",
      "execution_count": null,
      "metadata": {
        "id": "Zuo6c35rFb2a",
        "outputId": "81d34f5b-757a-49a7-ee9f-d1b6422ccbdc"
      },
      "outputs": [
        {
          "data": {
            "image/png": "[encoded data removed]",
            "text/plain": [
              "<Figure size 432x288 with 1 Axes>"
            ]
          },
          "metadata": {
            "needs_background": "light"
          },
          "output_type": "display_data"
        }
      ],
      "source": [
        "# 각 전략 카테고리별 구매건수 확인 \n",
        "fig, ax = plt.subplots()\n",
        "ax.boxplot([df_train_data['smartphone_samsung'], df_train_data['smartphone_apple'], df_train_data['smartphone_ect'], df_train_data['electronics'], df_train_data['appliances'],df_train_data['etc']])\n",
        "# ax.set_ylim (-1,20)\n",
        "plt.show()"
      ]
    },
    {
      "cell_type": "code",
      "execution_count": null,
      "metadata": {
        "scrolled": true,
        "id": "IuMZD1upFb2b",
        "outputId": "2ee8671a-6b00-430a-fc2a-9ab4c4d5f3d5"
      },
      "outputs": [
        {
          "data": {
            "image/png": "[encoded data removed]",
            "text/plain": [
              "<Figure size 432x288 with 1 Axes>"
            ]
          },
          "metadata": {
            "needs_background": "light"
          },
          "output_type": "display_data"
        }
      ],
      "source": [
        "# 각 전략 카테고리별 구매건수 확인 \n",
        "fig, ax = plt.subplots()\n",
        "ax.boxplot([user_by_ctgr_cnt['smartphone_samsung'], user_by_ctgr_cnt['smartphone_apple'], user_by_ctgr_cnt['smartphone_ect'], user_by_ctgr_cnt['electronics'], user_by_ctgr_cnt['appliances'],user_by_ctgr_cnt['etc']])\n",
        "ax.set_ylim (-1,20)\n",
        "plt.show()"
      ]
    },
    {
      "cell_type": "markdown",
      "metadata": {
        "id": "AaWszjl6Fb2b"
      },
      "source": [
        "### 군집화"
      ]
    },
    {
      "cell_type": "code",
      "execution_count": null,
      "metadata": {
        "id": "3XVyxyqdFb2b"
      },
      "outputs": [],
      "source": [
        "df_train_data = df_train_data.reset_index(drop = True).copy()"
      ]
    },
    {
      "cell_type": "code",
      "execution_count": null,
      "metadata": {
        "id": "tsGrdi53Fb2c",
        "outputId": "48495c2e-ebf4-4d69-c9d5-8a64d6cdd35b"
      },
      "outputs": [
        {
          "data": {
            "text/html": [
              "<div>\n",
              "<style scoped>\n",
              "    .dataframe tbody tr th:only-of-type {\n",
              "        vertical-align: middle;\n",
              "    }\n",
              "\n",
              "    .dataframe tbody tr th {\n",
              "        vertical-align: top;\n",
              "    }\n",
              "\n",
              "    .dataframe thead th {\n",
              "        text-align: right;\n",
              "    }\n",
              "</style>\n",
              "<table border=\"1\" class=\"dataframe\">\n",
              "  <thead>\n",
              "    <tr style=\"text-align: right;\">\n",
              "      <th></th>\n",
              "      <th>user_id</th>\n",
              "      <th>pur_cnt</th>\n",
              "      <th>smartphone_samsung</th>\n",
              "      <th>smartphone_apple</th>\n",
              "      <th>smartphone_ect</th>\n",
              "      <th>electronics</th>\n",
              "      <th>appliances</th>\n",
              "      <th>etc</th>\n",
              "    </tr>\n",
              "  </thead>\n",
              "  <tbody>\n",
              "    <tr>\n",
              "      <th>0</th>\n",
              "      <td>303160429</td>\n",
              "      <td>1</td>\n",
              "      <td>0.0</td>\n",
              "      <td>0.0</td>\n",
              "      <td>0.0</td>\n",
              "      <td>1.0</td>\n",
              "      <td>0.0</td>\n",
              "      <td>0.0</td>\n",
              "    </tr>\n",
              "    <tr>\n",
              "      <th>1</th>\n",
              "      <td>340041246</td>\n",
              "      <td>1</td>\n",
              "      <td>0.0</td>\n",
              "      <td>0.0</td>\n",
              "      <td>0.0</td>\n",
              "      <td>1.0</td>\n",
              "      <td>0.0</td>\n",
              "      <td>0.0</td>\n",
              "    </tr>\n",
              "    <tr>\n",
              "      <th>2</th>\n",
              "      <td>384989212</td>\n",
              "      <td>1</td>\n",
              "      <td>0.0</td>\n",
              "      <td>0.0</td>\n",
              "      <td>0.0</td>\n",
              "      <td>0.0</td>\n",
              "      <td>1.0</td>\n",
              "      <td>0.0</td>\n",
              "    </tr>\n",
              "    <tr>\n",
              "      <th>3</th>\n",
              "      <td>401021311</td>\n",
              "      <td>1</td>\n",
              "      <td>0.0</td>\n",
              "      <td>0.0</td>\n",
              "      <td>0.0</td>\n",
              "      <td>1.0</td>\n",
              "      <td>0.0</td>\n",
              "      <td>0.0</td>\n",
              "    </tr>\n",
              "    <tr>\n",
              "      <th>4</th>\n",
              "      <td>403013066</td>\n",
              "      <td>2</td>\n",
              "      <td>1.0</td>\n",
              "      <td>1.0</td>\n",
              "      <td>0.0</td>\n",
              "      <td>0.0</td>\n",
              "      <td>0.0</td>\n",
              "      <td>0.0</td>\n",
              "    </tr>\n",
              "    <tr>\n",
              "      <th>...</th>\n",
              "      <td>...</td>\n",
              "      <td>...</td>\n",
              "      <td>...</td>\n",
              "      <td>...</td>\n",
              "      <td>...</td>\n",
              "      <td>...</td>\n",
              "      <td>...</td>\n",
              "      <td>...</td>\n",
              "    </tr>\n",
              "    <tr>\n",
              "      <th>260427</th>\n",
              "      <td>566265448</td>\n",
              "      <td>1</td>\n",
              "      <td>0.0</td>\n",
              "      <td>0.0</td>\n",
              "      <td>0.0</td>\n",
              "      <td>1.0</td>\n",
              "      <td>0.0</td>\n",
              "      <td>0.0</td>\n",
              "    </tr>\n",
              "    <tr>\n",
              "      <th>260428</th>\n",
              "      <td>566267483</td>\n",
              "      <td>2</td>\n",
              "      <td>0.0</td>\n",
              "      <td>0.0</td>\n",
              "      <td>0.0</td>\n",
              "      <td>0.0</td>\n",
              "      <td>0.0</td>\n",
              "      <td>2.0</td>\n",
              "    </tr>\n",
              "    <tr>\n",
              "      <th>260429</th>\n",
              "      <td>566270060</td>\n",
              "      <td>2</td>\n",
              "      <td>1.0</td>\n",
              "      <td>0.0</td>\n",
              "      <td>0.0</td>\n",
              "      <td>0.0</td>\n",
              "      <td>1.0</td>\n",
              "      <td>0.0</td>\n",
              "    </tr>\n",
              "    <tr>\n",
              "      <th>260430</th>\n",
              "      <td>566274637</td>\n",
              "      <td>1</td>\n",
              "      <td>0.0</td>\n",
              "      <td>1.0</td>\n",
              "      <td>0.0</td>\n",
              "      <td>0.0</td>\n",
              "      <td>0.0</td>\n",
              "      <td>0.0</td>\n",
              "    </tr>\n",
              "    <tr>\n",
              "      <th>260431</th>\n",
              "      <td>566278294</td>\n",
              "      <td>1</td>\n",
              "      <td>0.0</td>\n",
              "      <td>1.0</td>\n",
              "      <td>0.0</td>\n",
              "      <td>0.0</td>\n",
              "      <td>0.0</td>\n",
              "      <td>0.0</td>\n",
              "    </tr>\n",
              "  </tbody>\n",
              "</table>\n",
              "<p>260432 rows × 8 columns</p>\n",
              "</div>"
            ],
            "text/plain": [
              "          user_id  pur_cnt  smartphone_samsung  smartphone_apple  \\\n",
              "0       303160429        1                 0.0               0.0   \n",
              "1       340041246        1                 0.0               0.0   \n",
              "2       384989212        1                 0.0               0.0   \n",
              "3       401021311        1                 0.0               0.0   \n",
              "4       403013066        2                 1.0               1.0   \n",
              "...           ...      ...                 ...               ...   \n",
              "260427  566265448        1                 0.0               0.0   \n",
              "260428  566267483        2                 0.0               0.0   \n",
              "260429  566270060        2                 1.0               0.0   \n",
              "260430  566274637        1                 0.0               1.0   \n",
              "260431  566278294        1                 0.0               1.0   \n",
              "\n",
              "        smartphone_ect  electronics  appliances  etc  \n",
              "0                  0.0          1.0         0.0  0.0  \n",
              "1                  0.0          1.0         0.0  0.0  \n",
              "2                  0.0          0.0         1.0  0.0  \n",
              "3                  0.0          1.0         0.0  0.0  \n",
              "4                  0.0          0.0         0.0  0.0  \n",
              "...                ...          ...         ...  ...  \n",
              "260427             0.0          1.0         0.0  0.0  \n",
              "260428             0.0          0.0         0.0  2.0  \n",
              "260429             0.0          0.0         1.0  0.0  \n",
              "260430             0.0          0.0         0.0  0.0  \n",
              "260431             0.0          0.0         0.0  0.0  \n",
              "\n",
              "[260432 rows x 8 columns]"
            ]
          },
          "execution_count": 76,
          "metadata": {},
          "output_type": "execute_result"
        }
      ],
      "source": [
        "df_train_data"
      ]
    },
    {
      "cell_type": "code",
      "execution_count": null,
      "metadata": {
        "id": "d9EYQ92VFb2c",
        "outputId": "8e1e6c76-2c52-4511-9ee5-3912a217bde5"
      },
      "outputs": [
        {
          "data": {
            "text/html": [
              "<div>\n",
              "<style scoped>\n",
              "    .dataframe tbody tr th:only-of-type {\n",
              "        vertical-align: middle;\n",
              "    }\n",
              "\n",
              "    .dataframe tbody tr th {\n",
              "        vertical-align: top;\n",
              "    }\n",
              "\n",
              "    .dataframe thead th {\n",
              "        text-align: right;\n",
              "    }\n",
              "</style>\n",
              "<table border=\"1\" class=\"dataframe\">\n",
              "  <thead>\n",
              "    <tr style=\"text-align: right;\">\n",
              "      <th></th>\n",
              "      <th>user_id</th>\n",
              "      <th>pur_cnt</th>\n",
              "      <th>smartphone_samsung</th>\n",
              "      <th>smartphone_apple</th>\n",
              "      <th>smartphone_ect</th>\n",
              "      <th>electronics</th>\n",
              "      <th>appliances</th>\n",
              "      <th>etc</th>\n",
              "    </tr>\n",
              "  </thead>\n",
              "  <tbody>\n",
              "    <tr>\n",
              "      <th>count</th>\n",
              "      <td>2.604320e+05</td>\n",
              "      <td>260432.000000</td>\n",
              "      <td>260432.000000</td>\n",
              "      <td>260432.000000</td>\n",
              "      <td>260432.000000</td>\n",
              "      <td>260432.000000</td>\n",
              "      <td>260432.000000</td>\n",
              "      <td>260432.000000</td>\n",
              "    </tr>\n",
              "    <tr>\n",
              "      <th>mean</th>\n",
              "      <td>5.366739e+08</td>\n",
              "      <td>1.817841</td>\n",
              "      <td>0.464601</td>\n",
              "      <td>0.356784</td>\n",
              "      <td>0.266023</td>\n",
              "      <td>0.277366</td>\n",
              "      <td>0.253828</td>\n",
              "      <td>0.199238</td>\n",
              "    </tr>\n",
              "    <tr>\n",
              "      <th>std</th>\n",
              "      <td>1.855710e+07</td>\n",
              "      <td>1.659568</td>\n",
              "      <td>1.022210</td>\n",
              "      <td>1.002537</td>\n",
              "      <td>0.768920</td>\n",
              "      <td>0.781203</td>\n",
              "      <td>0.697226</td>\n",
              "      <td>0.653681</td>\n",
              "    </tr>\n",
              "    <tr>\n",
              "      <th>min</th>\n",
              "      <td>3.031604e+08</td>\n",
              "      <td>1.000000</td>\n",
              "      <td>0.000000</td>\n",
              "      <td>0.000000</td>\n",
              "      <td>0.000000</td>\n",
              "      <td>0.000000</td>\n",
              "      <td>0.000000</td>\n",
              "      <td>0.000000</td>\n",
              "    </tr>\n",
              "    <tr>\n",
              "      <th>25%</th>\n",
              "      <td>5.175314e+08</td>\n",
              "      <td>1.000000</td>\n",
              "      <td>0.000000</td>\n",
              "      <td>0.000000</td>\n",
              "      <td>0.000000</td>\n",
              "      <td>0.000000</td>\n",
              "      <td>0.000000</td>\n",
              "      <td>0.000000</td>\n",
              "    </tr>\n",
              "    <tr>\n",
              "      <th>50%</th>\n",
              "      <td>5.365809e+08</td>\n",
              "      <td>1.000000</td>\n",
              "      <td>0.000000</td>\n",
              "      <td>0.000000</td>\n",
              "      <td>0.000000</td>\n",
              "      <td>0.000000</td>\n",
              "      <td>0.000000</td>\n",
              "      <td>0.000000</td>\n",
              "    </tr>\n",
              "    <tr>\n",
              "      <th>75%</th>\n",
              "      <td>5.555716e+08</td>\n",
              "      <td>2.000000</td>\n",
              "      <td>1.000000</td>\n",
              "      <td>0.000000</td>\n",
              "      <td>0.000000</td>\n",
              "      <td>0.000000</td>\n",
              "      <td>0.000000</td>\n",
              "      <td>0.000000</td>\n",
              "    </tr>\n",
              "    <tr>\n",
              "      <th>max</th>\n",
              "      <td>5.662783e+08</td>\n",
              "      <td>13.000000</td>\n",
              "      <td>13.000000</td>\n",
              "      <td>13.000000</td>\n",
              "      <td>13.000000</td>\n",
              "      <td>13.000000</td>\n",
              "      <td>13.000000</td>\n",
              "      <td>13.000000</td>\n",
              "    </tr>\n",
              "  </tbody>\n",
              "</table>\n",
              "</div>"
            ],
            "text/plain": [
              "            user_id        pur_cnt  smartphone_samsung  smartphone_apple  \\\n",
              "count  2.604320e+05  260432.000000       260432.000000     260432.000000   \n",
              "mean   5.366739e+08       1.817841            0.464601          0.356784   \n",
              "std    1.855710e+07       1.659568            1.022210          1.002537   \n",
              "min    3.031604e+08       1.000000            0.000000          0.000000   \n",
              "25%    5.175314e+08       1.000000            0.000000          0.000000   \n",
              "50%    5.365809e+08       1.000000            0.000000          0.000000   \n",
              "75%    5.555716e+08       2.000000            1.000000          0.000000   \n",
              "max    5.662783e+08      13.000000           13.000000         13.000000   \n",
              "\n",
              "       smartphone_ect    electronics     appliances            etc  \n",
              "count   260432.000000  260432.000000  260432.000000  260432.000000  \n",
              "mean         0.266023       0.277366       0.253828       0.199238  \n",
              "std          0.768920       0.781203       0.697226       0.653681  \n",
              "min          0.000000       0.000000       0.000000       0.000000  \n",
              "25%          0.000000       0.000000       0.000000       0.000000  \n",
              "50%          0.000000       0.000000       0.000000       0.000000  \n",
              "75%          0.000000       0.000000       0.000000       0.000000  \n",
              "max         13.000000      13.000000      13.000000      13.000000  "
            ]
          },
          "execution_count": 77,
          "metadata": {},
          "output_type": "execute_result"
        }
      ],
      "source": [
        "df_train_data.describe()"
      ]
    },
    {
      "cell_type": "markdown",
      "metadata": {
        "id": "lnM9IF3dFb2d"
      },
      "source": [
        "##### 숫자형 변수 \n",
        "- 표준화(평균, 표준편차 이용) e.g. standardScaler, RobustScaler\n",
        "- 정규화(0~1사이 값으로! min, max값 영향 받는다)  \n",
        "> 여기서는 앞서 이상치를 제거 했으니, 표준화로 가자! 뭐가 좋을지는 시도해봐야한다.  \n",
        "표준화하고 정규화 할지,,둘 중 하나만 할지,,"
      ]
    },
    {
      "cell_type": "markdown",
      "metadata": {
        "id": "tzXoa-HOFb2d"
      },
      "source": [
        "#### 변수의 표준화"
      ]
    },
    {
      "cell_type": "code",
      "execution_count": null,
      "metadata": {
        "id": "VEIBgwsiFb2d"
      },
      "outputs": [],
      "source": [
        "from sklearn.preprocessing import StandardScaler"
      ]
    },
    {
      "cell_type": "code",
      "execution_count": null,
      "metadata": {
        "id": "z6z1GCyhFb2e"
      },
      "outputs": [],
      "source": []
    },
    {
      "cell_type": "code",
      "execution_count": null,
      "metadata": {
        "id": "15dPxlBuFb2e",
        "outputId": "0aa8c34e-0177-4172-d33f-90d21f0cf81a"
      },
      "outputs": [
        {
          "data": {
            "text/plain": [
              "StandardScaler()"
            ]
          },
          "execution_count": 79,
          "metadata": {},
          "output_type": "execute_result"
        }
      ],
      "source": [
        "scaler = StandardScaler()\n",
        "scaler.fit(df_train_data.iloc[:,2:])"
      ]
    },
    {
      "cell_type": "code",
      "execution_count": null,
      "metadata": {
        "id": "K7DTMqLEFb2e"
      },
      "outputs": [],
      "source": [
        "np_train_scaled = scaler.transform(df_train_data.iloc[:,2:])"
      ]
    },
    {
      "cell_type": "code",
      "execution_count": null,
      "metadata": {
        "id": "6nxPV953Fb2f",
        "outputId": "d9f97eb1-2dfe-4f91-84ed-bbfa5648baa3"
      },
      "outputs": [
        {
          "data": {
            "text/plain": [
              "array([[-0.45450754, -0.35588177, -0.34597089,  0.92502851, -0.36405533,\n",
              "        -0.30479472],\n",
              "       [-0.45450754, -0.35588177, -0.34597089,  0.92502851, -0.36405533,\n",
              "        -0.30479472],\n",
              "       [-0.45450754, -0.35588177, -0.34597089, -0.35505048,  1.07020317,\n",
              "        -0.30479472],\n",
              "       ...,\n",
              "       [ 0.52376719, -0.35588177, -0.34597089, -0.35505048,  1.07020317,\n",
              "        -0.30479472],\n",
              "       [-0.45450754,  0.64158913, -0.34597089, -0.35505048, -0.36405533,\n",
              "        -0.30479472],\n",
              "       [-0.45450754,  0.64158913, -0.34597089, -0.35505048, -0.36405533,\n",
              "        -0.30479472]])"
            ]
          },
          "execution_count": 81,
          "metadata": {},
          "output_type": "execute_result"
        }
      ],
      "source": [
        "np_train_scaled"
      ]
    },
    {
      "cell_type": "markdown",
      "metadata": {
        "id": "viWbiv9lFb2f"
      },
      "source": [
        "#### 군집화 알고리즘 적용(K-means)  \n",
        ": 군집화 알고리즘의 input은 array형태!"
      ]
    },
    {
      "cell_type": "code",
      "execution_count": null,
      "metadata": {
        "id": "aHgrnUcHFb2f",
        "outputId": "563d695b-2b80-4065-f204-6b01f98c1edc"
      },
      "outputs": [
        {
          "name": "stderr",
          "output_type": "stream",
          "text": [
            "c:\\python 3.8\\lib\\site-packages\\seaborn\\distributions.py:2619: FutureWarning: `distplot` is a deprecated function and will be removed in a future version. Please adapt your code to use either `displot` (a figure-level function with similar flexibility) or `histplot` (an axes-level function for histograms).\n",
            "  warnings.warn(msg, FutureWarning)\n"
          ]
        },
        {
          "data": {
            "text/plain": [
              "<AxesSubplot:xlabel='smartphone_samsung', ylabel='Density'>"
            ]
          },
          "execution_count": 82,
          "metadata": {},
          "output_type": "execute_result"
        },
        {
          "data": {
            "image/png": "[encoded data removed]",
            "text/plain": [
              "<Figure size 432x288 with 1 Axes>"
            ]
          },
          "metadata": {
            "needs_background": "light"
          },
          "output_type": "display_data"
        }
      ],
      "source": [
        "sns.distplot(df_train_data['smartphone_samsung'])"
      ]
    },
    {
      "cell_type": "code",
      "execution_count": null,
      "metadata": {
        "id": "1SZYaM0QFb2g"
      },
      "outputs": [],
      "source": [
        "scaler_frame = df_train_data[['user_id','pur_cnt']]"
      ]
    },
    {
      "cell_type": "code",
      "execution_count": null,
      "metadata": {
        "id": "eryfUGySFb2g"
      },
      "outputs": [],
      "source": [
        "scale_cols = df_train_data.iloc[:,2:].columns.tolist()"
      ]
    },
    {
      "cell_type": "code",
      "execution_count": null,
      "metadata": {
        "id": "IUwC1dQDFb2g",
        "outputId": "d0d086b5-550d-4324-9579-35552892ac13"
      },
      "outputs": [
        {
          "name": "stderr",
          "output_type": "stream",
          "text": [
            "c:\\python 3.8\\lib\\site-packages\\pandas\\core\\frame.py:3678: SettingWithCopyWarning: \n",
            "A value is trying to be set on a copy of a slice from a DataFrame.\n",
            "Try using .loc[row_indexer,col_indexer] = value instead\n",
            "\n",
            "See the caveats in the documentation: https://pandas.pydata.org/pandas-docs/stable/user_guide/indexing.html#returning-a-view-versus-a-copy\n",
            "  self[col] = igetitem(value, i)\n"
          ]
        }
      ],
      "source": [
        "scaler_frame[scale_cols] = scaler.fit_transform(df_train_data.iloc[:,2:])"
      ]
    },
    {
      "cell_type": "code",
      "execution_count": null,
      "metadata": {
        "scrolled": true,
        "id": "v6Owxna8Fb2h",
        "outputId": "69fc713f-a433-4c8e-c8d2-349df4bab32d"
      },
      "outputs": [
        {
          "data": {
            "text/html": [
              "<div>\n",
              "<style scoped>\n",
              "    .dataframe tbody tr th:only-of-type {\n",
              "        vertical-align: middle;\n",
              "    }\n",
              "\n",
              "    .dataframe tbody tr th {\n",
              "        vertical-align: top;\n",
              "    }\n",
              "\n",
              "    .dataframe thead th {\n",
              "        text-align: right;\n",
              "    }\n",
              "</style>\n",
              "<table border=\"1\" class=\"dataframe\">\n",
              "  <thead>\n",
              "    <tr style=\"text-align: right;\">\n",
              "      <th></th>\n",
              "      <th>user_id</th>\n",
              "      <th>pur_cnt</th>\n",
              "      <th>smartphone_samsung</th>\n",
              "      <th>smartphone_apple</th>\n",
              "      <th>smartphone_ect</th>\n",
              "      <th>electronics</th>\n",
              "      <th>appliances</th>\n",
              "      <th>etc</th>\n",
              "    </tr>\n",
              "  </thead>\n",
              "  <tbody>\n",
              "    <tr>\n",
              "      <th>0</th>\n",
              "      <td>303160429</td>\n",
              "      <td>1</td>\n",
              "      <td>-0.454508</td>\n",
              "      <td>-0.355882</td>\n",
              "      <td>-0.345971</td>\n",
              "      <td>0.925029</td>\n",
              "      <td>-0.364055</td>\n",
              "      <td>-0.304795</td>\n",
              "    </tr>\n",
              "    <tr>\n",
              "      <th>1</th>\n",
              "      <td>340041246</td>\n",
              "      <td>1</td>\n",
              "      <td>-0.454508</td>\n",
              "      <td>-0.355882</td>\n",
              "      <td>-0.345971</td>\n",
              "      <td>0.925029</td>\n",
              "      <td>-0.364055</td>\n",
              "      <td>-0.304795</td>\n",
              "    </tr>\n",
              "    <tr>\n",
              "      <th>2</th>\n",
              "      <td>384989212</td>\n",
              "      <td>1</td>\n",
              "      <td>-0.454508</td>\n",
              "      <td>-0.355882</td>\n",
              "      <td>-0.345971</td>\n",
              "      <td>-0.355050</td>\n",
              "      <td>1.070203</td>\n",
              "      <td>-0.304795</td>\n",
              "    </tr>\n",
              "    <tr>\n",
              "      <th>3</th>\n",
              "      <td>401021311</td>\n",
              "      <td>1</td>\n",
              "      <td>-0.454508</td>\n",
              "      <td>-0.355882</td>\n",
              "      <td>-0.345971</td>\n",
              "      <td>0.925029</td>\n",
              "      <td>-0.364055</td>\n",
              "      <td>-0.304795</td>\n",
              "    </tr>\n",
              "    <tr>\n",
              "      <th>4</th>\n",
              "      <td>403013066</td>\n",
              "      <td>2</td>\n",
              "      <td>0.523767</td>\n",
              "      <td>0.641589</td>\n",
              "      <td>-0.345971</td>\n",
              "      <td>-0.355050</td>\n",
              "      <td>-0.364055</td>\n",
              "      <td>-0.304795</td>\n",
              "    </tr>\n",
              "  </tbody>\n",
              "</table>\n",
              "</div>"
            ],
            "text/plain": [
              "     user_id  pur_cnt  smartphone_samsung  smartphone_apple  smartphone_ect  \\\n",
              "0  303160429        1           -0.454508         -0.355882       -0.345971   \n",
              "1  340041246        1           -0.454508         -0.355882       -0.345971   \n",
              "2  384989212        1           -0.454508         -0.355882       -0.345971   \n",
              "3  401021311        1           -0.454508         -0.355882       -0.345971   \n",
              "4  403013066        2            0.523767          0.641589       -0.345971   \n",
              "\n",
              "   electronics  appliances       etc  \n",
              "0     0.925029   -0.364055 -0.304795  \n",
              "1     0.925029   -0.364055 -0.304795  \n",
              "2    -0.355050    1.070203 -0.304795  \n",
              "3     0.925029   -0.364055 -0.304795  \n",
              "4    -0.355050   -0.364055 -0.304795  "
            ]
          },
          "execution_count": 86,
          "metadata": {},
          "output_type": "execute_result"
        }
      ],
      "source": [
        "scaler_frame.head()"
      ]
    },
    {
      "cell_type": "code",
      "execution_count": null,
      "metadata": {
        "id": "CWxa2KtSFb2h"
      },
      "outputs": [],
      "source": [
        "import warnings"
      ]
    },
    {
      "cell_type": "code",
      "execution_count": null,
      "metadata": {
        "id": "93Ij3xudFb2h"
      },
      "outputs": [],
      "source": [
        "warnings.filterwarnings('ignore')"
      ]
    },
    {
      "cell_type": "code",
      "execution_count": null,
      "metadata": {
        "id": "fJBt0vIMFb2i",
        "outputId": "0bb531b1-0825-4955-a22b-d7310b39351c"
      },
      "outputs": [
        {
          "data": {
            "image/png": "[encoded data removed]",
            "text/plain": [
              "<Figure size 432x288 with 2 Axes>"
            ]
          },
          "metadata": {
            "needs_background": "light"
          },
          "output_type": "display_data"
        }
      ],
      "source": [
        "# fig = plt.figure()\n",
        "plt.subplot(1, 2, 1)\n",
        "plt.title('scaler_frame')\n",
        "sns.distplot(scaler_frame['smartphone_samsung'])\n",
        "\n",
        "plt.subplot(1, 2, 2) \n",
        "plt.title('df_train_data')\n",
        "sns.distplot(df_train_data['smartphone_samsung'])\n",
        "plt.tight_layout()\n",
        "plt.show()"
      ]
    },
    {
      "cell_type": "code",
      "execution_count": null,
      "metadata": {
        "id": "umUSc0ehFb2i",
        "outputId": "a0a88f1e-77e0-4f9d-cedf-1464bce1d04d"
      },
      "outputs": [
        {
          "data": {
            "text/plain": [
              "20746"
            ]
          },
          "execution_count": 90,
          "metadata": {},
          "output_type": "execute_result"
        }
      ],
      "source": [
        "gc.collect()"
      ]
    },
    {
      "cell_type": "code",
      "execution_count": null,
      "metadata": {
        "scrolled": true,
        "id": "RA4LCCIBFb2j",
        "outputId": "010f4b11-fd4d-4bfc-d6dd-e213053a5c77"
      },
      "outputs": [
        {
          "data": {
            "image/png": "[encoded data removed]",
            "text/plain": [
              "<Figure size 432x288 with 2 Axes>"
            ]
          },
          "metadata": {
            "needs_background": "light"
          },
          "output_type": "display_data"
        },
        {
          "data": {
            "image/png": "[encoded data removed]",
            "text/plain": [
              "<Figure size 432x288 with 2 Axes>"
            ]
          },
          "metadata": {
            "needs_background": "light"
          },
          "output_type": "display_data"
        },
        {
          "data": {
            "image/png": "[encoded data removed]",
            "text/plain": [
              "<Figure size 432x288 with 2 Axes>"
            ]
          },
          "metadata": {
            "needs_background": "light"
          },
          "output_type": "display_data"
        },
        {
          "data": {
            "image/png": "[encoded data removed]",
            "text/plain": [
              "<Figure size 432x288 with 2 Axes>"
            ]
          },
          "metadata": {
            "needs_background": "light"
          },
          "output_type": "display_data"
        },
        {
          "data": {
            "image/png": "[encoded data removed]",
            "text/plain": [
              "<Figure size 432x288 with 2 Axes>"
            ]
          },
          "metadata": {
            "needs_background": "light"
          },
          "output_type": "display_data"
        },
        {
          "data": {
            "image/png": "[encoded data removed]",
            "text/plain": [
              "<Figure size 432x288 with 2 Axes>"
            ]
          },
          "metadata": {
            "needs_background": "light"
          },
          "output_type": "display_data"
        }
      ],
      "source": [
        "for i in range(2,scaler_frame.shape[1]):\n",
        "    plt.subplot(i-1, 2, 1)\n",
        "    plt.title('scaler_frame')\n",
        "    sns.distplot(scaler_frame.iloc[:,i])\n",
        "\n",
        "    plt.subplot(i-1, 2, 2) \n",
        "    plt.title('df_train_data')\n",
        "    sns.distplot(df_train_data.iloc[:,i])\n",
        "#     plt.tight_layout()\n",
        "    plt.show()"
      ]
    },
    {
      "cell_type": "markdown",
      "metadata": {
        "id": "E8A5KqdoFb2j"
      },
      "source": [
        "#### 군집화 알고리즘 적용(k- means clustering)"
      ]
    },
    {
      "cell_type": "code",
      "execution_count": null,
      "metadata": {
        "id": "adfj7dsaFb2k"
      },
      "outputs": [],
      "source": [
        "kmeans = KMeans(n_clusters = 5)"
      ]
    },
    {
      "cell_type": "code",
      "execution_count": null,
      "metadata": {
        "id": "Ms63TWM6Fb2k"
      },
      "outputs": [],
      "source": [
        "y_pred = kmeans.fit_predict(np_train_scaled)"
      ]
    },
    {
      "cell_type": "code",
      "execution_count": null,
      "metadata": {
        "id": "J_F7GMcUFb2l",
        "outputId": "f55bb6f5-a53b-4440-c6aa-50978d531090"
      },
      "outputs": [
        {
          "data": {
            "text/plain": [
              "KMeans(n_clusters=5)"
            ]
          },
          "execution_count": 107,
          "metadata": {},
          "output_type": "execute_result"
        }
      ],
      "source": [
        " kmeans.fit(np_train_scaled) # fit은 학습 모델, fit_predict하면 군집번호"
      ]
    },
    {
      "cell_type": "code",
      "execution_count": null,
      "metadata": {
        "id": "VqeWvDcmFb2l",
        "outputId": "2de1614f-363d-4d27-ba40-6acf204c9972"
      },
      "outputs": [
        {
          "data": {
            "text/plain": [
              "array([0, 0, 4, ..., 4, 0, 0])"
            ]
          },
          "execution_count": 100,
          "metadata": {},
          "output_type": "execute_result"
        }
      ],
      "source": [
        "y_pred"
      ]
    },
    {
      "cell_type": "code",
      "execution_count": null,
      "metadata": {
        "scrolled": true,
        "id": "2uI8He9XFb2m",
        "outputId": "aca2a5b2-5f68-49ea-8fe9-8a1d37a29a66"
      },
      "outputs": [
        {
          "data": {
            "text/plain": [
              "array([[-0.45450754, -0.35588177, -0.34597089,  0.92502851, -0.36405533,\n",
              "        -0.30479472],\n",
              "       [-0.45450754, -0.35588177, -0.34597089,  0.92502851, -0.36405533,\n",
              "        -0.30479472],\n",
              "       [-0.45450754, -0.35588177, -0.34597089, -0.35505048,  1.07020317,\n",
              "        -0.30479472],\n",
              "       ...,\n",
              "       [ 0.52376719, -0.35588177, -0.34597089, -0.35505048,  1.07020317,\n",
              "        -0.30479472],\n",
              "       [-0.45450754,  0.64158913, -0.34597089, -0.35505048, -0.36405533,\n",
              "        -0.30479472],\n",
              "       [-0.45450754,  0.64158913, -0.34597089, -0.35505048, -0.36405533,\n",
              "        -0.30479472]])"
            ]
          },
          "execution_count": 97,
          "metadata": {},
          "output_type": "execute_result"
        }
      ],
      "source": [
        "np_train_scaled"
      ]
    },
    {
      "cell_type": "code",
      "execution_count": null,
      "metadata": {
        "id": "yX-b7bslFb2n",
        "outputId": "b675adc3-5980-4ae3-b044-60f7e280ae9d"
      },
      "outputs": [
        {
          "data": {
            "text/plain": [
              "930455.6256066608"
            ]
          },
          "execution_count": 105,
          "metadata": {},
          "output_type": "execute_result"
        }
      ],
      "source": [
        "kmeans.inertia_"
      ]
    },
    {
      "cell_type": "code",
      "execution_count": null,
      "metadata": {
        "scrolled": false,
        "id": "ZJHpvfm3Fb2n",
        "outputId": "c4777f52-c735-427b-f3df-405a2c1be04b"
      },
      "outputs": [
        {
          "data": {
            "text/plain": [
              "array([[-0.01948335, -0.1570635 ,  0.16549359,  0.14039493, -0.35754279,\n",
              "        -0.29960189],\n",
              "       [-0.38229625, -0.31581978, -0.2806195 , -0.22240925, -0.28129712,\n",
              "         1.9709315 ],\n",
              "       [-0.26484028,  2.94330191, -0.25954699, -0.13500076, -0.30410993,\n",
              "        -0.23176022],\n",
              "       [ 3.85403796, -0.12869978,  0.0354484 , -0.13732718, -0.23329972,\n",
              "        -0.19190907],\n",
              "       [-0.38735871, -0.32789395, -0.29796411, -0.26162322,  1.70994485,\n",
              "        -0.27924026]])"
            ]
          },
          "execution_count": 96,
          "metadata": {},
          "output_type": "execute_result"
        }
      ],
      "source": [
        "kmeans.cluster_centers_"
      ]
    },
    {
      "cell_type": "markdown",
      "metadata": {
        "id": "IzZ7QD7MFb2o"
      },
      "source": [
        "##### 최적의  cluster갯수 찾기\n",
        "1) elbow plot  \n",
        ": 이너셔(inertia)를 사용. \n",
        "2) siluette score(연산 많음)  \n",
        "** inertia  \n",
        ": 각 중심점에서 군집의 데이터간의 거리를 합산  \n",
        ": 군집의 응집도를 의미(작을수록 군집화 good)"
      ]
    },
    {
      "cell_type": "code",
      "execution_count": null,
      "metadata": {
        "id": "4AC_4xiIFb2o"
      },
      "outputs": [],
      "source": [
        "# 1) elbow plot "
      ]
    },
    {
      "cell_type": "code",
      "execution_count": null,
      "metadata": {
        "id": "KzAyu_O1Fb2p"
      },
      "outputs": [],
      "source": [
        "# 최적의  cluster갯수 찾기\n",
        "kmeans_per_k = [KMeans(n_clusters = i).fit(np_train_scaled) for i in range(1,10)]\n",
        "inertias= [mdl.inertia_ for mdl in kmeans_per_k]"
      ]
    },
    {
      "cell_type": "code",
      "execution_count": null,
      "metadata": {
        "scrolled": true,
        "id": "XPuXDjrxFb2p",
        "outputId": "968dcfc3-f1dd-458c-99fe-f58e495ab779"
      },
      "outputs": [
        {
          "data": {
            "image/png": "[encoded data removed]",
            "text/plain": [
              "<Figure size 576x216 with 1 Axes>"
            ]
          },
          "metadata": {
            "needs_background": "light"
          },
          "output_type": "display_data"
        }
      ],
      "source": [
        "plt.figure(figsize=(8,3))\n",
        "plt.plot(range(1,10), inertias,\"bo-\")\n",
        "plt.title(\"Elbow plot\")\n",
        "plt.show()"
      ]
    },
    {
      "cell_type": "code",
      "execution_count": null,
      "metadata": {
        "scrolled": false,
        "id": "p9oMdGe_Fb2q",
        "outputId": "6832b05f-8fb8-4959-a959-c03901ed9e1c"
      },
      "outputs": [
        {
          "data": {
            "text/plain": [
              "281"
            ]
          },
          "execution_count": 124,
          "metadata": {},
          "output_type": "execute_result"
        }
      ],
      "source": [
        "gc.collect()"
      ]
    },
    {
      "cell_type": "code",
      "execution_count": null,
      "metadata": {
        "id": "HKoatWtJFb2q"
      },
      "outputs": [],
      "source": [
        "# Silhouette score\n",
        "from sklearn.metrics import silhouette_score"
      ]
    },
    {
      "cell_type": "code",
      "execution_count": null,
      "metadata": {
        "id": "BbhPRYN8Fb2r"
      },
      "outputs": [],
      "source": [
        "# silhouette_score_k = [KMeans(n_clusters = i).fit_predict(np_train_scaled) for i in range(5,10)]"
      ]
    },
    {
      "cell_type": "code",
      "execution_count": null,
      "metadata": {
        "scrolled": false,
        "id": "IRtlPRIfFb2r"
      },
      "outputs": [],
      "source": [
        "# silhouette_score(np_train_scaled, silhouette_score_k[0] )"
      ]
    },
    {
      "cell_type": "markdown",
      "metadata": {
        "id": "z3mjU9N2Fb2s"
      },
      "source": [
        "#### 군집생성 및 군집별 특성 확인  \n",
        ": 군집별로 각 변수가 어떤 특성을 가진 애들끼지 모인 건지 확인! => \"취향\"을 찾는다!"
      ]
    },
    {
      "cell_type": "code",
      "execution_count": null,
      "metadata": {
        "id": "2lBm01-WFb2s"
      },
      "outputs": [],
      "source": [
        "kmeans = KMeans(n_clusters = 8, random_state=4321)\n",
        "y_pred = kmeans.fit_predict(np_train_scaled)"
      ]
    },
    {
      "cell_type": "code",
      "execution_count": null,
      "metadata": {
        "id": "-I6LVe50Fb2t"
      },
      "outputs": [],
      "source": [
        "df_train_data['clst_k8'] = y_pred"
      ]
    },
    {
      "cell_type": "code",
      "execution_count": null,
      "metadata": {
        "scrolled": true,
        "id": "p_rCVXoPFb2t",
        "outputId": "5a88c017-dfc8-4e2b-8ddc-0004e095d395"
      },
      "outputs": [
        {
          "data": {
            "text/html": [
              "<div>\n",
              "<style scoped>\n",
              "    .dataframe tbody tr th:only-of-type {\n",
              "        vertical-align: middle;\n",
              "    }\n",
              "\n",
              "    .dataframe tbody tr th {\n",
              "        vertical-align: top;\n",
              "    }\n",
              "\n",
              "    .dataframe thead th {\n",
              "        text-align: right;\n",
              "    }\n",
              "</style>\n",
              "<table border=\"1\" class=\"dataframe\">\n",
              "  <thead>\n",
              "    <tr style=\"text-align: right;\">\n",
              "      <th></th>\n",
              "      <th>user_id</th>\n",
              "      <th>pur_cnt</th>\n",
              "      <th>smartphone_samsung</th>\n",
              "      <th>smartphone_apple</th>\n",
              "      <th>smartphone_ect</th>\n",
              "      <th>electronics</th>\n",
              "      <th>appliances</th>\n",
              "      <th>etc</th>\n",
              "      <th>clst_k8</th>\n",
              "    </tr>\n",
              "  </thead>\n",
              "  <tbody>\n",
              "    <tr>\n",
              "      <th>0</th>\n",
              "      <td>303160429</td>\n",
              "      <td>1</td>\n",
              "      <td>0.0</td>\n",
              "      <td>0.0</td>\n",
              "      <td>0.0</td>\n",
              "      <td>1.0</td>\n",
              "      <td>0.0</td>\n",
              "      <td>0.0</td>\n",
              "      <td>7</td>\n",
              "    </tr>\n",
              "    <tr>\n",
              "      <th>1</th>\n",
              "      <td>340041246</td>\n",
              "      <td>1</td>\n",
              "      <td>0.0</td>\n",
              "      <td>0.0</td>\n",
              "      <td>0.0</td>\n",
              "      <td>1.0</td>\n",
              "      <td>0.0</td>\n",
              "      <td>0.0</td>\n",
              "      <td>7</td>\n",
              "    </tr>\n",
              "    <tr>\n",
              "      <th>2</th>\n",
              "      <td>384989212</td>\n",
              "      <td>1</td>\n",
              "      <td>0.0</td>\n",
              "      <td>0.0</td>\n",
              "      <td>0.0</td>\n",
              "      <td>0.0</td>\n",
              "      <td>1.0</td>\n",
              "      <td>0.0</td>\n",
              "      <td>6</td>\n",
              "    </tr>\n",
              "    <tr>\n",
              "      <th>3</th>\n",
              "      <td>401021311</td>\n",
              "      <td>1</td>\n",
              "      <td>0.0</td>\n",
              "      <td>0.0</td>\n",
              "      <td>0.0</td>\n",
              "      <td>1.0</td>\n",
              "      <td>0.0</td>\n",
              "      <td>0.0</td>\n",
              "      <td>7</td>\n",
              "    </tr>\n",
              "    <tr>\n",
              "      <th>4</th>\n",
              "      <td>403013066</td>\n",
              "      <td>2</td>\n",
              "      <td>1.0</td>\n",
              "      <td>1.0</td>\n",
              "      <td>0.0</td>\n",
              "      <td>0.0</td>\n",
              "      <td>0.0</td>\n",
              "      <td>0.0</td>\n",
              "      <td>1</td>\n",
              "    </tr>\n",
              "  </tbody>\n",
              "</table>\n",
              "</div>"
            ],
            "text/plain": [
              "     user_id  pur_cnt  smartphone_samsung  smartphone_apple  smartphone_ect  \\\n",
              "0  303160429        1                 0.0               0.0             0.0   \n",
              "1  340041246        1                 0.0               0.0             0.0   \n",
              "2  384989212        1                 0.0               0.0             0.0   \n",
              "3  401021311        1                 0.0               0.0             0.0   \n",
              "4  403013066        2                 1.0               1.0             0.0   \n",
              "\n",
              "   electronics  appliances  etc  clst_k8  \n",
              "0          1.0         0.0  0.0        7  \n",
              "1          1.0         0.0  0.0        7  \n",
              "2          0.0         1.0  0.0        6  \n",
              "3          1.0         0.0  0.0        7  \n",
              "4          0.0         0.0  0.0        1  "
            ]
          },
          "execution_count": 129,
          "metadata": {},
          "output_type": "execute_result"
        }
      ],
      "source": [
        "df_train_data.head()"
      ]
    },
    {
      "cell_type": "code",
      "execution_count": null,
      "metadata": {
        "scrolled": true,
        "id": "7kghSVhiFb2u",
        "outputId": "ad93ca1d-5fae-4c32-8805-cc8c5ccc8e44"
      },
      "outputs": [
        {
          "data": {
            "text/plain": [
              "1    0.334448\n",
              "3    0.155208\n",
              "7    0.153998\n",
              "6    0.152500\n",
              "0    0.121026\n",
              "5    0.035829\n",
              "2    0.031843\n",
              "4    0.015148\n",
              "Name: clst_k8, dtype: float64"
            ]
          },
          "execution_count": 134,
          "metadata": {},
          "output_type": "execute_result"
        }
      ],
      "source": [
        "df_train_data['clst_k8'].value_counts(1)"
      ]
    },
    {
      "cell_type": "code",
      "execution_count": null,
      "metadata": {
        "id": "769uLKISFb2u",
        "outputId": "3334e83e-4734-4a6e-b0b5-48f6633f65d3"
      },
      "outputs": [
        {
          "data": {
            "text/plain": [
              "['smartphone_samsung',\n",
              " 'smartphone_apple',\n",
              " 'smartphone_ect',\n",
              " 'electronics',\n",
              " 'appliances']"
            ]
          },
          "execution_count": 139,
          "metadata": {},
          "output_type": "execute_result"
        }
      ],
      "source": [
        "df_train_data.iloc[:,2:7].columns.tolist()"
      ]
    },
    {
      "cell_type": "code",
      "execution_count": null,
      "metadata": {
        "id": "O2aEVvofFb2v",
        "outputId": "0e65e3c7-b6a0-41f7-daa1-fb59e409dbdc"
      },
      "outputs": [
        {
          "data": {
            "text/html": [
              "<div>\n",
              "<style scoped>\n",
              "    .dataframe tbody tr th:only-of-type {\n",
              "        vertical-align: middle;\n",
              "    }\n",
              "\n",
              "    .dataframe tbody tr th {\n",
              "        vertical-align: top;\n",
              "    }\n",
              "\n",
              "    .dataframe thead th {\n",
              "        text-align: right;\n",
              "    }\n",
              "</style>\n",
              "<table border=\"1\" class=\"dataframe\">\n",
              "  <thead>\n",
              "    <tr style=\"text-align: right;\">\n",
              "      <th></th>\n",
              "      <th>uu</th>\n",
              "      <th>avg_pur_cnt</th>\n",
              "      <th>smartphone_samsung_avg</th>\n",
              "      <th>smartphone_apple_avg</th>\n",
              "      <th>smartphone_ect_avg</th>\n",
              "      <th>electronics_avg</th>\n",
              "      <th>appliances_avg</th>\n",
              "      <th>etc_avg</th>\n",
              "    </tr>\n",
              "    <tr>\n",
              "      <th>clst_k8</th>\n",
              "      <th></th>\n",
              "      <th></th>\n",
              "      <th></th>\n",
              "      <th></th>\n",
              "      <th></th>\n",
              "      <th></th>\n",
              "      <th></th>\n",
              "      <th></th>\n",
              "    </tr>\n",
              "  </thead>\n",
              "  <tbody>\n",
              "    <tr>\n",
              "      <th>0</th>\n",
              "      <td>31519</td>\n",
              "      <td>1.747422</td>\n",
              "      <td>0.061233</td>\n",
              "      <td>0.051810</td>\n",
              "      <td>0.035122</td>\n",
              "      <td>0.072401</td>\n",
              "      <td>0.025350</td>\n",
              "      <td>1.501507</td>\n",
              "    </tr>\n",
              "    <tr>\n",
              "      <th>1</th>\n",
              "      <td>87101</td>\n",
              "      <td>1.267793</td>\n",
              "      <td>0.753103</td>\n",
              "      <td>0.497319</td>\n",
              "      <td>0.008025</td>\n",
              "      <td>0.006027</td>\n",
              "      <td>0.000517</td>\n",
              "      <td>0.002801</td>\n",
              "    </tr>\n",
              "    <tr>\n",
              "      <th>2</th>\n",
              "      <td>8293</td>\n",
              "      <td>5.288074</td>\n",
              "      <td>0.252140</td>\n",
              "      <td>4.668033</td>\n",
              "      <td>0.074280</td>\n",
              "      <td>0.180152</td>\n",
              "      <td>0.050163</td>\n",
              "      <td>0.063306</td>\n",
              "    </tr>\n",
              "    <tr>\n",
              "      <th>3</th>\n",
              "      <td>40421</td>\n",
              "      <td>1.778853</td>\n",
              "      <td>0.108137</td>\n",
              "      <td>0.046189</td>\n",
              "      <td>1.554910</td>\n",
              "      <td>0.044704</td>\n",
              "      <td>0.012667</td>\n",
              "      <td>0.012246</td>\n",
              "    </tr>\n",
              "    <tr>\n",
              "      <th>4</th>\n",
              "      <td>3945</td>\n",
              "      <td>4.845120</td>\n",
              "      <td>0.201774</td>\n",
              "      <td>0.100887</td>\n",
              "      <td>0.092522</td>\n",
              "      <td>0.194677</td>\n",
              "      <td>4.117110</td>\n",
              "      <td>0.138150</td>\n",
              "    </tr>\n",
              "    <tr>\n",
              "      <th>5</th>\n",
              "      <td>9331</td>\n",
              "      <td>5.145108</td>\n",
              "      <td>4.419784</td>\n",
              "      <td>0.231058</td>\n",
              "      <td>0.208123</td>\n",
              "      <td>0.128068</td>\n",
              "      <td>0.086700</td>\n",
              "      <td>0.071375</td>\n",
              "    </tr>\n",
              "    <tr>\n",
              "      <th>6</th>\n",
              "      <td>39716</td>\n",
              "      <td>1.361592</td>\n",
              "      <td>0.057785</td>\n",
              "      <td>0.032607</td>\n",
              "      <td>0.027118</td>\n",
              "      <td>0.041923</td>\n",
              "      <td>1.171493</td>\n",
              "      <td>0.030668</td>\n",
              "    </tr>\n",
              "    <tr>\n",
              "      <th>7</th>\n",
              "      <td>40106</td>\n",
              "      <td>1.769411</td>\n",
              "      <td>0.066748</td>\n",
              "      <td>0.088266</td>\n",
              "      <td>0.015559</td>\n",
              "      <td>1.558345</td>\n",
              "      <td>0.018825</td>\n",
              "      <td>0.021668</td>\n",
              "    </tr>\n",
              "  </tbody>\n",
              "</table>\n",
              "</div>"
            ],
            "text/plain": [
              "            uu  avg_pur_cnt  smartphone_samsung_avg  smartphone_apple_avg  \\\n",
              "clst_k8                                                                     \n",
              "0        31519     1.747422                0.061233              0.051810   \n",
              "1        87101     1.267793                0.753103              0.497319   \n",
              "2         8293     5.288074                0.252140              4.668033   \n",
              "3        40421     1.778853                0.108137              0.046189   \n",
              "4         3945     4.845120                0.201774              0.100887   \n",
              "5         9331     5.145108                4.419784              0.231058   \n",
              "6        39716     1.361592                0.057785              0.032607   \n",
              "7        40106     1.769411                0.066748              0.088266   \n",
              "\n",
              "         smartphone_ect_avg  electronics_avg  appliances_avg   etc_avg  \n",
              "clst_k8                                                                 \n",
              "0                  0.035122         0.072401        0.025350  1.501507  \n",
              "1                  0.008025         0.006027        0.000517  0.002801  \n",
              "2                  0.074280         0.180152        0.050163  0.063306  \n",
              "3                  1.554910         0.044704        0.012667  0.012246  \n",
              "4                  0.092522         0.194677        4.117110  0.138150  \n",
              "5                  0.208123         0.128068        0.086700  0.071375  \n",
              "6                  0.027118         0.041923        1.171493  0.030668  \n",
              "7                  0.015559         1.558345        0.018825  0.021668  "
            ]
          },
          "execution_count": 141,
          "metadata": {},
          "output_type": "execute_result"
        }
      ],
      "source": [
        "df_train_data.groupby('clst_k8').agg(\n",
        "    uu = ('user_id','count'),\n",
        "    avg_pur_cnt = ('pur_cnt','mean'),\n",
        "    smartphone_samsung_avg = ('smartphone_samsung','mean'),\n",
        "    smartphone_apple_avg = ('smartphone_apple','mean'),\n",
        "    smartphone_ect_avg = ('smartphone_ect','mean'),\n",
        "    electronics_avg = ('electronics','mean'),\n",
        "    appliances_avg = ('appliances','mean'),\n",
        "    etc_avg = ('etc','mean')\n",
        "\n",
        ")"
      ]
    },
    {
      "cell_type": "markdown",
      "metadata": {
        "id": "ypZ8zJgiFb2v"
      },
      "source": [
        "|제목|내용|comment|수정후|\n",
        "|------|---|---|---|\n",
        "|0 |\t기타 선호 집단| |기타 상품 소회 구매집단|\n",
        "|1\t|삼성 스마트폰 선호 집단(평균 구매건수가 낮음)| |스마트폰 단건 구매집단|\n",
        "|2\t|애플 스마트폰 선호 집단/ 평균구매건수가 높음| 좀더 이해하기 쉽게 하면?|애플폰 다회구매 집단|\n",
        "|3\t|삼성,애플이 아닌 스마트폰 선호 집단|| 기타 스마트폰 소회 구매집단 |\n",
        "|4\t|평균 구매건수가 높은 가전제품 선호집단||소형 가전제품 다회 구매집단|\n",
        "|5\t|삼성스마트폰 선호 집단(평균 구매건수가 높음)||삼성폰 다회구매 집단|\n",
        "|6\t|평균구매건수가 작은 가전제품 선호 집단|좀더 이해하기 쉽게하면? |가전제품 단건 구매집단|\n",
        "|7\t|전자기기 선호 집단\t|\t\t\t\t\n"
      ]
    },
    {
      "cell_type": "markdown",
      "metadata": {
        "id": "kXdesZ5JFb2w"
      },
      "source": [
        "#### 군집화할 때, 유의사항 및 tip!!\n",
        "1) elbow plot이나 silhouette score보고 군집을 여러개 먼저 그려보고 \n",
        "-> 줄여가면서 특성 잘 잡히는지 보기  \n",
        "2) 군집별 비율은 최소 5%이상!  \n",
        "3) 군집화에 대한 절대적인 지표는 없어서, 실루엣계수나 scatter plot, 취향 등을 보고 정해야 함!"
      ]
    }
  ],
  "metadata": {
    "kernelspec": {
      "display_name": "Python 3",
      "language": "python",
      "name": "python3"
    },
    "language_info": {
      "codemirror_mode": {
        "name": "ipython",
        "version": 3
      },
      "file_extension": ".py",
      "mimetype": "text/x-python",
      "name": "python",
      "nbconvert_exporter": "python",
      "pygments_lexer": "ipython3",
      "version": "3.8.3"
    },
    "colab": {
      "provenance": [],
      "include_colab_link": true
    }
  },
  "nbformat": 4,
  "nbformat_minor": 0
}